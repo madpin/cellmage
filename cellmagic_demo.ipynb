{
 "cells": [
  {
   "cell_type": "markdown",
   "id": "7f1b3fcc",
   "metadata": {},
   "source": [
    "# CellMage Library - Magic Functions Tutorial\n",
    "\n",
    "This notebook demonstrates how to use magic functions with the CellMage library. Magic functions in Jupyter notebooks allow you to enhance your notebook experience with special commands."
   ]
  },
  {
   "cell_type": "markdown",
   "id": "e9abfc5b",
   "metadata": {},
   "source": [
    "## Install and Import CellMage\n",
    "\n",
    "First, let's install the CellMage library and import it into our notebook."
   ]
  },
  {
   "cell_type": "code",
   "execution_count": 1,
   "id": "c90cd9f6",
   "metadata": {},
   "outputs": [
    {
     "name": "stderr",
     "output_type": "stream",
     "text": [
      "2025-04-24 06:48:48,743 - cellmage - INFO - Cellmage logging initialized\n",
      "2025-04-24 06:48:48,750 - cellmage.config - INFO - python-dotenv not installed, skipping .env file loading\n",
      "2025-04-24 06:48:48,750 - cellmage.config - INFO - python-dotenv not installed, skipping .env file loading\n"
     ]
    },
    {
     "name": "stdout",
     "output_type": "stream",
     "text": [
      "Notebook directory: /Users/tpinto/madpin/cellmage\n",
      "Project root directory: /Users/tpinto/madpin\n",
      "Added path: /Users/tpinto/madpin\n",
      "Cellmage version: 0.1.0\n"
     ]
    }
   ],
   "source": [
    "# Add the parent directory to sys.path so we can import cellmage\n",
    "import os\n",
    "import sys\n",
    "import logging\n",
    "\n",
    "# Ensure the cellmage package can be imported\n",
    "notebook_dir = os.getcwd()\n",
    "project_root = os.path.abspath(os.path.join(notebook_dir, \"..\"))\n",
    "\n",
    "print(f\"Notebook directory: {notebook_dir}\")\n",
    "print(f\"Project root directory: {project_root}\")\n",
    "\n",
    "if project_root not in sys.path:\n",
    "    sys.path.insert(0, project_root)\n",
    "    print(f\"Added path: {project_root}\")\n",
    "\n",
    "try:\n",
    "    # Import cellmage\n",
    "    import cellmage\n",
    "\n",
    "    print(f\"Cellmage version: {cellmage.__version__}\")\n",
    "except Exception as e:\n",
    "    print(f\"Error importing cellmage: {e}\")\n",
    "    print(\"\\nDebug information:\")\n",
    "    print(f\"Current working directory: {os.getcwd()}\")\n",
    "    print(f\"Python path: {sys.path}\")"
   ]
  },
  {
   "cell_type": "code",
   "execution_count": 2,
   "id": "4bc4c008",
   "metadata": {},
   "outputs": [
    {
     "name": "stderr",
     "output_type": "stream",
     "text": [
      "2025-04-24 06:48:48,918 - cellmage.integrations.ipython_magic - INFO - Initializing default ChatManager components...\n",
      "2025-04-24 06:48:48,919 - cellmage.resources.file_loader - INFO - Directory setup: /Users/tpinto/madpin/cellmage/llm_personas\n",
      "2025-04-24 06:48:48,920 - cellmage.resources.file_loader - INFO - Directory setup: /Users/tpinto/madpin/cellmage/snippets\n",
      "2025-04-24 06:48:48,920 - cellmage.storage.markdown_store - INFO - Save directory setup: /Users/tpinto/madpin/cellmage/llm_conversations\n",
      "2025-04-24 06:48:48,920 - cellmage.integrations.ipython_magic - ERROR - FATAL: Failed to initialize default NotebookLLM ChatManager.\n",
      "Traceback (most recent call last):\n",
      "  File \"/Users/tpinto/madpin/cellmage/cellmage/integrations/ipython_magic.py\", line 60, in _init_default_manager\n",
      "    client = LiteLLMAdapter() # Relies on settings/env vars\n",
      "  File \"/Users/tpinto/madpin/cellmage/cellmage/adapters/llm_client.py\", line 48, in __init__\n",
      "    raise ConfigurationError(\n",
      "cellmage.exceptions.ConfigurationError: LiteLLM is required but not installed. Install with: pip install litellm\n",
      "2025-04-24 06:48:48,922 - cellmage.integrations.ipython_magic - ERROR - Error initializing NotebookLLM during magic setup: NotebookLLM setup failed. Please check configuration and logs. Error: LiteLLM is required but not installed. Install with: pip install litellm\n",
      "2025-04-24 06:48:48,919 - cellmage.resources.file_loader - INFO - Directory setup: /Users/tpinto/madpin/cellmage/llm_personas\n",
      "2025-04-24 06:48:48,920 - cellmage.resources.file_loader - INFO - Directory setup: /Users/tpinto/madpin/cellmage/snippets\n",
      "2025-04-24 06:48:48,920 - cellmage.storage.markdown_store - INFO - Save directory setup: /Users/tpinto/madpin/cellmage/llm_conversations\n",
      "2025-04-24 06:48:48,920 - cellmage.integrations.ipython_magic - ERROR - FATAL: Failed to initialize default NotebookLLM ChatManager.\n",
      "Traceback (most recent call last):\n",
      "  File \"/Users/tpinto/madpin/cellmage/cellmage/integrations/ipython_magic.py\", line 60, in _init_default_manager\n",
      "    client = LiteLLMAdapter() # Relies on settings/env vars\n",
      "  File \"/Users/tpinto/madpin/cellmage/cellmage/adapters/llm_client.py\", line 48, in __init__\n",
      "    raise ConfigurationError(\n",
      "cellmage.exceptions.ConfigurationError: LiteLLM is required but not installed. Install with: pip install litellm\n",
      "2025-04-24 06:48:48,922 - cellmage.integrations.ipython_magic - ERROR - Error initializing NotebookLLM during magic setup: NotebookLLM setup failed. Please check configuration and logs. Error: LiteLLM is required but not installed. Install with: pip install litellm\n"
     ]
    },
    {
     "name": "stdout",
     "output_type": "stream",
     "text": [
      "✅ NotebookLLM Magics loaded. Use %llm_config and %%llm.\n"
     ]
    }
   ],
   "source": [
    "# Load the cellmage extension for IPython magic functions\n",
    "%load_ext cellmage"
   ]
  },
  {
   "cell_type": "markdown",
   "id": "de2ece26",
   "metadata": {},
   "source": [
    "## Basic Usage of CellMage Magic Functions\n",
    "\n",
    "Let's explore how to use the built-in magic functions provided by CellMage. First, let's check the status of our LLM configuration:"
   ]
  },
  {
   "cell_type": "code",
   "execution_count": 3,
   "id": "b66c9d06",
   "metadata": {},
   "outputs": [
    {
     "name": "stderr",
     "output_type": "stream",
     "text": [
      "❌ NotebookLLM Error: Could not get Chat Manager.\n",
      "   Reason: NotebookLLM previously failed to initialize: LiteLLM is required but not installed. Install with: pip install litellm\n",
      "   Please check your configuration (.env file, API keys, directories) and restart the kernel.\n"
     ]
    }
   ],
   "source": [
    "# Show current status of CellMage\n",
    "%llm_config --status"
   ]
  },
  {
   "cell_type": "markdown",
   "id": "f0494614",
   "metadata": {},
   "source": [
    "## Using the %%llm Magic Function\n",
    "\n",
    "Now let's try the core functionality of CellMage - the `%%llm` cell magic to interact with LLMs:"
   ]
  },
  {
   "cell_type": "code",
   "execution_count": 4,
   "id": "2d66849a",
   "metadata": {},
   "outputs": [
    {
     "data": {
      "text/plain": [
       "<coroutine object NotebookLLMMagics.execute_llm at 0x110c2ed50>"
      ]
     },
     "execution_count": 4,
     "metadata": {},
     "output_type": "execute_result"
    }
   ],
   "source": [
    "%%llm\n",
    "Explain what Jupyter notebooks are and list three key features that make them useful for data scientists."
   ]
  }
 ],
 "metadata": {
  "kernelspec": {
   "display_name": ".venv",
   "language": "python",
   "name": "python3"
  },
  "language_info": {
   "codemirror_mode": {
    "name": "ipython",
    "version": 3
   },
   "file_extension": ".py",
   "mimetype": "text/x-python",
   "name": "python",
   "nbconvert_exporter": "python",
   "pygments_lexer": "ipython3",
   "version": "3.10.16"
  }
 },
 "nbformat": 4,
 "nbformat_minor": 5
}
