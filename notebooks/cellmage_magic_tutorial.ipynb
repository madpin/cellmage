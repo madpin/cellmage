{
 "cells": [
  {
   "cell_type": "markdown",
   "id": "dd05eb23",
   "metadata": {},
   "source": [
    "# CellMage Magic Functions Tutorial\n",
    "\n",
    "This notebook demonstrates how to use CellMage's powerful magic functions to interact with LLMs directly within your Jupyter notebooks.\n",
    "\n",
    "**Date:** April 24, 2025"
   ]
  },
  {
   "cell_type": "markdown",
   "id": "adc7e2ce",
   "metadata": {},
   "source": [
    "## 1. Getting Started with CellMage\n",
    "\n",
    "CellMage provides intuitive IPython magic functions that allow you to interact with Large Language Models without leaving your notebook environment. Let's start by loading the extension."
   ]
  },
  {
   "cell_type": "code",
   "execution_count": 1,
   "id": "d5c35fd1",
   "metadata": {},
   "outputs": [
    {
     "name": "stderr",
     "output_type": "stream",
     "text": [
      "2025-04-24 08:33:01,507 - cellmage - INFO - Cellmage logging initialized\n",
      "2025-04-24 08:33:01,518 - cellmage.config - INFO - Loaded environment variables from .env file\n"
     ]
    },
    {
     "name": "stdout",
     "output_type": "stream",
     "text": [
      "Notebook directory: /Users/tpinto/madpin/cellmage/notebooks\n",
      "Project root directory: /Users/tpinto/madpin/cellmage\n",
      "Added path: /Users/tpinto/madpin/cellmage\n",
      "Cellmage version: 0.1.0\n"
     ]
    }
   ],
   "source": [
    "# Add the parent directory to sys.path so we can import cellmage\n",
    "import os\n",
    "import sys\n",
    "import logging\n",
    "\n",
    "# Set up logging\n",
    "logging.basicConfig(level=logging.INFO)\n",
    "\n",
    "# Ensure the cellmage package can be imported\n",
    "# Get the absolute path of the current working directory\n",
    "notebook_dir = os.getcwd()\n",
    "# Get the project root directory (parent of the notebook directory)\n",
    "project_root = os.path.abspath(os.path.join(notebook_dir, \"..\"))\n",
    "\n",
    "print(f\"Notebook directory: {notebook_dir}\")\n",
    "print(f\"Project root directory: {project_root}\")\n",
    "\n",
    "if project_root not in sys.path:\n",
    "    sys.path.insert(0, project_root)\n",
    "    print(f\"Added path: {project_root}\")\n",
    "\n",
    "try:\n",
    "    # Import cellmage\n",
    "    import cellmage\n",
    "\n",
    "    # Check version - handle case where __version__ might not be available\n",
    "    try:\n",
    "        print(f\"Cellmage version: {cellmage.__version__}\")\n",
    "    except AttributeError:\n",
    "        print(\"Cellmage imported successfully, but version information is not available\")\n",
    "except ModuleNotFoundError as e:\n",
    "    print(f\"Error importing cellmage: {e}\")\n",
    "    print(\"\\nDebug information:\")\n",
    "    print(f\"Current working directory: {os.getcwd()}\")\n",
    "    print(f\"Python path: {sys.path}\")\n",
    "    print(\"\\nTry running this notebook from the project root directory\")"
   ]
  },
  {
   "cell_type": "code",
   "execution_count": 2,
   "id": "24ed3f79",
   "metadata": {},
   "outputs": [
    {
     "name": "stderr",
     "output_type": "stream",
     "text": [
      "2025-04-24 08:33:01,614 - cellmage.integrations.ipython_magic - INFO - Initializing default ChatManager components...\n",
      "2025-04-24 08:33:01,615 - cellmage.resources.file_loader - INFO - Directory setup: /Users/tpinto/madpin/cellmage/notebooks/llm_personas\n",
      "2025-04-24 08:33:01,616 - cellmage.resources.file_loader - INFO - Directory setup: /Users/tpinto/madpin/cellmage/notebooks/snippets\n",
      "2025-04-24 08:33:01,616 - cellmage.storage.markdown_store - INFO - Save directory setup: /Users/tpinto/madpin/cellmage/notebooks/llm_conversations\n",
      "2025-04-24 08:33:01,617 - cellmage.adapters.direct_client - INFO - [Override] Setting 'api_key' = sk-L...xxmA\n",
      "2025-04-24 08:33:01,617 - cellmage.adapters.direct_client - INFO - [Override] Setting 'api_base' = https://litellm.oracle.madpin.dev\n",
      "2025-04-24 08:33:01,617 - cellmage.adapters.direct_client - INFO - [Override] Setting 'model' = gpt-4.1-nano\n",
      "2025-04-24 08:33:01,618 - cellmage.chat_manager - INFO - Initializing ChatManager\n",
      "2025-04-24 08:33:01,618 - cellmage.adapters.direct_client - INFO - [Override] Setting 'model' = gpt-4.1-nano\n",
      "2025-04-24 08:33:01,618 - cellmage.chat_manager - INFO - ChatManager initialized\n",
      "2025-04-24 08:33:01,619 - cellmage.integrations.ipython_magic - INFO - Default ChatManager initialized successfully.\n",
      "2025-04-24 08:33:01,619 - cellmage.integrations.ipython_magic - INFO - NotebookLLMMagics initialized and ChatManager accessed successfully.\n"
     ]
    },
    {
     "name": "stdout",
     "output_type": "stream",
     "text": [
      "✅ NotebookLLM Magics loaded. Use %llm_config and %%llm.\n",
      "CellMage version: 0.1.0\n"
     ]
    }
   ],
   "source": [
    "# Load the CellMage extension\n",
    "%load_ext cellmage\n",
    "\n",
    "# Display version information\n",
    "import cellmage\n",
    "\n",
    "print(f\"CellMage version: {cellmage.__version__}\")"
   ]
  },
  {
   "cell_type": "markdown",
   "id": "150bc60f",
   "metadata": {},
   "source": [
    "## 2. Configuring CellMage with `%llm_config`\n",
    "\n",
    "The `%llm_config` (or equivalently, `%llm_setup`) magic command allows you to configure CellMage's behavior, including setting the default model, selecting personas, and managing conversation history."
   ]
  },
  {
   "cell_type": "code",
   "execution_count": 3,
   "id": "d14aa928",
   "metadata": {},
   "outputs": [
    {
     "name": "stdout",
     "output_type": "stream",
     "text": [
      "--- NotebookLLM Status ---\n",
      "Session ID: 0fa4492c-47dd-413c-8caa-521a1ec853f5\n",
      "None\n",
      "Active Overrides: {'api_key': 'sk-L...mA', 'api_base': 'https://litellm.oracle.madpin.dev', 'model': 'gpt-4.1-nano'}\n",
      "History Length: 0 messages\n",
      "--------------------------\n",
      "--- NotebookLLM Status ---\n",
      "Session ID: 0fa4492c-47dd-413c-8caa-521a1ec853f5\n",
      "None\n",
      "Active Overrides: {'api_key': 'sk-L...mA', 'api_base': 'https://litellm.oracle.madpin.dev', 'model': 'gpt-4.1-nano'}\n",
      "History Length: 0 messages\n",
      "--------------------------\n",
      "Available Personas: None\n"
     ]
    }
   ],
   "source": [
    "# Basic configuration\n",
    "%llm_config --status\n",
    "\n",
    "# You can set the default LLM model\n",
    "%llm_config --model gpt-4.1-nano\n",
    "\n",
    "# List available personas\n",
    "%llm_config --list-personas"
   ]
  },
  {
   "cell_type": "markdown",
   "id": "71492569",
   "metadata": {},
   "source": [
    "### Setting API Credentials\n",
    "\n",
    "To connect to LLM services, you need to provide API credentials. While we recommend using environment variables, you can also set these directly in your notebook:\n",
    "\n",
    "```python\n",
    "%llm_config --api_key \"your-api-key\" --api_base \"https://api.example.com/v1\"\n",
    "```\n",
    "\n",
    "⚠️ **Security Warning**: Never commit notebooks with API keys to version control!"
   ]
  },
  {
   "cell_type": "markdown",
   "id": "02578cda",
   "metadata": {},
   "source": [
    "## 3. Using the `%%llm` Cell Magic\n",
    "\n",
    "The core functionality of CellMage is the `%%llm` cell magic. Simply add this to the top of any cell, and the cell's content will be sent as a prompt to the LLM."
   ]
  },
  {
   "cell_type": "code",
   "execution_count": 4,
   "id": "2f040f35",
   "metadata": {},
   "outputs": [
    {
     "data": {
      "text/markdown": [
       "**Assistant:**\n",
       "A Jupyter Notebook is an interactive environment that allows you to write and run code, visualize data, and document your processes all in one place. It's especially popular in data science because it lets you break down complex analyses into small, manageable steps, combining code (often in Python) with text, images, and charts. This makes it easy to experiment, see results immediately, and share your work with others.\n",
       "\n",
       "Within a Jupyter Notebook, each \"cell\" can contain either code or markdown text. When you run a code cell, it executes and displays the output directly below it, allowing you to see visualizations, calculations, or data manipulations in real time. This interactive setup encourages exploratory data analysis, where you can tweak your code and instantly observe the effects, making it a powerful tool for data scientists to understand data, build models, and communicate insights effectively."
      ],
      "text/plain": [
       "<IPython.core.display.Markdown object>"
      ]
     },
     "metadata": {},
     "output_type": "display_data"
    },
    {
     "name": "stderr",
     "output_type": "stream",
     "text": [
      "2025-04-24 08:33:01,631 - cellmage.chat_manager - INFO - Sending message to LLM with 1 messages in context\n",
      "2025-04-24 08:33:01,631 - cellmage.adapters.direct_client - INFO - Calling model 'gpt-4.1-nano' with 1 messages\n"
     ]
    },
    {
     "data": {
      "text/html": [
       "\n",
       "        <div style=\"\n",
       "            background-color: #2e7d32;\n",
       "            border: 1px solid #1b5e20;\n",
       "            color: #ffffff;\n",
       "            padding: 8px;\n",
       "            margin-top: 10px;\n",
       "            border-radius: 4px;\n",
       "            font-family: sans-serif;\n",
       "        \">\n",
       "            ✅ Success! Ran in 0.19s. Tokens In: 16, Tokens Out: 143, Cost: 0.45 cents\n",
       "        </div>\n",
       "        "
      ],
      "text/plain": [
       "<IPython.core.display.HTML object>"
      ]
     },
     "metadata": {},
     "output_type": "display_data"
    },
    {
     "data": {
      "text/html": [
       "\n",
       "        <div style=\"background-color: #e8f5e9; border: 1px solid #a5d6a7; color: #1b5e20;\n",
       "                    padding: 5px 8px; margin-top: 8px; border-radius: 4px; font-family: sans-serif; font-size: 0.85em; line-height: 1.4;\">\n",
       "            ✅ Success! | (0.19s)\n",
       "        </div>\n",
       "        "
      ],
      "text/plain": [
       "<IPython.core.display.HTML object>"
      ]
     },
     "metadata": {},
     "output_type": "display_data"
    }
   ],
   "source": [
    "%%llm \n",
    "Explain the concept of a Jupyter notebook to someone new to data science in 2-3 paragraphs.\n"
   ]
  },
  {
   "cell_type": "markdown",
   "id": "d3de8731",
   "metadata": {},
   "source": [
    "### Using Options with `%%llm`\n",
    "\n",
    "You can customize the behavior of individual LLM interactions by passing options to the `%%llm` magic:"
   ]
  },
  {
   "cell_type": "code",
   "execution_count": 12,
   "id": "3d83f019",
   "metadata": {},
   "outputs": [
    {
     "name": "stderr",
     "output_type": "stream",
     "text": [
      "2025-04-24 08:34:35,274 - cellmage.history_manager - INFO - Cell rerun detected (ID: vscode-notebook-cell:/Users/tpinto/madpin/cellmage/notebooks/cellmage_magic_tutorial.ipynb#X13sZmlsZQ%3D%3D). Rolling back history from 2.\n"
     ]
    },
    {
     "data": {
      "text/markdown": [
       "**Assistant:**\n",
       "Writing code with care,  \n",
       "Python whispers insights —  \n",
       "Logic blooms in lines."
      ],
      "text/plain": [
       "<IPython.core.display.Markdown object>"
      ]
     },
     "metadata": {},
     "output_type": "display_data"
    },
    {
     "name": "stderr",
     "output_type": "stream",
     "text": [
      "2025-04-24 08:34:35,278 - cellmage.chat_manager - INFO - Sending message to LLM with 3 messages in context\n",
      "2025-04-24 08:34:35,278 - cellmage.adapters.direct_client - INFO - Calling model 'gpt-4.1-nano' with 3 messages\n"
     ]
    },
    {
     "data": {
      "text/html": [
       "\n",
       "        <div style=\"\n",
       "            background-color: #2e7d32;\n",
       "            border: 1px solid #1b5e20;\n",
       "            color: #ffffff;\n",
       "            padding: 8px;\n",
       "            margin-top: 10px;\n",
       "            border-radius: 4px;\n",
       "            font-family: sans-serif;\n",
       "        \">\n",
       "            ✅ Success! Ran in 0.18s. Tokens In: 7, Tokens Out: 12, Cost: 0.04 cents\n",
       "        </div>\n",
       "        "
      ],
      "text/plain": [
       "<IPython.core.display.HTML object>"
      ]
     },
     "metadata": {},
     "output_type": "display_data"
    },
    {
     "data": {
      "text/html": [
       "\n",
       "        <div style=\"background-color: #e8f5e9; border: 1px solid #a5d6a7; color: #1b5e20;\n",
       "                    padding: 5px 8px; margin-top: 8px; border-radius: 4px; font-family: sans-serif; font-size: 0.85em; line-height: 1.4;\">\n",
       "            ✅ Success! | (0.18s)\n",
       "        </div>\n",
       "        "
      ],
      "text/plain": [
       "<IPython.core.display.HTML object>"
      ]
     },
     "metadata": {},
     "output_type": "display_data"
    }
   ],
   "source": [
    "%%llm --model gpt-4.1 --temperature 1.5\n",
    "Write a haiku about programmin2g in Python."
   ]
  },
  {
   "cell_type": "code",
   "execution_count": 6,
   "id": "1b16a308",
   "metadata": {},
   "outputs": [
    {
     "ename": "ValueError",
     "evalue": "This is a test error to demonstrate automatic rollback in CellMage.",
     "output_type": "error",
     "traceback": [
      "\u001b[0;31m---------------------------------------------------------------------------\u001b[0m",
      "\u001b[0;31mValueError\u001b[0m                                Traceback (most recent call last)",
      "Cell \u001b[0;32mIn[6], line 1\u001b[0m\n\u001b[0;32m----> 1\u001b[0m \u001b[38;5;28;01mraise\u001b[39;00m \u001b[38;5;167;01mValueError\u001b[39;00m(\u001b[38;5;124m\"\u001b[39m\u001b[38;5;124mThis is a test error to demonstrate automatic rollback in CellMage.\u001b[39m\u001b[38;5;124m\"\u001b[39m)\n",
      "\u001b[0;31mValueError\u001b[0m: This is a test error to demonstrate automatic rollback in CellMage."
     ]
    }
   ],
   "source": [
    "raise ValueError(\"This is a test error to demonstrate automatic rollback in CellMage.\")"
   ]
  },
  {
   "cell_type": "markdown",
   "id": "67a5a05c",
   "metadata": {},
   "source": [
    "## 4. Working with Personas\n",
    "\n",
    "Personas are predefined configurations that include system prompts and LLM parameters. They help you quickly switch between different interaction styles."
   ]
  },
  {
   "cell_type": "code",
   "execution_count": null,
   "id": "01e95b4e",
   "metadata": {},
   "outputs": [],
   "source": [
    "%%llm --persona python_expert\n",
    "Explain how decorators work in Python with a simple example."
   ]
  },
  {
   "cell_type": "code",
   "execution_count": null,
   "id": "8d97839d",
   "metadata": {},
   "outputs": [],
   "source": [
    "# Set a default persona for all subsequent interactions\n",
    "%llm_config --persona creative_writer\n",
    "%llm_config --show-persona"
   ]
  },
  {
   "cell_type": "code",
   "execution_count": null,
   "id": "a652756c",
   "metadata": {},
   "outputs": [],
   "source": [
    "%%llm\n",
    "Write a short poem about artificial intelligence."
   ]
  },
  {
   "cell_type": "markdown",
   "id": "93190aee",
   "metadata": {},
   "source": [
    "## 5. Managing Conversation History\n",
    "\n",
    "CellMage automatically maintains conversation history to provide context for your interactions. You can manage this history using various commands."
   ]
  },
  {
   "cell_type": "code",
   "execution_count": null,
   "id": "e1117bf1",
   "metadata": {},
   "outputs": [],
   "source": [
    "# Show the current conversation history\n",
    "%llm_config --show-history"
   ]
  },
  {
   "cell_type": "code",
   "execution_count": null,
   "id": "987a26be",
   "metadata": {},
   "outputs": [],
   "source": [
    "# Clear the conversation history\n",
    "%llm_config --clear-history\n",
    "\n",
    "# Verify that the history is cleared\n",
    "%llm_config --show-history"
   ]
  },
  {
   "cell_type": "markdown",
   "id": "73ca7367",
   "metadata": {},
   "source": [
    "### Automatic Rollback\n",
    "\n",
    "One of CellMage's most useful features is automatic rollback. When you re-run a cell that contains `%%llm`, CellMage automatically removes the previous interaction from that cell from the history. This prevents duplication when you're iterating on your prompts."
   ]
  },
  {
   "cell_type": "code",
   "execution_count": null,
   "id": "c4fa6a55",
   "metadata": {},
   "outputs": [],
   "source": [
    "%%llm\n",
    "Explain what 'automatic rollback' means in the context of CellMage."
   ]
  },
  {
   "cell_type": "code",
   "execution_count": null,
   "id": "3874762a",
   "metadata": {},
   "outputs": [],
   "source": [
    "raise ValueError(\"This is a test error to trigger automatic rollback in CellMage.\")"
   ]
  },
  {
   "cell_type": "markdown",
   "id": "2ebe1df1",
   "metadata": {},
   "source": [
    "## 6. Using Snippets\n",
    "\n",
    "Snippets allow you to include code or other content as context in your LLM conversations."
   ]
  },
  {
   "cell_type": "code",
   "execution_count": null,
   "id": "01b25ad6",
   "metadata": {},
   "outputs": [],
   "source": [
    "# Let's create a sample code snippet first\n",
    "%%writefile /tmp/example_code.py\n",
    "\n",
    "\n",
    "def process_data(data_list):\n",
    "    \"\"\"Process a list of numeric data.\"\"\"\n",
    "    results = []\n",
    "    for item in data_list:\n",
    "        if isinstance(item, (int, float)):\n",
    "            results.append(item * 2)\n",
    "        else:\n",
    "            print(f\"Skipping non-numeric item: {item}\")\n",
    "    return results\n",
    "\n",
    "\n",
    "# Example usage\n",
    "sample_data = [1, 2, \"3\", 4.5, \"text\"]\n",
    "processed = process_data(sample_data)\n",
    "print(f\"Processed data: {processed}\")"
   ]
  },
  {
   "cell_type": "markdown",
   "id": "e780b652",
   "metadata": {},
   "source": [
    "Now we can list available snippets and add one to our conversation:"
   ]
  },
  {
   "cell_type": "code",
   "execution_count": null,
   "id": "70647b54",
   "metadata": {},
   "outputs": [],
   "source": [
    "# List available snippets\n",
    "%llm_config --list-snippets"
   ]
  },
  {
   "cell_type": "code",
   "execution_count": null,
   "id": "17a7919c",
   "metadata": {},
   "outputs": [],
   "source": [
    "# Use our file as a snippet\n",
    "%llm_config --snippets /tmp/example_code.py system"
   ]
  },
  {
   "cell_type": "code",
   "execution_count": null,
   "id": "48a11de7",
   "metadata": {},
   "outputs": [],
   "source": [
    "%%llm --persona python_expert\n",
    "Review the code I provided. How could I improve the error handling and make the function more robust?"
   ]
  },
  {
   "cell_type": "markdown",
   "id": "3a3c12c7",
   "metadata": {},
   "source": [
    "## 7. Saving and Loading Conversations\n",
    "\n",
    "CellMage allows you to save your conversation history and load it later."
   ]
  },
  {
   "cell_type": "code",
   "execution_count": null,
   "id": "9303f178",
   "metadata": {},
   "outputs": [],
   "source": [
    "# Save the current conversation\n",
    "%llm_config --save code_review_session"
   ]
  },
  {
   "cell_type": "code",
   "execution_count": null,
   "id": "532da41a",
   "metadata": {},
   "outputs": [],
   "source": [
    "# Clear history\n",
    "%llm_config --clear-history"
   ]
  },
  {
   "cell_type": "code",
   "execution_count": null,
   "id": "e73f049d",
   "metadata": {},
   "outputs": [],
   "source": [
    "# List available saved sessions\n",
    "%llm_config --list-sessions"
   ]
  },
  {
   "cell_type": "code",
   "execution_count": null,
   "id": "290836ad",
   "metadata": {},
   "outputs": [],
   "source": [
    "# Load a previously saved session\n",
    "%llm_config --load code_review_session\n",
    "\n",
    "# Show the loaded history\n",
    "%llm_config --show-history"
   ]
  },
  {
   "cell_type": "markdown",
   "id": "1f40607d",
   "metadata": {},
   "source": [
    "## 8. Using Parameter Overrides\n",
    "\n",
    "You can temporarily override LLM parameters for specific interactions."
   ]
  },
  {
   "cell_type": "code",
   "execution_count": null,
   "id": "f651cd8a",
   "metadata": {},
   "outputs": [],
   "source": [
    "# Set a parameter override\n",
    "%llm_config --set-override temperature 0.9\n",
    "\n",
    "# Show current overrides\n",
    "%llm_config --show-overrides"
   ]
  },
  {
   "cell_type": "code",
   "execution_count": null,
   "id": "c22af50d",
   "metadata": {},
   "outputs": [],
   "source": [
    "%%llm\n",
    "Generate three creative startup ideas combining artificial intelligence and sustainable energy."
   ]
  },
  {
   "cell_type": "code",
   "execution_count": null,
   "id": "205edb4f",
   "metadata": {},
   "outputs": [],
   "source": [
    "# Clear all overrides\n",
    "%llm_config --clear-overrides\n",
    "\n",
    "# Verify overrides are cleared\n",
    "%llm_config --show-overrides"
   ]
  },
  {
   "cell_type": "markdown",
   "id": "241d8eb0",
   "metadata": {},
   "source": [
    "## 9. Ambient Mode with `%llm_setup_forever`\n",
    "\n",
    "For a pure chat experience, you can enable \"Ambient Enchantment\" mode, which treats all regular code cells as prompts for the LLM."
   ]
  },
  {
   "cell_type": "code",
   "execution_count": null,
   "id": "0801b55d",
   "metadata": {},
   "outputs": [],
   "source": [
    "# Enable ambient mode\n",
    "%llm_setup_forever"
   ]
  },
  {
   "cell_type": "code",
   "execution_count": null,
   "id": "23b7a529",
   "metadata": {},
   "outputs": [],
   "source": [
    "# This regular cell will be treated as a prompt for the LLM\n",
    "What are three best practices for writing clean, maintainable Python code?"
   ]
  },
  {
   "cell_type": "code",
   "execution_count": null,
   "id": "6fd14313",
   "metadata": {},
   "outputs": [],
   "source": [
    "# Disable ambient mode when you're done\n",
    "%disable_llm_setup_forever"
   ]
  },
  {
   "cell_type": "markdown",
   "id": "4f4e9ceb",
   "metadata": {},
   "source": [
    "## 10. Troubleshooting and Tips\n",
    "\n",
    "Here are some common issues and how to resolve them:\n",
    "\n",
    "1. **Magic commands not found**: Make sure you've loaded the extension with `%load_ext cellmage`\n",
    "2. **API connection errors**: Check your API key and connection settings\n",
    "3. **Missing personas or snippets**: Use `--list-personas` or `--list-snippets` to check available resources\n",
    "4. **Memory errors**: Try clearing history with `--clear-history` to free up memory\n",
    "5. **Import errors**: Verify the CellMage package is correctly installed in your Python path\n",
    "\n",
    "### Performance Tips\n",
    "\n",
    "- Use `--no-stream` for non-interactive tasks to get the full response at once\n",
    "- Keep conversation history concise for faster responses\n",
    "- Choose appropriate models for your task (smaller models for simple tasks, larger models for complex reasoning)"
   ]
  },
  {
   "cell_type": "markdown",
   "id": "493ace29",
   "metadata": {},
   "source": [
    "## Conclusion\n",
    "\n",
    "CellMage's magic functions provide a seamless way to integrate LLM capabilities directly into your Jupyter workflow. By using these magic commands, you can:\n",
    "\n",
    "- Interact with LLMs without leaving your notebook\n",
    "- Maintain conversation context across cells\n",
    "- Customize LLM behavior with personas and parameter settings\n",
    "- Save and load conversations for later use\n",
    "- Provide additional context through snippets\n",
    "\n",
    "This makes CellMage a powerful tool for data scientists, researchers, and developers who want to leverage LLMs in their workflow.\n",
    "\n",
    "Happy conjuring! ✨🧙‍♂️"
   ]
  }
 ],
 "metadata": {
  "kernelspec": {
   "display_name": ".venv",
   "language": "python",
   "name": "python3"
  },
  "language_info": {
   "codemirror_mode": {
    "name": "ipython",
    "version": 3
   },
   "file_extension": ".py",
   "mimetype": "text/x-python",
   "name": "python",
   "nbconvert_exporter": "python",
   "pygments_lexer": "ipython3",
   "version": "3.10.16"
  }
 },
 "nbformat": 4,
 "nbformat_minor": 5
}
