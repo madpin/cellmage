{
 "cells": [
  {
   "cell_type": "markdown",
   "id": "27985bf0",
   "metadata": {},
   "source": [
    "# CellMage Ambient Mode Testing\n",
    "\n",
    "This notebook demonstrates how to properly initialize and use CellMage's ambient mode functionality.\n",
    "Created: 25 April 2025"
   ]
  },
  {
   "cell_type": "markdown",
   "id": "c05ef3b1",
   "metadata": {},
   "source": [
    "## 1. First, let's load the extension and verify it's working"
   ]
  },
  {
   "cell_type": "code",
   "execution_count": 1,
   "id": "8af79dbd",
   "metadata": {},
   "outputs": [
    {
     "name": "stdout",
     "output_type": "stream",
     "text": [
      "✅ NotebookLLM Magics loaded. Use %llm_config and %%llm.\n",
      "   For ambient mode, try %llm_config_persistent to process all cells as LLM prompts.\n",
      "--- NotebookLLM Status ---\n",
      "Session ID: b279d502-dd34-4ad3-989d-26ba6bb1a12c\n",
      "None\n",
      "Active Overrides: {'api_key': 'sk-L...mA', 'api_base': 'https://litellm.oracle.madpin.dev', 'model': 'gpt-4.1-nano'}\n",
      "History Length: 0 messages\n",
      "--------------------------\n"
     ]
    }
   ],
   "source": [
    "# Load the extension\n",
    "%load_ext cellmage.integrations.ipython_magic\n",
    "\n",
    "# Verify that it's working by showing the current status\n",
    "%llm_config --status"
   ]
  },
  {
   "cell_type": "markdown",
   "id": "b7641799",
   "metadata": {},
   "source": [
    "## 2. Debug NotebookLLMMagics Registration\n",
    "\n",
    "Let's check if the NotebookLLMMagics class is properly registered with IPython"
   ]
  },
  {
   "cell_type": "code",
   "execution_count": 2,
   "id": "8c8a068f",
   "metadata": {},
   "outputs": [
    {
     "name": "stdout",
     "output_type": "stream",
     "text": [
      "Available magic types: ['line', 'cell']\n",
      "❌ NotebookLLMMagics instance not found in registered magics\n"
     ]
    }
   ],
   "source": [
    "# Debug the registered magic commands\n",
    "import sys\n",
    "from cellmage.integrations.ipython_magic import NotebookLLMMagics\n",
    "\n",
    "ip = get_ipython()\n",
    "print(\"Available magic types:\", list(ip.magics_manager.magics.keys()))\n",
    "\n",
    "# Check all registered magics for NotebookLLMMagics instances\n",
    "found = False\n",
    "for magic_type, magics in ip.magics_manager.magics.items():\n",
    "    for name, instance in magics.items():\n",
    "        if isinstance(instance, NotebookLLMMagics):\n",
    "            print(f\"✅ Found NotebookLLMMagics instance registered as {magic_type} magic: {name}\")\n",
    "            found = True\n",
    "\n",
    "if not found:\n",
    "    print(\"❌ NotebookLLMMagics instance not found in registered magics\")"
   ]
  },
  {
   "cell_type": "markdown",
   "id": "ae7d9012",
   "metadata": {},
   "source": [
    "## 3. Fix the Registration Issue\n",
    "\n",
    "If NotebookLLMMagics is not found, let's try re-registering it manually"
   ]
  },
  {
   "cell_type": "code",
   "execution_count": 3,
   "id": "c164a0fc",
   "metadata": {},
   "outputs": [
    {
     "name": "stdout",
     "output_type": "stream",
     "text": [
      "✅ NotebookLLM Magics loaded. Use %llm_config and %%llm.\n",
      "   For ambient mode, try %llm_config_persistent to process all cells as LLM prompts.\n",
      "Manually calling load_ipython_extension...\n",
      "✅ NotebookLLM Magics loaded. Use %llm_config and %%llm.\n",
      "   For ambient mode, try %llm_config_persistent to process all cells as LLM prompts.\n",
      "❌ Still couldn't register NotebookLLMMagics\n"
     ]
    }
   ],
   "source": [
    "# Force manual registration of NotebookLLMMagics\n",
    "from IPython import get_ipython\n",
    "from cellmage.integrations.ipython_magic import NotebookLLMMagics, load_ipython_extension\n",
    "\n",
    "ip = get_ipython()\n",
    "\n",
    "# First, unload if already registered\n",
    "%reload_ext cellmage.integrations.ipython_magic\n",
    "\n",
    "# Then manually call the load function\n",
    "print(\"Manually calling load_ipython_extension...\")\n",
    "load_ipython_extension(ip)\n",
    "\n",
    "# Check if registration was successful\n",
    "found = False\n",
    "for magic_type, magics in ip.magics_manager.magics.items():\n",
    "    for name, instance in magics.items():\n",
    "        if isinstance(instance, NotebookLLMMagics):\n",
    "            print(f\"✅ Found NotebookLLMMagics instance registered as {magic_type} magic: {name}\")\n",
    "            found = True\n",
    "            \n",
    "if not found:\n",
    "    print(\"❌ Still couldn't register NotebookLLMMagics\")"
   ]
  },
  {
   "cell_type": "markdown",
   "id": "e8309e39",
   "metadata": {},
   "source": [
    "## 4. Verify the specific methods we need"
   ]
  },
  {
   "cell_type": "code",
   "execution_count": 4,
   "id": "8f2289bb",
   "metadata": {},
   "outputs": [
    {
     "name": "stdout",
     "output_type": "stream",
     "text": [
      "❌ No NotebookLLMMagics instance found\n"
     ]
    }
   ],
   "source": [
    "# Find the magic instance and check for the required method\n",
    "magics_instance = None\n",
    "\n",
    "for magic_type, magics in ip.magics_manager.magics.items():\n",
    "    for name, instance in magics.items():\n",
    "        if isinstance(instance, NotebookLLMMagics):\n",
    "            magics_instance = instance\n",
    "            break\n",
    "    if magics_instance:\n",
    "        break\n",
    "\n",
    "if magics_instance:\n",
    "    if hasattr(magics_instance, \"process_cell_as_prompt\"):\n",
    "        print(\"✅ process_cell_as_prompt method found\")\n",
    "    else:\n",
    "        print(\"❌ process_cell_as_prompt method not found on NotebookLLMMagics instance\")\n",
    "        print(\n",
    "            \"Available methods:\",\n",
    "            [method for method in dir(magics_instance) if not method.startswith(\"_\")],\n",
    "        )\n",
    "else:\n",
    "    print(\"❌ No NotebookLLMMagics instance found\")"
   ]
  },
  {
   "cell_type": "markdown",
   "id": "c9827c6a",
   "metadata": {},
   "source": [
    "## 5. Try enabling ambient mode"
   ]
  },
  {
   "cell_type": "code",
   "execution_count": 5,
   "id": "3a9ba55c",
   "metadata": {},
   "outputs": [
    {
     "name": "stdout",
     "output_type": "stream",
     "text": [
      "--- NotebookLLM Status ---\n",
      "Session ID: 990c4683-1fdf-43f3-b747-efb285df4600\n",
      "None\n",
      "Active Overrides: {'api_key': 'sk-L...mA', 'api_base': 'https://litellm.oracle.madpin.dev', 'model': 'gpt-4.1-nano'}\n",
      "History Length: 0 messages\n",
      "--------------------------\n",
      "✅ Ambient mode ENABLED. All cells will now be processed as LLM prompts unless they start with % or !.\n",
      "   Run %disable_llm_config_persistent to disable ambient mode.\n",
      "✅ Ambient mode is enabled\n"
     ]
    }
   ],
   "source": [
    "# Enable ambient mode\n",
    "%llm_config_persistent\n",
    "\n",
    "# Check if it's enabled\n",
    "from cellmage.ambient_mode import is_ambient_mode_enabled\n",
    "\n",
    "if is_ambient_mode_enabled():\n",
    "    print(\"✅ Ambient mode is enabled\")\n",
    "else:\n",
    "    print(\"❌ Ambient mode is NOT enabled\")"
   ]
  },
  {
   "cell_type": "markdown",
   "id": "2c695614",
   "metadata": {},
   "source": [
    "## 6. Create a manual test for ambient mode\n",
    "\n",
    "If the NotebookLLMMagics instance still can't be found by the transformer, let's create a way to manually execute the process_cell_as_prompt method."
   ]
  },
  {
   "cell_type": "code",
   "execution_count": 6,
   "id": "95387c4a",
   "metadata": {},
   "outputs": [
    {
     "data": {
      "text/markdown": [
       "Your function `manual_process_as_prompt` is designed to locate an existing `NotebookLLMMagics` instance within the IPython environment and invoke its `process_cell_as_prompt` method to process a given prompt string.\n",
       "\n",
       "Here are some suggestions to refine and ensure robustness:\n",
       "\n",
       "1. **Import and Class Check:**  \n",
       "   Make sure that `NotebookLLMMagics` is imported or defined in the scope where this function runs.\n",
       "\n",
       "2. **Loop Logic:**  \n",
       "   Currently, the nested loops break only upon finding the instance. To be more efficient, consider using a flag or a function to locate the instance.\n",
       "\n",
       "3. **Error Handling:**  \n",
       "   When creating a new instance, catching exceptions is good. Still, ensure `NotebookLLMMagics` can be instantiated without arguments or adapt accordingly.\n",
       "\n",
       "4. **Documentation and Usage:**  \n",
       "   Add clear docstrings and usage instructions.\n",
       "\n",
       "Here's a refined version of your function with comments:\n",
       "\n",
       "```python\n",
       "def manual_process_as_prompt(prompt_text):\n",
       "    \"\"\"\n",
       "    Manually process text as a prompt using the magics instance if available.\n",
       "    This bypasses the input transformer mechanism.\n",
       "    \n",
       "    Parameters:\n",
       "        prompt_text (str): The prompt string to process.\n",
       "    \"\"\"\n",
       "    ip = get_ipython()\n",
       "    magics_instance = None\n",
       "\n",
       "    # Ensure NotebookLLMMagics is imported; replace with actual import if needed\n",
       "    # from your_module import NotebookLLMMagics\n",
       "\n",
       "    # Search for an existing instance in registered magics\n",
       "    for magic_type, magics_dict in ip.magics_manager.magics.items():\n",
       "        for name, instance in magics_dict.items():\n",
       "            if isinstance(instance, NotebookLLMMagics):\n",
       "                magics_instance = instance\n",
       "                break\n",
       "        if magics_instance:\n",
       "            break\n",
       "\n",
       "    # If no existing instance, create a temporary one\n",
       "    if not magics_instance:\n",
       "        print(\"Creating temporary NotebookLLMMagics instance...\")\n",
       "        try:\n",
       "            magics_instance = NotebookLLMMagics(ip)\n",
       "        except Exception as e:\n",
       "            print(f\"❌ Error creating instance: {e}\")\n",
       "            return\n",
       "\n",
       "    # Process the prompt\n",
       "    if hasattr(magics_instance, \"process_cell_as_prompt\"):\n",
       "        print(\"✅ Processing prompt...\")\n",
       "        magics_instance.process_cell_as_prompt(prompt_text)\n",
       "    else:\n",
       "        print(\"❌ process_cell_as_prompt method not found\")\n",
       "```\n",
       "\n",
       "**Notes:**\n",
       "\n",
       "- Replace placeholder comments with actual imports as needed.\n",
       "- Confirm that `NotebookLLMMagics` can be instantiated with `ip` as an argument.\n",
       "- You might consider adding additional error handling or logging depending on your environment.\n",
       "\n",
       "Let me know if you need further enhancements or integration suggestions!"
      ],
      "text/plain": [
       "<IPython.core.display.Markdown object>"
      ]
     },
     "metadata": {},
     "output_type": "display_data"
    },
    {
     "data": {
      "text/html": [
       "\n",
       "        <div style=\"background-color: #f1f8e9; border: 1px solid #c5e1a5; color: #33691e;\n",
       "                    padding: 3px 6px; margin-top: 4px; border-radius: 3px; font-family: monospace; \n",
       "                    font-size: 0.75em; line-height: 1.2; display: inline-block; opacity: 0.85;\">\n",
       "            ✓ gpt-4.1-nano • 3.76s • 300↓/652↑ tokens\n",
       "        </div>\n",
       "        "
      ],
      "text/plain": [
       "<IPython.core.display.HTML object>"
      ]
     },
     "metadata": {},
     "output_type": "display_data"
    }
   ],
   "source": [
    "# Create a manual helper function to process cells\n",
    "def manual_process_as_prompt(prompt_text):\n",
    "    \"\"\"\n",
    "    Manually process text as a prompt using the magics instance if available.\n",
    "    This bypasses the input transformer mechanism.\n",
    "    \"\"\"\n",
    "    ip = get_ipython()\n",
    "    magics_instance = None\n",
    "\n",
    "    # Find the registered instance\n",
    "    for magic_type, magics in ip.magics_manager.magics.items():\n",
    "        for instance in magics.values():\n",
    "            if isinstance(instance, NotebookLLMMagics):\n",
    "                magics_instance = instance\n",
    "                break\n",
    "        if magics_instance:\n",
    "            break\n",
    "\n",
    "    # If no registered instance, create a temporary one\n",
    "    if not magics_instance:\n",
    "        print(\"Creating temporary NotebookLLMMagics instance...\")\n",
    "        try:\n",
    "            magics_instance = NotebookLLMMagics(ip)\n",
    "        except Exception as e:\n",
    "            print(f\"❌ Error creating instance: {e}\")\n",
    "            return\n",
    "\n",
    "    # Process the prompt\n",
    "    if hasattr(magics_instance, \"process_cell_as_prompt\"):\n",
    "        print(\"✅ Processing prompt...\")\n",
    "        magics_instance.process_cell_as_prompt(prompt_text)\n",
    "    else:\n",
    "        print(\"❌ process_cell_as_prompt method not found\")"
   ]
  },
  {
   "cell_type": "code",
   "execution_count": 7,
   "id": "6875d056",
   "metadata": {},
   "outputs": [
    {
     "data": {
      "text/markdown": [
       "To test the `manual_process_as_prompt` function with the prompt `\"Explain how ambient mode works in CellMage.\"`, follow these steps:\n",
       "\n",
       "1. **Ensure that all dependencies are imported and available in your environment.**  \n",
       "   - Confirm that `get_ipython()` is available (it should be in an IPython or Jupyter notebook).  \n",
       "   - Confirm that `NotebookLLMMagics` is imported or defined in your environment.\n",
       "\n",
       "2. **Run the test command.**  \n",
       "   Simply execute:\n",
       "\n",
       "```python\n",
       "manual_process_as_prompt(\"Explain how ambient mode works in CellMage.\")\n",
       "```\n",
       "\n",
       "3. **Observe the output.**  \n",
       "   - If an existing `NotebookLLMMagics` instance is found, it will process the prompt. You should see the message `\"✅ Processing prompt...\"` and then the processing output.  \n",
       "   - If not, it will create a temporary instance and then proceed.  \n",
       "   - Any errors during creation or processing will be printed accordingly.\n",
       "\n",
       "---\n",
       "\n",
       "### Example of how it should look in your environment:\n",
       "\n",
       "```python\n",
       "# Run the function with the test prompt\n",
       "manual_process_as_prompt(\"Explain how ambient mode works in CellMage.\")\n",
       "```\n",
       "\n",
       "### Expected output (example):\n",
       "\n",
       "```plaintext\n",
       "✅ Processing prompt...\n",
       "# [Output from process_cell_as_prompt method]\n",
       "```\n",
       "\n",
       "or, if an error occurs:\n",
       "\n",
       "```plaintext\n",
       "❌ Error creating instance: <error message>\n",
       "```\n",
       "\n",
       "---\n",
       "\n",
       "### Additional tips:\n",
       "- Make sure that your environment has `NotebookLLMMagics` properly defined and capable of `process_cell_as_prompt`.\n",
       "- If no output appears, verify that `process_cell_as_prompt` produces visible output or side-effects.\n",
       "- You can add print statements inside `process_cell_as_prompt` to debug or confirm it's being called.\n",
       "\n",
       "Let me know if you encounter any issues during testing!"
      ],
      "text/plain": [
       "<IPython.core.display.Markdown object>"
      ]
     },
     "metadata": {},
     "output_type": "display_data"
    },
    {
     "data": {
      "text/html": [
       "\n",
       "        <div style=\"background-color: #f1f8e9; border: 1px solid #c5e1a5; color: #33691e;\n",
       "                    padding: 3px 6px; margin-top: 4px; border-radius: 3px; font-family: monospace; \n",
       "                    font-size: 0.75em; line-height: 1.2; display: inline-block; opacity: 0.85;\">\n",
       "            ✓ gpt-4.1-nano • 2.12s • 980↓/421↑ tokens\n",
       "        </div>\n",
       "        "
      ],
      "text/plain": [
       "<IPython.core.display.HTML object>"
      ]
     },
     "metadata": {},
     "output_type": "display_data"
    }
   ],
   "source": [
    "# Test the manual processing function\n",
    "manual_process_as_prompt(\"Explain how ambient mode works in CellMage.\")"
   ]
  },
  {
   "cell_type": "markdown",
   "id": "6a2909e9",
   "metadata": {},
   "source": [
    "## 7. Create a stealthy hook for ambient mode\n",
    "\n",
    "If we still have issues with the input transformer, let's create an alternative approach using IPython's post_run_cell hook."
   ]
  },
  {
   "cell_type": "code",
   "execution_count": 8,
   "id": "eecf58c6",
   "metadata": {},
   "outputs": [
    {
     "data": {
      "text/markdown": [
       "Your approach sets up a custom IPython hook that automatically processes cells as prompts after each cell run, based on certain heuristics. Here's a brief overview and some considerations:\n",
       "\n",
       "### What this code does:\n",
       "\n",
       "- **Unregisters previous hook** if it exists, preventing duplicates.\n",
       "- **Defines** `ambient_mode_hook`, which:\n",
       "  - Checks whether the cell is suitable for processing (not a magic command or shell command, not a Python statement).\n",
       "  - Looks for natural language cells to process.\n",
       "  - Calls your `manual_process_as_prompt` function on the cell content.\n",
       "- **Registers** the hook to run after each cell execution.\n",
       "\n",
       "### Usage instructions:\n",
       "\n",
       "1. **Define the hook code** in your environment (e.g., a cell in a Jupyter notebook).\n",
       "2. **Run the code to register the hook.**\n",
       "3. **Execute cells normally.**  \n",
       "   When a cell's content looks like natural language (e.g., a question or explanation), it will automatically trigger your processing.\n",
       "\n",
       "---\n",
       "\n",
       "### Important notes:\n",
       "\n",
       "- This setup **automatically processes cells** after execution, which might be resource-intensive if many cells run frequently.\n",
       "- The heuristics used to filter cells (like checking for starting symbols or Python keywords) can be tuned to better match your use case.\n",
       "- Make sure `manual_process_as_prompt` is correctly defined in scope.\n",
       "\n",
       "---\n",
       "\n",
       "### Suggested improvements:\n",
       "\n",
       "- You could add more sophisticated detection (e.g., NLP-based detection of natural language queries).\n",
       "- To avoid processing important code cells accidentally, refine your heuristics.\n",
       "- To prevent repeated processing or infinite loops, you might want to add flags or tags.\n",
       "\n",
       "---\n",
       "\n",
       "### Final step:\n",
       "\n",
       "Just run this setup code in your environment:\n",
       "\n",
       "```python\n",
       "import sys\n",
       "\n",
       "ip = get_ipython()\n",
       "\n",
       "# Remove any existing hook first\n",
       "if hasattr(ip, \"_stealthy_ambient_mode_hook\"):\n",
       "    try:\n",
       "        ip.events.unregister(\"post_run_cell\", ip._stealthy_ambient_mode_hook)\n",
       "    except Exception:\n",
       "        pass\n",
       "\n",
       "# Define the hook function\n",
       "def ambient_mode_hook(result):\n",
       "    # Skip if no result or error\n",
       "    if not result or result.error_in_exec:\n",
       "        return\n",
       "\n",
       "    # Get the last executed cell content\n",
       "    cell = ip.user_ns.get(\"_i\" + str(ip.execution_count))\n",
       "    if not cell or not cell.strip():\n",
       "        return\n",
       "\n",
       "    stripped_cell = cell.strip()\n",
       "\n",
       "    # Skip magic and shell commands\n",
       "    if stripped_cell.startswith((\"%\", \"!\", \"%%\")):\n",
       "        return\n",
       "\n",
       "    # Skip typical Python statements\n",
       "    python_keywords = [\"def \", \"class \", \"import \", \" = \", \"return \", \"if \", \"for \", \"while \"]\n",
       "    if any(keyword in stripped_cell for keyword in python_keywords):\n",
       "        return\n",
       "\n",
       "    # Process as prompt if likely natural language\n",
       "    manual_process_as_prompt(cell)\n",
       "\n",
       "# Register the hook\n",
       "ip._stealthy_ambient_mode_hook = ambient_mode_hook\n",
       "ip.events.register(\"post_run_cell\", ambient_mode_hook)\n",
       "\n",
       "print(\"✅ Alternative ambient mode hook registered\")\n",
       "```\n",
       "\n",
       "---\n",
       "\n",
       "### Test the setup:\n",
       "\n",
       "- Run some cells containing natural language questions or explanations.\n",
       "- Observe whether `manual_process_as_prompt` is invoked automatically.\n",
       "- Adjust heuristics as needed for your use case.\n",
       "\n",
       "---\n",
       "\n",
       "If you'd like, I can help you refine the heuristics further or add features!"
      ],
      "text/plain": [
       "<IPython.core.display.Markdown object>"
      ]
     },
     "metadata": {},
     "output_type": "display_data"
    },
    {
     "data": {
      "text/html": [
       "\n",
       "        <div style=\"background-color: #f1f8e9; border: 1px solid #c5e1a5; color: #33691e;\n",
       "                    padding: 3px 6px; margin-top: 4px; border-radius: 3px; font-family: monospace; \n",
       "                    font-size: 0.75em; line-height: 1.2; display: inline-block; opacity: 0.85;\">\n",
       "            ✓ gpt-4.1-nano • 5.53s • 1696↓/790↑ tokens\n",
       "        </div>\n",
       "        "
      ],
      "text/plain": [
       "<IPython.core.display.HTML object>"
      ]
     },
     "metadata": {},
     "output_type": "display_data"
    }
   ],
   "source": [
    "# Alternative approach using IPython hooks\n",
    "ip = get_ipython()\n",
    "\n",
    "# Remove any existing hook first\n",
    "if hasattr(ip, \"_stealthy_ambient_mode_hook\"):\n",
    "    ip.events.unregister(\"post_run_cell\", ip._stealthy_ambient_mode_hook)\n",
    "\n",
    "\n",
    "# Define our hook function\n",
    "def ambient_mode_hook(result):\n",
    "    # Skip if no result or result has error\n",
    "    if not result or result.error_in_exec:\n",
    "        return\n",
    "\n",
    "    # Get the cell content\n",
    "    cell = ip.user_ns.get(\"_i\" + str(ip.execution_count))\n",
    "    if not cell or not cell.strip():\n",
    "        return\n",
    "\n",
    "    # Skip if it starts with % or ! or %%\n",
    "    if cell.strip().startswith((\"%\", \"!\", \"%%\")):\n",
    "        return\n",
    "\n",
    "    # Skip if it's a Python statement (has =, def, class, import, etc.)\n",
    "    python_keywords = [\"def \", \"class \", \"import \", \" = \", \"return \", \"if \", \"for \", \"while \"]\n",
    "    if any(keyword in cell for keyword in python_keywords):\n",
    "        return\n",
    "\n",
    "    # Process as prompt if it looks like natural language\n",
    "    manual_process_as_prompt(cell)\n",
    "\n",
    "\n",
    "# Register our hook\n",
    "ip._stealthy_ambient_mode_hook = ambient_mode_hook\n",
    "ip.events.register(\"post_run_cell\", ambient_mode_hook)\n",
    "\n",
    "print(\"✅ Alternative ambient mode hook registered\")"
   ]
  },
  {
   "cell_type": "markdown",
   "id": "ed7257df",
   "metadata": {},
   "source": [
    "## 8. Test our custom ambient mode\n",
    "\n",
    "Now cells that look like natural language and don't contain Python code should be processed as prompts automatically."
   ]
  },
  {
   "cell_type": "code",
   "execution_count": 9,
   "id": "44330a55",
   "metadata": {},
   "outputs": [
    {
     "data": {
      "text/markdown": [
       "This message is a natural language question, so in your setup, the hook should automatically detect it as a candidate for processing and call `manual_process_as_prompt` with this content.\n",
       "\n",
       "**Expected behavior:**\n",
       "\n",
       "- The hook runs after cell execution.\n",
       "- It detects that the cell looks like a natural language query.\n",
       "- It invokes `manual_process_as_prompt` with the cell content.\n",
       "- Your `process_cell_as_prompt` method in `NotebookLLMMagics` processes this prompt accordingly.\n",
       "\n",
       "---\n",
       "\n",
       "### What to do next:\n",
       "\n",
       "1. **Run the setup code** provided previously to register the hook.\n",
       "2. **Input or run the cell** with the question:\n",
       "\n",
       "```plaintext\n",
       "What is CellMage and how does it help with notebook workflows?\n",
       "```\n",
       "\n",
       "3. **Observe the output:**  \n",
       "   Your magic's `process_cell_as_prompt` method should handle generating a response or performing the desired processing.\n",
       "\n",
       "---\n",
       "\n",
       "### Summary:\n",
       "\n",
       "Your environment is configured to act as an assistant, passing natural language queries to your language model handler automatically. You can continue asking questions or describing tasks, and the system should respond accordingly."
      ],
      "text/plain": [
       "<IPython.core.display.Markdown object>"
      ]
     },
     "metadata": {},
     "output_type": "display_data"
    },
    {
     "data": {
      "text/html": [
       "\n",
       "        <div style=\"background-color: #f1f8e9; border: 1px solid #c5e1a5; color: #33691e;\n",
       "                    padding: 3px 6px; margin-top: 4px; border-radius: 3px; font-family: monospace; \n",
       "                    font-size: 0.75em; line-height: 1.2; display: inline-block; opacity: 0.85;\">\n",
       "            ✓ gpt-4.1-nano • 1.61s • 2513↓/275↑ tokens\n",
       "        </div>\n",
       "        "
      ],
      "text/plain": [
       "<IPython.core.display.HTML object>"
      ]
     },
     "metadata": {},
     "output_type": "display_data"
    }
   ],
   "source": [
    "# This should be processed as a prompt\n",
    "What is CellMage and how does it help with notebook workflows?"
   ]
  },
  {
   "cell_type": "code",
   "execution_count": 10,
   "id": "16d75cc1",
   "metadata": {},
   "outputs": [
    {
     "data": {
      "text/markdown": [
       "In your setup, the hook is designed to **skip processing** cells that are recognized as Python code or start with magic or shell commands. \n",
       "\n",
       "**Based on your code:**\n",
       "\n",
       "- The cell content is:\n",
       "\n",
       "```python\n",
       "x = 10\n",
       "\n",
       "y = 20\n",
       "\n",
       "print(\"This is normal Python code:\", x + y)\n",
       "```\n",
       "\n",
       "- The hook checks for Python keywords like `\"def \"`, `\"class \"`, `\"import \"`, `\" = \"`, `\"return \"`, `\"if \"`, `\"for \"`, `\"while \"`.\n",
       "\n",
       "- Since the cell contains assignments and a print statement, it matches these heuristics (e.g., `\" = \"` appears multiple times).\n",
       "\n",
       "**Therefore:**\n",
       "\n",
       "- The hook **will not** process this cell as a prompt.\n",
       "- It will **skip invoking** `manual_process_as_prompt`.\n",
       "\n",
       "---\n",
       "\n",
       "### To test or verify:\n",
       "\n",
       "- Run this cell.\n",
       "- Observe that no processing is triggered.\n",
       "- The code executes normally, printing:\n",
       "\n",
       "```plaintext\n",
       "This is normal Python code: 30\n",
       "```\n",
       "\n",
       "---\n",
       "\n",
       "### Summary:\n",
       "\n",
       "Your current filtering heuristics effectively prevent code cells from being processed as prompts. This setup aims to process only natural language or potential questions, avoiding interference with regular code execution."
      ],
      "text/plain": [
       "<IPython.core.display.Markdown object>"
      ]
     },
     "metadata": {},
     "output_type": "display_data"
    },
    {
     "data": {
      "text/html": [
       "\n",
       "        <div style=\"background-color: #f1f8e9; border: 1px solid #c5e1a5; color: #33691e;\n",
       "                    padding: 3px 6px; margin-top: 4px; border-radius: 3px; font-family: monospace; \n",
       "                    font-size: 0.75em; line-height: 1.2; display: inline-block; opacity: 0.85;\">\n",
       "            ✓ gpt-4.1-nano • 1.77s • 2815↓/268↑ tokens\n",
       "        </div>\n",
       "        "
      ],
      "text/plain": [
       "<IPython.core.display.HTML object>"
      ]
     },
     "metadata": {},
     "output_type": "display_data"
    }
   ],
   "source": [
    "# This should NOT be processed as a prompt\n",
    "x = 10\n",
    "y = 20\n",
    "print(\"This is normal Python code:\", x + y)"
   ]
  },
  {
   "cell_type": "markdown",
   "id": "62ada087",
   "metadata": {},
   "source": [
    "## 9. Disable ambient mode"
   ]
  },
  {
   "cell_type": "code",
   "execution_count": 11,
   "id": "7551ea29",
   "metadata": {},
   "outputs": [
    {
     "name": "stdout",
     "output_type": "stream",
     "text": [
      "❌ Ambient mode DISABLED. Regular cells will now be executed normally.\n",
      "✅ Official ambient mode is disabled\n"
     ]
    }
   ],
   "source": [
    "# Disable both approaches to ambient mode\n",
    "\n",
    "# 1. Standard transformer approach\n",
    "%disable_llm_config_persistent\n",
    "\n",
    "# 2. Our custom hook approach\n",
    "if hasattr(ip, '_stealthy_ambient_mode_hook'):\n",
    "    ip.events.unregister('post_run_cell', ip._stealthy_ambient_mode_hook)\n",
    "    print(\"✅ Removed custom ambient mode hook\")\n",
    "\n",
    "# Check if ambient mode is disabled\n",
    "if not is_ambient_mode_enabled():\n",
    "    print(\"✅ Official ambient mode is disabled\")\n",
    "else:\n",
    "    print(\"❌ Official ambient mode is still enabled\")"
   ]
  },
  {
   "cell_type": "markdown",
   "id": "afe3248b",
   "metadata": {},
   "source": [
    "## 8. Troubleshooting\n",
    "\n",
    "If you're experiencing the \"Could not find registered NotebookLLMMagics instance\" error, try the following solutions:\n",
    "\n",
    "1. Ensure the extension is loaded by running `%load_ext cellmage.integrations.ipython_magic` first\n",
    "2. Try restarting the kernel and loading the extension again\n",
    "3. Check if there are any errors during the extension loading process\n",
    "4. Verify that the package is installed correctly with `!pip show cellmage`\n",
    "\n",
    "A common issue with the ambient mode is that it depends on finding the registered NotebookLLMMagics instance in the IPython environment. The error occurs when the code that's injected by the input transformer can't find this instance."
   ]
  }
 ],
 "metadata": {
  "kernelspec": {
   "display_name": ".venv",
   "language": "python",
   "name": "python3"
  },
  "language_info": {
   "codemirror_mode": {
    "name": "ipython",
    "version": 3
   },
   "file_extension": ".py",
   "mimetype": "text/x-python",
   "name": "python",
   "nbconvert_exporter": "python",
   "pygments_lexer": "ipython3",
   "version": "3.10.16"
  }
 },
 "nbformat": 4,
 "nbformat_minor": 5
}
