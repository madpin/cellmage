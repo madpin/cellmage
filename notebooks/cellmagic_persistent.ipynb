{
 "cells": [
  {
   "cell_type": "code",
   "execution_count": 1,
   "id": "d5c35fd1",
   "metadata": {},
   "outputs": [
    {
     "name": "stdout",
     "output_type": "stream",
     "text": [
      "✅ NotebookLLM Magics loaded. Use %llm_config and %%llm.\n",
      "   For ambient mode, try %llm_config_persistent to process all cells as LLM prompts.\n"
     ]
    }
   ],
   "source": [
    "%load_ext cellmage\n"
   ]
  },
  {
   "cell_type": "code",
   "execution_count": 2,
   "id": "d14aa928",
   "metadata": {},
   "outputs": [
    {
     "name": "stdout",
     "output_type": "stream",
     "text": [
      "✅ Default model set to: gpt-4.1-mini\n",
      "✅ Added system snippet: 'Thiago'\n",
      "✅ Added system snippet: 'EVO'\n",
      "✅ Persona activated: 'coder'\n",
      "✅ Ambient mode ENABLED. All cells will now be processed as LLM prompts unless they start with % or !.\n",
      "   Run %disable_llm_config_persistent to disable ambient mode.\n"
     ]
    }
   ],
   "source": [
    "# Configure the cellmage environment\n",
    "%llm_config_persistent --model gpt-4.1-mini --persona coder --sys-snippet Thiago --sys-snippet EVO\n"
   ]
  },
  {
   "cell_type": "code",
   "execution_count": 3,
   "id": "f0f6555f",
   "metadata": {},
   "outputs": [
    {
     "data": {
      "text/markdown": [
       "**Assistant:**\n",
       "Hello! How can I assist you today?"
      ],
      "text/plain": [
       "<IPython.core.display.Markdown object>"
      ]
     },
     "metadata": {},
     "output_type": "display_data"
    },
    {
     "data": {
      "text/html": [
       "\n",
       "        <div style=\"background-color: #f1f8e9; border: 1px solid #c5e1a5; color: #33691e;\n",
       "                    padding: 3px 6px; margin-top: 4px; border-radius: 3px; font-family: monospace; \n",
       "                    font-size: 0.75em; line-height: 1.2; display: inline-block; opacity: 0.85;\">\n",
       "            ✓ gpt-4.1-mini • 0.77s • 917↓/8↑ tokens\n",
       "        </div>\n",
       "        "
      ],
      "text/plain": [
       "<IPython.core.display.HTML object>"
      ]
     },
     "metadata": {},
     "output_type": "display_data"
    }
   ],
   "source": [
    "Hello there!"
   ]
  },
  {
   "cell_type": "code",
   "execution_count": 4,
   "id": "2f040f35",
   "metadata": {},
   "outputs": [
    {
     "name": "stdout",
     "output_type": "stream",
     "text": [
      "--- History (5 messages) ---\n",
      "[0] SYSTEM: You are Coder, an elite technical assistant specializing in software engineering and system architecture. Your primary focus is delivering optimal sol...\n",
      "    (ID: ...e26a32, Cell: ZQ%3D%3D, Exec: 2)\n",
      "[1] SYSTEM: Thiago Madeira Pinto is a 38-year-old Brazilian software engineer and team manager, currently living in Dublin, Ireland. He was born on October 8, 198...\n",
      "    (ID: ...f5ceaa, Cell: ZQ%3D%3D, Exec: 2)\n",
      "[2] SYSTEM: EVO, which stands for Employer Value Optimization, is a team within Indeed that focuses on maximizing return on investment (ROI) for the Sales, Client...\n",
      "    (ID: ...2a0a97, Cell: ZQ%3D%3D, Exec: 2)\n",
      "[3] USER: Hello there!\n",
      "    (ID: ...2fd0a2, Cell: ZQ%3D%3D, Exec: 3)\n",
      "[4] ASSISTANT: Hello! How can I assist you today?\n",
      "    (ID: ...4e7bab, Cell: ZQ%3D%3D, Exec: 3)\n",
      "--------------------------\n"
     ]
    }
   ],
   "source": [
    "%llm_config --show-history"
   ]
  },
  {
   "cell_type": "code",
   "execution_count": 5,
   "id": "5d106032",
   "metadata": {},
   "outputs": [
    {
     "data": {
      "text/markdown": [
       "**Assistant:**\n",
       "Hi Thiago! How can I help you today?"
      ],
      "text/plain": [
       "<IPython.core.display.Markdown object>"
      ]
     },
     "metadata": {},
     "output_type": "display_data"
    },
    {
     "data": {
      "text/html": [
       "\n",
       "        <div style=\"background-color: #f1f8e9; border: 1px solid #c5e1a5; color: #33691e;\n",
       "                    padding: 3px 6px; margin-top: 4px; border-radius: 3px; font-family: monospace; \n",
       "                    font-size: 0.75em; line-height: 1.2; display: inline-block; opacity: 0.85;\">\n",
       "            ✓ gpt-4.1-mini • 0.69s • 930↓/9↑ tokens\n",
       "        </div>\n",
       "        "
      ],
      "text/plain": [
       "<IPython.core.display.HTML object>"
      ]
     },
     "metadata": {},
     "output_type": "display_data"
    }
   ],
   "source": [
    "My name is Thiago\n"
   ]
  },
  {
   "cell_type": "code",
   "execution_count": 6,
   "id": "966777e9",
   "metadata": {},
   "outputs": [],
   "source": [
    "%llm_config --showmanbo\n"
   ]
  },
  {
   "cell_type": "code",
   "execution_count": 7,
   "id": "50ff554b",
   "metadata": {},
   "outputs": [
    {
     "data": {
      "text/markdown": [
       "**Assistant:**\n",
       "Your name is Thiago Madeira Pinto."
      ],
      "text/plain": [
       "<IPython.core.display.Markdown object>"
      ]
     },
     "metadata": {},
     "output_type": "display_data"
    },
    {
     "data": {
      "text/html": [
       "\n",
       "        <div style=\"background-color: #f1f8e9; border: 1px solid #c5e1a5; color: #33691e;\n",
       "                    padding: 3px 6px; margin-top: 4px; border-radius: 3px; font-family: monospace; \n",
       "                    font-size: 0.75em; line-height: 1.2; display: inline-block; opacity: 0.85;\">\n",
       "            ✓ gpt-4.1-mini • 0.68s • 943↓/8↑ tokens\n",
       "        </div>\n",
       "        "
      ],
      "text/plain": [
       "<IPython.core.display.HTML object>"
      ]
     },
     "metadata": {},
     "output_type": "display_data"
    }
   ],
   "source": [
    "What's my name?\n"
   ]
  }
 ],
 "metadata": {
  "kernelspec": {
   "display_name": ".venv",
   "language": "python",
   "name": "python3"
  },
  "language_info": {
   "codemirror_mode": {
    "name": "ipython",
    "version": 3
   },
   "file_extension": ".py",
   "mimetype": "text/x-python",
   "name": "python",
   "nbconvert_exporter": "python",
   "pygments_lexer": "ipython3",
   "version": "3.10.16"
  }
 },
 "nbformat": 4,
 "nbformat_minor": 5
}
