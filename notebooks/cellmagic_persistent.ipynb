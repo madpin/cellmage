{
 "cells": [
  {
   "cell_type": "code",
   "execution_count": 1,
   "id": "4f97f37a",
   "metadata": {},
   "outputs": [
    {
     "name": "stdout",
     "output_type": "stream",
     "text": [
      "Using personas from: /Users/tpinto/madpin/cellmage/llm_personas\n",
      "Using snippets from: /Users/tpinto/madpin/cellmage/snippets\n"
     ]
    }
   ],
   "source": [
    "# Set environment variables to configure where to look for persona files\n",
    "import os\n",
    "import sys\n",
    "\n",
    "# Get the absolute path to the main project directory\n",
    "project_dir = os.path.abspath(os.path.join(os.getcwd(), \"..\"))\n",
    "personas_dir = os.path.join(project_dir, \"llm_personas\")\n",
    "snippets_dir = os.path.join(project_dir, \"snippets\")\n",
    "\n",
    "# Print configuration information\n",
    "print(f\"Using personas from: {personas_dir}\")\n",
    "print(f\"Using snippets from: {snippets_dir}\")\n",
    "\n",
    "# Set environment variable for CellMage\n",
    "os.environ[\"CELLMAGE_PERSONAS_DIR\"] = personas_dir\n",
    "os.environ[\"CELLMAGE_SNIPPETS_DIR\"] = snippets_dir"
   ]
  },
  {
   "cell_type": "code",
   "execution_count": 2,
   "id": "d5c35fd1",
   "metadata": {},
   "outputs": [
    {
     "name": "stdout",
     "output_type": "stream",
     "text": [
      "✅ NotebookLLM Magics loaded. Use %llm_config and %%llm.\n",
      "   For ambient mode, try %llm_config_persistent to process all cells as LLM prompts.\n"
     ]
    }
   ],
   "source": [
    "%load_ext cellmage\n"
   ]
  },
  {
   "cell_type": "code",
   "execution_count": 3,
   "id": "d14aa928",
   "metadata": {},
   "outputs": [
    {
     "name": "stdout",
     "output_type": "stream",
     "text": [
      "✅ Ambient mode ENABLED. All cells will now be processed as LLM prompts unless they start with % or !.\n",
      "   Run %disable_llm_config_persistent to disable ambient mode.\n"
     ]
    }
   ],
   "source": [
    "# Configure the cellmage environment\n",
    "%llm_config_persistent --model gpt-4.1-mini --persona coder --list-snippets EVO\n"
   ]
  },
  {
   "cell_type": "code",
   "execution_count": 4,
   "id": "2f040f35",
   "metadata": {},
   "outputs": [
    {
     "data": {
      "text/markdown": [
       "**Assistant:**\n",
       "Hello! How can I assist you today?"
      ],
      "text/plain": [
       "<IPython.core.display.Markdown object>"
      ]
     },
     "metadata": {},
     "output_type": "display_data"
    },
    {
     "data": {
      "text/html": [
       "\n",
       "        <div style=\"background-color: #f1f8e9; border: 1px solid #c5e1a5; color: #33691e;\n",
       "                    padding: 3px 6px; margin-top: 4px; border-radius: 3px; font-family: monospace; \n",
       "                    font-size: 0.75em; line-height: 1.2; display: inline-block; opacity: 0.85;\">\n",
       "            ✓ gpt-4.1-nano • 0.19s • 3↓/8↑ tokens\n",
       "        </div>\n",
       "        "
      ],
      "text/plain": [
       "<IPython.core.display.HTML object>"
      ]
     },
     "metadata": {},
     "output_type": "display_data"
    }
   ],
   "source": [
    "Hello there!"
   ]
  },
  {
   "cell_type": "code",
   "execution_count": 5,
   "id": "5d106032",
   "metadata": {},
   "outputs": [
    {
     "data": {
      "text/markdown": [
       "**Assistant:**\n",
       "Hi, Thiago! Nice to meet you. How can I help you today?"
      ],
      "text/plain": [
       "<IPython.core.display.Markdown object>"
      ]
     },
     "metadata": {},
     "output_type": "display_data"
    },
    {
     "data": {
      "text/html": [
       "\n",
       "        <div style=\"background-color: #f1f8e9; border: 1px solid #c5e1a5; color: #33691e;\n",
       "                    padding: 3px 6px; margin-top: 4px; border-radius: 3px; font-family: monospace; \n",
       "                    font-size: 0.75em; line-height: 1.2; display: inline-block; opacity: 0.85;\">\n",
       "            ✓ gpt-4.1-nano • 0.20s • 16↓/13↑ tokens\n",
       "        </div>\n",
       "        "
      ],
      "text/plain": [
       "<IPython.core.display.HTML object>"
      ]
     },
     "metadata": {},
     "output_type": "display_data"
    }
   ],
   "source": [
    "My name is Thiago\n"
   ]
  },
  {
   "cell_type": "code",
   "execution_count": 6,
   "id": "50ff554b",
   "metadata": {},
   "outputs": [
    {
     "data": {
      "text/markdown": [
       "**Assistant:**\n",
       "Your name is Thiago. Nice to meet you!"
      ],
      "text/plain": [
       "<IPython.core.display.Markdown object>"
      ]
     },
     "metadata": {},
     "output_type": "display_data"
    },
    {
     "data": {
      "text/html": [
       "\n",
       "        <div style=\"background-color: #f1f8e9; border: 1px solid #c5e1a5; color: #33691e;\n",
       "                    padding: 3px 6px; margin-top: 4px; border-radius: 3px; font-family: monospace; \n",
       "                    font-size: 0.75em; line-height: 1.2; display: inline-block; opacity: 0.85;\">\n",
       "            ✓ gpt-4.1-nano • 0.23s • 34↓/9↑ tokens\n",
       "        </div>\n",
       "        "
      ],
      "text/plain": [
       "<IPython.core.display.HTML object>"
      ]
     },
     "metadata": {},
     "output_type": "display_data"
    }
   ],
   "source": [
    "What's my name?\n"
   ]
  },
  {
   "cell_type": "code",
   "execution_count": null,
   "id": "ab48851e",
   "metadata": {},
   "outputs": [],
   "source": []
  }
 ],
 "metadata": {
  "kernelspec": {
   "display_name": ".venv",
   "language": "python",
   "name": "python3"
  },
  "language_info": {
   "codemirror_mode": {
    "name": "ipython",
    "version": 3
   },
   "file_extension": ".py",
   "mimetype": "text/x-python",
   "name": "python",
   "nbconvert_exporter": "python",
   "pygments_lexer": "ipython3",
   "version": "3.10.16"
  }
 },
 "nbformat": 4,
 "nbformat_minor": 5
}
