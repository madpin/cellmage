{
 "cells": [
  {
   "cell_type": "code",
   "execution_count": 1,
   "id": "d5c35fd1",
   "metadata": {},
   "outputs": [
    {
     "name": "stdout",
     "output_type": "stream",
     "text": [
      "✅ NotebookLLM Magics loaded. Use %llm_config and %%llm.\n",
      "   For ambient mode, try %llm_config_persistent to process all cells as LLM prompts.\n",
      "✅ NotebookLLM Magics loaded. Use %llm_config and %%llm.\n",
      "   For ambient mode, try %llm_config_persistent to process all cells as LLM prompts.\n"
     ]
    }
   ],
   "source": [
    "%load_ext cellmage\n",
    "%reload_ext cellmage"
   ]
  },
  {
   "cell_type": "code",
   "execution_count": 2,
   "id": "d14aa928",
   "metadata": {},
   "outputs": [
    {
     "name": "stdout",
     "output_type": "stream",
     "text": [
      "✅ Default model set to: gpt-4.1-mini\n",
      "✅ Added system snippet: 'Thiago'\n",
      "✅ Added system snippet: 'EVO'\n",
      "✅ Persona activated: 'coder'\n",
      "✅ Ambient mode ENABLED. All cells will now be processed as LLM prompts unless they start with % or !.\n",
      "   Run %disable_llm_config_persistent to disable ambient mode.\n"
     ]
    }
   ],
   "source": [
    "# Configure the cellmage environment\n",
    "%llm_config_persistent --model gpt-4.1-mini --persona coder --sys-snippet Thiago --sys-snippet EVO\n"
   ]
  },
  {
   "cell_type": "code",
   "execution_count": 3,
   "id": "f0f6555f",
   "metadata": {},
   "outputs": [
    {
     "data": {
      "text/markdown": [
       "Hello! How can I assist you today?"
      ],
      "text/plain": [
       "<IPython.core.display.Markdown object>"
      ]
     },
     "metadata": {},
     "output_type": "display_data"
    },
    {
     "data": {
      "text/html": [
       "\n",
       "        <div style=\"background-color: #f1f8e9; border: 1px solid #c5e1a5; color: #33691e;\n",
       "                    padding: 3px 6px; margin-top: 4px; border-radius: 3px; font-family: monospace; \n",
       "                    font-size: 0.75em; line-height: 1.2; display: inline-block; opacity: 0.85;\">\n",
       "            ✓ gpt-4.1-mini • 0.68s • 917↓/8↑ tokens\n",
       "        </div>\n",
       "        "
      ],
      "text/plain": [
       "<IPython.core.display.HTML object>"
      ]
     },
     "metadata": {},
     "output_type": "display_data"
    }
   ],
   "source": [
    "Hello there!"
   ]
  },
  {
   "cell_type": "markdown",
   "id": "dc44b85a",
   "metadata": {},
   "source": []
  },
  {
   "cell_type": "code",
   "execution_count": 4,
   "id": "2f040f35",
   "metadata": {},
   "outputs": [
    {
     "name": "stdout",
     "output_type": "stream",
     "text": [
      "--- History (5 messages) ---\n",
      "[0] SYSTEM: You are Coder, an elite technical assistant specializing in software engineering and system architecture. Your primary focus is delivering optimal sol...\n",
      "    (ID: ...216958, Cell: ZQ%3D%3D, Exec: 2)\n",
      "[1] SYSTEM: Thiago Madeira Pinto is a 38-year-old Brazilian software engineer and team manager, currently living in Dublin, Ireland. He was born on October 8, 198...\n",
      "    (ID: ...379b5f, Cell: ZQ%3D%3D, Exec: 2)\n",
      "[2] SYSTEM: EVO, which stands for Employer Value Optimization, is a team within Indeed that focuses on maximizing return on investment (ROI) for the Sales, Client...\n",
      "    (ID: ...be728a, Cell: ZQ%3D%3D, Exec: 2)\n",
      "[3] USER: Hello there!\n",
      "    (ID: ...abdeba, Cell: ZQ%3D%3D, Exec: 3)\n",
      "[4] ASSISTANT: Hello! How can I assist you today?\n",
      "    (ID: ...8d8d95, Cell: ZQ%3D%3D, Exec: 3)\n",
      "--------------------------\n"
     ]
    }
   ],
   "source": [
    "%llm_config --show-history"
   ]
  },
  {
   "cell_type": "code",
   "execution_count": 5,
   "id": "5d106032",
   "metadata": {},
   "outputs": [
    {
     "data": {
      "text/markdown": [
       "Hi Thiago! How can I help you today?"
      ],
      "text/plain": [
       "<IPython.core.display.Markdown object>"
      ]
     },
     "metadata": {},
     "output_type": "display_data"
    },
    {
     "data": {
      "text/html": [
       "\n",
       "        <div style=\"background-color: #f1f8e9; border: 1px solid #c5e1a5; color: #33691e;\n",
       "                    padding: 3px 6px; margin-top: 4px; border-radius: 3px; font-family: monospace; \n",
       "                    font-size: 0.75em; line-height: 1.2; display: inline-block; opacity: 0.85;\">\n",
       "            ✓ gpt-4.1-mini • 0.70s • 930↓/9↑ tokens\n",
       "        </div>\n",
       "        "
      ],
      "text/plain": [
       "<IPython.core.display.HTML object>"
      ]
     },
     "metadata": {},
     "output_type": "display_data"
    }
   ],
   "source": [
    "My name is Thiago"
   ]
  },
  {
   "cell_type": "code",
   "execution_count": 6,
   "id": "966777e9",
   "metadata": {},
   "outputs": [
    {
     "name": "stdout",
     "output_type": "stream",
     "text": [
      "Active Persona: 'coder'\n",
      "  System Prompt: You are Coder, an elite technical assistant specializing in software engineering and system architec...\n",
      "  LLM Params: {'name': 'coder', 'description': 'A brief description of this persona'}\n"
     ]
    }
   ],
   "source": [
    "%llm_config --show-persona\n"
   ]
  },
  {
   "cell_type": "code",
   "execution_count": 7,
   "id": "50ff554b",
   "metadata": {},
   "outputs": [
    {
     "data": {
      "text/markdown": [
       "Your name is Thiago Madeira Pinto."
      ],
      "text/plain": [
       "<IPython.core.display.Markdown object>"
      ]
     },
     "metadata": {},
     "output_type": "display_data"
    },
    {
     "data": {
      "text/html": [
       "\n",
       "        <div style=\"background-color: #f1f8e9; border: 1px solid #c5e1a5; color: #33691e;\n",
       "                    padding: 3px 6px; margin-top: 4px; border-radius: 3px; font-family: monospace; \n",
       "                    font-size: 0.75em; line-height: 1.2; display: inline-block; opacity: 0.85;\">\n",
       "            ✓ gpt-4.1-mini • 0.78s • 943↓/8↑ tokens\n",
       "        </div>\n",
       "        "
      ],
      "text/plain": [
       "<IPython.core.display.HTML object>"
      ]
     },
     "metadata": {},
     "output_type": "display_data"
    }
   ],
   "source": [
    "What's my name?\n"
   ]
  },
  {
   "cell_type": "code",
   "execution_count": 8,
   "id": "01934cd2",
   "metadata": {},
   "outputs": [
    {
     "name": "stdout",
     "output_type": "stream",
     "text": [
      "--- History (9 messages) ---\n",
      "[0] SYSTEM: You are Coder, an elite technical assistant specializing in software engineering and system architecture. Your primary focus is delivering optimal sol...\n",
      "    (ID: ...216958, Cell: ZQ%3D%3D, Exec: 2)\n",
      "[1] SYSTEM: Thiago Madeira Pinto is a 38-year-old Brazilian software engineer and team manager, currently living in Dublin, Ireland. He was born on October 8, 198...\n",
      "    (ID: ...379b5f, Cell: ZQ%3D%3D, Exec: 2)\n",
      "[2] SYSTEM: EVO, which stands for Employer Value Optimization, is a team within Indeed that focuses on maximizing return on investment (ROI) for the Sales, Client...\n",
      "    (ID: ...be728a, Cell: ZQ%3D%3D, Exec: 2)\n",
      "[3] USER: Hello there!\n",
      "    (ID: ...abdeba, Cell: ZQ%3D%3D, Exec: 3)\n",
      "[4] ASSISTANT: Hello! How can I assist you today?\n",
      "    (ID: ...8d8d95, Cell: ZQ%3D%3D, Exec: 3)\n",
      "[5] USER: My name is Thiago\n",
      "    (ID: ...a8374b, Cell: ZQ%3D%3D, Exec: 5)\n",
      "[6] ASSISTANT: Hi Thiago! How can I help you today?\n",
      "    (ID: ...ab99fb, Cell: ZQ%3D%3D, Exec: 5)\n",
      "[7] USER: What's my name?\n",
      "    (ID: ...648ae7, Cell: ZQ%3D%3D, Exec: 7)\n",
      "[8] ASSISTANT: Your name is Thiago Madeira Pinto.\n",
      "    (ID: ...45d438, Cell: ZQ%3D%3D, Exec: 7)\n",
      "--------------------------\n"
     ]
    }
   ],
   "source": [
    "%llm_config --show-history"
   ]
  },
  {
   "cell_type": "code",
   "execution_count": 9,
   "id": "11756519",
   "metadata": {},
   "outputs": [
    {
     "data": {
      "text/markdown": [
       "Thiago, here’s a short story inspired by you:\n",
       "\n",
       "In the vibrant city of Dublin, a skilled software engineer named Thiago balanced code and leadership with a passion for learning. Every morning, after a brisk walk through cobblestone streets, he’d dive into complex data problems at Indeed’s EVO team, crafting machine learning models that gave sales reps the perfect leads at just the right moment. Outside work, he’d unwind watching \"Matrix\" or sharing Brazilian snacks with Rachel, dreaming of his next European adventure. Though a bit shy, Thiago’s quiet strength and curiosity always led him to new discoveries—both in technology and life."
      ],
      "text/plain": [
       "<IPython.core.display.Markdown object>"
      ]
     },
     "metadata": {},
     "output_type": "display_data"
    },
    {
     "data": {
      "text/html": [
       "\n",
       "        <div style=\"background-color: #f1f8e9; border: 1px solid #c5e1a5; color: #33691e;\n",
       "                    padding: 3px 6px; margin-top: 4px; border-radius: 3px; font-family: monospace; \n",
       "                    font-size: 0.75em; line-height: 1.2; display: inline-block; opacity: 0.85;\">\n",
       "            ✓ gpt-4.1-mini • 1.89s • 956↓/160↑ tokens\n",
       "        </div>\n",
       "        "
      ],
      "text/plain": [
       "<IPython.core.display.HTML object>"
      ]
     },
     "metadata": {},
     "output_type": "display_data"
    }
   ],
   "source": [
    "tell me a story"
   ]
  },
  {
   "cell_type": "code",
   "execution_count": null,
   "id": "9ea2e50b",
   "metadata": {},
   "outputs": [],
   "source": []
  }
 ],
 "metadata": {
  "kernelspec": {
   "display_name": ".venv",
   "language": "python",
   "name": "python3"
  },
  "language_info": {
   "codemirror_mode": {
    "name": "ipython",
    "version": 3
   },
   "file_extension": ".py",
   "mimetype": "text/x-python",
   "name": "python",
   "nbconvert_exporter": "python",
   "pygments_lexer": "ipython3",
   "version": "3.10.16"
  }
 },
 "nbformat": 4,
 "nbformat_minor": 5
}
