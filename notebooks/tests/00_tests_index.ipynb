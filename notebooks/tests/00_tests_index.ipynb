{
 "cells": [
  {
   "cell_type": "markdown",
   "id": "108a1d7b",
   "metadata": {},
   "source": [
    "# 🧙 CellMage Tests Guide ✨\n",
    "\n",
    "This notebook serves as an index to the test notebooks available in this directory. These notebooks are designed to verify CellMage's functionality and demonstrate proper usage patterns.\n",
    "\n",
    "**Date:** April 26, 2025"
   ]
  },
  {
   "cell_type": "markdown",
   "id": "9f5ba5e0",
   "metadata": {},
   "source": [
    "## Available Test Notebooks\n",
    "\n",
    "### 1. [CellMagic Test Notebook](01_cellmagic_test.ipynb)\n",
    "- Verifies all core magic functions work correctly\n",
    "- Tests LLM interactions and configuration features\n",
    "- Demonstrates persona and snippet management\n",
    "- Checks conversation history functionality\n",
    "- Tests ambient mode operation"
   ]
  },
  {
   "cell_type": "markdown",
   "id": "f15285ea",
   "metadata": {},
   "source": [
    "## What Are Test Notebooks?\n",
    "\n",
    "Test notebooks serve several important purposes:\n",
    "\n",
    "1. **Functionality Verification**: They allow you to verify that all features of CellMage are working correctly in your environment\n",
    "2. **Installation Checking**: They help confirm that your installation has been properly set up\n",
    "3. **API Integration**: They verify that your API credentials are working and properly configured\n",
    "4. **Learning Resource**: They demonstrate usage patterns and serve as practical examples\n",
    "\n",
    "Unlike tutorials that focus on teaching concepts or examples that show real-world applications, test notebooks are specifically designed to systematically test functionality."
   ]
  },
  {
   "cell_type": "markdown",
   "id": "f7f1416e",
   "metadata": {},
   "source": [
    "## When to Run Tests\n",
    "\n",
    "We recommend running the test notebooks in the following scenarios:\n",
    "\n",
    "1. **After Initial Installation**: To verify that CellMage is properly installed and configured\n",
    "2. **After Upgrading**: When you upgrade to a new version of CellMage\n",
    "3. **When Changing Environments**: If you move to a different Jupyter environment or Python installation\n",
    "4. **When Troubleshooting**: If you encounter issues with CellMage functionality\n",
    "\n",
    "Test notebooks can help isolate problems and confirm that basic functionality works as expected."
   ]
  },
  {
   "cell_type": "code",
   "execution_count": null,
   "id": "7df00b92",
   "metadata": {},
   "outputs": [],
   "source": [
    "# Quick check that CellMage is available\n",
    "import cellmage\n",
    "print(f\"CellMage version: {cellmage.__version__}\")\n",
    "\n",
    "# Load the extension to verify it's accessible\n",
    "%load_ext cellmage"
   ]
  },
  {
   "cell_type": "markdown",
   "id": "fa5f3216",
   "metadata": {},
   "source": [
    "## Getting Started with Tests\n",
    "\n",
    "To use these test notebooks effectively:\n",
    "\n",
    "1. Ensure you have valid API credentials in your environment variables or `.env` file\n",
    "2. Run each cell in sequence to systematically test functionality\n",
    "3. Pay attention to any errors or unexpected behavior\n",
    "4. Refer to the troubleshooting section in each notebook if you encounter issues\n",
    "\n",
    "For a comprehensive guide to CellMage, refer to the [main README](../README.ipynb) or the [Getting Started](../01_getting_started.ipynb) notebook."
   ]
  }
 ],
 "metadata": {
  "language_info": {
   "name": "python"
  }
 },
 "nbformat": 4,
 "nbformat_minor": 5
}
