{
 "cells": [
  {
   "cell_type": "markdown",
   "id": "108a1d7b",
   "metadata": {},
   "source": [
    "# 🧙 CellMage Tests Guide ✨\n",
    "\n",
    "This notebook serves as an index to the test notebooks available in this directory. These notebooks are designed to verify CellMage's functionality and demonstrate proper usage patterns.\n",
    "\n",
    "**Date:** April 26, 2025"
   ]
  },
  {
   "cell_type": "markdown",
   "metadata": {},
   "source": [
    "## Available Test Notebooks\n",
    "\n",
    "### 1. [CellMagic Test Notebook](01_cellmagic_test.ipynb)\n",
    "- Verifies all core magic functions work correctly\n",
    "- Tests LLM interactions and configuration features\n",
    "- Demonstrates persona and snippet management\n",
    "- Checks conversation history functionality\n",
    "- Tests ambient mode operation"
   ]
  }
 ],
 "metadata": {
  "language_info": {
   "name": "python"
  }
 },
 "nbformat": 4,
 "nbformat_minor": 5
}
