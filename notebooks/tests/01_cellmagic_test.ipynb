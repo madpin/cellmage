{
 "cells": [
  {
   "cell_type": "markdown",
   "id": "888f38f5",
   "metadata": {},
   "source": [
    "# 🧙 CellMage Magic Functions Test Notebook ✨\n",
    "\n",
    "This notebook is designed to verify the functionality of CellMage's magic commands and features. Use it to test if your installation is working correctly.\n",
    "\n",
    "**Date:** April 26, 2025\n",
    "\n",
    "## Overview\n",
    "\n",
    "CellMage provides IPython magic commands that allow you to interact with Large Language Models directly in Jupyter notebooks. This notebook tests all the major features to ensure they're working as expected."
   ]
  },
  {
   "cell_type": "markdown",
   "id": "bc69e00c",
   "metadata": {},
   "source": [
    "## 1. Loading the Extension\n",
    "\n",
    "First, let's verify that the CellMage extension loads properly."
   ]
  },
  {
   "cell_type": "code",
   "execution_count": 1,
   "id": "d5c35fd1",
   "metadata": {},
   "outputs": [
    {
     "name": "stdout",
     "output_type": "stream",
     "text": [
      "✅ NotebookLLM Magics loaded. Use %llm_config and %%llm.\n",
      "   For ambient mode, try %llm_config_persistent to process all cells as LLM prompts.\n"
     ]
    }
   ],
   "source": [
    "%load_ext cellmage"
   ]
  },
  {
   "cell_type": "code",
   "execution_count": 32,
   "id": "24ed3f79",
   "metadata": {},
   "outputs": [
    {
     "name": "stdout",
     "output_type": "stream",
     "text": [
      "\n",
      "CellMage version: 0.1.0\n"
     ]
    }
   ],
   "source": [
    "# Verify the installed version\n",
    "import cellmage\n",
    "\n",
    "print(f\"\\nCellMage version: {cellmage.__version__}\")\n",
    "\n",
    "my_name = \"Thiago\""
   ]
  },
  {
   "cell_type": "markdown",
   "id": "150bc60f",
   "metadata": {},
   "source": [
    "## 2. Configuring CellMage with `%llm_config`\n",
    "\n",
    "Let's test the `%llm_config` command which configures CellMage's behavior. This command allows you to:\n",
    "- Check the current status\n",
    "- Set the default model\n",
    "- List available personas\n",
    "- Configure API credentials\n",
    "- Manage conversation history"
   ]
  },
  {
   "cell_type": "code",
   "execution_count": 3,
   "id": "d14aa928",
   "metadata": {},
   "outputs": [
    {
     "name": "stdout",
     "output_type": "stream",
     "text": [
      "--- NotebookLLM Status ---\n",
      "Session ID: cc39f822-15ce-48fb-959f-fe72187492b3\n",
      "None\n",
      "Active Overrides: {'api_key': 'sk-L...mA', 'api_base': 'https://litellm.oracle.madpin.dev', 'model': 'gpt-4.1-nano'}\n",
      "History Length: 0 messages\n",
      "--------------------------\n",
      "✅ Default model set to: gpt-4.1-mini\n",
      "Available Personas: 'creative_writer'\n"
     ]
    }
   ],
   "source": [
    "# Test status functionality\n",
    "%llm_config --status\n",
    "\n",
    "# Test setting the default model\n",
    "%llm_config --model gpt-4.1-mini\n",
    "\n",
    "# Test listing personas\n",
    "%llm_config --list-personas"
   ]
  },
  {
   "cell_type": "markdown",
   "id": "71492569",
   "metadata": {},
   "source": [
    "### API Credentials Test\n",
    "\n",
    "CellMage should be using API credentials from your environment variables or `.env` file. You can verify they're being recognized by checking the status.\n",
    "\n",
    "If needed, you can set API credentials directly (but we don't recommend this for security reasons):\n",
    "\n",
    "```python\n",
    "%llm_config --api_key \"your-api-key\" --api_base \"https://api.example.com/v1\"\n",
    "```\n",
    "\n",
    "⚠️ **Security Warning**: Never commit notebooks with API keys to version control!"
   ]
  },
  {
   "cell_type": "markdown",
   "id": "02578cda",
   "metadata": {},
   "source": [
    "## 3. Testing the `%%llm` Cell Magic\n",
    "\n",
    "Now let's test the `%%llm` cell magic, which sends the cell content as a prompt to the LLM."
   ]
  },
  {
   "cell_type": "code",
   "execution_count": 4,
   "id": "2f040f35",
   "metadata": {},
   "outputs": [
    {
     "data": {
      "text/markdown": [
       "A Jupyter notebook is an interactive, web-based tool that allows you to write and run code in small chunks called cells. Instead of writing a whole program at once, you can write a few lines of code, execute them, and immediately see the results. This makes it very useful for data science, where you often want to explore data, test different approaches, and visualize results step-by-step. The notebook supports many programming languages, but it is most commonly used with Python.\n",
       "\n",
       "Besides running code, Jupyter notebooks let you add formatted text, images, and equations alongside your code using Markdown. This feature makes it easy to document your analysis, explain your thought process, and share your findings with others in a clear and organized way. Because of its flexibility and ease of use, Jupyter notebooks have become a popular tool for learning, collaborating, and conducting data science projects."
      ],
      "text/plain": [
       "<IPython.core.display.Markdown object>"
      ]
     },
     "metadata": {},
     "output_type": "display_data"
    },
    {
     "data": {
      "text/html": [
       "\n",
       "        <div style=\"background-color: #f1f8e9; border: 1px solid #c5e1a5; color: #33691e;\n",
       "                    padding: 3px 6px; margin-top: 4px; border-radius: 3px; font-family: monospace; \n",
       "                    font-size: 0.75em; line-height: 1.2; display: inline-block; opacity: 0.85;\">\n",
       "            ✓ gpt-4.1-mini • 4.23s • 22↓/229↑ tokens\n",
       "        </div>\n",
       "        "
      ],
      "text/plain": [
       "<IPython.core.display.HTML object>"
      ]
     },
     "metadata": {},
     "output_type": "display_data"
    }
   ],
   "source": [
    "%%llm \n",
    "Explain the concept of a Jupyter notebook to someone new to data science in 2-3 paragraphs."
   ]
  },
  {
   "cell_type": "markdown",
   "id": "d3de8731",
   "metadata": {},
   "source": [
    "### Testing Options with `%%llm`\n",
    "\n",
    "Let's verify that command-line options work with the `%%llm` magic. Here we'll test custom model and temperature settings:"
   ]
  },
  {
   "cell_type": "code",
   "execution_count": 5,
   "id": "3d83f019",
   "metadata": {},
   "outputs": [
    {
     "data": {
      "text/markdown": [
       "Code flows like a stream,  \n",
       "Indentation shapes the path,  \n",
       "Python’s poem runs."
      ],
      "text/plain": [
       "<IPython.core.display.Markdown object>"
      ]
     },
     "metadata": {},
     "output_type": "display_data"
    },
    {
     "data": {
      "text/html": [
       "\n",
       "        <div style=\"background-color: #f1f8e9; border: 1px solid #c5e1a5; color: #33691e;\n",
       "                    padding: 3px 6px; margin-top: 4px; border-radius: 3px; font-family: monospace; \n",
       "                    font-size: 0.75em; line-height: 1.2; display: inline-block; opacity: 0.85;\">\n",
       "            ✓ gpt-4.1 • 0.80s • 262↓/19↑ tokens\n",
       "        </div>\n",
       "        "
      ],
      "text/plain": [
       "<IPython.core.display.HTML object>"
      ]
     },
     "metadata": {},
     "output_type": "display_data"
    }
   ],
   "source": [
    "%%llm --model gpt-4.1 --temperature 1.5\n",
    "Write a haiku about programming in Python."
   ]
  },
  {
   "cell_type": "markdown",
   "id": "990df82c",
   "metadata": {},
   "source": [
    "### Testing Error Handling\n",
    "\n",
    "Let's verify that CellMage handles errors gracefully. Note: This will raise an intentional error to test error handling."
   ]
  },
  {
   "cell_type": "code",
   "execution_count": 6,
   "id": "1b16a308",
   "metadata": {},
   "outputs": [],
   "source": [
    "# Uncomment to test error handling\n",
    "# raise ValueError(\"This is a test error to check error handling.\")"
   ]
  },
  {
   "cell_type": "markdown",
   "id": "67a5a05c",
   "metadata": {},
   "source": [
    "## 4. Testing Persona Functionality\n",
    "\n",
    "Let's test switching between different personas. Personas include system prompts and parameter settings to shape the LLM's behavior."
   ]
  },
  {
   "cell_type": "code",
   "execution_count": 7,
   "id": "01e95b4e",
   "metadata": {},
   "outputs": [
    {
     "data": {
      "text/markdown": [
       "In Python, decorators are a way to modify or enhance the behavior of a function without changing its actual code. Essentially, a decorator is a function that takes another function as an argument, adds some functionality to it, and returns a new function with the added behavior. This is useful for adding things like logging, timing, or access control to functions in a clean and reusable way.\n",
       "\n",
       "Here's a simple example to illustrate how decorators work:\n",
       "\n",
       "```python\n",
       "# Define a decorator function\n",
       "def say_hello_decorator(func):\n",
       "    def wrapper():\n",
       "        print(\"Hello!\")\n",
       "        func()  # Call the original function\n",
       "    return wrapper\n",
       "\n",
       "# Use the decorator on a function\n",
       "@say_hello_decorator\n",
       "def greet():\n",
       "    print(\"Welcome to Python.\")\n",
       "\n",
       "# Call the decorated function\n",
       "greet()\n",
       "```\n",
       "\n",
       "When you run this code, the output will be:\n",
       "\n",
       "```\n",
       "Hello!\n",
       "Welcome to Python.\n",
       "```\n",
       "\n",
       "Here, `say_hello_decorator` takes the `greet` function, wraps it inside another function (`wrapper`) that first prints \"Hello!\" and then calls the original `greet` function. Using the `@say_hello_decorator` syntax automatically applies the decorator, so calling `greet()` actually runs the wrapper code with the additional behavior."
      ],
      "text/plain": [
       "<IPython.core.display.Markdown object>"
      ]
     },
     "metadata": {},
     "output_type": "display_data"
    },
    {
     "data": {
      "text/html": [
       "\n",
       "        <div style=\"background-color: #f1f8e9; border: 1px solid #c5e1a5; color: #33691e;\n",
       "                    padding: 3px 6px; margin-top: 4px; border-radius: 3px; font-family: monospace; \n",
       "                    font-size: 0.75em; line-height: 1.2; display: inline-block; opacity: 0.85;\">\n",
       "            ✓ gpt-4.1-mini • 3.50s • 297↓/297↑ tokens\n",
       "        </div>\n",
       "        "
      ],
      "text/plain": [
       "<IPython.core.display.HTML object>"
      ]
     },
     "metadata": {},
     "output_type": "display_data"
    }
   ],
   "source": [
    "%%llm --persona python_expert\n",
    "Explain how decorators work in Python with a simple example."
   ]
  },
  {
   "cell_type": "code",
   "execution_count": 8,
   "id": "8d97839d",
   "metadata": {},
   "outputs": [
    {
     "name": "stdout",
     "output_type": "stream",
     "text": [
      "✅ Persona activated: 'creative_writer'\n",
      "Active Persona: 'creative_writer'\n",
      "  System Prompt: Use simple language: Write plainly with short sentences.\n",
      "\n",
      "Example: \"I need help with this issue.\"\n",
      "\n",
      "A...\n",
      "  LLM Params: {'name': 'creative_writer'}\n"
     ]
    }
   ],
   "source": [
    "# Test setting a default persona\n",
    "%llm_config --persona creative_writer\n",
    "%llm_config --show-persona"
   ]
  },
  {
   "cell_type": "code",
   "execution_count": 9,
   "id": "a652756c",
   "metadata": {},
   "outputs": [
    {
     "data": {
      "text/markdown": [
       "Machines that learn and see,  \n",
       "Thinking minds made by code,  \n",
       "Helping us every day."
      ],
      "text/plain": [
       "<IPython.core.display.Markdown object>"
      ]
     },
     "metadata": {},
     "output_type": "display_data"
    },
    {
     "data": {
      "text/html": [
       "\n",
       "        <div style=\"background-color: #f1f8e9; border: 1px solid #c5e1a5; color: #33691e;\n",
       "                    padding: 3px 6px; margin-top: 4px; border-radius: 3px; font-family: monospace; \n",
       "                    font-size: 0.75em; line-height: 1.2; display: inline-block; opacity: 0.85;\">\n",
       "            ✓ gpt-4.1-mini • 1.13s • 895↓/20↑ tokens\n",
       "        </div>\n",
       "        "
      ],
      "text/plain": [
       "<IPython.core.display.HTML object>"
      ]
     },
     "metadata": {},
     "output_type": "display_data"
    }
   ],
   "source": [
    "%%llm\n",
    "Write a short poem about artificial intelligence."
   ]
  },
  {
   "cell_type": "markdown",
   "id": "93190aee",
   "metadata": {},
   "source": [
    "## 5. Testing Conversation History Management\n",
    "\n",
    "Now let's test the conversation history features, which allow you to view, clear, and manage the chat history."
   ]
  },
  {
   "cell_type": "code",
   "execution_count": 10,
   "id": "e1117bf1",
   "metadata": {},
   "outputs": [
    {
     "name": "stdout",
     "output_type": "stream",
     "text": [
      "--- History (9 messages) ---\n",
      "[0] USER: Explain the concept of a Jupyter notebook to someone new to data science in 2-3 paragraphs.\n",
      "    (ID: ...b8219f, Cell: ZQ%3D%3D, Exec: 4)\n",
      "[1] ASSISTANT: A Jupyter notebook is an interactive, web-based tool that allows you to write and run code in small chunks called cells. Instead of writing a whole pr...\n",
      "    (ID: ...e37e4b, Cell: ZQ%3D%3D, Exec: 4)\n",
      "[2] USER: Write a haiku about programming in Python.\n",
      "    (ID: ...963a13, Cell: ZQ%3D%3D, Exec: 5)\n",
      "[3] ASSISTANT: Code flows like a stream,  \n",
      "Indentation shapes the path,  \n",
      "Python’s poem runs.\n",
      "    (ID: ...df4fe0, Cell: ZQ%3D%3D, Exec: 5)\n",
      "[4] USER: Explain how decorators work in Python with a simple example.\n",
      "    (ID: ...7c7280, Cell: ZQ%3D%3D, Exec: 7)\n",
      "[5] ASSISTANT: In Python, decorators are a way to modify or enhance the behavior of a function without changing its actual code. Essentially, a decorator is a functi...\n",
      "    (ID: ...99c5d7, Cell: ZQ%3D%3D, Exec: 7)\n",
      "[6] SYSTEM: Use simple language: Write plainly with short sentences.\n",
      "\n",
      "Example: \"I need help with this issue.\"\n",
      "\n",
      "Avoid AI-giveaway phrases: Don't use clichés like \"...\n",
      "    (ID: ...27c0f4, Cell: ZQ%3D%3D, Exec: 8)\n",
      "[7] USER: Write a short poem about artificial intelligence.\n",
      "    (ID: ...dae640, Cell: ZQ%3D%3D, Exec: 9)\n",
      "[8] ASSISTANT: Machines that learn and see,  \n",
      "Thinking minds made by code,  \n",
      "Helping us every day.\n",
      "    (ID: ...c2efd3, Cell: ZQ%3D%3D, Exec: 9)\n",
      "--------------------------\n"
     ]
    }
   ],
   "source": [
    "# Test showing history\n",
    "%llm_config --show-history"
   ]
  },
  {
   "cell_type": "code",
   "execution_count": 11,
   "id": "987a26be",
   "metadata": {},
   "outputs": [
    {
     "name": "stdout",
     "output_type": "stream",
     "text": [
      "✅ Chat history cleared.\n",
      "--- History (1 messages) ---\n",
      "[0] SYSTEM: Use simple language: Write plainly with short sentences.\n",
      "\n",
      "Example: \"I need help with this issue.\"\n",
      "\n",
      "Avoid AI-giveaway phrases: Don't use clichés like \"...\n",
      "    (ID: ...27c0f4, Cell: ZQ%3D%3D, Exec: 8)\n",
      "--------------------------\n"
     ]
    }
   ],
   "source": [
    "# Test clearing history\n",
    "%llm_config --clear-history\n",
    "\n",
    "# Verify that the history is cleared\n",
    "%llm_config --show-history"
   ]
  },
  {
   "cell_type": "markdown",
   "id": "73ca7367",
   "metadata": {},
   "source": [
    "### Testing Automatic Rollback\n",
    "\n",
    "CellMage has an automatic rollback feature that removes previous interactions from the same cell. Let's test this functionality."
   ]
  },
  {
   "cell_type": "code",
   "execution_count": 12,
   "id": "c4fa6a55",
   "metadata": {},
   "outputs": [
    {
     "data": {
      "text/markdown": [
       "In CellMage, \"automatic rollback\" means the system can undo changes automatically if something goes wrong. For example, if you make a change that causes an error or breaks the system, CellMage will revert to the previous working state without you having to fix it manually. It helps keep things stable and saves time by avoiding manual fixes."
      ],
      "text/plain": [
       "<IPython.core.display.Markdown object>"
      ]
     },
     "metadata": {},
     "output_type": "display_data"
    },
    {
     "data": {
      "text/html": [
       "\n",
       "        <div style=\"background-color: #f1f8e9; border: 1px solid #c5e1a5; color: #33691e;\n",
       "                    padding: 3px 6px; margin-top: 4px; border-radius: 3px; font-family: monospace; \n",
       "                    font-size: 0.75em; line-height: 1.2; display: inline-block; opacity: 0.85;\">\n",
       "            ✓ gpt-4.1-mini • 1.58s • 304↓/85↑ tokens\n",
       "        </div>\n",
       "        "
      ],
      "text/plain": [
       "<IPython.core.display.HTML object>"
      ]
     },
     "metadata": {},
     "output_type": "display_data"
    }
   ],
   "source": [
    "%%llm\n",
    "Explain what 'automatic rollback' means in the context of CellMage."
   ]
  },
  {
   "cell_type": "markdown",
   "id": "39e719b5",
   "metadata": {},
   "source": [
    "To test rollback, run the cell above multiple times and check the history. The previous message from this cell should be removed each time."
   ]
  },
  {
   "cell_type": "code",
   "execution_count": 13,
   "id": "3874762a",
   "metadata": {},
   "outputs": [],
   "source": [
    "# Test rollback triggered by errors\n",
    "# Uncomment to test:\n",
    "# raise ValueError(\"This is a test error to trigger automatic rollback in CellMage.\")"
   ]
  },
  {
   "cell_type": "markdown",
   "id": "2ebe1df1",
   "metadata": {},
   "source": [
    "## 6. Testing Snippet Functionality\n",
    "\n",
    "Snippets allow you to include code or other content as context in your LLM conversations. Let's test creating and using snippets."
   ]
  },
  {
   "cell_type": "code",
   "execution_count": 14,
   "id": "1fcbfe4a",
   "metadata": {},
   "outputs": [],
   "source": [
    "%reload_ext IPython.core.magics.basic"
   ]
  },
  {
   "cell_type": "code",
   "execution_count": 15,
   "id": "01b25ad6",
   "metadata": {},
   "outputs": [
    {
     "name": "stdout",
     "output_type": "stream",
     "text": [
      "Overwriting ./snippets/example_code.md\n"
     ]
    }
   ],
   "source": [
    "%%writefile ./snippets/example_code.md\n",
    "# Create a test snippet file\n",
    "def process_data(data_list):\n",
    "    \"\"\"Process a list of numeric data.\"\"\"\n",
    "    results = []\n",
    "    for item in data_list:\n",
    "        if isinstance(item, (int, float)):\n",
    "            results.append(item * 2)\n",
    "        else:\n",
    "            print(f\"Skipping non-numeric item: {item}\")\n",
    "    return results\n",
    "\n",
    "\n",
    "# Example usage\n",
    "sample_data = [1, 2, \"3\", 4.5, \"text\"]\n",
    "processed = process_data(sample_data)\n",
    "print(f\"Processed data: {processed}\")"
   ]
  },
  {
   "cell_type": "markdown",
   "id": "e780b652",
   "metadata": {},
   "source": [
    "Now let's test the snippet management features:"
   ]
  },
  {
   "cell_type": "code",
   "execution_count": 16,
   "id": "70647b54",
   "metadata": {},
   "outputs": [
    {
     "name": "stdout",
     "output_type": "stream",
     "text": [
      "Available Snippets: 'example_code'\n"
     ]
    }
   ],
   "source": [
    "# Test listing snippets\n",
    "%llm_config --list-snippets"
   ]
  },
  {
   "cell_type": "code",
   "execution_count": 17,
   "id": "17a7919c",
   "metadata": {},
   "outputs": [
    {
     "name": "stdout",
     "output_type": "stream",
     "text": [
      "Error parsing arguments: unrecognized arguments: system\n"
     ]
    }
   ],
   "source": [
    "# Test adding a snippet\n",
    "%llm_config --snippet /tmp/example_code.py system"
   ]
  },
  {
   "cell_type": "code",
   "execution_count": 18,
   "id": "48a11de7",
   "metadata": {},
   "outputs": [
    {
     "data": {
      "text/markdown": [
       "i don't see the code snippet here. can you please share it? then i can help you improve the error handling and make the function stronger."
      ],
      "text/plain": [
       "<IPython.core.display.Markdown object>"
      ]
     },
     "metadata": {},
     "output_type": "display_data"
    },
    {
     "data": {
      "text/html": [
       "\n",
       "        <div style=\"background-color: #f1f8e9; border: 1px solid #c5e1a5; color: #33691e;\n",
       "                    padding: 3px 6px; margin-top: 4px; border-radius: 3px; font-family: monospace; \n",
       "                    font-size: 0.75em; line-height: 1.2; display: inline-block; opacity: 0.85;\">\n",
       "            ✓ gpt-4.1-mini • 1.24s • 419↓/34↑ tokens\n",
       "        </div>\n",
       "        "
      ],
      "text/plain": [
       "<IPython.core.display.HTML object>"
      ]
     },
     "metadata": {},
     "output_type": "display_data"
    }
   ],
   "source": [
    "%%llm --persona python_expert\n",
    "Review the code I provided in the snippet. How could I improve the error handling and make the function more robust?"
   ]
  },
  {
   "cell_type": "code",
   "execution_count": 33,
   "id": "e445a91a",
   "metadata": {},
   "outputs": [
    {
     "name": "stdout",
     "output_type": "stream",
     "text": [
      "Thiago\n"
     ]
    }
   ],
   "source": [
    "%%py\n",
    "print(my_name)\n",
    "var = \"test\""
   ]
  },
  {
   "cell_type": "code",
   "execution_count": 34,
   "id": "b9e63011",
   "metadata": {},
   "outputs": [
    {
     "name": "stdout",
     "output_type": "stream",
     "text": [
      "var\n"
     ]
    }
   ],
   "source": [
    "%%py\n",
    "print(\"var\")"
   ]
  },
  {
   "cell_type": "markdown",
   "id": "3a3c12c7",
   "metadata": {},
   "source": [
    "## 7. Testing Conversation Saving and Loading\n",
    "\n",
    "Let's test the ability to save and load conversations, which allows you to persist conversations across sessions."
   ]
  },
  {
   "cell_type": "code",
   "execution_count": 20,
   "id": "9303f178",
   "metadata": {},
   "outputs": [
    {
     "name": "stdout",
     "output_type": "stream",
     "text": [
      "❌ Unexpected error saving session: 'ChatManager' object has no attribute 'save_session'\n"
     ]
    }
   ],
   "source": [
    "# Test saving a conversation\n",
    "%llm_config --save test_conversation"
   ]
  },
  {
   "cell_type": "code",
   "execution_count": 21,
   "id": "532da41a",
   "metadata": {},
   "outputs": [
    {
     "name": "stdout",
     "output_type": "stream",
     "text": [
      "✅ Chat history cleared.\n"
     ]
    }
   ],
   "source": [
    "# Test clearing history\n",
    "%llm_config --clear-history"
   ]
  },
  {
   "cell_type": "code",
   "execution_count": 22,
   "id": "e73f049d",
   "metadata": {},
   "outputs": [
    {
     "name": "stdout",
     "output_type": "stream",
     "text": [
      "❌ Error listing saved sessions: 'ChatManager' object has no attribute 'list_saved_sessions'\n"
     ]
    }
   ],
   "source": [
    "# Test listing saved sessions\n",
    "%llm_config --list-sessions"
   ]
  },
  {
   "cell_type": "code",
   "execution_count": 23,
   "id": "290836ad",
   "metadata": {},
   "outputs": [
    {
     "name": "stdout",
     "output_type": "stream",
     "text": [
      "❌ Unexpected error loading session 'test_conversation': 'ChatManager' object has no attribute 'load_session'\n",
      "--- History (1 messages) ---\n",
      "[0] SYSTEM: Use simple language: Write plainly with short sentences.\n",
      "\n",
      "Example: \"I need help with this issue.\"\n",
      "\n",
      "Avoid AI-giveaway phrases: Don't use clichés like \"...\n",
      "    (ID: ...27c0f4, Cell: ZQ%3D%3D, Exec: 8)\n",
      "--------------------------\n"
     ]
    }
   ],
   "source": [
    "# Test loading a conversation\n",
    "%llm_config --load test_conversation\n",
    "\n",
    "# Verify the history was loaded\n",
    "%llm_config --show-history"
   ]
  },
  {
   "cell_type": "markdown",
   "id": "1f40607d",
   "metadata": {},
   "source": [
    "## 8. Testing Parameter Overrides\n",
    "\n",
    "Let's test the ability to set and clear parameter overrides, which allow you to customize LLM behavior for specific interactions."
   ]
  },
  {
   "cell_type": "code",
   "execution_count": 24,
   "id": "f651cd8a",
   "metadata": {},
   "outputs": [
    {
     "name": "stdout",
     "output_type": "stream",
     "text": [
      "✅ Override set: temperature = 0.9 (float)\n",
      "Active Overrides: {'api_key': 'sk-L...mA', 'api_base': 'https://litellm.oracle.madpin.dev', 'model': 'gpt-4.1-mini', 'temperature': 0.9}\n"
     ]
    }
   ],
   "source": [
    "# Test setting parameter overrides\n",
    "%llm_config --set-override temperature 0.9\n",
    "\n",
    "# Test showing overrides\n",
    "%llm_config --show-overrides"
   ]
  },
  {
   "cell_type": "code",
   "execution_count": 25,
   "id": "c22af50d",
   "metadata": {},
   "outputs": [
    {
     "data": {
      "text/markdown": [
       "1. ai-powered solar panel optimizer  \n",
       "a system that uses ai to track sunlight, weather, and panel condition. it adjusts angle and performance in real time to boost energy output and reduce maintenance.\n",
       "\n",
       "2. smart energy trading platform  \n",
       "an ai-based marketplace where users with solar or wind units can sell extra power. the ai predicts demand and prices to help sellers get the best deals and buyers find cheap green energy.\n",
       "\n",
       "3. predictive maintenance for wind farms  \n",
       "an ai tool that monitors wind turbines using sensors and weather data. it predicts failures before they happen, allowing timely fixes and less downtime, saving costs and energy waste."
      ],
      "text/plain": [
       "<IPython.core.display.Markdown object>"
      ]
     },
     "metadata": {},
     "output_type": "display_data"
    },
    {
     "data": {
      "text/html": [
       "\n",
       "        <div style=\"background-color: #f1f8e9; border: 1px solid #c5e1a5; color: #33691e;\n",
       "                    padding: 3px 6px; margin-top: 4px; border-radius: 3px; font-family: monospace; \n",
       "                    font-size: 0.75em; line-height: 1.2; display: inline-block; opacity: 0.85;\">\n",
       "            ✓ gpt-4.1-mini • 2.50s • 311↓/163↑ tokens\n",
       "        </div>\n",
       "        "
      ],
      "text/plain": [
       "<IPython.core.display.HTML object>"
      ]
     },
     "metadata": {},
     "output_type": "display_data"
    }
   ],
   "source": [
    "%%llm\n",
    "Generate three creative startup ideas combining artificial intelligence and sustainable energy."
   ]
  },
  {
   "cell_type": "code",
   "execution_count": 26,
   "id": "205edb4f",
   "metadata": {},
   "outputs": [
    {
     "name": "stdout",
     "output_type": "stream",
     "text": [
      "✅ All overrides cleared.\n",
      "Active Overrides: None\n"
     ]
    }
   ],
   "source": [
    "# Test clearing overrides\n",
    "%llm_config --clear-overrides\n",
    "\n",
    "# Verify overrides are cleared\n",
    "%llm_config --show-overrides"
   ]
  },
  {
   "cell_type": "markdown",
   "id": "241d8eb0",
   "metadata": {},
   "source": [
    "## 9. Testing Ambient Mode\n",
    "\n",
    "Finally, let's test ambient mode (\"Ambient Enchantment\"), which treats regular code cells as LLM prompts."
   ]
  },
  {
   "cell_type": "code",
   "execution_count": 27,
   "id": "0801b55d",
   "metadata": {},
   "outputs": [
    {
     "name": "stderr",
     "output_type": "stream",
     "text": [
      "UsageError: Line magic function `%llm_setup_forever` not found.\n"
     ]
    }
   ],
   "source": [
    "# Test enabling ambient mode\n",
    "%llm_setup_forever"
   ]
  },
  {
   "cell_type": "code",
   "execution_count": null,
   "id": "23b7a529",
   "metadata": {},
   "outputs": [],
   "source": [
    "# This should be processed as an LLM prompt\n",
    "What are three best practices for writing clean, maintainable Python code?"
   ]
  },
  {
   "cell_type": "code",
   "execution_count": null,
   "id": "6fd14313",
   "metadata": {},
   "outputs": [],
   "source": [
    "# Test disabling ambient mode\n",
    "%disable_llm_setup_forever"
   ]
  },
  {
   "cell_type": "markdown",
   "id": "4f4e9ceb",
   "metadata": {},
   "source": [
    "## 10. Verification Summary\n",
    "\n",
    "Here's a checklist of the features we've tested:\n",
    "\n",
    "- [x] Loading the extension\n",
    "- [x] Configuration with `%llm_config`\n",
    "- [x] Basic LLM interaction with `%%llm`\n",
    "- [x] Persona switching\n",
    "- [x] Conversation history management\n",
    "- [x] Automatic rollback\n",
    "- [x] Snippet management\n",
    "- [x] Conversation saving and loading\n",
    "- [x] Parameter overrides\n",
    "- [x] Ambient mode\n",
    "\n",
    "If all of the above tests worked correctly, your CellMage installation is fully functional.\n",
    "\n",
    "### Troubleshooting Tips\n",
    "\n",
    "If you encountered any issues during testing, here are some common solutions:\n",
    "\n",
    "1. **Magic commands not found**: Make sure you've loaded the extension with `%load_ext cellmage`\n",
    "2. **API connection errors**: Check your API key and connection settings\n",
    "3. **Missing personas or snippets**: Use `--list-personas` or `--list-snippets` to check available resources\n",
    "4. **Memory errors**: Try clearing history with `--clear-history` to free up memory\n",
    "5. **Import errors**: Verify the CellMage package is correctly installed in your Python path\n",
    "\n",
    "### Performance Tips\n",
    "\n",
    "- Use `--no-stream` for non-interactive tasks to get the full response at once\n",
    "- Keep conversation history concise for faster responses\n",
    "- Choose appropriate models for your task (smaller models for simple tasks, larger models for complex reasoning)"
   ]
  },
  {
   "cell_type": "markdown",
   "id": "493ace29",
   "metadata": {},
   "source": [
    "## Conclusion\n",
    "\n",
    "This test notebook has verified the major functionality of CellMage's magic commands and features. If all tests passed, your installation is working correctly and you're ready to use CellMage in your workflows.\n",
    "\n",
    "For more examples and tutorials, check out:\n",
    "- [Getting Started Guide](../01_getting_started.ipynb)\n",
    "- [Tutorials Directory](../tutorials/00_tutorials_index.ipynb)\n",
    "- [Examples Directory](../examples/00_examples_index.ipynb)\n",
    "\n",
    "Happy conjuring! ✨🧙‍♂️"
   ]
  }
 ],
 "metadata": {
  "kernelspec": {
   "display_name": ".venv",
   "language": "python",
   "name": "python3"
  },
  "language_info": {
   "codemirror_mode": {
    "name": "ipython",
    "version": 3
   },
   "file_extension": ".py",
   "mimetype": "text/x-python",
   "name": "python",
   "nbconvert_exporter": "python",
   "pygments_lexer": "ipython3",
   "version": "3.10.16"
  }
 },
 "nbformat": 4,
 "nbformat_minor": 5
}
