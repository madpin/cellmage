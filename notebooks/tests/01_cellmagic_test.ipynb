{
 "cells": [
  {
   "cell_type": "markdown",
   "id": "888f38f5",
   "metadata": {},
   "source": [
    "# 🧙 CellMage Magic Functions Test Notebook ✨\n",
    "\n",
    "This notebook is designed to verify the functionality of CellMage's magic commands and features. Use it to test if your installation is working correctly.\n",
    "\n",
    "**Date:** April 26, 2025\n",
    "\n",
    "## Overview\n",
    "\n",
    "CellMage provides IPython magic commands that allow you to interact with Large Language Models directly in Jupyter notebooks. This notebook tests all the major features to ensure they're working as expected."
   ]
  },
  {
   "cell_type": "markdown",
   "id": "bc69e00c",
   "metadata": {},
   "source": [
    "## 1. Loading the Extension\n",
    "\n",
    "First, let's verify that the CellMage extension loads properly."
   ]
  },
  {
   "cell_type": "code",
   "execution_count": 1,
   "id": "d5c35fd1",
   "metadata": {},
   "outputs": [
    {
     "name": "stdout",
     "output_type": "stream",
     "text": [
      "✅ NotebookLLM Magics loaded. Use %llm_config and %%llm.\n",
      "   For ambient mode, try %llm_config_persistent to process all cells as LLM prompts.\n"
     ]
    }
   ],
   "source": [
    "%load_ext cellmage"
   ]
  },
  {
   "cell_type": "code",
   "execution_count": 2,
   "id": "24ed3f79",
   "metadata": {},
   "outputs": [
    {
     "name": "stdout",
     "output_type": "stream",
     "text": [
      "\n",
      "CellMage version: 0.1.0\n"
     ]
    }
   ],
   "source": [
    "# Verify the installed version\n",
    "import cellmage\n",
    "\n",
    "print(f\"\\nCellMage version: {cellmage.__version__}\")\n",
    "\n",
    "my_name = \"Thiago\""
   ]
  },
  {
   "cell_type": "markdown",
   "id": "150bc60f",
   "metadata": {},
   "source": [
    "## 2. Configuring CellMage with `%llm_config`\n",
    "\n",
    "Let's test the `%llm_config` command which configures CellMage's behavior. This command allows you to:\n",
    "- Check the current status\n",
    "- Set the default model\n",
    "- List available personas\n",
    "- Configure API credentials\n",
    "- Manage conversation history"
   ]
  },
  {
   "cell_type": "code",
   "execution_count": 3,
   "id": "d14aa928",
   "metadata": {},
   "outputs": [
    {
     "name": "stdout",
     "output_type": "stream",
     "text": [
      "--- NotebookLLM Status ---\n",
      "Session ID: 99487cc5-3453-4bee-88fd-8c3cb985c4dd\n",
      "None\n",
      "Active Overrides: {'api_key': 'sk-L...mA', 'api_base': 'https://litellm.oracle.madpin.dev', 'model': 'gpt-4.1-nano'}\n",
      "History Length: 0 messages\n",
      "--------------------------\n",
      "✅ Default model set to: gpt-4.1-mini\n",
      "Available Personas: 'creative_writer'\n"
     ]
    }
   ],
   "source": [
    "# Test status functionality\n",
    "%llm_config --status\n",
    "\n",
    "# Test setting the default model\n",
    "%llm_config --model gpt-4.1-mini\n",
    "\n",
    "# Test listing personas\n",
    "%llm_config --list-personas"
   ]
  },
  {
   "cell_type": "markdown",
   "id": "71492569",
   "metadata": {},
   "source": [
    "### API Credentials Test\n",
    "\n",
    "CellMage should be using API credentials from your environment variables or `.env` file. You can verify they're being recognized by checking the status.\n",
    "\n",
    "If needed, you can set API credentials directly (but we don't recommend this for security reasons):\n",
    "\n",
    "```python\n",
    "%llm_config --api_key \"your-api-key\" --api_base \"https://api.example.com/v1\"\n",
    "```\n",
    "\n",
    "⚠️ **Security Warning**: Never commit notebooks with API keys to version control!"
   ]
  },
  {
   "cell_type": "markdown",
   "id": "02578cda",
   "metadata": {},
   "source": [
    "## 3. Testing the `%%llm` Cell Magic\n",
    "\n",
    "Now let's test the `%%llm` cell magic, which sends the cell content as a prompt to the LLM."
   ]
  },
  {
   "cell_type": "code",
   "execution_count": 4,
   "id": "2f040f35",
   "metadata": {},
   "outputs": [
    {
     "data": {
      "text/markdown": [
       "A Jupyter notebook is an interactive computing environment that allows you to write and run code in small chunks called “cells,” making it easier to experiment and see results immediately. It’s especially popular in data science because it supports multiple programming languages—Python being the most commonly used—and lets you combine code, text, visualizations, and even mathematical equations all in one place. This means you can document your thought process alongside your data analysis, making your work more understandable and reproducible.\n",
       "\n",
       "For someone new to data science, think of a Jupyter notebook as a digital lab notebook. Instead of writing code in a separate editor and running it in a different program, you can do everything seamlessly in one interface. You can write explanations in plain language using Markdown, run snippets of code to handle data or create graphs, and immediately see the output below each cell. This step-by-step approach helps you learn and debug more effectively since you can test small parts of your code before building a complete analysis. Overall, Jupyter notebooks make data science projects more interactive, transparent, and accessible."
      ],
      "text/plain": [
       "<IPython.core.display.Markdown object>"
      ]
     },
     "metadata": {},
     "output_type": "display_data"
    },
    {
     "data": {
      "text/html": [
       "\n",
       "        <div style=\"background-color: #f1f8e9; border: 1px solid #c5e1a5; color: #33691e;\n",
       "                    padding: 3px 6px; margin-top: 4px; border-radius: 3px; font-family: monospace; \n",
       "                    font-size: 0.75em; line-height: 1.2; display: inline-block; opacity: 0.85;\">\n",
       "            ✓ gpt-4.1-mini • 3.67s • 22↓/296↑ tokens\n",
       "        </div>\n",
       "        "
      ],
      "text/plain": [
       "<IPython.core.display.HTML object>"
      ]
     },
     "metadata": {},
     "output_type": "display_data"
    }
   ],
   "source": [
    "%%llm \n",
    "Explain the concept of a Jupyter notebook to someone new to data science in 2-3 paragraphs."
   ]
  },
  {
   "cell_type": "markdown",
   "id": "d3de8731",
   "metadata": {},
   "source": [
    "### Testing Options with `%%llm`\n",
    "\n",
    "Let's verify that command-line options work with the `%%llm` magic. Here we'll test custom model and temperature settings:"
   ]
  },
  {
   "cell_type": "code",
   "execution_count": 5,
   "id": "3d83f019",
   "metadata": {},
   "outputs": [
    {
     "data": {
      "text/markdown": [
       "Winding snake through lines  \n",
       "Silent code shapes the future  \n",
       "Logic flows with ease"
      ],
      "text/plain": [
       "<IPython.core.display.Markdown object>"
      ]
     },
     "metadata": {},
     "output_type": "display_data"
    },
    {
     "data": {
      "text/html": [
       "\n",
       "        <div style=\"background-color: #f1f8e9; border: 1px solid #c5e1a5; color: #33691e;\n",
       "                    padding: 3px 6px; margin-top: 4px; border-radius: 3px; font-family: monospace; \n",
       "                    font-size: 0.75em; line-height: 1.2; display: inline-block; opacity: 0.85;\">\n",
       "            ✓ gpt-4.1 • 0.73s • 330↓/20↑ tokens\n",
       "        </div>\n",
       "        "
      ],
      "text/plain": [
       "<IPython.core.display.HTML object>"
      ]
     },
     "metadata": {},
     "output_type": "display_data"
    }
   ],
   "source": [
    "%%llm --model gpt-4.1 --temperature 1.5\n",
    "Write a haiku about programming in Python."
   ]
  },
  {
   "cell_type": "markdown",
   "id": "990df82c",
   "metadata": {},
   "source": [
    "### Testing Error Handling\n",
    "\n",
    "Let's verify that CellMage handles errors gracefully. Note: This will raise an intentional error to test error handling."
   ]
  },
  {
   "cell_type": "code",
   "execution_count": 6,
   "id": "1b16a308",
   "metadata": {},
   "outputs": [],
   "source": [
    "# Uncomment to test error handling\n",
    "# raise ValueError(\"This is a test error to check error handling.\")"
   ]
  },
  {
   "cell_type": "markdown",
   "id": "67a5a05c",
   "metadata": {},
   "source": [
    "## 4. Testing Persona Functionality\n",
    "\n",
    "Let's test switching between different personas. Personas include system prompts and parameter settings to shape the LLM's behavior."
   ]
  },
  {
   "cell_type": "code",
   "execution_count": 7,
   "id": "01e95b4e",
   "metadata": {},
   "outputs": [
    {
     "data": {
      "text/markdown": [
       "In Python, decorators are a way to modify or enhance the behavior of functions or methods without changing their actual code. Think of a decorator as a wrapper: it takes an existing function, adds some functionality before or after it runs, and then returns the modified function. This is useful for tasks like logging, timing, access control, or debugging.\n",
       "\n",
       "A simple example will help make this clearer. Suppose you want to create a decorator that prints a message before and after a function runs:\n",
       "\n",
       "```python\n",
       "def my_decorator(func):\n",
       "    def wrapper():\n",
       "        print(\"Before the function runs\")\n",
       "        func()\n",
       "        print(\"After the function runs\")\n",
       "    return wrapper\n",
       "\n",
       "@my_decorator\n",
       "def say_hello():\n",
       "    print(\"Hello!\")\n",
       "\n",
       "say_hello()\n",
       "```\n",
       "\n",
       "Here’s what happens: `@my_decorator` means that `say_hello` is passed to `my_decorator`, which returns the `wrapper` function that adds printing around the original `say_hello` function. When you call `say_hello()`, it actually calls `wrapper()`, producing this output:\n",
       "\n",
       "```\n",
       "Before the function runs\n",
       "Hello!\n",
       "After the function runs\n",
       "```\n",
       "\n",
       "This way, decorators let you extend or modify behavior cleanly and reuse that enhancement across multiple functions."
      ],
      "text/plain": [
       "<IPython.core.display.Markdown object>"
      ]
     },
     "metadata": {},
     "output_type": "display_data"
    },
    {
     "data": {
      "text/html": [
       "\n",
       "        <div style=\"background-color: #f1f8e9; border: 1px solid #c5e1a5; color: #33691e;\n",
       "                    padding: 3px 6px; margin-top: 4px; border-radius: 3px; font-family: monospace; \n",
       "                    font-size: 0.75em; line-height: 1.2; display: inline-block; opacity: 0.85;\">\n",
       "            ✓ gpt-4.1-mini • 5.93s • 366↓/298↑ tokens\n",
       "        </div>\n",
       "        "
      ],
      "text/plain": [
       "<IPython.core.display.HTML object>"
      ]
     },
     "metadata": {},
     "output_type": "display_data"
    }
   ],
   "source": [
    "%%llm --persona python_expert\n",
    "Explain how decorators work in Python with a simple example."
   ]
  },
  {
   "cell_type": "code",
   "execution_count": 8,
   "id": "8d97839d",
   "metadata": {},
   "outputs": [
    {
     "name": "stdout",
     "output_type": "stream",
     "text": [
      "✅ Persona activated: 'creative_writer'\n",
      "Active Persona: 'creative_writer'\n",
      "  System Prompt: Use simple language: Write plainly with short sentences.\n",
      "\n",
      "Example: \"I need help with this issue.\"\n",
      "\n",
      "A...\n",
      "  LLM Params: {'name': 'creative_writer'}\n"
     ]
    }
   ],
   "source": [
    "# Test setting a default persona\n",
    "%llm_config --persona creative_writer\n",
    "%llm_config --show-persona"
   ]
  },
  {
   "cell_type": "code",
   "execution_count": 9,
   "id": "a652756c",
   "metadata": {},
   "outputs": [
    {
     "data": {
      "text/markdown": [
       "Machines that learn and see,  \n",
       "Patterns hidden, mystery,  \n",
       "Thoughts made out of code."
      ],
      "text/plain": [
       "<IPython.core.display.Markdown object>"
      ]
     },
     "metadata": {},
     "output_type": "display_data"
    },
    {
     "data": {
      "text/html": [
       "\n",
       "        <div style=\"background-color: #f1f8e9; border: 1px solid #c5e1a5; color: #33691e;\n",
       "                    padding: 3px 6px; margin-top: 4px; border-radius: 3px; font-family: monospace; \n",
       "                    font-size: 0.75em; line-height: 1.2; display: inline-block; opacity: 0.85;\">\n",
       "            ✓ gpt-4.1-mini • 1.38s • 965↓/21↑ tokens\n",
       "        </div>\n",
       "        "
      ],
      "text/plain": [
       "<IPython.core.display.HTML object>"
      ]
     },
     "metadata": {},
     "output_type": "display_data"
    }
   ],
   "source": [
    "%%llm\n",
    "Write a short poem about artificial intelligence."
   ]
  },
  {
   "cell_type": "markdown",
   "id": "93190aee",
   "metadata": {},
   "source": [
    "## 5. Testing Conversation History Management\n",
    "\n",
    "Now let's test the conversation history features, which allow you to view, clear, and manage the chat history."
   ]
  },
  {
   "cell_type": "code",
   "execution_count": 10,
   "id": "e1117bf1",
   "metadata": {},
   "outputs": [
    {
     "name": "stdout",
     "output_type": "stream",
     "text": [
      "--- History (9 messages) ---\n",
      "[0] USER: Explain the concept of a Jupyter notebook to someone new to data science in 2-3 paragraphs.\n",
      "    (ID: ...0359c3, Cell: ZQ%3D%3D, Exec: 4)\n",
      "[1] ASSISTANT: A Jupyter notebook is an interactive computing environment that allows you to write and run code in small chunks called “cells,” making it easier to e...\n",
      "    (ID: ...ee6c34, Cell: ZQ%3D%3D, Exec: 4)\n",
      "[2] USER: Write a haiku about programming in Python.\n",
      "    (ID: ...b98874, Cell: ZQ%3D%3D, Exec: 5)\n",
      "[3] ASSISTANT: Winding snake through lines  \n",
      "Silent code shapes the future  \n",
      "Logic flows with ease\n",
      "    (ID: ...e79587, Cell: ZQ%3D%3D, Exec: 5)\n",
      "[4] USER: Explain how decorators work in Python with a simple example.\n",
      "    (ID: ...52f76c, Cell: ZQ%3D%3D, Exec: 7)\n",
      "[5] ASSISTANT: In Python, decorators are a way to modify or enhance the behavior of functions or methods without changing their actual code. Think of a decorator as ...\n",
      "    (ID: ...ad0b3d, Cell: ZQ%3D%3D, Exec: 7)\n",
      "[6] SYSTEM: Use simple language: Write plainly with short sentences.\n",
      "\n",
      "Example: \"I need help with this issue.\"\n",
      "\n",
      "Avoid AI-giveaway phrases: Don't use clichés like \"...\n",
      "    (ID: ...e7ad89, Cell: ZQ%3D%3D, Exec: 8)\n",
      "[7] USER: Write a short poem about artificial intelligence.\n",
      "    (ID: ...d92b35, Cell: ZQ%3D%3D, Exec: 9)\n",
      "[8] ASSISTANT: Machines that learn and see,  \n",
      "Patterns hidden, mystery,  \n",
      "Thoughts made out of code.\n",
      "    (ID: ...e0c709, Cell: ZQ%3D%3D, Exec: 9)\n",
      "--------------------------\n"
     ]
    }
   ],
   "source": [
    "# Test showing history\n",
    "%llm_config --show-history"
   ]
  },
  {
   "cell_type": "code",
   "execution_count": 11,
   "id": "987a26be",
   "metadata": {},
   "outputs": [
    {
     "name": "stdout",
     "output_type": "stream",
     "text": [
      "✅ Chat history cleared.\n",
      "--- History (1 messages) ---\n",
      "[0] SYSTEM: Use simple language: Write plainly with short sentences.\n",
      "\n",
      "Example: \"I need help with this issue.\"\n",
      "\n",
      "Avoid AI-giveaway phrases: Don't use clichés like \"...\n",
      "    (ID: ...e7ad89, Cell: ZQ%3D%3D, Exec: 8)\n",
      "--------------------------\n"
     ]
    }
   ],
   "source": [
    "# Test clearing history\n",
    "%llm_config --clear-history\n",
    "\n",
    "# Verify that the history is cleared\n",
    "%llm_config --show-history"
   ]
  },
  {
   "cell_type": "markdown",
   "id": "73ca7367",
   "metadata": {},
   "source": [
    "### Testing Automatic Rollback\n",
    "\n",
    "CellMage has an automatic rollback feature that removes previous interactions from the same cell. Let's test this functionality."
   ]
  },
  {
   "cell_type": "code",
   "execution_count": 12,
   "id": "c4fa6a55",
   "metadata": {},
   "outputs": [
    {
     "data": {
      "text/markdown": [
       "In CellMage, \"automatic rollback\" means the system can undo changes on its own if something goes wrong. For example, if an error happens during a process, CellMage will revert the data or actions back to the way they were before the change. This helps keep the system safe and consistent without needing manual fixes."
      ],
      "text/plain": [
       "<IPython.core.display.Markdown object>"
      ]
     },
     "metadata": {},
     "output_type": "display_data"
    },
    {
     "data": {
      "text/html": [
       "\n",
       "        <div style=\"background-color: #f1f8e9; border: 1px solid #c5e1a5; color: #33691e;\n",
       "                    padding: 3px 6px; margin-top: 4px; border-radius: 3px; font-family: monospace; \n",
       "                    font-size: 0.75em; line-height: 1.2; display: inline-block; opacity: 0.85;\">\n",
       "            ✓ gpt-4.1-mini • 1.98s • 304↓/79↑ tokens\n",
       "        </div>\n",
       "        "
      ],
      "text/plain": [
       "<IPython.core.display.HTML object>"
      ]
     },
     "metadata": {},
     "output_type": "display_data"
    }
   ],
   "source": [
    "%%llm\n",
    "Explain what 'automatic rollback' means in the context of CellMage."
   ]
  },
  {
   "cell_type": "markdown",
   "id": "39e719b5",
   "metadata": {},
   "source": [
    "To test rollback, run the cell above multiple times and check the history. The previous message from this cell should be removed each time."
   ]
  },
  {
   "cell_type": "code",
   "execution_count": 13,
   "id": "3874762a",
   "metadata": {},
   "outputs": [],
   "source": [
    "# Test rollback triggered by errors\n",
    "# Uncomment to test:\n",
    "# raise ValueError(\"This is a test error to trigger automatic rollback in CellMage.\")"
   ]
  },
  {
   "cell_type": "markdown",
   "id": "2ebe1df1",
   "metadata": {},
   "source": [
    "## 6. Testing Snippet Functionality\n",
    "\n",
    "Snippets allow you to include code or other content as context in your LLM conversations. Let's test creating and using snippets."
   ]
  },
  {
   "cell_type": "code",
   "execution_count": 14,
   "id": "1fcbfe4a",
   "metadata": {},
   "outputs": [],
   "source": [
    "%reload_ext IPython.core.magics.basic"
   ]
  },
  {
   "cell_type": "code",
   "execution_count": 15,
   "id": "01b25ad6",
   "metadata": {},
   "outputs": [
    {
     "name": "stdout",
     "output_type": "stream",
     "text": [
      "Overwriting ./snippets/example_code.md\n"
     ]
    }
   ],
   "source": [
    "%%writefile ./snippets/example_code.md\n",
    "\n",
    "\n",
    "# Create a test snippet file\n",
    "def process_data(data_list):\n",
    "    \"\"\"Process a list of numeric data.\"\"\"\n",
    "    results = []\n",
    "    for item in data_list:\n",
    "        if isinstance(item, (int, float)):\n",
    "            results.append(item * 2)\n",
    "        else:\n",
    "            print(f\"Skipping non-numeric item: {item}\")\n",
    "    return results\n",
    "\n",
    "\n",
    "# Example usage\n",
    "sample_data = [1, 2, \"3\", 4.5, \"text\"]\n",
    "processed = process_data(sample_data)\n",
    "print(f\"Processed data: {processed}\")"
   ]
  },
  {
   "cell_type": "markdown",
   "id": "e780b652",
   "metadata": {},
   "source": [
    "Now let's test the snippet management features:"
   ]
  },
  {
   "cell_type": "code",
   "execution_count": 16,
   "id": "70647b54",
   "metadata": {},
   "outputs": [
    {
     "name": "stdout",
     "output_type": "stream",
     "text": [
      "Available Snippets: 'example_code'\n"
     ]
    }
   ],
   "source": [
    "# Test listing snippets\n",
    "%llm_config --list-snippets"
   ]
  },
  {
   "cell_type": "code",
   "execution_count": 17,
   "id": "17a7919c",
   "metadata": {},
   "outputs": [
    {
     "name": "stdout",
     "output_type": "stream",
     "text": [
      "Error parsing arguments: unrecognized arguments: system\n"
     ]
    }
   ],
   "source": [
    "# Test adding a snippet\n",
    "%llm_config --snippet /tmp/example_code.py system"
   ]
  },
  {
   "cell_type": "code",
   "execution_count": 18,
   "id": "48a11de7",
   "metadata": {},
   "outputs": [
    {
     "data": {
      "text/markdown": [
       "I don’t see your code snippet. Could you please share it? Then I can help with improving the error handling."
      ],
      "text/plain": [
       "<IPython.core.display.Markdown object>"
      ]
     },
     "metadata": {},
     "output_type": "display_data"
    },
    {
     "data": {
      "text/html": [
       "\n",
       "        <div style=\"background-color: #f1f8e9; border: 1px solid #c5e1a5; color: #33691e;\n",
       "                    padding: 3px 6px; margin-top: 4px; border-radius: 3px; font-family: monospace; \n",
       "                    font-size: 0.75em; line-height: 1.2; display: inline-block; opacity: 0.85;\">\n",
       "            ✓ gpt-4.1-mini • 3.30s • 413↓/27↑ tokens\n",
       "        </div>\n",
       "        "
      ],
      "text/plain": [
       "<IPython.core.display.HTML object>"
      ]
     },
     "metadata": {},
     "output_type": "display_data"
    }
   ],
   "source": [
    "%%llm --persona python_expert\n",
    "Review the code I provided in the snippet. How could I improve the error handling and make the function more robust?"
   ]
  },
  {
   "cell_type": "code",
   "execution_count": 19,
   "id": "e445a91a",
   "metadata": {},
   "outputs": [
    {
     "name": "stdout",
     "output_type": "stream",
     "text": [
      "Thiago\n"
     ]
    }
   ],
   "source": [
    "%%py\n",
    "print(my_name)\n",
    "var = \"test\""
   ]
  },
  {
   "cell_type": "code",
   "execution_count": 20,
   "id": "b9e63011",
   "metadata": {},
   "outputs": [
    {
     "name": "stdout",
     "output_type": "stream",
     "text": [
      "var\n"
     ]
    }
   ],
   "source": [
    "%%py\n",
    "print(\"var\")"
   ]
  },
  {
   "cell_type": "markdown",
   "id": "3a3c12c7",
   "metadata": {},
   "source": [
    "## 7. Testing Conversation Saving and Loading\n",
    "\n",
    "Let's test the ability to save and load conversations, which allows you to persist conversations across sessions."
   ]
  },
  {
   "cell_type": "code",
   "execution_count": 21,
   "id": "9303f178",
   "metadata": {},
   "outputs": [
    {
     "name": "stdout",
     "output_type": "stream",
     "text": [
      "❌ Unexpected error saving session: 'ChatManager' object has no attribute 'save_session'\n"
     ]
    }
   ],
   "source": [
    "# Test saving a conversation\n",
    "%llm_config --save test_conversation"
   ]
  },
  {
   "cell_type": "code",
   "execution_count": 22,
   "id": "532da41a",
   "metadata": {},
   "outputs": [
    {
     "name": "stdout",
     "output_type": "stream",
     "text": [
      "✅ Chat history cleared.\n"
     ]
    }
   ],
   "source": [
    "# Test clearing history\n",
    "%llm_config --clear-history"
   ]
  },
  {
   "cell_type": "code",
   "execution_count": 23,
   "id": "e73f049d",
   "metadata": {},
   "outputs": [
    {
     "name": "stdout",
     "output_type": "stream",
     "text": [
      "❌ Error listing saved sessions: 'ChatManager' object has no attribute 'list_saved_sessions'\n"
     ]
    }
   ],
   "source": [
    "# Test listing saved sessions\n",
    "%llm_config --list-sessions"
   ]
  },
  {
   "cell_type": "code",
   "execution_count": 24,
   "id": "290836ad",
   "metadata": {},
   "outputs": [
    {
     "name": "stdout",
     "output_type": "stream",
     "text": [
      "❌ Unexpected error loading session 'test_conversation': 'ChatManager' object has no attribute 'load_session'\n",
      "--- History (1 messages) ---\n",
      "[0] SYSTEM: Use simple language: Write plainly with short sentences.\n",
      "\n",
      "Example: \"I need help with this issue.\"\n",
      "\n",
      "Avoid AI-giveaway phrases: Don't use clichés like \"...\n",
      "    (ID: ...e7ad89, Cell: ZQ%3D%3D, Exec: 8)\n",
      "--------------------------\n"
     ]
    }
   ],
   "source": [
    "# Test loading a conversation\n",
    "%llm_config --load test_conversation\n",
    "\n",
    "# Verify the history was loaded\n",
    "%llm_config --show-history"
   ]
  },
  {
   "cell_type": "markdown",
   "id": "1f40607d",
   "metadata": {},
   "source": [
    "## 8. Testing Parameter Overrides\n",
    "\n",
    "Let's test the ability to set and clear parameter overrides, which allow you to customize LLM behavior for specific interactions."
   ]
  },
  {
   "cell_type": "code",
   "execution_count": 25,
   "id": "f651cd8a",
   "metadata": {},
   "outputs": [
    {
     "name": "stdout",
     "output_type": "stream",
     "text": [
      "✅ Override set: temperature = 0.9 (float)\n",
      "Active Overrides: {'api_key': 'sk-L...mA', 'api_base': 'https://litellm.oracle.madpin.dev', 'model': 'gpt-4.1-mini', 'temperature': 0.9}\n"
     ]
    }
   ],
   "source": [
    "# Test setting parameter overrides\n",
    "%llm_config --set-override temperature 0.9\n",
    "\n",
    "# Test showing overrides\n",
    "%llm_config --show-overrides"
   ]
  },
  {
   "cell_type": "code",
   "execution_count": 26,
   "id": "c22af50d",
   "metadata": {},
   "outputs": [
    {
     "data": {
      "text/markdown": [
       "1. ai-powered smart grid optimizer: a system that uses ai to balance energy supply and demand in real time. it helps reduce waste by predicting usage patterns and adjusting renewable energy storage and distribution.\n",
       "\n",
       "2. predictive maintenance for solar panels: an ai tool that monitors solar panel health with sensors and predicts failures before they happen. this keeps panels efficient and cuts downtime, boosting clean energy output.\n",
       "\n",
       "3. personalized energy-saving assistant: an ai app that analyzes your home’s energy use and suggests simple changes. it learns your habits and finds ways to save energy with renewables, lowering bills and carbon footprint."
      ],
      "text/plain": [
       "<IPython.core.display.Markdown object>"
      ]
     },
     "metadata": {},
     "output_type": "display_data"
    },
    {
     "data": {
      "text/html": [
       "\n",
       "        <div style=\"background-color: #f1f8e9; border: 1px solid #c5e1a5; color: #33691e;\n",
       "                    padding: 3px 6px; margin-top: 4px; border-radius: 3px; font-family: monospace; \n",
       "                    font-size: 0.75em; line-height: 1.2; display: inline-block; opacity: 0.85;\">\n",
       "            ✓ gpt-4.1-mini • 2.30s • 311↓/165↑ tokens\n",
       "        </div>\n",
       "        "
      ],
      "text/plain": [
       "<IPython.core.display.HTML object>"
      ]
     },
     "metadata": {},
     "output_type": "display_data"
    }
   ],
   "source": [
    "%%llm\n",
    "Generate three creative startup ideas combining artificial intelligence and sustainable energy."
   ]
  },
  {
   "cell_type": "code",
   "execution_count": 27,
   "id": "205edb4f",
   "metadata": {},
   "outputs": [
    {
     "name": "stdout",
     "output_type": "stream",
     "text": [
      "✅ All overrides cleared.\n",
      "Active Overrides: None\n"
     ]
    }
   ],
   "source": [
    "# Test clearing overrides\n",
    "%llm_config --clear-overrides\n",
    "\n",
    "# Verify overrides are cleared\n",
    "%llm_config --show-overrides"
   ]
  },
  {
   "cell_type": "markdown",
   "id": "241d8eb0",
   "metadata": {},
   "source": [
    "## 9. Testing Ambient Mode\n",
    "\n",
    "Finally, let's test ambient mode (\"Ambient Enchantment\"), which treats regular code cells as LLM prompts."
   ]
  },
  {
   "cell_type": "code",
   "execution_count": 28,
   "id": "0801b55d",
   "metadata": {},
   "outputs": [
    {
     "name": "stderr",
     "output_type": "stream",
     "text": [
      "UsageError: Line magic function `%llm_setup_forever` not found.\n"
     ]
    }
   ],
   "source": [
    "# Test enabling ambient mode\n",
    "%llm_setup_forever"
   ]
  },
  {
   "cell_type": "code",
   "execution_count": null,
   "id": "23b7a529",
   "metadata": {},
   "outputs": [],
   "source": [
    "# This should be processed as an LLM prompt\n",
    "What are three best practices for writing clean, maintainable Python code?"
   ]
  },
  {
   "cell_type": "code",
   "execution_count": null,
   "id": "6fd14313",
   "metadata": {},
   "outputs": [],
   "source": [
    "# Test disabling ambient mode\n",
    "%disable_llm_config_persistent"
   ]
  },
  {
   "cell_type": "markdown",
   "id": "4f4e9ceb",
   "metadata": {},
   "source": [
    "## 10. Verification Summary\n",
    "\n",
    "Here's a checklist of the features we've tested:\n",
    "\n",
    "- [x] Loading the extension\n",
    "- [x] Configuration with `%llm_config`\n",
    "- [x] Basic LLM interaction with `%%llm`\n",
    "- [x] Persona switching\n",
    "- [x] Conversation history management\n",
    "- [x] Automatic rollback\n",
    "- [x] Snippet management\n",
    "- [x] Conversation saving and loading\n",
    "- [x] Parameter overrides\n",
    "- [x] Ambient mode\n",
    "\n",
    "If all of the above tests worked correctly, your CellMage installation is fully functional.\n",
    "\n",
    "### Troubleshooting Tips\n",
    "\n",
    "If you encountered any issues during testing, here are some common solutions:\n",
    "\n",
    "1. **Magic commands not found**: Make sure you've loaded the extension with `%load_ext cellmage`\n",
    "2. **API connection errors**: Check your API key and connection settings\n",
    "3. **Missing personas or snippets**: Use `--list-personas` or `--list-snippets` to check available resources\n",
    "4. **Memory errors**: Try clearing history with `--clear-history` to free up memory\n",
    "5. **Import errors**: Verify the CellMage package is correctly installed in your Python path\n",
    "\n",
    "### Performance Tips\n",
    "\n",
    "- Use `--no-stream` for non-interactive tasks to get the full response at once\n",
    "- Keep conversation history concise for faster responses\n",
    "- Choose appropriate models for your task (smaller models for simple tasks, larger models for complex reasoning)"
   ]
  },
  {
   "cell_type": "markdown",
   "id": "493ace29",
   "metadata": {},
   "source": [
    "## Conclusion\n",
    "\n",
    "This test notebook has verified the major functionality of CellMage's magic commands and features. If all tests passed, your installation is working correctly and you're ready to use CellMage in your workflows.\n",
    "\n",
    "For more examples and tutorials, check out:\n",
    "- [Getting Started Guide](../01_getting_started.ipynb)\n",
    "- [Tutorials Directory](../tutorials/00_tutorials_index.ipynb)\n",
    "- [Examples Directory](../examples/00_examples_index.ipynb)\n",
    "\n",
    "Happy conjuring! ✨🧙‍♂️"
   ]
  }
 ],
 "metadata": {
  "kernelspec": {
   "display_name": ".venv",
   "language": "python",
   "name": "python3"
  },
  "language_info": {
   "codemirror_mode": {
    "name": "ipython",
    "version": 3
   },
   "file_extension": ".py",
   "mimetype": "text/x-python",
   "name": "python",
   "nbconvert_exporter": "python",
   "pygments_lexer": "ipython3",
   "version": "3.10.16"
  }
 },
 "nbformat": 4,
 "nbformat_minor": 5
}
