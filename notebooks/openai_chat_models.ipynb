{
 "cells": [
  {
   "cell_type": "markdown",
   "id": "f403c591",
   "metadata": {},
   "source": [
    "# ChatOpenAI\n",
    "\n",
    "This notebook provides a quick overview for getting started with OpenAI chat models. For detailed documentation of all ChatOpenAI features and configurations head to the [API reference](https://python.langchain.com/api_reference/openai/chat_models/langchain_openai.chat_models.base.ChatOpenAI.html).\n",
    "\n",
    "OpenAI has several chat models. You can find information about their latest models and their costs, context windows, and supported input types in the [OpenAI docs](https://platform.openai.com/docs/models).\n",
    "\n",
    "> **Note**: Certain OpenAI models can also be accessed via the [Microsoft Azure platform](https://azure.microsoft.com/en-us/products/ai-services/openai-service). To use the Azure OpenAI service use the [AzureChatOpenAI integration](https://python.langchain.com/docs/integrations/chat/azure_chat_openai/)."
   ]
  },
  {
   "cell_type": "markdown",
   "id": "f6f2c0cd",
   "metadata": {},
   "source": [
    "## Overview\n",
    "\n",
    "### Integration details\n",
    "| Class | Package | Local | Serializable | JS support | Package downloads | Package latest |\n",
    "| :--- | :--- | :---: | :---: |  :---: | :---: | :---: |\n",
    "| [ChatOpenAI](https://python.langchain.com/api_reference/openai/chat_models/langchain_openai.chat_models.base.ChatOpenAI.html) | [langchain-openai](https://python.langchain.com/api_reference/openai/index.html) | ❌ | beta | ✅ | ![PyPI - Downloads](https://img.shields.io/pypi/dm/langchain-openai?style=flat-square&label=%20) | ![PyPI - Version](https://img.shields.io/pypi/v/langchain-openai?style=flat-square&label=%20) |\n",
    "\n",
    "### Model features\n",
    "| Tool calling | Structured output | JSON mode | Image input | Audio input | Video input | Token-level streaming | Native async | Token usage | Logprobs |\n",
    "| :---: | :---: | :---: | :---: |  :---: | :---: | :---: | :---: | :---: | :---: |\n",
    "| ✅ | ✅ | ✅ | ✅ | ✅ | ❌ | ✅ | ✅ | ✅ | ✅ |"
   ]
  },
  {
   "cell_type": "markdown",
   "id": "6fbd24ca",
   "metadata": {},
   "source": [
    "## Setup\n",
    "\n",
    "To access OpenAI models you'll need to create an OpenAI account, get an API key, and install the `langchain-openai` integration package.\n",
    "\n",
    "### Credentials\n",
    "\n",
    "Head to https://platform.openai.com to sign up to OpenAI and generate an API key. Once you've done this set the OPENAI_API_KEY environment variable:"
   ]
  },
  {
   "cell_type": "code",
   "execution_count": 1,
   "id": "b130086d",
   "metadata": {},
   "outputs": [],
   "source": [
    "import getpass\n",
    "import os\n",
    "\n",
    "if not os.environ.get(\"OPENAI_API_KEY\"):\n",
    "    os.environ[\"OPENAI_API_KEY\"] = getpass.getpass(\"Enter your OpenAI API key: \")"
   ]
  },
  {
   "cell_type": "markdown",
   "id": "3445d943",
   "metadata": {},
   "source": [
    "If you want to get automated tracing of your model calls you can also set your [LangSmith](https://docs.smith.langchain.com/) API key by uncommenting below:"
   ]
  },
  {
   "cell_type": "code",
   "execution_count": 2,
   "id": "e0db61ec",
   "metadata": {},
   "outputs": [],
   "source": [
    "# os.environ[\"LANGSMITH_API_KEY\"] = getpass.getpass(\"Enter your LangSmith API key: \")\n",
    "# os.environ[\"LANGSMITH_TRACING\"] = \"true\""
   ]
  },
  {
   "cell_type": "markdown",
   "id": "8fdb69c6",
   "metadata": {},
   "source": [
    "### Installation\n",
    "\n",
    "The LangChain OpenAI integration lives in the `langchain-openai` package:"
   ]
  },
  {
   "cell_type": "code",
   "execution_count": 3,
   "id": "e0163e2a",
   "metadata": {},
   "outputs": [
    {
     "name": "stdout",
     "output_type": "stream",
     "text": [
      "\u001b[33mWARNING: Retrying (Retry(total=4, connect=None, read=None, redirect=None, status=None)) after connection broken by 'NewConnectionError('<pip._vendor.urllib3.connection.HTTPSConnection object at 0x1065dcd90>: Failed to establish a new connection: [Errno 8] nodename nor servname provided, or not known')': /repository/pypi/simple/langchain-openai/\u001b[0m\u001b[33m\n",
      "\u001b[0m^C\n",
      "Note: you may need to restart the kernel to use updated packages.\n"
     ]
    }
   ],
   "source": [
    "%pip install -qU langchain-openai"
   ]
  },
  {
   "cell_type": "markdown",
   "id": "31467c42",
   "metadata": {},
   "source": [
    "## Instantiation\n",
    "\n",
    "Now we can instantiate our model object and generate chat completions:"
   ]
  },
  {
   "cell_type": "code",
   "execution_count": null,
   "id": "e2a9c5ee",
   "metadata": {},
   "outputs": [],
   "source": [
    "from langchain_openai import ChatOpenAI\n",
    "\n",
    "llm = ChatOpenAI(\n",
    "    model=\"gpt-4o\",\n",
    "    temperature=0,\n",
    "    max_tokens=None,\n",
    "    timeout=None,\n",
    "    max_retries=2,\n",
    "    # api_key=\"...\",  # if you prefer to pass api key in directly instead of using env vars\n",
    "    # base_url=\"...\",\n",
    "    # organization=\"...\",\n",
    "    # other params...\n",
    ")"
   ]
  },
  {
   "cell_type": "markdown",
   "id": "c785c443",
   "metadata": {},
   "source": [
    "## Invocation"
   ]
  },
  {
   "cell_type": "code",
   "execution_count": null,
   "id": "de621a1c",
   "metadata": {},
   "outputs": [],
   "source": [
    "messages = [\n",
    "    (\n",
    "        \"system\",\n",
    "        \"You are a helpful assistant that translates English to French. Translate the user sentence.\",\n",
    "    ),\n",
    "    (\"human\", \"I love programming.\"),\n",
    "]\n",
    "ai_msg = llm.invoke(messages)\n",
    "ai_msg"
   ]
  },
  {
   "cell_type": "code",
   "execution_count": null,
   "id": "58d88b5e",
   "metadata": {},
   "outputs": [],
   "source": [
    "print(ai_msg.content)"
   ]
  },
  {
   "cell_type": "markdown",
   "id": "8d686f98",
   "metadata": {},
   "source": [
    "## Chaining\n",
    "\n",
    "We can chain our model with a prompt template like so:"
   ]
  },
  {
   "cell_type": "code",
   "execution_count": null,
   "id": "bdd82fb7",
   "metadata": {},
   "outputs": [],
   "source": [
    "from langchain_core.prompts import ChatPromptTemplate\n",
    "\n",
    "prompt = ChatPromptTemplate.from_messages(\n",
    "    [\n",
    "        (\n",
    "            \"system\",\n",
    "            \"You are a helpful assistant that translates {input_language} to {output_language}.\",\n",
    "        ),\n",
    "        (\"human\", \"{input}\"),\n",
    "    ]\n",
    ")\n",
    "\n",
    "chain = prompt | llm\n",
    "chain.invoke(\n",
    "    {\n",
    "        \"input_language\": \"English\",\n",
    "        \"output_language\": \"German\",\n",
    "        \"input\": \"I love programming.\",\n",
    "    }\n",
    ")"
   ]
  },
  {
   "cell_type": "markdown",
   "id": "a2c9688b",
   "metadata": {},
   "source": [
    "## Tool calling\n",
    "\n",
    "OpenAI has a [tool calling](https://platform.openai.com/docs/guides/function-calling) (we use \"tool calling\" and \"function calling\" interchangeably here) API that lets you describe tools and their arguments, and have the model return a JSON object with a tool to invoke and the inputs to that tool. Tool-calling is extremely useful for building tool-using chains and agents, and for getting structured outputs from models more generally.\n",
    "\n",
    "### ChatOpenAI.bind_tools()\n",
    "\n",
    "With `ChatOpenAI.bind_tools`, we can easily pass in Pydantic classes, dict schemas, LangChain tools, or even functions as tools to the model. Under the hood these are converted to an OpenAI tool schemas, which looks like:\n",
    "```\n",
    "{\n",
    "    \"name\": \"...\",\n",
    "    \"description\": \"...\",\n",
    "    \"parameters\": {...}  # JSONSchema\n",
    "}\n",
    "```\n",
    "and passed in every model invocation."
   ]
  },
  {
   "cell_type": "code",
   "execution_count": null,
   "id": "9f6c54c2",
   "metadata": {},
   "outputs": [],
   "source": [
    "from pydantic import BaseModel, Field\n",
    "\n",
    "\n",
    "class GetWeather(BaseModel):\n",
    "    \"\"\"Get the current weather in a given location\"\"\"\n",
    "\n",
    "    location: str = Field(..., description=\"The city and state, e.g. San Francisco, CA\")\n",
    "\n",
    "\n",
    "llm_with_tools = llm.bind_tools([GetWeather])"
   ]
  },
  {
   "cell_type": "code",
   "execution_count": null,
   "id": "a6213f5b",
   "metadata": {},
   "outputs": [],
   "source": [
    "ai_msg = llm_with_tools.invoke(\n",
    "    \"what is the weather like in San Francisco\",\n",
    ")\n",
    "ai_msg"
   ]
  },
  {
   "cell_type": "markdown",
   "id": "79390d83",
   "metadata": {},
   "source": [
    "### `strict=True`\n",
    "\n",
    "As of Aug 6, 2024, OpenAI supports a `strict` argument when calling tools that will enforce that the tool argument schema is respected by the model. See more here: https://platform.openai.com/docs/guides/function-calling\n",
    "\n",
    "**Note**: If `strict=True` the tool definition will also be validated, and a subset of JSON schema are accepted. Crucially, schema cannot have optional args (those with default values). Read the full docs on what types of schema are supported here: https://platform.openai.com/docs/guides/structured-outputs/supported-schemas."
   ]
  },
  {
   "cell_type": "code",
   "execution_count": null,
   "id": "8096bc9e",
   "metadata": {},
   "outputs": [],
   "source": [
    "llm_with_tools = llm.bind_tools([GetWeather], strict=True)\n",
    "ai_msg = llm_with_tools.invoke(\n",
    "    \"what is the weather like in San Francisco\",\n",
    ")\n",
    "ai_msg"
   ]
  },
  {
   "cell_type": "markdown",
   "id": "88bbd4f0",
   "metadata": {},
   "source": [
    "### AIMessage.tool_calls\n",
    "Notice that the AIMessage has a `tool_calls` attribute. This contains a standardized ToolCall format that is model-provider agnostic."
   ]
  },
  {
   "cell_type": "code",
   "execution_count": null,
   "id": "ccccb107",
   "metadata": {},
   "outputs": [],
   "source": [
    "ai_msg.tool_calls"
   ]
  },
  {
   "cell_type": "markdown",
   "id": "c6217e50",
   "metadata": {},
   "source": [
    "For more on binding tools and tool call outputs, head to the [tool calling](https://python.langchain.com/docs/how_to/tool_calling) docs."
   ]
  },
  {
   "cell_type": "markdown",
   "id": "8b458f5c",
   "metadata": {},
   "source": [
    "## Responses API\n",
    "\n",
    "OpenAI supports a [Responses](https://platform.openai.com/docs/guides/responses-vs-chat-completions) API that is oriented toward building [agentic](https://python.langchain.com/docs/concepts/agents/) applications. It includes a suite of [built-in tools](https://platform.openai.com/docs/guides/tools?api-mode=responses), including web and file search. It also supports management of [conversation state](https://platform.openai.com/docs/guides/conversation-state?api-mode=responses), allowing you to continue a conversational thread without explicitly passing in previous messages, as well as the output from [reasoning processes](https://platform.openai.com/docs/guides/reasoning?api-mode=responses).\n",
    "\n",
    "`ChatOpenAI` will route to the Responses API if one of these features is used. You can also specify `use_responses_api=True` when instantiating `ChatOpenAI`."
   ]
  },
  {
   "cell_type": "markdown",
   "id": "462c0a2e",
   "metadata": {},
   "source": [
    "### Built-in tools\n",
    "\n",
    "Equipping `ChatOpenAI` with built-in tools will ground its responses with outside information, such as via context in files or the web. The [AIMessage](https://python.langchain.com/docs/concepts/messages/#aimessage) generated from the model will include information about the built-in tool invocation."
   ]
  },
  {
   "cell_type": "markdown",
   "id": "9902a10b",
   "metadata": {},
   "source": [
    "#### Web search\n",
    "\n",
    "To trigger a web search, pass `{\"type\": \"web_search_preview\"}` to the model as you would another tool.\n",
    "\n",
    "> **Tip**: You can also pass built-in tools as invocation params: `llm.invoke(\"...\", tools=[{\"type\": \"web_search_preview\"}])`"
   ]
  },
  {
   "cell_type": "code",
   "execution_count": null,
   "id": "3e41d100",
   "metadata": {},
   "outputs": [],
   "source": [
    "from langchain_openai import ChatOpenAI\n",
    "\n",
    "llm = ChatOpenAI(model=\"gpt-4o-mini\")\n",
    "\n",
    "tool = {\"type\": \"web_search_preview\"}\n",
    "llm_with_tools = llm.bind_tools([tool])\n",
    "\n",
    "response = llm_with_tools.invoke(\"What was a positive news story from today?\")"
   ]
  },
  {
   "cell_type": "markdown",
   "id": "f59fe950",
   "metadata": {},
   "source": [
    "Note that the response includes structured [content blocks](https://python.langchain.com/docs/concepts/messages/#content-1) that include both the text of the response and OpenAI [annotations](https://platform.openai.com/docs/guides/tools-web-search?api-mode=responses#output-and-citations) citing its sources:"
   ]
  },
  {
   "cell_type": "code",
   "execution_count": null,
   "id": "e7d825b5",
   "metadata": {},
   "outputs": [],
   "source": [
    "response.content"
   ]
  },
  {
   "cell_type": "markdown",
   "id": "291b5ee0",
   "metadata": {},
   "source": [
    "> **Tip**: You can recover just the text content of the response as a string by using `response.text()`. For example, to stream response text:\n",
    ">\n",
    "> ```python\n",
    "> for token in llm_with_tools.stream(\"...\"):\n",
    ">     print(token.text(), end=\"|\")\n",
    "> ```\n",
    ">\n",
    "> See the [streaming guide](https://python.langchain.com/docs/how_to/chat_streaming/) for more detail."
   ]
  },
  {
   "cell_type": "markdown",
   "id": "5d90177d",
   "metadata": {},
   "source": [
    "The output message will also contain information from any tool invocations:"
   ]
  },
  {
   "cell_type": "code",
   "execution_count": null,
   "id": "134de2f3",
   "metadata": {},
   "outputs": [],
   "source": [
    "response.additional_kwargs"
   ]
  },
  {
   "cell_type": "markdown",
   "id": "0ca19d75",
   "metadata": {},
   "source": [
    "### Managing conversation state\n",
    "\n",
    "The Responses API supports management of [conversation state](https://platform.openai.com/docs/guides/conversation-state?api-mode=responses)."
   ]
  },
  {
   "cell_type": "code",
   "execution_count": null,
   "id": "61eb9359",
   "metadata": {},
   "outputs": [],
   "source": [
    "from langchain_openai import ChatOpenAI\n",
    "\n",
    "llm = ChatOpenAI(model=\"gpt-4o-mini\")\n",
    "\n",
    "tool = {\"type\": \"web_search_preview\"}\n",
    "llm_with_tools = llm.bind_tools([tool])\n",
    "\n",
    "first_query = \"What was a positive news story from today?\"\n",
    "messages = [{\"role\": \"user\", \"content\": first_query}]\n",
    "\n",
    "response = llm_with_tools.invoke(messages)\n",
    "response_text = response.text()\n",
    "print(f\"{response_text[:100]}... {response_text[-100:]}\")"
   ]
  },
  {
   "cell_type": "code",
   "execution_count": null,
   "id": "a6d36e46",
   "metadata": {},
   "outputs": [],
   "source": [
    "second_query = \"Repeat my question back to me, as well as the last sentence of your answer.\"\n",
    "\n",
    "messages.extend(\n",
    "    [\n",
    "        response,\n",
    "        {\"role\": \"user\", \"content\": second_query},\n",
    "    ]\n",
    ")\n",
    "second_response = llm_with_tools.invoke(messages)\n",
    "print(second_response.text())"
   ]
  },
  {
   "cell_type": "markdown",
   "id": "3e0f19ce",
   "metadata": {},
   "source": [
    "#### Passing `previous_response_id`\n",
    "\n",
    "When using the Responses API, LangChain messages will include an `\"id\"` field in its metadata. Passing this ID to subsequent invocations will continue the conversation. Note that this is [equivalent](https://platform.openai.com/docs/guides/conversation-state?api-mode=responses#openai-apis-for-conversation-state) to manually passing in messages from a billing perspective."
   ]
  },
  {
   "cell_type": "code",
   "execution_count": null,
   "id": "52c99979",
   "metadata": {},
   "outputs": [],
   "source": [
    "from langchain_openai import ChatOpenAI\n",
    "\n",
    "llm = ChatOpenAI(\n",
    "    model=\"gpt-4o-mini\",\n",
    "    use_responses_api=True,\n",
    ")\n",
    "response = llm.invoke(\"Hi, I'm Bob.\")\n",
    "print(response.text())"
   ]
  },
  {
   "cell_type": "code",
   "execution_count": null,
   "id": "f8b484ff",
   "metadata": {},
   "outputs": [],
   "source": [
    "second_response = llm.invoke(\n",
    "    \"What is my name?\",\n",
    "    previous_response_id=response.response_metadata[\"id\"],\n",
    ")\n",
    "print(second_response.text())"
   ]
  },
  {
   "cell_type": "markdown",
   "id": "c246b459",
   "metadata": {},
   "source": [
    "### Reasoning output\n",
    "\n",
    "Some OpenAI models will generate separate text content illustrating their reasoning process. See OpenAI's [reasoning documentation](https://platform.openai.com/docs/guides/reasoning?api-mode=responses) for details.\n",
    "\n",
    "OpenAI can return a summary of the model's reasoning (although it doesn't expose the raw reasoning tokens). To configure `ChatOpenAI` to return this summary, specify the `reasoning` parameter:"
   ]
  },
  {
   "cell_type": "code",
   "execution_count": null,
   "id": "d396b002",
   "metadata": {},
   "outputs": [],
   "source": [
    "from langchain_openai import ChatOpenAI\n",
    "\n",
    "reasoning = {\n",
    "    \"effort\": \"medium\",  # 'low', 'medium', or 'high'\n",
    "    \"summary\": \"auto\",  # 'detailed', 'auto', or None\n",
    "}\n",
    "\n",
    "llm = ChatOpenAI(\n",
    "    model=\"o4-mini\",\n",
    "    use_responses_api=True,\n",
    "    model_kwargs={\"reasoning\": reasoning},\n",
    ")\n",
    "response = llm.invoke(\"What is 3^3?\")\n",
    "\n",
    "# Output\n",
    "response.text()"
   ]
  },
  {
   "cell_type": "code",
   "execution_count": null,
   "id": "adbf7775",
   "metadata": {},
   "outputs": [],
   "source": [
    "# Reasoning\n",
    "reasoning = response.additional_kwargs[\"reasoning\"]\n",
    "for block in reasoning[\"summary\"]:\n",
    "    print(block[\"text\"])"
   ]
  },
  {
   "cell_type": "markdown",
   "id": "824b1dc2",
   "metadata": {},
   "source": [
    "## Fine-tuning\n",
    "\n",
    "You can call fine-tuned OpenAI models by passing in your corresponding `model_name` parameter.\n",
    "\n",
    "This generally takes the form of `ft:{OPENAI_MODEL_NAME}:{ORG_NAME}::{MODEL_ID}`. For example:"
   ]
  },
  {
   "cell_type": "code",
   "execution_count": null,
   "id": "b676f8a4",
   "metadata": {},
   "outputs": [],
   "source": [
    "fine_tuned_model = ChatOpenAI(temperature=0, model_name=\"ft:gpt-3.5-turbo-0613:langchain::7qTVM5AR\")\n",
    "\n",
    "fine_tuned_model.invoke(messages)"
   ]
  },
  {
   "cell_type": "markdown",
   "id": "0fcaf97b",
   "metadata": {},
   "source": [
    "## Multimodal Inputs\n",
    "\n",
    "OpenAI has models that support multimodal inputs. You can pass in images or audio to these models. For more information on how to do this in LangChain, head to the [multimodal inputs](https://python.langchain.com/docs/how_to/multimodal_inputs) docs.\n",
    "\n",
    "You can see the list of models that support different modalities in [OpenAI's documentation](https://platform.openai.com/docs/models).\n",
    "\n",
    "At the time of this doc's writing, the main OpenAI models you would use would be:\n",
    "\n",
    "- Image inputs: `gpt-4o`, `gpt-4o-mini`\n",
    "- Audio inputs: `gpt-4o-audio-preview`\n",
    "\n",
    "For an example of passing in image inputs, see the [multimodal inputs how-to guide](https://python.langchain.com/docs/how_to/multimodal_inputs).\n",
    "\n",
    "Below is an example of passing audio inputs to `gpt-4o-audio-preview`:"
   ]
  },
  {
   "cell_type": "code",
   "execution_count": null,
   "id": "64f08f46",
   "metadata": {},
   "outputs": [],
   "source": [
    "import base64\n",
    "\n",
    "from langchain_openai import ChatOpenAI\n",
    "\n",
    "llm = ChatOpenAI(\n",
    "    model=\"gpt-4o-audio-preview\",\n",
    "    temperature=0,\n",
    ")\n",
    "\n",
    "# This is just an example - you would need to provide your own audio file\n",
    "audio_path = \"path/to/audio_file.wav\"\n",
    "\n",
    "try:\n",
    "    with open(audio_path, \"rb\") as f:\n",
    "        # b64 encode it\n",
    "        audio = f.read()\n",
    "        audio_b64 = base64.b64encode(audio).decode()\n",
    "\n",
    "    output_message = llm.invoke(\n",
    "        [\n",
    "            (\n",
    "                \"human\",\n",
    "                [\n",
    "                    {\"type\": \"text\", \"text\": \"Transcribe the following:\"},\n",
    "                    {\n",
    "                        \"type\": \"input_audio\",\n",
    "                        \"input_audio\": {\"data\": audio_b64, \"format\": \"wav\"},\n",
    "                    },\n",
    "                ],\n",
    "            ),\n",
    "        ]\n",
    "    )\n",
    "    print(output_message.content)\n",
    "except FileNotFoundError:\n",
    "    print(\"Example code - you would need to provide your own audio file\")"
   ]
  },
  {
   "cell_type": "markdown",
   "id": "112741dd",
   "metadata": {},
   "source": [
    "## Predicted output\n",
    "\n",
    "Some OpenAI models (such as their `gpt-4o` and `gpt-4o-mini` series) support [Predicted Outputs](https://platform.openai.com/docs/guides/latency-optimization#use-predicted-outputs), which allow you to pass in a known portion of the LLM's expected output ahead of time to reduce latency. This is useful for cases such as editing text or code, where only a small part of the model's output will change.\n",
    "\n",
    "Here's an example:"
   ]
  },
  {
   "cell_type": "code",
   "execution_count": null,
   "id": "d009ad8c",
   "metadata": {},
   "outputs": [],
   "source": [
    "code = \"\"\"\n",
    "/// <summary>\n",
    "/// Represents a user with a first name, last name, and username.\n",
    "/// </summary>\n",
    "public class User\n",
    "{\n",
    "    /// <summary>\n",
    "    /// Gets or sets the user's first name.\n",
    "    /// </summary>\n",
    "    public string FirstName { get; set; }\n",
    "\n",
    "    /// <summary>\n",
    "    /// Gets or sets the user's last name.\n",
    "    /// </summary>\n",
    "    public string LastName { get; set; }\n",
    "\n",
    "    /// <summary>\n",
    "    /// Gets or sets the user's username.\n",
    "    /// </summary>\n",
    "    public string Username { get; set; }\n",
    "}\n",
    "\"\"\"\n",
    "\n",
    "llm = ChatOpenAI(model=\"gpt-4o\")\n",
    "query = (\n",
    "    \"Replace the Username property with an Email property. \"\n",
    "    \"Respond only with code, and with no markdown formatting.\"\n",
    ")\n",
    "response = llm.invoke(\n",
    "    [{\"role\": \"user\", \"content\": query}, {\"role\": \"user\", \"content\": code}],\n",
    "    prediction={\"type\": \"content\", \"content\": code},\n",
    ")\n",
    "print(response.content)\n",
    "print(response.response_metadata)"
   ]
  },
  {
   "cell_type": "markdown",
   "id": "c24b3de7",
   "metadata": {},
   "source": [
    "Note that currently predictions are billed as additional tokens and may increase your usage and costs in exchange for this reduced latency."
   ]
  },
  {
   "cell_type": "markdown",
   "id": "bb6543f9",
   "metadata": {},
   "source": [
    "## Audio Generation\n",
    "\n",
    "OpenAI has an audio generation feature that allows you to use audio inputs and outputs with the `gpt-4o-audio-preview` model."
   ]
  },
  {
   "cell_type": "code",
   "execution_count": null,
   "id": "482f5f8e",
   "metadata": {},
   "outputs": [],
   "source": [
    "from langchain_openai import ChatOpenAI\n",
    "\n",
    "llm = ChatOpenAI(\n",
    "    model=\"gpt-4o-audio-preview\",\n",
    "    temperature=0,\n",
    "    model_kwargs={\n",
    "        \"modalities\": [\"text\", \"audio\"],\n",
    "        \"audio\": {\"voice\": \"alloy\", \"format\": \"wav\"},\n",
    "    },\n",
    ")\n",
    "\n",
    "output_message = llm.invoke(\n",
    "    [\n",
    "        (\"human\", \"Are you made by OpenAI? Just answer yes or no\"),\n",
    "    ]\n",
    ")\n",
    "\n",
    "# output_message.additional_kwargs['audio'] will contain a dictionary with audio data"
   ]
  },
  {
   "cell_type": "markdown",
   "id": "437ee631",
   "metadata": {},
   "source": [
    "## Flex processing\n",
    "\n",
    "OpenAI offers a variety of [service tiers](https://platform.openai.com/docs/guides/flex-processing). The \"flex\" tier offers cheaper pricing for requests, with the trade-off that responses may take longer and resources might not always be available. This approach is best suited for non-critical tasks, including model testing, data enhancement, or jobs that can be run asynchronously.\n",
    "\n",
    "To use it, initialize the model with `service_tier=\"flex\"`:\n",
    "```python\n",
    "llm = ChatOpenAI(model=\"o4-mini\", service_tier=\"flex\")\n",
    "```\n",
    "\n",
    "Note that this is a beta feature that is only available for a subset of models. See OpenAI [docs](https://platform.openai.com/docs/guides/flex-processing) for more detail."
   ]
  },
  {
   "cell_type": "markdown",
   "id": "46d74b50",
   "metadata": {},
   "source": [
    "## API reference\n",
    "\n",
    "For detailed documentation of all ChatOpenAI features and configurations head to the [API reference](https://python.langchain.com/api_reference/openai/chat_models/langchain_openai.chat_models.base.ChatOpenAI.html)."
   ]
  }
 ],
 "metadata": {
  "kernelspec": {
   "display_name": ".venv",
   "language": "python",
   "name": "python3"
  },
  "language_info": {
   "codemirror_mode": {
    "name": "ipython",
    "version": 3
   },
   "file_extension": ".py",
   "mimetype": "text/x-python",
   "name": "python",
   "nbconvert_exporter": "python",
   "pygments_lexer": "ipython3",
   "version": "3.10.16"
  }
 },
 "nbformat": 4,
 "nbformat_minor": 5
}
