{
 "cells": [
  {
   "cell_type": "markdown",
   "id": "83cb0eff",
   "metadata": {},
   "source": [
    "# 🧙 CellMage Multiple Folders Example ✨\n",
    "\n",
    "This notebook demonstrates how to work with multiple persona and snippet folders in CellMage.\n",
    "\n",
    "**Date:** April 27, 2025\n",
    "\n",
    "## Why Use Multiple Folders?\n",
    "\n",
    "Using multiple folders for personas and snippets provides several benefits:\n",
    "\n",
    "1. **Organize by project**: Keep project-specific personas and snippets separate\n",
    "2. **Share selectively**: Share only certain folders with collaborators\n",
    "3. **Modular organization**: Group related personas and snippets together\n",
    "4. **Environment-specific settings**: Different settings for different environments"
   ]
  },
  {
   "cell_type": "markdown",
   "id": "2ffa6903",
   "metadata": {},
   "source": [
    "## 1. Setting Up CellMage\n",
    "\n",
    "First, let's load the CellMage extension and ensure it's properly initialized:"
   ]
  },
  {
   "cell_type": "code",
   "execution_count": 1,
   "id": "eefa9293",
   "metadata": {},
   "outputs": [
    {
     "name": "stdout",
     "output_type": "stream",
     "text": [
      "✅ NotebookLLM Magics loaded. Use %llm_config and %%llm.\n",
      "   For ambient mode, try %llm_config_persistent to process all cells as LLM prompts.\n",
      "CellMage version: 0.1.0\n"
     ]
    }
   ],
   "source": [
    "# Load the extension\n",
    "%load_ext cellmage\n",
    "\n",
    "# Import the necessary modules\n",
    "import cellmage\n",
    "import os\n",
    "import logging\n",
    "\n",
    "# Set up logging to see directory info\n",
    "logging.basicConfig(level=logging.INFO)\n",
    "\n",
    "print(f\"CellMage version: {cellmage.__version__}\")"
   ]
  },
  {
   "cell_type": "markdown",
   "id": "f7d49d3e",
   "metadata": {},
   "source": [
    "## 2. Understanding Directory Structure\n",
    "\n",
    "CellMage now automatically detects and uses multiple folders for personas and snippets. Let's see what directories are being used:"
   ]
  },
  {
   "cell_type": "code",
   "execution_count": 2,
   "id": "312a4cad",
   "metadata": {},
   "outputs": [
    {
     "name": "stdout",
     "output_type": "stream",
     "text": [
      "Persona directories:\n",
      " - llm_personas\n",
      "\n",
      "Snippet directories:\n",
      " - llm_snippets\n",
      " - snippets\n"
     ]
    }
   ],
   "source": [
    "# Get the default manager\n",
    "manager = cellmage.get_default_manager()\n",
    "\n",
    "# Check what persona loader is being used\n",
    "loader = manager.persona_loader\n",
    "\n",
    "# If it's a MultiFileLoader, we can see the directories\n",
    "if hasattr(loader, \"personas_dirs\") and hasattr(loader, \"snippets_dirs\"):\n",
    "    print(\"Persona directories:\")\n",
    "    for dir_path in loader.personas_dirs:\n",
    "        print(f\" - {dir_path}\")\n",
    "\n",
    "    print(\"\\nSnippet directories:\")\n",
    "    for dir_path in loader.snippets_dirs:\n",
    "        print(f\" - {dir_path}\")\n",
    "else:\n",
    "    print(\"Not using MultiFileLoader. Current loader:\", type(loader).__name__)"
   ]
  },
  {
   "cell_type": "markdown",
   "id": "4cb660b6",
   "metadata": {},
   "source": [
    "## 2.1 Enabling Auto-Save for Conversations\n",
    "\n",
    "Let's check if the `llm_conversations` folder exists and enable automatic conversation saving:"
   ]
  },
  {
   "cell_type": "code",
   "execution_count": null,
   "id": "290ffedf",
   "metadata": {},
   "outputs": [],
   "source": [
    "# Check if llm_conversations folder exists and enable auto-save\n",
    "import os\n",
    "\n",
    "# Define the path to the conversations folder\n",
    "conversations_folder = \"llm_conversations\"\n",
    "\n",
    "# Check if the folder exists\n",
    "if os.path.exists(conversations_folder) and os.path.isdir(conversations_folder):\n",
    "    print(f\"Found '{conversations_folder}' folder. Enabling auto-save for conversations.\")\n",
    "\n",
    "    # Enable auto-save via the manager's settings\n",
    "    manager.settings.auto_save = True\n",
    "    print(f\"Auto-save is now: {manager.settings.auto_save}\")\n",
    "\n",
    "    # You can also set the auto-save folder (optional)\n",
    "    manager.settings.conversations_dir = conversations_folder\n",
    "    print(f\"Conversations will be saved to: {os.path.abspath(manager.settings.conversations_dir)}\")\n",
    "\n",
    "    # Display current auto-save settings\n",
    "    print(f\"Current autosave_file template: {manager.settings.autosave_file}\")\n",
    "else:\n",
    "    print(f\"Couldn't find '{conversations_folder}' folder. Auto-save is not enabled.\")"
   ]
  },
  {
   "cell_type": "markdown",
   "id": "3e3403b9",
   "metadata": {},
   "source": [
    "## 3. Listing Available Resources\n",
    "\n",
    "Let's see what personas and snippets are available across all directories:"
   ]
  },
  {
   "cell_type": "code",
   "execution_count": 3,
   "id": "c419063b",
   "metadata": {},
   "outputs": [
    {
     "name": "stdout",
     "output_type": "stream",
     "text": [
      "Available personas (0):\n",
      " \n",
      "\n",
      "Available snippets (0):\n",
      " \n"
     ]
    }
   ],
   "source": [
    "# List available personas\n",
    "personas = manager.list_personas()\n",
    "print(f\"Available personas ({len(personas)}):\\n\", \"\\n \".join(personas))\n",
    "\n",
    "# List available snippets\n",
    "snippets = manager.list_snippets()\n",
    "print(f\"\\nAvailable snippets ({len(snippets)}):\\n\", \"\\n \".join(snippets))"
   ]
  },
  {
   "cell_type": "markdown",
   "id": "a8eed411",
   "metadata": {},
   "source": [
    "## 4. Creating Custom Directory Structure\n",
    "\n",
    "Let's create a small project with its own persona and snippet folders:"
   ]
  },
  {
   "cell_type": "code",
   "execution_count": 4,
   "id": "a9f07f27",
   "metadata": {},
   "outputs": [
    {
     "name": "stdout",
     "output_type": "stream",
     "text": [
      "✅ Created project structure at /Users/tpinto/madpin/cellmage/notebooks/examples/my_project\n"
     ]
    }
   ],
   "source": [
    "# Create project directories\n",
    "project_dir = \"my_project\"\n",
    "personas_dir = os.path.join(project_dir, \"personas\")\n",
    "snippets_dir = os.path.join(project_dir, \"snippets\")\n",
    "\n",
    "os.makedirs(personas_dir, exist_ok=True)\n",
    "os.makedirs(snippets_dir, exist_ok=True)\n",
    "\n",
    "# Create a custom persona\n",
    "with open(os.path.join(personas_dir, \"project_expert.md\"), \"w\") as f:\n",
    "    f.write(\"\"\"---\n",
    "name: project_expert\n",
    "temperature: 0.3\n",
    "model: gpt-4.1-nano\n",
    "---\n",
    "You are a specialized assistant for 'my_project'. You have deep knowledge of this project's requirements and specifications. Always refer to the project documentation when answering questions.\"\"\")\n",
    "\n",
    "# Create a custom snippet\n",
    "with open(os.path.join(snippets_dir, \"project_requirements.md\"), \"w\") as f:\n",
    "    f.write(\"\"\"# Project Requirements\n",
    "\n",
    "1. The system must be responsive under high load\n",
    "2. All data must be encrypted at rest and in transit\n",
    "3. The UI must be accessible according to WCAG 2.1 AA standards\n",
    "4. Response time should not exceed 200ms for API calls\"\"\")\n",
    "\n",
    "print(f\"✅ Created project structure at {os.path.abspath(project_dir)}\")"
   ]
  },
  {
   "cell_type": "markdown",
   "id": "35c8b369",
   "metadata": {},
   "source": [
    "## 5. Using Custom FileLoader\n",
    "\n",
    "Now, let's create a custom loader to access our project-specific resources:"
   ]
  },
  {
   "cell_type": "code",
   "execution_count": 5,
   "id": "51878308",
   "metadata": {},
   "outputs": [
    {
     "name": "stdout",
     "output_type": "stream",
     "text": [
      "Project personas: ['project_expert']\n",
      "Project snippets: ['project_requirements']\n"
     ]
    }
   ],
   "source": [
    "from cellmage.resources.file_loader import FileLoader, MultiFileLoader\n",
    "\n",
    "# Create a loader for the project directory\n",
    "project_loader = FileLoader(personas_dir=personas_dir, snippets_dir=snippets_dir)\n",
    "\n",
    "# List available resources in the project\n",
    "project_personas = project_loader.list_personas()\n",
    "project_snippets = project_loader.list_snippets()\n",
    "\n",
    "print(f\"Project personas: {project_personas}\")\n",
    "print(f\"Project snippets: {project_snippets}\")"
   ]
  },
  {
   "cell_type": "markdown",
   "id": "6f54eb25",
   "metadata": {},
   "source": [
    "## 6. Using Environment Variables for Multiple Directories\n",
    "\n",
    "You can also set environment variables to configure multiple directories:"
   ]
  },
  {
   "cell_type": "code",
   "execution_count": 6,
   "id": "ddf0fd0b",
   "metadata": {},
   "outputs": [
    {
     "name": "stdout",
     "output_type": "stream",
     "text": [
      "Configured persona directories:\n",
      "['llm_personas', '/Users/tpinto/madpin/cellmage/notebooks/examples/my_project/personas']\n",
      "\n",
      "Configured snippet directories:\n",
      "['llm_snippets', '/Users/tpinto/madpin/cellmage/notebooks/examples/my_project/snippets']\n"
     ]
    }
   ],
   "source": [
    "# Set environment variables for multiple directories\n",
    "import os\n",
    "\n",
    "# Directory paths to use\n",
    "standard_dir = \"llm_personas\"\n",
    "project_dir_path = os.path.abspath(personas_dir)\n",
    "\n",
    "# Set environment variable for multiple directories\n",
    "os.environ[\"CELLMAGE_PERSONAS_DIRS\"] = f\"{standard_dir},{project_dir_path}\"\n",
    "\n",
    "# For snippet directories\n",
    "os.environ[\"CELLMAGE_SNIPPETS_DIRS\"] = f\"llm_snippets,{os.path.abspath(snippets_dir)}\"\n",
    "\n",
    "# Now reload the settings\n",
    "from cellmage.config import Settings\n",
    "\n",
    "new_settings = Settings()\n",
    "\n",
    "print(\"Configured persona directories:\")\n",
    "print(new_settings.all_personas_dirs)\n",
    "\n",
    "print(\"\\nConfigured snippet directories:\")\n",
    "print(new_settings.all_snippets_dirs)"
   ]
  },
  {
   "cell_type": "markdown",
   "id": "c4b99fd6",
   "metadata": {},
   "source": [
    "## 7. Creating a Combined Loader\n",
    "\n",
    "We can create a combined loader that searches multiple directories:"
   ]
  },
  {
   "cell_type": "code",
   "execution_count": 7,
   "id": "635e4f23",
   "metadata": {},
   "outputs": [
    {
     "name": "stdout",
     "output_type": "stream",
     "text": [
      "All personas: ['project_expert']\n",
      "All snippets: ['project_requirements']\n"
     ]
    }
   ],
   "source": [
    "# Create a multi-file loader with both the default and project directories\n",
    "combined_loader = MultiFileLoader(\n",
    "    personas_dirs=[\"llm_personas\", personas_dir], snippets_dirs=[\"llm_snippets\", snippets_dir]\n",
    ")\n",
    "\n",
    "# List all available resources\n",
    "all_personas = combined_loader.list_personas()\n",
    "all_snippets = combined_loader.list_snippets()\n",
    "\n",
    "print(f\"All personas: {all_personas}\")\n",
    "print(f\"All snippets: {all_snippets}\")"
   ]
  },
  {
   "cell_type": "markdown",
   "id": "3410fa9f",
   "metadata": {},
   "source": [
    "## 8. Using Personas and Snippets from Different Directories\n",
    "\n",
    "Let's try using resources from different directories in a conversation:"
   ]
  },
  {
   "cell_type": "code",
   "execution_count": 8,
   "id": "41882eea",
   "metadata": {},
   "outputs": [
    {
     "name": "stderr",
     "output_type": "stream",
     "text": [
      "2025-04-27 13:58:01,498 - cellmage.resources.file_loader - WARNING - Snippet 'project_requirements.md' not found at llm_snippets/project_requirements.md\n",
      "2025-04-27 13:58:01,499 - cellmage.chat_manager - WARNING - Snippet 'project_requirements' not found\n",
      "2025-04-27 13:58:01,500 - cellmage.resources.file_loader - WARNING - Persona 'project_expert' not found in llm_personas\n"
     ]
    },
    {
     "name": "stdout",
     "output_type": "stream",
     "text": [
      "⚠️ Warning: Could not add system snippet 'project_requirements'.\n",
      "❌ Error: Persona 'project_expert' not found.\n",
      "Active Persona: None\n",
      "  To set a persona, use: %llm_config --persona <name>\n",
      "  To list available personas, use: %llm_config --list-personas\n"
     ]
    }
   ],
   "source": [
    "# Set up LLM configuration with our project persona\n",
    "%llm_config --persona project_expert --sys-snippet project_requirements\n",
    "\n",
    "# Verify the configuration\n",
    "%llm_config --show-persona"
   ]
  },
  {
   "cell_type": "code",
   "execution_count": 9,
   "id": "8eed2fe6",
   "metadata": {},
   "outputs": [
    {
     "data": {
      "text/markdown": [
       "To accurately identify the key performance requirements for your project, I would need more specific information about the project's scope, objectives, industry, and deliverables. However, generally speaking, key performance requirements typically include:\n",
       "\n",
       "1. **Functional Requirements:** Specific features and functionalities that the project must deliver to meet user needs.\n",
       "\n",
       "2. **Performance Metrics:** Quantitative standards such as response time, throughput, accuracy, or efficiency benchmarks.\n",
       "\n",
       "3. **Reliability and Availability:** Uptime requirements, fault tolerance, and mean time between failures.\n",
       "\n",
       "4. **Scalability:** Ability to handle increased load or user demand over time.\n",
       "\n",
       "5. **Security:** Data protection, access controls, and compliance with relevant standards and regulations.\n",
       "\n",
       "6. **Usability:** User experience standards, including ease of use and accessibility.\n",
       "\n",
       "7. **Maintainability:** Ease of updates, troubleshooting, and long-term support.\n",
       "\n",
       "8. **Integration:** Compatibility with existing systems, standards, or platforms.\n",
       "\n",
       "9. **Compliance:** Adherence to legal, regulatory, or industry-specific standards.\n",
       "\n",
       "If you can provide more details about the project’s type, industry, or specific goals, I can give a more tailored list of key performance requirements."
      ],
      "text/plain": [
       "<IPython.core.display.Markdown object>"
      ]
     },
     "metadata": {},
     "output_type": "display_data"
    },
    {
     "data": {
      "text/html": [
       "\n",
       "        <div style=\"background-color: #f1f8e9; border: 1px solid #c5e1a5; color: #33691e;\n",
       "                    padding: 3px 6px; margin-top: 4px; border-radius: 3px; font-family: monospace; \n",
       "                    font-size: 0.75em; line-height: 1.2; display: inline-block; opacity: 0.85;\">\n",
       "            ✓ gpt-4.1-nano • 1.26s • 14↓/321↑ tokens\n",
       "        </div>\n",
       "        "
      ],
      "text/plain": [
       "<IPython.core.display.HTML object>"
      ]
     },
     "metadata": {},
     "output_type": "display_data"
    }
   ],
   "source": [
    "%%llm\n",
    "What are the key performance requirements for this project?"
   ]
  },
  {
   "cell_type": "markdown",
   "id": "20a38bb9",
   "metadata": {},
   "source": [
    "## 9. Advanced: Context Switching Between Projects\n",
    "\n",
    "Let's create a utility to easily switch between different project contexts:"
   ]
  },
  {
   "cell_type": "code",
   "execution_count": 10,
   "id": "54c74ddc",
   "metadata": {},
   "outputs": [
    {
     "name": "stderr",
     "output_type": "stream",
     "text": [
      "2025-04-27 13:58:02,777 - cellmage.resources.file_loader - WARNING - Snippet 'project_requirements.md' not found at llm_snippets/project_requirements.md\n",
      "2025-04-27 13:58:02,777 - cellmage.chat_manager - WARNING - Snippet 'project_requirements' not found\n",
      "2025-04-27 13:58:02,778 - cellmage.resources.file_loader - WARNING - Persona 'project_expert' not found in llm_personas\n"
     ]
    },
    {
     "name": "stdout",
     "output_type": "stream",
     "text": [
      "⚠️ Warning: Could not add system snippet 'project_requirements'.\n",
      "❌ Error: Persona 'project_expert' not found.\n",
      "✅ Chat history cleared.\n",
      "Switched to 'my_project' context\n"
     ]
    }
   ],
   "source": [
    "def switch_project_context(project_name):\n",
    "    \"\"\"Switch to a specific project context with its own personas and snippets.\"\"\"\n",
    "    if project_name == \"default\":\n",
    "        # Use default settings\n",
    "        %llm_config --persona coder --clear-history\n",
    "        print(f\"Switched to default project context\")\n",
    "    elif project_name == \"my_project\":\n",
    "        # Use project-specific settings\n",
    "        %llm_config --persona project_expert --sys-snippet project_requirements --clear-history\n",
    "        print(f\"Switched to 'my_project' context\")\n",
    "    else:\n",
    "        print(f\"Unknown project: {project_name}\")\n",
    "\n",
    "\n",
    "# Example usage\n",
    "switch_project_context(\"my_project\")"
   ]
  },
  {
   "cell_type": "code",
   "execution_count": 11,
   "id": "7ad7268b",
   "metadata": {},
   "outputs": [
    {
     "data": {
      "text/markdown": [
       "To recommend appropriate encryption standards based on your project requirements, I would need more details about the specific needs and context of your project. Could you please provide information such as:\n",
       "\n",
       "- The type of data being protected (e.g., sensitive personal data, financial information, general data)\n",
       "- Compliance or regulatory standards you need to meet (e.g., GDPR, HIPAA, PCI DSS)\n",
       "- Performance considerations (e.g., encryption speed, latency)\n",
       "- Environment (e.g., web application, mobile app, embedded systems, cloud)\n",
       "- Whether you need data at rest, data in transit, or both\n",
       "- Any existing infrastructure or technology constraints\n",
       "\n",
       "With this information, I can give a more tailored recommendation. However, here are some commonly used encryption standards and best practices:\n",
       "\n",
       "**1. Data at Rest:**\n",
       "- **AES (Advanced Encryption Standard)**: Recommended for encrypting stored data. Use AES-256 for high security.\n",
       "- **Full Disk Encryption (FDE)** solutions like BitLocker (Windows) or FileVault (macOS)\n",
       "\n",
       "**2. Data in Transit:**\n",
       "- **TLS (Transport Layer Security)**: Use the latest version (currently TLS 1.3) for secure communication channels.\n",
       "- **SSL** is outdated and should be avoided; prefer TLS.\n",
       "\n",
       "**3. Key Management:**\n",
       "- Use hardware security modules (HSMs) or dedicated key management systems.\n",
       "- Follow best practices for generating, storing, and rotating keys.\n",
       "\n",
       "**4. Hashing and Integrity:**\n",
       "- Use SHA-256 or stronger algorithms for hashing.\n",
       "- Employ HMAC for message authentication.\n",
       "\n",
       "**5. Additional Considerations:**\n",
       "- For applications requiring quantum resistance in the future, consider post-quantum cryptography standards when available.\n",
       "- Ensure proper implementation to avoid vulnerabilities related to poor key management or algorithm misuse.\n",
       "\n",
       "Please provide more details, and I can assist you with a more specific recommendation tailored to your project."
      ],
      "text/plain": [
       "<IPython.core.display.Markdown object>"
      ]
     },
     "metadata": {},
     "output_type": "display_data"
    },
    {
     "data": {
      "text/html": [
       "\n",
       "        <div style=\"background-color: #f1f8e9; border: 1px solid #c5e1a5; color: #33691e;\n",
       "                    padding: 3px 6px; margin-top: 4px; border-radius: 3px; font-family: monospace; \n",
       "                    font-size: 0.75em; line-height: 1.2; display: inline-block; opacity: 0.85;\">\n",
       "            ✓ gpt-4.1-nano • 2.78s • 20↓/471↑ tokens\n",
       "        </div>\n",
       "        "
      ],
      "text/plain": [
       "<IPython.core.display.HTML object>"
      ]
     },
     "metadata": {},
     "output_type": "display_data"
    }
   ],
   "source": [
    "%%llm\n",
    "Based on the project requirements, what encryption standards would you recommend?"
   ]
  },
  {
   "cell_type": "code",
   "execution_count": 12,
   "id": "da4bf56d",
   "metadata": {},
   "outputs": [
    {
     "name": "stderr",
     "output_type": "stream",
     "text": [
      "2025-04-27 13:58:05,568 - cellmage.resources.file_loader - WARNING - Persona 'coder' not found in llm_personas\n"
     ]
    },
    {
     "name": "stdout",
     "output_type": "stream",
     "text": [
      "❌ Error: Persona 'coder' not found.\n",
      "✅ Chat history cleared.\n",
      "Switched to default project context\n"
     ]
    }
   ],
   "source": [
    "# Switch back to default context\n",
    "switch_project_context(\"default\")"
   ]
  },
  {
   "cell_type": "markdown",
   "id": "ccafa0b0",
   "metadata": {},
   "source": [
    "## Conclusion\n",
    "\n",
    "Using multiple directories for personas and snippets allows you to:\n",
    "\n",
    "1. **Organize resources** by project or domain\n",
    "2. **Switch contexts** easily when working on different projects\n",
    "3. **Share selective resources** with collaborators\n",
    "4. **Maintain separation** between different types of content\n",
    "\n",
    "The `MultiFileLoader` automatically searches across all directories, making it seamless to use resources from any location without having to remember exactly where each file is stored."
   ]
  }
 ],
 "metadata": {
  "kernelspec": {
   "display_name": ".venv",
   "language": "python",
   "name": "python3"
  },
  "language_info": {
   "codemirror_mode": {
    "name": "ipython",
    "version": 3
   },
   "file_extension": ".py",
   "mimetype": "text/x-python",
   "name": "python",
   "nbconvert_exporter": "python",
   "pygments_lexer": "ipython3",
   "version": "3.10.16"
  }
 },
 "nbformat": 4,
 "nbformat_minor": 5
}
