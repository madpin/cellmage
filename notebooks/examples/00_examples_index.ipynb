{
 "cells": [
  {
   "cell_type": "markdown",
   "id": "9a6c5837",
   "metadata": {},
   "source": [
    "# 🧙 CellMage Examples Guide ✨\n",
    "\n",
    "This notebook serves as an index to the example notebooks that demonstrate key CellMage features in practical use cases.\n",
    "\n",
    "**Date:** April 26, 2025"
   ]
  },
  {
   "cell_type": "markdown",
   "id": "9a891239",
   "metadata": {},
   "source": [
    "## Available Examples\n",
    "\n",
    "### 1. [Ambient Mode Example](01_ambient_mode_example.ipynb)\n",
    "- Experience the power of CellMage's ambient mode\n",
    "- Learn how to process regular cells as LLM prompts\n",
    "- Configure ambient mode options and behavior\n",
    "- See real-world usage patterns\n",
    "\n",
    "### 2. [Persistent Chat Example](02_persistent_chat_example.ipynb)\n",
    "- Explore persistent chat capabilities\n",
    "- Maintain conversation context across notebook sessions\n",
    "- Work with persona configurations\n",
    "- Learn about conversation management techniques"
   ]
  },
  {
   "cell_type": "markdown",
   "id": "520d2381",
   "metadata": {},
   "source": [
    "## What Are Examples?\n",
    "\n",
    "Unlike tutorials that focus on teaching concepts step by step, these example notebooks demonstrate CellMage features in practical contexts. They show how to use CellMage to solve real-world problems and implement specific use cases.\n",
    "\n",
    "Examples are perfect for users who:\n",
    "- Already understand the basics of CellMage\n",
    "- Want to see practical applications\n",
    "- Need inspiration for their own projects\n",
    "- Want to explore specific features in depth"
   ]
  },
  {
   "cell_type": "code",
   "execution_count": 1,
   "id": "55994088",
   "metadata": {},
   "outputs": [
    {
     "name": "stdout",
     "output_type": "stream",
     "text": [
      "✅ NotebookLLM Magics loaded. Use %llm_config and %%llm.\n",
      "   For ambient mode, try %llm_config_persistent to process all cells as LLM prompts.\n",
      "CellMage version: 0.1.0\n",
      "--- NotebookLLM Status ---\n",
      "Session ID: 8ee3bdfb-b84f-463c-b249-4db57e2942ff\n",
      "None\n",
      "Active Overrides: {'api_key': 'sk-L...mA', 'api_base': 'https://litellm.oracle.madpin.dev', 'model': 'gpt-4.1-nano'}\n",
      "History Length: 0 messages\n",
      "--------------------------\n"
     ]
    }
   ],
   "source": [
    "# Quick setup for examples\n",
    "%load_ext cellmage\n",
    "\n",
    "# Display version information\n",
    "import cellmage\n",
    "print(f\"CellMage version: {cellmage.__version__}\")\n",
    "\n",
    "# Check status\n",
    "%llm_config --status"
   ]
  },
  {
   "cell_type": "markdown",
   "id": "b30de477",
   "metadata": {},
   "source": [
    "## Getting Started with Examples\n",
    "\n",
    "Before running these examples, we recommend:\n",
    "\n",
    "1. Complete the [01_getting_started.ipynb](../01_getting_started.ipynb) notebook\n",
    "2. Review the [01_basic_usage_tutorial.ipynb](../tutorials/01_basic_usage_tutorial.ipynb) \n",
    "3. Ensure your API credentials are properly configured\n",
    "\n",
    "Refer to the [README.ipynb](../README.ipynb) for the full recommended learning path."
   ]
  }
 ],
 "metadata": {
  "kernelspec": {
   "display_name": ".venv",
   "language": "python",
   "name": "python3"
  },
  "language_info": {
   "codemirror_mode": {
    "name": "ipython",
    "version": 3
   },
   "file_extension": ".py",
   "mimetype": "text/x-python",
   "name": "python",
   "nbconvert_exporter": "python",
   "pygments_lexer": "ipython3",
   "version": "3.10.16"
  }
 },
 "nbformat": 4,
 "nbformat_minor": 5
}
