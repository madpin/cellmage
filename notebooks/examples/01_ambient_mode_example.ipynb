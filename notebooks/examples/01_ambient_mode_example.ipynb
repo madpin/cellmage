{
 "cells": [
  {
   "cell_type": "markdown",
   "id": "27985bf0",
   "metadata": {},
   "source": [
    "# 🧙 CellMage Ambient Mode Example ✨\n",
    "\n",
    "This notebook demonstrates how to use CellMage's powerful **ambient mode** feature, which allows you to interact with LLMs using regular code cells.\n",
    "\n",
    "**Date:** April 26, 2025\n",
    "\n",
    "## What is Ambient Mode?\n",
    "\n",
    "Ambient mode is a special feature of CellMage that transforms regular notebook cells into LLM prompts. When enabled, cells that contain natural language (rather than code) are automatically sent to the configured LLM, allowing for a seamless chat-like experience without needing to use the `%%llm` magic command for each interaction."
   ]
  },
  {
   "cell_type": "markdown",
   "id": "c05ef3b1",
   "metadata": {},
   "source": [
    "## 1. Setting Up CellMage\n",
    "\n",
    "First, let's load the CellMage extension and verify it's working properly."
   ]
  },
  {
   "cell_type": "code",
   "execution_count": null,
   "id": "8af79dbd",
   "metadata": {},
   "outputs": [
    {
     "name": "stdout",
     "output_type": "stream",
     "text": [
      "✅ NotebookLLM Magics loaded. Use %llm_config and %%llm.\n",
      "   For ambient mode, try %llm_config_persistent to process all cells as LLM prompts.\n",
      "CellMage version: 0.1.0\n",
      "--- NotebookLLM Status ---\n",
      "Session ID: 9c2fb835-1968-4856-937a-424c09848103\n",
      "None\n",
      "Active Overrides: {'api_key': 'sk-L...mA', 'api_base': 'https://litellm.oracle.madpin.dev', 'model': 'gpt-4.1-nano'}\n",
      "History Length: 0 messages\n",
      "--------------------------\n"
     ]
    }
   ],
   "source": [
    "# Load the extension\n",
    "%load_ext cellmage\n",
    "\n",
    "# Import the necessary modules\n",
    "import cellmage\n",
    "\n",
    "print(f\"CellMage version: {cellmage.__version__}\")\n",
    "\n",
    "# Verify that it's working by showing the current status\n",
    "%llm_config --status"
   ]
  },
  {
   "cell_type": "markdown",
   "id": "b7641799",
   "metadata": {},
   "source": [
    "## 2. Configuring Your LLM Settings\n",
    "\n",
    "Before enabling ambient mode, let's configure our LLM settings to make sure we're using the model we want."
   ]
  },
  {
   "cell_type": "code",
   "execution_count": 2,
   "id": "8c8a068f",
   "metadata": {},
   "outputs": [
    {
     "name": "stdout",
     "output_type": "stream",
     "text": [
      "✅ Default model set to: gpt-4.1-nano\n",
      "✅ Override set: temperature = 0.7 (float)\n",
      "--- NotebookLLM Status ---\n",
      "Session ID: 9c2fb835-1968-4856-937a-424c09848103\n",
      "None\n",
      "Active Overrides: {'api_key': 'sk-L...mA', 'api_base': 'https://litellm.oracle.madpin.dev', 'model': 'gpt-4.1-nano', 'temperature': 0.7}\n",
      "History Length: 0 messages\n",
      "--------------------------\n"
     ]
    }
   ],
   "source": [
    "# Set up LLM configuration\n",
    "%llm_config --model gpt-4.1-nano --set-override temperature 0.7\n",
    "\n",
    "# Optionally, set a persona for a specific conversation style\n",
    "# Uncomment the line below and replace with your preferred persona\n",
    "# %llm_config --persona helpful_assistant\n",
    "\n",
    "# Check the configuration\n",
    "%llm_config --status"
   ]
  },
  {
   "cell_type": "markdown",
   "id": "4ed732a7",
   "metadata": {},
   "source": [
    "## 3. Enabling Ambient Mode\n",
    "\n",
    "Now let's enable ambient mode. Once enabled, regular cells containing natural language will be processed as prompts to the LLM."
   ]
  },
  {
   "cell_type": "code",
   "execution_count": 3,
   "id": "e296f29b",
   "metadata": {},
   "outputs": [
    {
     "name": "stdout",
     "output_type": "stream",
     "text": [
      "--- NotebookLLM Status ---\n",
      "Session ID: 9c2fb835-1968-4856-937a-424c09848103\n",
      "None\n",
      "Active Overrides: {'api_key': 'sk-L...mA', 'api_base': 'https://litellm.oracle.madpin.dev', 'model': 'gpt-4.1-nano', 'temperature': 0.7}\n",
      "History Length: 0 messages\n",
      "--------------------------\n",
      "✅ Ambient mode ENABLED. All cells will now be processed as LLM prompts unless they start with % or !.\n",
      "   Run %disable_llm_config_persistent to disable ambient mode.\n",
      "✅ Ambient mode is enabled - regular cells will be treated as prompts to the LLM\n"
     ]
    }
   ],
   "source": [
    "# Enable ambient mode\n",
    "%llm_config_persistent\n",
    "\n",
    "# Check if ambient mode is enabled\n",
    "from cellmage.ambient_mode import is_ambient_mode_enabled\n",
    "\n",
    "if is_ambient_mode_enabled():\n",
    "    print(\"✅ Ambient mode is enabled - regular cells will be treated as prompts to the LLM\")\n",
    "else:\n",
    "    print(\"❌ Ambient mode is NOT enabled - please check for errors above\")"
   ]
  },
  {
   "cell_type": "markdown",
   "id": "ca957206",
   "metadata": {},
   "source": [
    "## 4. Using Ambient Mode\n",
    "\n",
    "Now that ambient mode is enabled, you can simply type natural language in a code cell and run it. The cell content will be sent to the LLM, and the response will be displayed.\n",
    "\n",
    "Let's try it out!"
   ]
  },
  {
   "cell_type": "code",
   "execution_count": 4,
   "id": "88311210",
   "metadata": {},
   "outputs": [
    {
     "data": {
      "text/markdown": [
       "CellMage is an open-source tool designed to enhance the functionality and flexibility of Jupyter Notebook workflows. It provides a set of features that facilitate dynamic code execution, improved cell management, and streamlined data analysis processes within Jupyter environments.\n",
       "\n",
       "**Key features of CellMage include:**\n",
       "\n",
       "1. **Dynamic Cell Execution:** Allows users to programmatically run, rerun, or reorder cells, enabling more interactive and automated workflows.\n",
       "2. **Enhanced Cell Management:** Provides tools to organize, tag, and annotate notebook cells, making complex notebooks easier to navigate and maintain.\n",
       "3. **Workflow Automation:** Supports creating reusable cell templates and automating common sequences of operations, reducing manual repetition.\n",
       "4. **Integration with Data Pipelines:** Facilitates embedding of data processing pipelines directly within notebooks, promoting reproducibility and transparency.\n",
       "5. **Improved User Experience:** Offers intuitive interfaces and commands that streamline common notebook tasks, increasing productivity.\n",
       "\n",
       "**How does CellMage enhance Jupyter notebook workflows?**\n",
       "\n",
       "- **Increased Interactivity:** By enabling dynamic execution and reordering, users can experiment more freely without disrupting the overall notebook structure.\n",
       "- **Better Organization:** Tagging and annotating cells help in categorizing code, results, and markdown, making notebooks more readable and collaborative.\n",
       "- **Automation and Reproducibility:** Automating repetitive tasks and creating reusable cell templates ensure consistent workflows and easier sharing.\n",
       "- **Streamlined Data Analysis:** Integrating data pipeline steps within notebooks simplifies complex analyses, reducing switching between tools.\n",
       "\n",
       "**In summary,** CellMage acts as an augmentation layer over Jupyter Notebooks, empowering data scientists and researchers with tools for more flexible, organized, and efficient data analysis workflows."
      ],
      "text/plain": [
       "<IPython.core.display.Markdown object>"
      ]
     },
     "metadata": {},
     "output_type": "display_data"
    },
    {
     "data": {
      "text/html": [
       "\n",
       "        <div style=\"background-color: #f1f8e9; border: 1px solid #c5e1a5; color: #33691e;\n",
       "                    padding: 3px 6px; margin-top: 4px; border-radius: 3px; font-family: monospace; \n",
       "                    font-size: 0.75em; line-height: 1.2; display: inline-block; opacity: 0.85;\">\n",
       "            ✓ gpt-4.1-nano • 2.98s • 17↓/485↑ tokens\n",
       "        </div>\n",
       "        "
      ],
      "text/plain": [
       "<IPython.core.display.HTML object>"
      ]
     },
     "metadata": {},
     "output_type": "display_data"
    }
   ],
   "source": [
    "What is CellMage and how does it enhance Jupyter notebook workflows?"
   ]
  },
  {
   "cell_type": "markdown",
   "id": "0c90b56a",
   "metadata": {},
   "source": [
    "### How Ambient Mode Detects Natural Language\n",
    "\n",
    "Ambient mode uses heuristics to determine whether a cell contains code or natural language:\n",
    "\n",
    "* If a cell starts with `%`, `%%`, or `!`, it's treated as a magic command or shell command\n",
    "* If a cell contains Python keywords like `def`, `class`, `import`, or assignment operations (`=`), it's treated as code\n",
    "* Otherwise, it's assumed to be natural language and processed as an LLM prompt\n",
    "\n",
    "Let's see this in action:"
   ]
  },
  {
   "cell_type": "code",
   "execution_count": 5,
   "id": "fc482cb5",
   "metadata": {},
   "outputs": [
    {
     "data": {
      "text/markdown": [
       "The code you've provided is standard Python code. It assigns values to variables `x` and `y`, then prints their sum along with a message. Here's a breakdown:\n",
       "\n",
       "```python\n",
       "x = 10\n",
       "y = 20\n",
       "print(\"This is normal Python code:\", x + y)\n",
       "```\n",
       "\n",
       "**What it does:**\n",
       "- Sets `x` to 10\n",
       "- Sets `y` to 20\n",
       "- Prints: `This is normal Python code: 30`\n",
       "\n",
       "If you have any specific questions about this code or want to modify or run it, feel free to ask!"
      ],
      "text/plain": [
       "<IPython.core.display.Markdown object>"
      ]
     },
     "metadata": {},
     "output_type": "display_data"
    },
    {
     "data": {
      "text/html": [
       "\n",
       "        <div style=\"background-color: #f1f8e9; border: 1px solid #c5e1a5; color: #33691e;\n",
       "                    padding: 3px 6px; margin-top: 4px; border-radius: 3px; font-family: monospace; \n",
       "                    font-size: 0.75em; line-height: 1.2; display: inline-block; opacity: 0.85;\">\n",
       "            ✓ gpt-4.1-nano • 1.16s • 529↓/106↑ tokens\n",
       "        </div>\n",
       "        "
      ],
      "text/plain": [
       "<IPython.core.display.HTML object>"
      ]
     },
     "metadata": {},
     "output_type": "display_data"
    }
   ],
   "source": [
    "# This is detected as code due to Python syntax\n",
    "x = 10\n",
    "y = 20\n",
    "print(\"This is normal Python code:\", x + y)"
   ]
  },
  {
   "cell_type": "code",
   "execution_count": 6,
   "id": "b103d95f",
   "metadata": {},
   "outputs": [
    {
     "data": {
      "text/markdown": [
       "In Python, **function decorators** are a powerful feature that allows you to modify or enhance the behavior of functions without changing their actual code. Decorators are applied using the `@decorator_name` syntax just above the function definition.\n",
       "\n",
       "### Concept:\n",
       "- A decorator is a function that takes another function as an argument.\n",
       "- It can add some behavior before or after the target function runs.\n",
       "- The decorator returns a new function that wraps the original one, enabling custom behavior.\n",
       "\n",
       "### Simple Example:\n",
       "\n",
       "Let's create a decorator called `greet_decorator` that prints a message before and after calling the decorated function.\n",
       "\n",
       "```python\n",
       "def greet_decorator(func):\n",
       "    def wrapper():\n",
       "        print(\"Before the function call.\")\n",
       "        func()\n",
       "        print(\"After the function call.\")\n",
       "    return wrapper\n",
       "\n",
       "@geet_decorator\n",
       "def say_hello():\n",
       "    print(\"Hello!\")\n",
       "\n",
       "say_hello()\n",
       "```\n",
       "\n",
       "**Output:**\n",
       "```\n",
       "Before the function call.\n",
       "Hello!\n",
       "After the function call.\n",
       "```\n",
       "\n",
       "### Explanation:\n",
       "- `greet_decorator` is the decorator function.\n",
       "- It defines an inner `wrapper()` function that adds behavior before and after calling `func()`.\n",
       "- The `@greet_decorator` syntax applies the decorator to `say_hello()`.\n",
       "- When `say_hello()` is called, it actually runs the `wrapper()` function, which adds extra behavior.\n",
       "\n",
       "### Summary:\n",
       "Function decorators allow you to **wrap** existing functions to extend their functionality in a clean and readable way, promoting code reuse and separation of concerns."
      ],
      "text/plain": [
       "<IPython.core.display.Markdown object>"
      ]
     },
     "metadata": {},
     "output_type": "display_data"
    },
    {
     "data": {
      "text/html": [
       "\n",
       "        <div style=\"background-color: #f1f8e9; border: 1px solid #c5e1a5; color: #33691e;\n",
       "                    padding: 3px 6px; margin-top: 4px; border-radius: 3px; font-family: monospace; \n",
       "                    font-size: 0.75em; line-height: 1.2; display: inline-block; opacity: 0.85;\">\n",
       "            ✓ gpt-4.1-nano • 2.30s • 655↓/371↑ tokens\n",
       "        </div>\n",
       "        "
      ],
      "text/plain": [
       "<IPython.core.display.HTML object>"
      ]
     },
     "metadata": {},
     "output_type": "display_data"
    }
   ],
   "source": [
    "Explain the concept of function decorators in Python with a simple example."
   ]
  },
  {
   "cell_type": "markdown",
   "id": "45e54bd1",
   "metadata": {},
   "source": [
    "## 5. Advanced: Multi-Turn Conversations\n",
    "\n",
    "One of the benefits of ambient mode is the ability to maintain context across multiple cells, creating a coherent conversation with the LLM."
   ]
  },
  {
   "cell_type": "code",
   "execution_count": 7,
   "id": "5cc49127",
   "metadata": {},
   "outputs": [
    {
     "data": {
      "text/markdown": [
       "Certainly! A timing decorator measures how long a function takes to execute. Here's how you can create a simple timing decorator in Python:\n",
       "\n",
       "```python\n",
       "import time\n",
       "\n",
       "def timing_decorator(func):\n",
       "    def wrapper(*args, **kwargs):\n",
       "        start_time = time.time()  # Record start time\n",
       "        result = func(*args, **kwargs)  # Call the original function\n",
       "        end_time = time.time()  # Record end time\n",
       "        elapsed_time = end_time - start_time\n",
       "        print(f\"Function '{func.__name__}' executed in {elapsed_time:.4f} seconds.\")\n",
       "        return result\n",
       "    return wrapper\n",
       "```\n",
       "\n",
       "**How to use it:**\n",
       "\n",
       "```python\n",
       "@timing_decorator\n",
       "def example_function(n):\n",
       "    total = 0\n",
       "    for i in range(n):\n",
       "        total += i\n",
       "    return total\n",
       "\n",
       "# Call the decorated function\n",
       "result = example_function(10**6)\n",
       "```\n",
       "\n",
       "**Sample output:**\n",
       "\n",
       "```\n",
       "Function 'example_function' executed in 0.0456 seconds.\n",
       "```\n",
       "\n",
       "### Explanation:\n",
       "- The decorator `timing_decorator` wraps any function.\n",
       "- It records the start time before calling the function.\n",
       "- After execution, it records the end time.\n",
       "- It calculates the elapsed time and prints it.\n",
       "- The original function's result is returned as usual.\n",
       "\n",
       "This decorator is useful for profiling functions to understand their performance."
      ],
      "text/plain": [
       "<IPython.core.display.Markdown object>"
      ]
     },
     "metadata": {},
     "output_type": "display_data"
    },
    {
     "data": {
      "text/html": [
       "\n",
       "        <div style=\"background-color: #f1f8e9; border: 1px solid #c5e1a5; color: #33691e;\n",
       "                    padding: 3px 6px; margin-top: 4px; border-radius: 3px; font-family: monospace; \n",
       "                    font-size: 0.75em; line-height: 1.2; display: inline-block; opacity: 0.85;\">\n",
       "            ✓ gpt-4.1-nano • 1.78s • 1060↓/308↑ tokens\n",
       "        </div>\n",
       "        "
      ],
      "text/plain": [
       "<IPython.core.display.HTML object>"
      ]
     },
     "metadata": {},
     "output_type": "display_data"
    }
   ],
   "source": [
    "Given your previous explanation of decorators, could you show how to create a timing decorator that measures function execution time?"
   ]
  },
  {
   "cell_type": "code",
   "execution_count": 8,
   "id": "4d23c1f2",
   "metadata": {},
   "outputs": [
    {
     "data": {
      "text/markdown": [
       "Great question! To extend the timing decorator to also log the function name and its arguments, you can include `func.__name__` and the `*args` and `**kwargs` parameters in your log message.\n",
       "\n",
       "Here's the modified version:\n",
       "\n",
       "```python\n",
       "import time\n",
       "\n",
       "def timing_decorator(func):\n",
       "    def wrapper(*args, **kwargs):\n",
       "        start_time = time.time()\n",
       "        # Call the original function\n",
       "        result = func(*args, **kwargs)\n",
       "        end_time = time.time()\n",
       "        elapsed_time = end_time - start_time\n",
       "        # Log function name and arguments\n",
       "        print(f\"Function '{func.__name__}' called with args={args}, kwargs={kwargs}\")\n",
       "        print(f\"Execution time: {elapsed_time:.4f} seconds.\")\n",
       "        return result\n",
       "    return wrapper\n",
       "```\n",
       "\n",
       "**Usage example:**\n",
       "\n",
       "```python\n",
       "@timing_decorator\n",
       "def add(a, b):\n",
       "    time.sleep(0.1)  # simulate some delay\n",
       "    return a + b\n",
       "\n",
       "result = add(5, b=10)\n",
       "```\n",
       "\n",
       "**Possible output:**\n",
       "\n",
       "```\n",
       "Function 'add' called with args=(5,), kwargs={'b': 10}\n",
       "Execution time: 0.1023 seconds.\n",
       "```\n",
       "\n",
       "### Summary:\n",
       "- The decorator now logs the function's name.\n",
       "- It also logs the positional (`args`) and keyword (`kwargs`) arguments passed to the function.\n",
       "- This makes the log more informative, especially for debugging or performance analysis."
      ],
      "text/plain": [
       "<IPython.core.display.Markdown object>"
      ]
     },
     "metadata": {},
     "output_type": "display_data"
    },
    {
     "data": {
      "text/html": [
       "\n",
       "        <div style=\"background-color: #f1f8e9; border: 1px solid #c5e1a5; color: #33691e;\n",
       "                    padding: 3px 6px; margin-top: 4px; border-radius: 3px; font-family: monospace; \n",
       "                    font-size: 0.75em; line-height: 1.2; display: inline-block; opacity: 0.85;\">\n",
       "            ✓ gpt-4.1-nano • 4.32s • 1388↓/310↑ tokens\n",
       "        </div>\n",
       "        "
      ],
      "text/plain": [
       "<IPython.core.display.HTML object>"
      ]
     },
     "metadata": {},
     "output_type": "display_data"
    }
   ],
   "source": [
    "How would I modify this decorator to also log the function name and arguments?"
   ]
  },
  {
   "cell_type": "markdown",
   "id": "a2c06fb5",
   "metadata": {},
   "source": [
    "## 6. Using Snippets with Ambient Mode\n",
    "\n",
    "You can combine ambient mode with snippets to provide additional context to your LLM interactions."
   ]
  },
  {
   "cell_type": "code",
   "execution_count": null,
   "id": "5ebc59e9",
   "metadata": {},
   "outputs": [
    {
     "name": "stderr",
     "output_type": "stream",
     "text": [
      "UsageError: Line magic function `%%writefile` not found.\n"
     ]
    }
   ],
   "source": [
    "# Create a code snippet to reference later\n",
    "%%writefile /tmp/example_code.py\n",
    "\n",
    "\n",
    "def process_data(data_list):\n",
    "    \"\"\"Process a list of numeric data.\"\"\"\n",
    "    results = []\n",
    "    for item in data_list:\n",
    "        if isinstance(item, (int, float)):\n",
    "            results.append(item * 2)\n",
    "        else:\n",
    "            print(f\"Skipping non-numeric item: {item}\")\n",
    "    return results\n",
    "\n",
    "\n",
    "# Example usage\n",
    "sample_data = [1, 2, \"3\", 4.5, \"text\"]\n",
    "processed = process_data(sample_data)\n",
    "print(f\"Processed data: {processed}\")"
   ]
  },
  {
   "cell_type": "code",
   "execution_count": null,
   "id": "207908c0",
   "metadata": {},
   "outputs": [],
   "source": [
    "# Add the snippet to the conversation\n",
    "%llm_config --snippets /tmp/example_code.py system"
   ]
  },
  {
   "cell_type": "code",
   "execution_count": null,
   "id": "67124447",
   "metadata": {},
   "outputs": [],
   "source": [
    "Review the code in the snippet. How could I improve the error handling and make the function more robust?"
   ]
  },
  {
   "cell_type": "markdown",
   "id": "62ada087",
   "metadata": {},
   "source": [
    "## 7. Disabling Ambient Mode\n",
    "\n",
    "When you're done using ambient mode, you should disable it to return to normal notebook operation."
   ]
  },
  {
   "cell_type": "code",
   "execution_count": null,
   "id": "7551ea29",
   "metadata": {},
   "outputs": [],
   "source": [
    "# Disable ambient mode\n",
    "%disable_llm_setup_forever\n",
    "\n",
    "# Verify it's disabled\n",
    "if not is_ambient_mode_enabled():\n",
    "    print(\"✅ Ambient mode is now disabled - cells will be executed as normal Python code\")\n",
    "else:\n",
    "    print(\"❌ There was an issue disabling ambient mode\")"
   ]
  },
  {
   "cell_type": "markdown",
   "id": "afe3248b",
   "metadata": {},
   "source": [
    "## 8. Troubleshooting Ambient Mode\n",
    "\n",
    "If you're experiencing issues with ambient mode, try these solutions:\n",
    "\n",
    "1. **Extension not loading**: Ensure the extension is loaded with `%load_ext cellmage`\n",
    "2. **Ambient mode not detecting text**: Make sure your text doesn't contain Python keywords or assignments\n",
    "3. **API errors**: Verify your API credentials in the `.env` file\n",
    "4. **Command not found**: Restart the kernel and reload the extension\n",
    "5. **No response**: Check if the model is available and your internet connection is stable\n",
    "\n",
    "### Alternative Approach: Manual Processing\n",
    "\n",
    "If ambient mode isn't working, you can still use the regular `%%llm` magic command:"
   ]
  },
  {
   "cell_type": "code",
   "execution_count": null,
   "id": "52594086",
   "metadata": {},
   "outputs": [],
   "source": [
    "%%llm\n",
    "What are the advantages of using ambient mode versus regular magic commands in CellMage?"
   ]
  },
  {
   "cell_type": "markdown",
   "id": "6db2df9e",
   "metadata": {},
   "source": [
    "## 9. Best Practices for Ambient Mode\n",
    "\n",
    "To get the most out of ambient mode, follow these best practices:\n",
    "\n",
    "1. **Enable selectively**: Only enable ambient mode when you're in \"conversation mode\" with your LLM\n",
    "2. **Disable when coding**: Disable ambient mode when you need to write and execute actual code\n",
    "3. **Clear history**: Use `%llm_config --clear-history` periodically to avoid context limits\n",
    "4. **Be explicit**: When mixing code and prompts, use `%%llm` for prompts to avoid confusion\n",
    "5. **Monitor costs**: Remember that each cell processed in ambient mode consumes tokens"
   ]
  },
  {
   "cell_type": "markdown",
   "id": "5fd64b4d",
   "metadata": {},
   "source": [
    "## 10. Working with Multiple Persona and Snippet Folders\n",
    "\n",
    "CellMage allows you to work with multiple persona and snippet folders, which is useful for organizing content by project, domain, or team.\n",
    "\n",
    "### Setting Up Multiple Directories"
   ]
  },
  {
   "cell_type": "code",
   "execution_count": null,
   "id": "e52765d9",
   "metadata": {},
   "outputs": [],
   "source": [
    "# First, disable ambient mode to prevent processing these cells as prompts\n",
    "%disable_llm_setup_forever\n",
    "\n",
    "# Import needed modules\n",
    "import os\n",
    "from cellmage.resources.file_loader import FileLoader\n",
    "\n",
    "# Create example directories if they don't exist\n",
    "os.makedirs(\"project_A/personas\", exist_ok=True)\n",
    "os.makedirs(\"project_A/snippets\", exist_ok=True)\n",
    "os.makedirs(\"project_B/personas\", exist_ok=True)\n",
    "os.makedirs(\"project_B/snippets\", exist_ok=True)\n",
    "\n",
    "# Create example content\n",
    "with open(\"project_A/personas/tech_expert.md\", \"w\") as f:\n",
    "    f.write(\"\"\"---\n",
    "name: tech_expert\n",
    "temperature: 0.3\n",
    "model: gpt-4.1-nano\n",
    "---\n",
    "You are a technical expert who provides concise, accurate answers about technology topics.\"\"\")\n",
    "\n",
    "with open(\"project_A/snippets/api_spec.md\", \"w\") as f:\n",
    "    f.write(\"\"\"# API Specification\n",
    "The API uses REST principles with JSON payloads. Authentication requires an API key in the Authorization header.\"\"\")\n",
    "\n",
    "with open(\"project_B/personas/creative_writer.md\", \"w\") as f:\n",
    "    f.write(\"\"\"---\n",
    "name: creative_writer\n",
    "temperature: 0.8\n",
    "model: gpt-4.1-nano\n",
    "---\n",
    "You are a creative writer who generates imaginative, engaging content with vivid descriptions.\"\"\")\n",
    "\n",
    "with open(\"project_B/snippets/story_outline.md\", \"w\") as f:\n",
    "    f.write(\"\"\"# Story Outline\n",
    "The protagonist discovers a hidden portal in their basement that leads to a parallel universe.\"\"\")\n",
    "\n",
    "print(\"✅ Example files and directories created successfully\")"
   ]
  },
  {
   "cell_type": "markdown",
   "id": "ee1393f8",
   "metadata": {},
   "source": [
    "### Creating FileLoaders for Each Directory\n",
    "\n",
    "Now let's set up FileLoaders to access these different directories:"
   ]
  },
  {
   "cell_type": "code",
   "execution_count": null,
   "id": "f56c8c5b",
   "metadata": {},
   "outputs": [],
   "source": [
    "# Create file loaders for each project\n",
    "project_A_loader = FileLoader(personas_dir=\"project_A/personas\", snippets_dir=\"project_A/snippets\")\n",
    "project_B_loader = FileLoader(personas_dir=\"project_B/personas\", snippets_dir=\"project_B/snippets\")\n",
    "\n",
    "# Check available resources in each project\n",
    "print(\"Project A Personas:\", project_A_loader.list_personas())\n",
    "print(\"Project A Snippets:\", project_A_loader.list_snippets())\n",
    "print(\"Project B Personas:\", project_B_loader.list_personas())\n",
    "print(\"Project B Snippets:\", project_B_loader.list_snippets())"
   ]
  },
  {
   "cell_type": "markdown",
   "id": "c021004b",
   "metadata": {},
   "source": [
    "### Using Content from Multiple Sources\n",
    "\n",
    "You can load personas and snippets from these different directories and use them in your conversations:"
   ]
  },
  {
   "cell_type": "code",
   "execution_count": null,
   "id": "f466c3ce",
   "metadata": {},
   "outputs": [],
   "source": [
    "# Load a persona from Project A\n",
    "tech_persona = project_A_loader.get_persona(\"tech_expert\")\n",
    "print(f\"Loaded persona: {tech_persona.name}\")\n",
    "print(f\"System message: {tech_persona.system_message[:50]}...\")\n",
    "print(f\"Config: {tech_persona.config}\")\n",
    "\n",
    "# Load a snippet from Project B\n",
    "story_snippet = project_B_loader.get_snippet(\"story_outline\")\n",
    "print(\"\\nLoaded snippet:\")\n",
    "print(f\"{story_snippet[:100]}...\")"
   ]
  },
  {
   "cell_type": "markdown",
   "id": "f754bcd1",
   "metadata": {},
   "source": [
    "### Creating a Context Switcher\n",
    "\n",
    "Here's a utility function that allows you to easily switch between different project contexts:"
   ]
  },
  {
   "cell_type": "code",
   "execution_count": null,
   "id": "37b921fb",
   "metadata": {},
   "outputs": [],
   "source": [
    "from cellmage.resources.memory_loader import MemoryLoader\n",
    "from cellmage.chat_manager import ChatManager\n",
    "from cellmage.config import Settings\n",
    "\n",
    "\n",
    "def create_project_context(project_name):\n",
    "    \"\"\"Create a ChatManager with resources from the specified project\"\"\"\n",
    "    if project_name == \"project_A\":\n",
    "        loader = FileLoader(personas_dir=\"project_A/personas\", snippets_dir=\"project_A/snippets\")\n",
    "    elif project_name == \"project_B\":\n",
    "        loader = FileLoader(personas_dir=\"project_B/personas\", snippets_dir=\"project_B/snippets\")\n",
    "    else:\n",
    "        # Use the default loader for unknown projects\n",
    "        loader = FileLoader()\n",
    "\n",
    "    # Create a chat manager with the specified loader\n",
    "    settings = Settings()\n",
    "    # Note: You'd need to create an LLM client and other components here\n",
    "    # This is a simplified example\n",
    "    return loader\n",
    "\n",
    "\n",
    "# Example usage:\n",
    "project_a_context = create_project_context(\"project_A\")\n",
    "project_b_context = create_project_context(\"project_B\")\n",
    "\n",
    "print(f\"Project A personas: {project_a_context.list_personas()}\")\n",
    "print(f\"Project B personas: {project_b_context.list_personas()}\")"
   ]
  },
  {
   "cell_type": "markdown",
   "id": "895aa3cd",
   "metadata": {},
   "source": [
    "### Using Multiple Directory Loaders in a Notebook\n",
    "\n",
    "In practice, you may want to use a combination of loaders to access resources from multiple locations:"
   ]
  },
  {
   "cell_type": "code",
   "execution_count": null,
   "id": "4252a033",
   "metadata": {},
   "outputs": [],
   "source": [
    "# Create a composite loader that can access multiple directories\n",
    "def load_from_multiple_sources(persona_name=None, snippet_name=None):\n",
    "    \"\"\"Load personas or snippets from multiple sources\"\"\"\n",
    "    # Define our loaders\n",
    "    loaders = [\n",
    "        FileLoader(personas_dir=\"project_A/personas\", snippets_dir=\"project_A/snippets\"),\n",
    "        FileLoader(personas_dir=\"project_B/personas\", snippets_dir=\"project_B/snippets\"),\n",
    "        FileLoader(),  # Default loader\n",
    "    ]\n",
    "\n",
    "    # Try to load a persona if requested\n",
    "    if persona_name:\n",
    "        for loader in loaders:\n",
    "            persona = loader.get_persona(persona_name)\n",
    "            if persona:\n",
    "                print(f\"Found persona '{persona_name}' in {loader.personas_dir}\")\n",
    "                return persona\n",
    "        print(f\"Persona '{persona_name}' not found in any directory\")\n",
    "        return None\n",
    "\n",
    "    # Try to load a snippet if requested\n",
    "    if snippet_name:\n",
    "        for loader in loaders:\n",
    "            snippet = loader.get_snippet(snippet_name)\n",
    "            if snippet:\n",
    "                print(f\"Found snippet '{snippet_name}' in {loader.snippets_dir}\")\n",
    "                return snippet\n",
    "        print(f\"Snippet '{snippet_name}' not found in any directory\")\n",
    "        return None\n",
    "\n",
    "    return None\n",
    "\n",
    "\n",
    "# Example usage\n",
    "tech_persona = load_from_multiple_sources(persona_name=\"tech_expert\")\n",
    "creative_persona = load_from_multiple_sources(persona_name=\"creative_writer\")\n",
    "api_snippet = load_from_multiple_sources(snippet_name=\"api_spec\")\n",
    "\n",
    "# Show what we found\n",
    "if tech_persona:\n",
    "    print(f\"Tech persona system message: {tech_persona.system_message[:30]}...\")\n",
    "if creative_persona:\n",
    "    print(f\"Creative persona system message: {creative_persona.system_message[:30]}...\")\n",
    "if api_snippet:\n",
    "    print(f\"API snippet content: {api_snippet[:30]}...\")"
   ]
  },
  {
   "cell_type": "markdown",
   "id": "da5967e8",
   "metadata": {},
   "source": [
    "### Advanced: Environment-Based Directory Configuration\n",
    "\n",
    "You can also set up environment variables to configure the directories:"
   ]
  },
  {
   "cell_type": "code",
   "execution_count": null,
   "id": "035dc046",
   "metadata": {},
   "outputs": [],
   "source": [
    "import os\n",
    "\n",
    "# Set environment variables for CellMage to use\n",
    "os.environ[\"CELLMAGE_PERSONAS_DIR\"] = \"project_A/personas\"\n",
    "os.environ[\"CELLMAGE_SNIPPETS_DIR\"] = \"project_A/snippets\"\n",
    "\n",
    "# Reload settings to pick up the new values\n",
    "from cellmage.config import Settings\n",
    "\n",
    "settings = Settings()\n",
    "\n",
    "print(f\"Current personas directory: {settings.personas_dir}\")\n",
    "print(f\"Current snippets directory: {settings.snippets_dir}\")\n",
    "\n",
    "# You could also create a new chat manager with these settings\n",
    "# manager = ChatManager(settings=settings, ...)"
   ]
  },
  {
   "cell_type": "markdown",
   "id": "2eb69c20",
   "metadata": {},
   "source": [
    "## Conclusion\n",
    "\n",
    "Ambient mode provides a seamless way to interact with LLMs directly in your notebook without constantly typing `%%llm`. It's perfect for exploratory discussions, brainstorming, and quick questions while working in your notebook.\n",
    "\n",
    "Using multiple persona and snippet folders allows you to organize your LLM interactions by project, domain, or use case, making it easier to manage complex workflows with different contexts.\n",
    "\n",
    "For more examples, check out the [02_persistent_chat_example.ipynb](02_persistent_chat_example.ipynb) notebook next!"
   ]
  }
 ],
 "metadata": {
  "kernelspec": {
   "display_name": ".venv",
   "language": "python",
   "name": "python3"
  },
  "language_info": {
   "codemirror_mode": {
    "name": "ipython",
    "version": 3
   },
   "file_extension": ".py",
   "mimetype": "text/x-python",
   "name": "python",
   "nbconvert_exporter": "python",
   "pygments_lexer": "ipython3",
   "version": "3.10.16"
  }
 },
 "nbformat": 4,
 "nbformat_minor": 5
}
