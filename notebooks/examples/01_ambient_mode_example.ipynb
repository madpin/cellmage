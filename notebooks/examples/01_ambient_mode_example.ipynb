{
 "cells": [
  {
   "cell_type": "markdown",
   "id": "27985bf0",
   "metadata": {},
   "source": [
    "# 🧙 CellMage Ambient Mode Example ✨\n",
    "\n",
    "This notebook demonstrates how to use CellMage's powerful **ambient mode** feature, which allows you to interact with LLMs using regular code cells.\n",
    "\n",
    "**Date:** April 26, 2025\n",
    "\n",
    "## What is Ambient Mode?\n",
    "\n",
    "Ambient mode is a special feature of CellMage that transforms regular notebook cells into LLM prompts. When enabled, cells that contain natural language (rather than code) are automatically sent to the configured LLM, allowing for a seamless chat-like experience without needing to use the `%%llm` magic command for each interaction."
   ]
  },
  {
   "cell_type": "markdown",
   "id": "c05ef3b1",
   "metadata": {},
   "source": [
    "## 1. Setting Up CellMage\n",
    "\n",
    "First, let's load the CellMage extension and verify it's working properly."
   ]
  },
  {
   "cell_type": "code",
   "execution_count": 1,
   "id": "8af79dbd",
   "metadata": {},
   "outputs": [
    {
     "name": "stdout",
     "output_type": "stream",
     "text": [
      "✅ NotebookLLM Magics loaded. Use %llm_config and %%llm.\n",
      "   For ambient mode, try %llm_config_persistent to process all cells as LLM prompts.\n",
      "CellMage version: 0.1.0\n",
      "--- NotebookLLM Status ---\n",
      "Session ID: 941b70a8-2f8c-4b6a-bf2d-9587801f105a\n",
      "None\n",
      "Active Overrides: {'api_key': 'sk-L...mA', 'api_base': 'https://litellm.oracle.madpin.dev', 'model': 'gpt-4.1-nano'}\n",
      "History Length: 0 messages\n",
      "--------------------------\n"
     ]
    }
   ],
   "source": [
    "# Load the extension\n",
    "%load_ext cellmage\n",
    "\n",
    "# Import the necessary modules\n",
    "import cellmage\n",
    "\n",
    "print(f\"CellMage version: {cellmage.__version__}\")\n",
    "\n",
    "# Verify that it's working by showing the current status\n",
    "%llm_config --status"
   ]
  },
  {
   "cell_type": "markdown",
   "id": "b7641799",
   "metadata": {},
   "source": [
    "## 2. Configuring Your LLM Settings\n",
    "\n",
    "Before enabling ambient mode, let's configure our LLM settings to make sure we're using the model we want."
   ]
  },
  {
   "cell_type": "code",
   "execution_count": 2,
   "id": "8c8a068f",
   "metadata": {},
   "outputs": [
    {
     "name": "stdout",
     "output_type": "stream",
     "text": [
      "✅ Default model set to: gpt-4.1-nano\n",
      "✅ Override set: temperature = 0.7 (float)\n",
      "--- NotebookLLM Status ---\n",
      "Session ID: 941b70a8-2f8c-4b6a-bf2d-9587801f105a\n",
      "None\n",
      "Active Overrides: {'api_key': 'sk-L...mA', 'api_base': 'https://litellm.oracle.madpin.dev', 'model': 'gpt-4.1-nano', 'temperature': 0.7}\n",
      "History Length: 0 messages\n",
      "--------------------------\n"
     ]
    }
   ],
   "source": [
    "# Set up LLM configuration\n",
    "%llm_config --model gpt-4.1-nano --set-override temperature 0.7\n",
    "\n",
    "# Optionally, set a persona for a specific conversation style\n",
    "# Uncomment the line below and replace with your preferred persona\n",
    "# %llm_config --persona helpful_assistant\n",
    "\n",
    "# Check the configuration\n",
    "%llm_config --status"
   ]
  },
  {
   "cell_type": "markdown",
   "id": "4ed732a7",
   "metadata": {},
   "source": [
    "## 3. Enabling Ambient Mode\n",
    "\n",
    "Now let's enable ambient mode. Once enabled, regular cells containing natural language will be processed as prompts to the LLM."
   ]
  },
  {
   "cell_type": "code",
   "execution_count": 3,
   "id": "e296f29b",
   "metadata": {},
   "outputs": [
    {
     "name": "stdout",
     "output_type": "stream",
     "text": [
      "--- NotebookLLM Status ---\n",
      "Session ID: 941b70a8-2f8c-4b6a-bf2d-9587801f105a\n",
      "None\n",
      "Active Overrides: {'api_key': 'sk-L...mA', 'api_base': 'https://litellm.oracle.madpin.dev', 'model': 'gpt-4.1-nano', 'temperature': 0.7}\n",
      "History Length: 0 messages\n",
      "--------------------------\n",
      "✅ Ambient mode ENABLED. All cells will now be processed as LLM prompts unless they start with % or !.\n",
      "   Run %disable_llm_config_persistent to disable ambient mode.\n",
      "✅ Ambient mode is enabled - regular cells will be treated as prompts to the LLM\n"
     ]
    }
   ],
   "source": [
    "# Enable ambient mode\n",
    "%llm_config_persistent\n",
    "\n",
    "# Check if ambient mode is enabled\n",
    "from cellmage.ambient_mode import is_ambient_mode_enabled\n",
    "\n",
    "if is_ambient_mode_enabled():\n",
    "    print(\"✅ Ambient mode is enabled - regular cells will be treated as prompts to the LLM\")\n",
    "else:\n",
    "    print(\"❌ Ambient mode is NOT enabled - please check for errors above\")"
   ]
  },
  {
   "cell_type": "markdown",
   "id": "ca957206",
   "metadata": {},
   "source": [
    "## 4. Using Ambient Mode\n",
    "\n",
    "Now that ambient mode is enabled, you can simply type natural language in a code cell and run it. The cell content will be sent to the LLM, and the response will be displayed.\n",
    "\n",
    "Let's try it out!"
   ]
  },
  {
   "cell_type": "code",
   "execution_count": 4,
   "id": "88311210",
   "metadata": {},
   "outputs": [
    {
     "data": {
      "text/markdown": [
       "CellMage is a tool designed to enhance the workflow experience within Jupyter notebooks by providing advanced cell management and execution features. It aims to streamline the process of organizing, executing, and managing code and markdown cells, thereby improving productivity and reproducibility for data scientists and researchers working in Jupyter environments.\n",
       "\n",
       "**Key features of CellMage include:**\n",
       "\n",
       "- **Cell Organization:** Allows users to group, reorder, and manage cells more efficiently, making complex notebooks easier to navigate and maintain.\n",
       "- **Execution Control:** Provides enhanced control over cell execution, such as running specific cell groups, rerunning sections, or managing dependencies between cells.\n",
       "- **Workflow Automation:** Facilitates creating structured workflows within notebooks, enabling users to build modular and reusable notebook components.\n",
       "- **Visual Enhancements:** Offers improved visual cues and interfaces to better distinguish different parts of the notebook, aiding clarity and readability.\n",
       "\n",
       "**How does CellMage enhance Jupyter notebook workflows?**\n",
       "\n",
       "- **Improved Productivity:** By simplifying cell management, users can focus more on developing their analysis rather than organizing their notebook.\n",
       "- **Better Reproducibility:** Structured workflows and clear cell management help ensure that notebooks can be reliably rerun and shared.\n",
       "- **Streamlined Collaboration:** Easier organization and execution features make notebooks more accessible and understandable for collaborators.\n",
       "- **Enhanced User Experience:** Visual and interactive improvements reduce cognitive load and make working in notebooks more intuitive.\n",
       "\n",
       "Overall, CellMage acts as an extension to Jupyter notebooks, providing tools to make notebook development more organized, efficient, and user-friendly, especially for complex projects requiring meticulous workflow management."
      ],
      "text/plain": [
       "<IPython.core.display.Markdown object>"
      ]
     },
     "metadata": {},
     "output_type": "display_data"
    },
    {
     "data": {
      "text/html": [
       "\n",
       "        <div style=\"background-color: #f1f8e9; border: 1px solid #c5e1a5; color: #33691e;\n",
       "                    padding: 3px 6px; margin-top: 4px; border-radius: 3px; font-family: monospace; \n",
       "                    font-size: 0.75em; line-height: 1.2; display: inline-block; opacity: 0.85;\">\n",
       "            ✓ gpt-4.1-nano • 0.11s • 17↓/473↑ tokens\n",
       "        </div>\n",
       "        "
      ],
      "text/plain": [
       "<IPython.core.display.HTML object>"
      ]
     },
     "metadata": {},
     "output_type": "display_data"
    }
   ],
   "source": [
    "What is CellMage and how does it enhance Jupyter notebook workflows?"
   ]
  },
  {
   "cell_type": "markdown",
   "id": "0c90b56a",
   "metadata": {},
   "source": [
    "### How Ambient Mode Detects Natural Language\n",
    "\n",
    "Ambient mode uses heuristics to determine whether a cell contains code or natural language:\n",
    "\n",
    "* If a cell starts with `%`, `%%`, or `!`, it's treated as a magic command or shell command\n",
    "* If a cell contains Python keywords like `def`, `class`, `import`, or assignment operations (`=`), it's treated as code\n",
    "* Otherwise, it's assumed to be natural language and processed as an LLM prompt\n",
    "\n",
    "Let's see this in action:"
   ]
  },
  {
   "cell_type": "code",
   "execution_count": 5,
   "id": "fc482cb5",
   "metadata": {},
   "outputs": [
    {
     "data": {
      "text/markdown": [
       "It looks like you've provided a snippet that is recognized as Python code:\n",
       "\n",
       "```python\n",
       "x = 10\n",
       "y = 20\n",
       "print(\"This is normal Python code:\", x + y)\n",
       "```\n",
       "\n",
       "If you intended to share this as an example or ask a question about it, please let me know! For instance, I can help explain what the code does, suggest modifications, or assist with related topics."
      ],
      "text/plain": [
       "<IPython.core.display.Markdown object>"
      ]
     },
     "metadata": {},
     "output_type": "display_data"
    },
    {
     "data": {
      "text/html": [
       "\n",
       "        <div style=\"background-color: #f1f8e9; border: 1px solid #c5e1a5; color: #33691e;\n",
       "                    padding: 3px 6px; margin-top: 4px; border-radius: 3px; font-family: monospace; \n",
       "                    font-size: 0.75em; line-height: 1.2; display: inline-block; opacity: 0.85;\">\n",
       "            ✓ gpt-4.1-nano • 0.10s • 517↓/86↑ tokens\n",
       "        </div>\n",
       "        "
      ],
      "text/plain": [
       "<IPython.core.display.HTML object>"
      ]
     },
     "metadata": {},
     "output_type": "display_data"
    }
   ],
   "source": [
    "# This is detected as code due to Python syntax\n",
    "x = 10\n",
    "y = 20\n",
    "print(\"This is normal Python code:\", x + y)"
   ]
  },
  {
   "cell_type": "code",
   "execution_count": 6,
   "id": "b103d95f",
   "metadata": {},
   "outputs": [
    {
     "data": {
      "text/markdown": [
       "Certainly! In Python, **function decorators** are a powerful feature that allow you to modify or enhance the behavior of functions without changing their actual code. Decorators are functions that take another function as input and return a new function with added or altered behavior.\n",
       "\n",
       "### Concept of Decorators\n",
       "- Think of decorators as wrappers around functions.\n",
       "- They can be used for logging, timing, access control, etc.\n",
       "- The `@decorator_name` syntax is a syntactic sugar to apply a decorator to a function.\n",
       "\n",
       "### Simple Example\n",
       "\n",
       "Let's create a decorator that prints a message before and after calling a function:\n",
       "\n",
       "```python\n",
       "def my_decorator(func):\n",
       "    def wrapper():\n",
       "        print(\"Before the function call\")\n",
       "        func()\n",
       "        print(\"After the function call\")\n",
       "    return wrapper\n",
       "\n",
       "@my_decorator\n",
       "def say_hello():\n",
       "    print(\"Hello!\")\n",
       "\n",
       "say_hello()\n",
       "```\n",
       "\n",
       "### Output:\n",
       "```\n",
       "Before the function call\n",
       "Hello!\n",
       "After the function call\n",
       "```\n",
       "\n",
       "### Explanation:\n",
       "- `my_decorator` is a function that takes another function `func` as an argument.\n",
       "- Inside, it defines `wrapper()`, which adds extra behavior before and after calling `func()`.\n",
       "- The `@my_decorator` above `say_hello()` applies the decorator, so when you call `say_hello()`, you're actually calling the `wrapper()` function, which adds the additional print statements.\n",
       "\n",
       "### Summary:\n",
       "- Decorators are a way to modify or extend the behavior of functions in a clean and readable way.\n",
       "- They are widely used in Python for logging, authorization, timing, and more.\n",
       "\n",
       "Would you like a more advanced example or explanation?"
      ],
      "text/plain": [
       "<IPython.core.display.Markdown object>"
      ]
     },
     "metadata": {},
     "output_type": "display_data"
    },
    {
     "data": {
      "text/html": [
       "\n",
       "        <div style=\"background-color: #f1f8e9; border: 1px solid #c5e1a5; color: #33691e;\n",
       "                    padding: 3px 6px; margin-top: 4px; border-radius: 3px; font-family: monospace; \n",
       "                    font-size: 0.75em; line-height: 1.2; display: inline-block; opacity: 0.85;\">\n",
       "            ✓ gpt-4.1-nano • 0.10s • 623↓/392↑ tokens\n",
       "        </div>\n",
       "        "
      ],
      "text/plain": [
       "<IPython.core.display.HTML object>"
      ]
     },
     "metadata": {},
     "output_type": "display_data"
    }
   ],
   "source": [
    "Explain the concept of function decorators in Python with a simple example."
   ]
  },
  {
   "cell_type": "markdown",
   "id": "45e54bd1",
   "metadata": {},
   "source": [
    "## 5. Advanced: Multi-Turn Conversations\n",
    "\n",
    "One of the benefits of ambient mode is the ability to maintain context across multiple cells, creating a coherent conversation with the LLM."
   ]
  },
  {
   "cell_type": "code",
   "execution_count": 7,
   "id": "5cc49127",
   "metadata": {},
   "outputs": [
    {
     "data": {
      "text/markdown": [
       "Certainly! Here's an example of a **timing decorator** in Python that measures how long a function takes to execute. This is useful for profiling and optimizing code.\n",
       "\n",
       "### Creating a Timing Decorator\n",
       "\n",
       "```python\n",
       "import time\n",
       "\n",
       "def timing_decorator(func):\n",
       "    def wrapper(*args, **kwargs):\n",
       "        start_time = time.time()            # Record start time\n",
       "        result = func(*args, **kwargs)      # Call the original function\n",
       "        end_time = time.time()              # Record end time\n",
       "        elapsed_time = end_time - start_time\n",
       "        print(f\"Function '{func.__name__}' took {elapsed_time:.4f} seconds to execute.\")\n",
       "        return result\n",
       "    return wrapper\n",
       "```\n",
       "\n",
       "### Using the Timing Decorator\n",
       "\n",
       "```python\n",
       "@timing_decorator\n",
       "def example_function(n):\n",
       "    total = 0\n",
       "    for i in range(n):\n",
       "        total += i ** 2\n",
       "    return total\n",
       "\n",
       "# Call the function\n",
       "result = example_function(10**6)\n",
       "print(\"Result:\", result)\n",
       "```\n",
       "\n",
       "### Sample Output:\n",
       "```\n",
       "Function 'example_function' took 0.1234 seconds to execute.\n",
       "Result: 333333833333500000\n",
       "```\n",
       "\n",
       "### Explanation:\n",
       "- The decorator `timing_decorator` wraps any function to measure its execution time.\n",
       "- Inside `wrapper()`, it records the start and end times using `time.time()`.\n",
       "- It calculates the elapsed time and prints it along with the function name.\n",
       "- The `*args` and `**kwargs` ensure the decorator works with functions of any signature.\n",
       "\n",
       "This decorator helps you quickly identify slow functions and optimize your code!"
      ],
      "text/plain": [
       "<IPython.core.display.Markdown object>"
      ]
     },
     "metadata": {},
     "output_type": "display_data"
    },
    {
     "data": {
      "text/html": [
       "\n",
       "        <div style=\"background-color: #f1f8e9; border: 1px solid #c5e1a5; color: #33691e;\n",
       "                    padding: 3px 6px; margin-top: 4px; border-radius: 3px; font-family: monospace; \n",
       "                    font-size: 0.75em; line-height: 1.2; display: inline-block; opacity: 0.85;\">\n",
       "            ✓ gpt-4.1-nano • 0.10s • 1049↓/363↑ tokens\n",
       "        </div>\n",
       "        "
      ],
      "text/plain": [
       "<IPython.core.display.HTML object>"
      ]
     },
     "metadata": {},
     "output_type": "display_data"
    }
   ],
   "source": [
    "Given your previous explanation of decorators, could you show how to create a timing decorator that measures function execution time?"
   ]
  },
  {
   "cell_type": "code",
   "execution_count": 8,
   "id": "4d23c1f2",
   "metadata": {},
   "outputs": [
    {
     "data": {
      "text/markdown": [
       "Great question! To enhance the timing decorator so that it also logs the function name and the arguments it was called with, you can include `func.__name__`, as well as the positional (`args`) and keyword (`kwargs`) arguments in your log message.\n",
       "\n",
       "Here's an improved version of the decorator:\n",
       "\n",
       "```python\n",
       "import time\n",
       "\n",
       "def timing_logger_decorator(func):\n",
       "    def wrapper(*args, **kwargs):\n",
       "        # Log function name and arguments\n",
       "        args_repr = [repr(a) for a in args]\n",
       "        kwargs_repr = [f\"{k}={v!r}\" for k, v in kwargs.items()]\n",
       "        signature = \", \".join(args_repr + kwargs_repr)\n",
       "        print(f\"Calling '{func.__name__}({signature})'...\")\n",
       "\n",
       "        start_time = time.time()\n",
       "        result = func(*args, **kwargs)\n",
       "        end_time = time.time()\n",
       "\n",
       "        elapsed_time = end_time - start_time\n",
       "        print(f\"'{func.__name__}' completed in {elapsed_time:.4f} seconds.\")\n",
       "        return result\n",
       "    return wrapper\n",
       "```\n",
       "\n",
       "### Example Usage:\n",
       "\n",
       "```python\n",
       "@timing_logger_decorator\n",
       "def example_function(n):\n",
       "    total = 0\n",
       "    for i in range(n):\n",
       "        total += i ** 2\n",
       "    return total\n",
       "\n",
       "result = example_function(10**6)\n",
       "```\n",
       "\n",
       "### Sample Output:\n",
       "```\n",
       "Calling 'example_function(1000000)'...\n",
       "'example_function' completed in 0.1234 seconds.\n",
       "```\n",
       "\n",
       "### Explanation:\n",
       "- The decorator constructs a string `signature` that includes all positional and keyword arguments, formatted nicely.\n",
       "- It prints a log message before calling the function, showing which function is called and with what arguments.\n",
       "- After execution, it logs the function's name again along with the execution time.\n",
       "\n",
       "This way, you get detailed logs about function calls, their arguments, and performance, which is very helpful for debugging and profiling!"
      ],
      "text/plain": [
       "<IPython.core.display.Markdown object>"
      ]
     },
     "metadata": {},
     "output_type": "display_data"
    },
    {
     "data": {
      "text/html": [
       "\n",
       "        <div style=\"background-color: #f1f8e9; border: 1px solid #c5e1a5; color: #33691e;\n",
       "                    padding: 3px 6px; margin-top: 4px; border-radius: 3px; font-family: monospace; \n",
       "                    font-size: 0.75em; line-height: 1.2; display: inline-block; opacity: 0.85;\">\n",
       "            ✓ gpt-4.1-nano • 0.12s • 1433↓/426↑ tokens\n",
       "        </div>\n",
       "        "
      ],
      "text/plain": [
       "<IPython.core.display.HTML object>"
      ]
     },
     "metadata": {},
     "output_type": "display_data"
    }
   ],
   "source": [
    "How would I modify this decorator to also log the function name and arguments?"
   ]
  },
  {
   "cell_type": "markdown",
   "id": "a2c06fb5",
   "metadata": {},
   "source": [
    "## 6. Using Snippets with Ambient Mode\n",
    "\n",
    "You can combine ambient mode with snippets to provide additional context to your LLM interactions."
   ]
  },
  {
   "cell_type": "code",
   "execution_count": 9,
   "id": "5ebc59e9",
   "metadata": {},
   "outputs": [
    {
     "name": "stdout",
     "output_type": "stream",
     "text": [
      "Overwriting /tmp/example_code.py\n"
     ]
    }
   ],
   "source": [
    "%%writefile /tmp/example_code.py\n",
    "# Create a code snippet to reference later\n",
    "\n",
    "\n",
    "def process_data(data_list):\n",
    "    \"\"\"Process a list of numeric data.\"\"\"\n",
    "    results = []\n",
    "    for item in data_list:\n",
    "        if isinstance(item, (int, float)):\n",
    "            results.append(item * 2)\n",
    "        else:\n",
    "            print(f\"Skipping non-numeric item: {item}\")\n",
    "    return results\n",
    "\n",
    "\n",
    "# Example usage\n",
    "sample_data = [1, 2, \"3\", 4.5, \"text\"]\n",
    "processed = process_data(sample_data)\n",
    "print(f\"Processed data: {processed}\")"
   ]
  },
  {
   "cell_type": "code",
   "execution_count": 10,
   "id": "207908c0",
   "metadata": {},
   "outputs": [
    {
     "name": "stdout",
     "output_type": "stream",
     "text": [
      "Error parsing arguments: unrecognized arguments: --snippets /tmp/example_code.py system\n"
     ]
    }
   ],
   "source": [
    "# Add the snippet to the conversation\n",
    "%llm_config --snippets /tmp/example_code.py system"
   ]
  },
  {
   "cell_type": "code",
   "execution_count": 11,
   "id": "67124447",
   "metadata": {},
   "outputs": [
    {
     "data": {
      "text/markdown": [
       "Certainly! To improve the robustness and error handling of the `timing_logger_decorator`, you can consider the following enhancements:\n",
       "\n",
       "### 1. Preserve the original function's metadata\n",
       "Use `functools.wraps` to preserve the original function's name, docstring, and other attributes, which is a best practice for decorators.\n",
       "\n",
       "### 2. Add exception handling\n",
       "Wrap the function call in a `try-except` block to catch and log exceptions, ensuring that errors don't silently pass unnoticed.\n",
       "\n",
       "### 3. Log exception details\n",
       "If an exception occurs, log the error and re-raise it to avoid hiding errors.\n",
       "\n",
       "### 4. Optional: Add a timeout or other advanced features (not required here)\n",
       "\n",
       "---\n",
       "\n",
       "### Improved version:\n",
       "\n",
       "```python\n",
       "import time\n",
       "import functools\n",
       "\n",
       "def timing_logger_decorator(func):\n",
       "    @functools.wraps(func)\n",
       "    def wrapper(*args, **kwargs):\n",
       "        # Prepare argument representation\n",
       "        args_repr = [repr(a) for a in args]\n",
       "        kwargs_repr = [f\"{k}={v!r}\" for k, v in kwargs.items()]\n",
       "        signature = \", \".join(args_repr + kwargs_repr)\n",
       "        print(f\"Calling '{func.__name__}({signature})'...\")\n",
       "\n",
       "        start_time = time.time()\n",
       "        try:\n",
       "            result = func(*args, **kwargs)\n",
       "        except Exception as e:\n",
       "            end_time = time.time()\n",
       "            elapsed_time = end_time - start_time\n",
       "            print(f\"Error in '{func.__name__}': {e}\")\n",
       "            print(f\"Function '{func.__name__}' failed after {elapsed_time:.4f} seconds.\")\n",
       "            raise  # re-raise the exception after logging\n",
       "        end_time = time.time()\n",
       "        elapsed_time = end_time - start_time\n",
       "        print(f\"'{func.__name__}' completed in {elapsed_time:.4f} seconds.\")\n",
       "        return result\n",
       "    return wrapper\n",
       "```\n",
       "\n",
       "---\n",
       "\n",
       "### Benefits:\n",
       "- **Preserves metadata** (`__name__`, `__doc__`, etc.) of the original function.\n",
       "- **Handles exceptions** gracefully, logging the error and the time taken before failure.\n",
       "- **Re-raises exceptions** to ensure normal error propagation.\n",
       "\n",
       "### Usage:\n",
       "```python\n",
       "@timing_logger_decorator\n",
       "def example_function(n):\n",
       "    if n < 0:\n",
       "        raise ValueError(\"n must be non-negative\")\n",
       "    total = 0\n",
       "    for i in range(n):\n",
       "        total += i ** 2\n",
       "    return total\n",
       "\n",
       "# This will log the error if n is negative\n",
       "try:\n",
       "    example_function(-10)\n",
       "except Exception:\n",
       "    pass\n",
       "```\n",
       "\n",
       "This makes the decorator more robust, informative, and better integrated into real-world debugging and profiling workflows."
      ],
      "text/plain": [
       "<IPython.core.display.Markdown object>"
      ]
     },
     "metadata": {},
     "output_type": "display_data"
    },
    {
     "data": {
      "text/html": [
       "\n",
       "        <div style=\"background-color: #f1f8e9; border: 1px solid #c5e1a5; color: #33691e;\n",
       "                    padding: 3px 6px; margin-top: 4px; border-radius: 3px; font-family: monospace; \n",
       "                    font-size: 0.75em; line-height: 1.2; display: inline-block; opacity: 0.85;\">\n",
       "            ✓ gpt-4.1-nano • 0.11s • 1886↓/600↑ tokens\n",
       "        </div>\n",
       "        "
      ],
      "text/plain": [
       "<IPython.core.display.HTML object>"
      ]
     },
     "metadata": {},
     "output_type": "display_data"
    }
   ],
   "source": [
    "Review the code in the snippet. How could I improve the error handling and make the function more robust?"
   ]
  },
  {
   "cell_type": "markdown",
   "id": "62ada087",
   "metadata": {},
   "source": [
    "## 7. Disabling Ambient Mode\n",
    "\n",
    "When you're done using ambient mode, you should disable it to return to normal notebook operation."
   ]
  },
  {
   "cell_type": "code",
   "execution_count": 12,
   "id": "7551ea29",
   "metadata": {},
   "outputs": [
    {
     "name": "stdout",
     "output_type": "stream",
     "text": [
      "❌ Ambient mode DISABLED. Regular cells will now be executed normally.\n",
      "✅ Ambient mode is now disabled - cells will be executed as normal Python code\n"
     ]
    }
   ],
   "source": [
    "# Disable ambient mode\n",
    "%disable_llm_config_persistent\n",
    "\n",
    "# Verify it's disabled\n",
    "if not is_ambient_mode_enabled():\n",
    "    print(\"✅ Ambient mode is now disabled - cells will be executed as normal Python code\")\n",
    "else:\n",
    "    print(\"❌ There was an issue disabling ambient mode\")"
   ]
  },
  {
   "cell_type": "markdown",
   "id": "afe3248b",
   "metadata": {},
   "source": [
    "## 8. Troubleshooting Ambient Mode\n",
    "\n",
    "If you're experiencing issues with ambient mode, try these solutions:\n",
    "\n",
    "1. **Extension not loading**: Ensure the extension is loaded with `%load_ext cellmage`\n",
    "2. **Ambient mode not detecting text**: Make sure your text doesn't contain Python keywords or assignments\n",
    "3. **API errors**: Verify your API credentials in the `.env` file\n",
    "4. **Command not found**: Restart the kernel and reload the extension\n",
    "5. **No response**: Check if the model is available and your internet connection is stable\n",
    "\n",
    "### Alternative Approach: Manual Processing\n",
    "\n",
    "If ambient mode isn't working, you can still use the regular `%%llm` magic command:"
   ]
  },
  {
   "cell_type": "code",
   "execution_count": 13,
   "id": "52594086",
   "metadata": {},
   "outputs": [
    {
     "data": {
      "text/markdown": [
       "In CellMage, **ambient mode** and **regular magic commands** serve different purposes for managing and enhancing notebook workflows. Here's an overview of their advantages:\n",
       "\n",
       "### Ambient Mode\n",
       "- **Definition:** Ambient mode refers to an environment where certain behaviors or configurations are automatically active across cells or the entire notebook without needing explicit commands in each cell.\n",
       "- **Advantages:**\n",
       "  - **Persistent Configuration:** Settings like automatic cell organization, execution controls, or visual enhancements are applied globally or persist across sessions, reducing repetitive manual commands.\n",
       "  - **Streamlined Workflow:** Users can focus on writing code without constantly invoking magic commands, leading to a cleaner and more natural coding experience.\n",
       "  - **Consistency:** Ensures a uniform environment, making notebooks more reproducible and easier to collaborate on, since the environment adapts automatically.\n",
       "  - **Reduced Clutter:** Eliminates the need to insert magic commands in every cell, making notebooks cleaner and more readable.\n",
       "\n",
       "### Regular Magic Commands\n",
       "- **Definition:** Explicit commands (like `%time`, `%run`, `%load`, etc.) that are inserted into cells to perform specific actions.\n",
       "- **Advantages:**\n",
       "  - **Granular Control:** Allows precise, cell-by-cell customization of behaviors, such as timing, profiling, or running specific scripts.\n",
       "  - **Explicitness:** Users can clearly see which magic commands are being used, improving readability and understanding of the notebook’s workflow.\n",
       "  - **Flexibility:** Easy to toggle behaviors on and off for individual cells without affecting the overall environment.\n",
       "  - **Compatibility:** Compatible with standard Jupyter notebooks and can be used in environments without CellMage or in combination with other tools.\n",
       "\n",
       "---\n",
       "\n",
       "### Summary of Advantages\n",
       "\n",
       "| Aspect | Ambient Mode | Regular Magic Commands |\n",
       "|---------|----------------|------------------------|\n",
       "| **Persistence** | Changes apply automatically across the notebook or session | Applied only when explicitly invoked in a cell |\n",
       "| **Ease of Use** | Reduces repetitive commands, cleaner notebooks | Offers precise control per cell |\n",
       "| **Readability** | Cleaner notebook interface without clutter | Clear indication of specific behaviors per cell |\n",
       "| **Control** | Less granular, broader settings | Highly granular, cell-specific customization |\n",
       "| **Setup** | Usually configured once at startup or session | Inserted as needed in individual cells |\n",
       "\n",
       "---\n",
       "\n",
       "### **In essence:**\n",
       "- **Ambient mode** is ideal for **automatic, persistent enhancements** that improve overall workflow and reduce boilerplate.\n",
       "- **Magic commands** are best for **fine-grained, explicit control** when specific actions or diagnostics are required on a per-cell basis.\n",
       "\n",
       "Using both strategically allows for a flexible and efficient notebook environment tailored to your workflow!"
      ],
      "text/plain": [
       "<IPython.core.display.Markdown object>"
      ]
     },
     "metadata": {},
     "output_type": "display_data"
    },
    {
     "data": {
      "text/html": [
       "\n",
       "        <div style=\"background-color: #f1f8e9; border: 1px solid #c5e1a5; color: #33691e;\n",
       "                    padding: 3px 6px; margin-top: 4px; border-radius: 3px; font-family: monospace; \n",
       "                    font-size: 0.75em; line-height: 1.2; display: inline-block; opacity: 0.85;\">\n",
       "            ✓ gpt-4.1-nano • 7.01s • 2509↓/724↑ tokens\n",
       "        </div>\n",
       "        "
      ],
      "text/plain": [
       "<IPython.core.display.HTML object>"
      ]
     },
     "metadata": {},
     "output_type": "display_data"
    }
   ],
   "source": [
    "%%llm\n",
    "What are the advantages of using ambient mode versus regular magic commands in CellMage?"
   ]
  },
  {
   "cell_type": "markdown",
   "id": "6db2df9e",
   "metadata": {},
   "source": [
    "## 9. Best Practices for Ambient Mode\n",
    "\n",
    "To get the most out of ambient mode, follow these best practices:\n",
    "\n",
    "1. **Enable selectively**: Only enable ambient mode when you're in \"conversation mode\" with your LLM\n",
    "2. **Disable when coding**: Disable ambient mode when you need to write and execute actual code\n",
    "3. **Clear history**: Use `%llm_config --clear-history` periodically to avoid context limits\n",
    "4. **Be explicit**: When mixing code and prompts, use `%%llm` for prompts to avoid confusion\n",
    "5. **Monitor costs**: Remember that each cell processed in ambient mode consumes tokens"
   ]
  },
  {
   "cell_type": "markdown",
   "id": "5fd64b4d",
   "metadata": {},
   "source": [
    "## 10. Working with Multiple Persona and Snippet Folders\n",
    "\n",
    "CellMage allows you to work with multiple persona and snippet folders, which is useful for organizing content by project, domain, or team.\n",
    "\n",
    "### Setting Up Multiple Directories"
   ]
  },
  {
   "cell_type": "code",
   "execution_count": 14,
   "id": "e52765d9",
   "metadata": {},
   "outputs": [
    {
     "name": "stdout",
     "output_type": "stream",
     "text": [
      "ℹ️ Ambient mode was not active.\n",
      "✅ Example files and directories created successfully\n"
     ]
    }
   ],
   "source": [
    "# First, disable ambient mode to prevent processing these cells as prompts\n",
    "%disable_llm_config_persistent\n",
    "\n",
    "# Import needed modules\n",
    "import os\n",
    "from cellmage.resources.file_loader import FileLoader\n",
    "\n",
    "# Create example directories if they don't exist\n",
    "os.makedirs(\"project_A/personas\", exist_ok=True)\n",
    "os.makedirs(\"project_A/snippets\", exist_ok=True)\n",
    "os.makedirs(\"project_B/personas\", exist_ok=True)\n",
    "os.makedirs(\"project_B/snippets\", exist_ok=True)\n",
    "\n",
    "# Create example content\n",
    "with open(\"project_A/personas/tech_expert.md\", \"w\") as f:\n",
    "    f.write(\"\"\"---\n",
    "name: tech_expert\n",
    "temperature: 0.3\n",
    "model: gpt-4.1-nano\n",
    "---\n",
    "You are a technical expert who provides concise, accurate answers about technology topics.\"\"\")\n",
    "\n",
    "with open(\"project_A/snippets/api_spec.md\", \"w\") as f:\n",
    "    f.write(\"\"\"# API Specification\n",
    "The API uses REST principles with JSON payloads. Authentication requires an API key in the Authorization header.\"\"\")\n",
    "\n",
    "with open(\"project_B/personas/creative_writer.md\", \"w\") as f:\n",
    "    f.write(\"\"\"---\n",
    "name: creative_writer\n",
    "temperature: 0.8\n",
    "model: gpt-4.1-nano\n",
    "---\n",
    "You are a creative writer who generates imaginative, engaging content with vivid descriptions.\"\"\")\n",
    "\n",
    "with open(\"project_B/snippets/story_outline.md\", \"w\") as f:\n",
    "    f.write(\"\"\"# Story Outline\n",
    "The protagonist discovers a hidden portal in their basement that leads to a parallel universe.\"\"\")\n",
    "\n",
    "print(\"✅ Example files and directories created successfully\")"
   ]
  },
  {
   "cell_type": "markdown",
   "id": "ee1393f8",
   "metadata": {},
   "source": [
    "### Creating FileLoaders for Each Directory\n",
    "\n",
    "Now let's set up FileLoaders to access these different directories:"
   ]
  },
  {
   "cell_type": "code",
   "execution_count": 15,
   "id": "f56c8c5b",
   "metadata": {},
   "outputs": [
    {
     "name": "stdout",
     "output_type": "stream",
     "text": [
      "Project A Personas: ['tech_expert']\n",
      "Project A Snippets: ['api_spec']\n",
      "Project B Personas: ['creative_writer']\n",
      "Project B Snippets: ['story_outline']\n"
     ]
    }
   ],
   "source": [
    "# Create file loaders for each project\n",
    "project_A_loader = FileLoader(personas_dir=\"project_A/personas\", snippets_dir=\"project_A/snippets\")\n",
    "project_B_loader = FileLoader(personas_dir=\"project_B/personas\", snippets_dir=\"project_B/snippets\")\n",
    "\n",
    "# Check available resources in each project\n",
    "print(\"Project A Personas:\", project_A_loader.list_personas())\n",
    "print(\"Project A Snippets:\", project_A_loader.list_snippets())\n",
    "print(\"Project B Personas:\", project_B_loader.list_personas())\n",
    "print(\"Project B Snippets:\", project_B_loader.list_snippets())"
   ]
  },
  {
   "cell_type": "markdown",
   "id": "c021004b",
   "metadata": {},
   "source": [
    "### Using Content from Multiple Sources\n",
    "\n",
    "You can load personas and snippets from these different directories and use them in your conversations:"
   ]
  },
  {
   "cell_type": "code",
   "execution_count": 16,
   "id": "f466c3ce",
   "metadata": {},
   "outputs": [
    {
     "name": "stdout",
     "output_type": "stream",
     "text": [
      "Loaded persona: tech_expert\n",
      "System message: You are a technical expert who provides concise, a...\n",
      "Config: {'name': 'tech_expert', 'temperature': 0.3, 'model': 'gpt-4.1-nano'}\n",
      "\n",
      "Loaded snippet:\n",
      "# Story Outline\n",
      "The protagonist discovers a hidden portal in their basement that leads to a parallel...\n"
     ]
    }
   ],
   "source": [
    "# Load a persona from Project A\n",
    "tech_persona = project_A_loader.get_persona(\"tech_expert\")\n",
    "print(f\"Loaded persona: {tech_persona.name}\")\n",
    "print(f\"System message: {tech_persona.system_message[:50]}...\")\n",
    "print(f\"Config: {tech_persona.config}\")\n",
    "\n",
    "# Load a snippet from Project B\n",
    "story_snippet = project_B_loader.get_snippet(\"story_outline\")\n",
    "print(\"\\nLoaded snippet:\")\n",
    "print(f\"{story_snippet[:100]}...\")"
   ]
  },
  {
   "cell_type": "markdown",
   "id": "f754bcd1",
   "metadata": {},
   "source": [
    "### Creating a Context Switcher\n",
    "\n",
    "Here's a utility function that allows you to easily switch between different project contexts:"
   ]
  },
  {
   "cell_type": "code",
   "execution_count": 17,
   "id": "37b921fb",
   "metadata": {},
   "outputs": [
    {
     "name": "stdout",
     "output_type": "stream",
     "text": [
      "Project A personas: ['tech_expert']\n",
      "Project B personas: ['creative_writer']\n"
     ]
    }
   ],
   "source": [
    "from cellmage.resources.memory_loader import MemoryLoader\n",
    "from cellmage.chat_manager import ChatManager\n",
    "from cellmage.config import Settings\n",
    "\n",
    "\n",
    "def create_project_context(project_name):\n",
    "    \"\"\"Create a ChatManager with resources from the specified project\"\"\"\n",
    "    if project_name == \"project_A\":\n",
    "        loader = FileLoader(personas_dir=\"project_A/personas\", snippets_dir=\"project_A/snippets\")\n",
    "    elif project_name == \"project_B\":\n",
    "        loader = FileLoader(personas_dir=\"project_B/personas\", snippets_dir=\"project_B/snippets\")\n",
    "    else:\n",
    "        # Use the default loader for unknown projects\n",
    "        loader = FileLoader()\n",
    "\n",
    "    # Create a chat manager with the specified loader\n",
    "    settings = Settings()\n",
    "    # Note: You'd need to create an LLM client and other components here\n",
    "    # This is a simplified example\n",
    "    return loader\n",
    "\n",
    "\n",
    "# Example usage:\n",
    "project_a_context = create_project_context(\"project_A\")\n",
    "project_b_context = create_project_context(\"project_B\")\n",
    "\n",
    "print(f\"Project A personas: {project_a_context.list_personas()}\")\n",
    "print(f\"Project B personas: {project_b_context.list_personas()}\")"
   ]
  },
  {
   "cell_type": "markdown",
   "id": "895aa3cd",
   "metadata": {},
   "source": [
    "### Using Multiple Directory Loaders in a Notebook\n",
    "\n",
    "In practice, you may want to use a combination of loaders to access resources from multiple locations:"
   ]
  },
  {
   "cell_type": "code",
   "execution_count": 18,
   "id": "4252a033",
   "metadata": {},
   "outputs": [
    {
     "name": "stderr",
     "output_type": "stream",
     "text": [
      "2025-04-27 14:59:21,298 - cellmage.resources.file_loader - WARNING - Persona 'creative_writer' not found in project_A/personas\n"
     ]
    },
    {
     "name": "stdout",
     "output_type": "stream",
     "text": [
      "Found persona 'tech_expert' in project_A/personas\n",
      "Found persona 'creative_writer' in project_B/personas\n",
      "Found snippet 'api_spec' in project_A/snippets\n",
      "Tech persona system message: You are a technical expert who...\n",
      "Creative persona system message: You are a creative writer who ...\n",
      "API snippet content: # API Specification\n",
      "The API us...\n"
     ]
    }
   ],
   "source": [
    "# Create a composite loader that can access multiple directories\n",
    "def load_from_multiple_sources(persona_name=None, snippet_name=None):\n",
    "    \"\"\"Load personas or snippets from multiple sources\"\"\"\n",
    "    # Define our loaders\n",
    "    loaders = [\n",
    "        FileLoader(personas_dir=\"project_A/personas\", snippets_dir=\"project_A/snippets\"),\n",
    "        FileLoader(personas_dir=\"project_B/personas\", snippets_dir=\"project_B/snippets\"),\n",
    "        FileLoader(),  # Default loader\n",
    "    ]\n",
    "\n",
    "    # Try to load a persona if requested\n",
    "    if persona_name:\n",
    "        for loader in loaders:\n",
    "            persona = loader.get_persona(persona_name)\n",
    "            if persona:\n",
    "                print(f\"Found persona '{persona_name}' in {loader.personas_dir}\")\n",
    "                return persona\n",
    "        print(f\"Persona '{persona_name}' not found in any directory\")\n",
    "        return None\n",
    "\n",
    "    # Try to load a snippet if requested\n",
    "    if snippet_name:\n",
    "        for loader in loaders:\n",
    "            snippet = loader.get_snippet(snippet_name)\n",
    "            if snippet:\n",
    "                print(f\"Found snippet '{snippet_name}' in {loader.snippets_dir}\")\n",
    "                return snippet\n",
    "        print(f\"Snippet '{snippet_name}' not found in any directory\")\n",
    "        return None\n",
    "\n",
    "    return None\n",
    "\n",
    "\n",
    "# Example usage\n",
    "tech_persona = load_from_multiple_sources(persona_name=\"tech_expert\")\n",
    "creative_persona = load_from_multiple_sources(persona_name=\"creative_writer\")\n",
    "api_snippet = load_from_multiple_sources(snippet_name=\"api_spec\")\n",
    "\n",
    "# Show what we found\n",
    "if tech_persona:\n",
    "    print(f\"Tech persona system message: {tech_persona.system_message[:30]}...\")\n",
    "if creative_persona:\n",
    "    print(f\"Creative persona system message: {creative_persona.system_message[:30]}...\")\n",
    "if api_snippet:\n",
    "    print(f\"API snippet content: {api_snippet[:30]}...\")"
   ]
  },
  {
   "cell_type": "markdown",
   "id": "da5967e8",
   "metadata": {},
   "source": [
    "### Advanced: Environment-Based Directory Configuration\n",
    "\n",
    "You can also set up environment variables to configure the directories:"
   ]
  },
  {
   "cell_type": "code",
   "execution_count": 19,
   "id": "035dc046",
   "metadata": {},
   "outputs": [
    {
     "name": "stdout",
     "output_type": "stream",
     "text": [
      "Current personas directory: project_A/personas\n",
      "Current snippets directory: project_A/snippets\n"
     ]
    }
   ],
   "source": [
    "import os\n",
    "\n",
    "# Set environment variables for CellMage to use\n",
    "os.environ[\"CELLMAGE_PERSONAS_DIR\"] = \"project_A/personas\"\n",
    "os.environ[\"CELLMAGE_SNIPPETS_DIR\"] = \"project_A/snippets\"\n",
    "\n",
    "# Reload settings to pick up the new values\n",
    "from cellmage.config import Settings\n",
    "\n",
    "settings = Settings()\n",
    "\n",
    "print(f\"Current personas directory: {settings.personas_dir}\")\n",
    "print(f\"Current snippets directory: {settings.snippets_dir}\")\n",
    "\n",
    "# You could also create a new chat manager with these settings\n",
    "# manager = ChatManager(settings=settings, ...)"
   ]
  },
  {
   "cell_type": "markdown",
   "id": "2eb69c20",
   "metadata": {},
   "source": [
    "## Conclusion\n",
    "\n",
    "Ambient mode provides a seamless way to interact with LLMs directly in your notebook without constantly typing `%%llm`. It's perfect for exploratory discussions, brainstorming, and quick questions while working in your notebook.\n",
    "\n",
    "Using multiple persona and snippet folders allows you to organize your LLM interactions by project, domain, or use case, making it easier to manage complex workflows with different contexts.\n",
    "\n",
    "For more examples, check out the [02_persistent_chat_example.ipynb](02_persistent_chat_example.ipynb) notebook next!"
   ]
  }
 ],
 "metadata": {
  "kernelspec": {
   "display_name": ".venv",
   "language": "python",
   "name": "python3"
  },
  "language_info": {
   "codemirror_mode": {
    "name": "ipython",
    "version": 3
   },
   "file_extension": ".py",
   "mimetype": "text/x-python",
   "name": "python",
   "nbconvert_exporter": "python",
   "pygments_lexer": "ipython3",
   "version": "3.10.16"
  }
 },
 "nbformat": 4,
 "nbformat_minor": 5
}
