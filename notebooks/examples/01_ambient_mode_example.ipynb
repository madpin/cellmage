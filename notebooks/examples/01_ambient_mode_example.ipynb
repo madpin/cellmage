{
 "cells": [
  {
   "cell_type": "markdown",
   "id": "27985bf0",
   "metadata": {},
   "source": [
    "# 🧙 CellMage Ambient Mode Example ✨\n",
    "\n",
    "This notebook demonstrates how to use CellMage's powerful **ambient mode** feature, which allows you to interact with LLMs using regular code cells.\n",
    "\n",
    "**Date:** April 26, 2025\n",
    "\n",
    "## What is Ambient Mode?\n",
    "\n",
    "Ambient mode is a special feature of CellMage that transforms regular notebook cells into LLM prompts. When enabled, cells that contain natural language (rather than code) are automatically sent to the configured LLM, allowing for a seamless chat-like experience without needing to use the `%%llm` magic command for each interaction."
   ]
  },
  {
   "cell_type": "markdown",
   "id": "c05ef3b1",
   "metadata": {},
   "source": [
    "## 1. Setting Up CellMage\n",
    "\n",
    "First, let's load the CellMage extension and verify it's working properly."
   ]
  },
  {
   "cell_type": "code",
   "execution_count": 1,
   "id": "8af79dbd",
   "metadata": {},
   "outputs": [
    {
     "name": "stdout",
     "output_type": "stream",
     "text": [
      "✅ NotebookLLM Magics loaded. Use %llm_config and %%llm.\n",
      "   For ambient mode, try %llm_config_persistent to process all cells as LLM prompts.\n",
      "CellMage version: 0.1.0\n",
      "--- NotebookLLM Status ---\n",
      "Session ID: 60c9f3fe-50de-4b27-acac-d1188dfd13dd\n",
      "None\n",
      "Active Overrides: {'api_key': 'sk-L...mA', 'api_base': 'https://litellm.oracle.madpin.dev', 'model': 'gpt-4.1-nano'}\n",
      "History Length: 0 messages\n",
      "--------------------------\n"
     ]
    }
   ],
   "source": [
    "# Load the extension\n",
    "%load_ext cellmage\n",
    "\n",
    "# Import the necessary modules\n",
    "import cellmage\n",
    "print(f\"CellMage version: {cellmage.__version__}\")\n",
    "\n",
    "# Verify that it's working by showing the current status\n",
    "%llm_config --status"
   ]
  },
  {
   "cell_type": "markdown",
   "id": "b7641799",
   "metadata": {},
   "source": [
    "## 2. Configuring Your LLM Settings\n",
    "\n",
    "Before enabling ambient mode, let's configure our LLM settings to make sure we're using the model we want."
   ]
  },
  {
   "cell_type": "code",
   "execution_count": 2,
   "id": "8c8a068f",
   "metadata": {},
   "outputs": [
    {
     "name": "stdout",
     "output_type": "stream",
     "text": [
      "✅ Default model set to: gpt-4.1-nano\n",
      "✅ Override set: temperature = 0.7 (float)\n",
      "--- NotebookLLM Status ---\n",
      "Session ID: 60c9f3fe-50de-4b27-acac-d1188dfd13dd\n",
      "None\n",
      "Active Overrides: {'api_key': 'sk-L...mA', 'api_base': 'https://litellm.oracle.madpin.dev', 'model': 'gpt-4.1-nano', 'temperature': 0.7}\n",
      "History Length: 0 messages\n",
      "--------------------------\n"
     ]
    }
   ],
   "source": [
    "# Set up LLM configuration\n",
    "%llm_config --model gpt-4.1-nano --set-override temperature 0.7\n",
    "\n",
    "# Optionally, set a persona for a specific conversation style\n",
    "# Uncomment the line below and replace with your preferred persona\n",
    "# %llm_config --persona helpful_assistant\n",
    "\n",
    "# Check the configuration\n",
    "%llm_config --status"
   ]
  },
  {
   "cell_type": "markdown",
   "id": "4ed732a7",
   "metadata": {},
   "source": [
    "## 3. Enabling Ambient Mode\n",
    "\n",
    "Now let's enable ambient mode. Once enabled, regular cells containing natural language will be processed as prompts to the LLM."
   ]
  },
  {
   "cell_type": "code",
   "execution_count": 3,
   "id": "e296f29b",
   "metadata": {},
   "outputs": [
    {
     "name": "stdout",
     "output_type": "stream",
     "text": [
      "--- NotebookLLM Status ---\n",
      "Session ID: 60c9f3fe-50de-4b27-acac-d1188dfd13dd\n",
      "None\n",
      "Active Overrides: {'api_key': 'sk-L...mA', 'api_base': 'https://litellm.oracle.madpin.dev', 'model': 'gpt-4.1-nano', 'temperature': 0.7}\n",
      "History Length: 0 messages\n",
      "--------------------------\n",
      "✅ Ambient mode ENABLED. All cells will now be processed as LLM prompts unless they start with % or !.\n",
      "   Run %disable_llm_config_persistent to disable ambient mode.\n",
      "✅ Ambient mode is enabled - regular cells will be treated as prompts to the LLM\n"
     ]
    }
   ],
   "source": [
    "# Enable ambient mode\n",
    "%llm_config_persistent\n",
    "\n",
    "# Check if ambient mode is enabled\n",
    "from cellmage.ambient_mode import is_ambient_mode_enabled\n",
    "\n",
    "if is_ambient_mode_enabled():\n",
    "    print(\"✅ Ambient mode is enabled - regular cells will be treated as prompts to the LLM\")\n",
    "else:\n",
    "    print(\"❌ Ambient mode is NOT enabled - please check for errors above\")"
   ]
  },
  {
   "cell_type": "markdown",
   "id": "ca957206",
   "metadata": {},
   "source": [
    "## 4. Using Ambient Mode\n",
    "\n",
    "Now that ambient mode is enabled, you can simply type natural language in a code cell and run it. The cell content will be sent to the LLM, and the response will be displayed.\n",
    "\n",
    "Let's try it out!"
   ]
  },
  {
   "cell_type": "code",
   "execution_count": 4,
   "id": "88311210",
   "metadata": {},
   "outputs": [
    {
     "data": {
      "text/markdown": [
       "CellMage is an innovative tool designed to enhance the workflow within Jupyter notebooks by providing advanced cell management and execution capabilities. It offers features such as intelligent cell execution, improved cell organization, and streamlined interaction with notebook content, enabling data scientists and researchers to work more efficiently and effectively.\n",
       "\n",
       "**How CellMage Enhances Jupyter Notebook Workflows:**\n",
       "\n",
       "1. **Smart Cell Execution:**  \n",
       "   CellMage allows users to execute cells selectively based on various criteria, such as dependencies, tags, or custom conditions. This reduces the need to run entire notebooks repeatedly and helps in focusing on specific sections.\n",
       "\n",
       "2. **Improved Cell Organization:**  \n",
       "   It provides tools for better cell management, including grouping, collapsing, and annotating cells. This leads to cleaner notebooks that are easier to navigate and maintain, especially in large projects.\n",
       "\n",
       "3. **Dependency Management:**  \n",
       "   CellMage can track dependencies between cells, ensuring that cells are executed in the correct order and that outputs are consistent with their inputs. This minimizes errors caused by out-of-date outputs.\n",
       "\n",
       "4. **Enhanced Workflow Automation:**  \n",
       "   It supports automating common tasks, such as rerunning only changed cells or resetting parts of the notebook, which accelerates iterative development and experimentation.\n",
       "\n",
       "5. **Integration with Notebook Metadata:**  \n",
       "   By leveraging metadata, CellMage enables customized workflows, such as tagging cells for specific processing or visualization, thus making notebooks more dynamic and adaptable.\n",
       "\n",
       "**In summary:**  \n",
       "CellMage acts as an extension to Jupyter notebooks that brings smarter cell management, dependency tracking, and automation features. These enhancements help users write, organize, and execute code more efficiently, ultimately improving productivity and reproducibility in data analysis and scientific research workflows."
      ],
      "text/plain": [
       "<IPython.core.display.Markdown object>"
      ]
     },
     "metadata": {},
     "output_type": "display_data"
    },
    {
     "data": {
      "text/html": [
       "\n",
       "        <div style=\"background-color: #f1f8e9; border: 1px solid #c5e1a5; color: #33691e;\n",
       "                    padding: 3px 6px; margin-top: 4px; border-radius: 3px; font-family: monospace; \n",
       "                    font-size: 0.75em; line-height: 1.2; display: inline-block; opacity: 0.85;\">\n",
       "            ✓ gpt-4.1-nano • 3.48s • 17↓/489↑ tokens\n",
       "        </div>\n",
       "        "
      ],
      "text/plain": [
       "<IPython.core.display.HTML object>"
      ]
     },
     "metadata": {},
     "output_type": "display_data"
    }
   ],
   "source": [
    "What is CellMage and how does it enhance Jupyter notebook workflows?"
   ]
  },
  {
   "cell_type": "markdown",
   "id": "0c90b56a",
   "metadata": {},
   "source": [
    "### How Ambient Mode Detects Natural Language\n",
    "\n",
    "Ambient mode uses heuristics to determine whether a cell contains code or natural language:\n",
    "\n",
    "* If a cell starts with `%`, `%%`, or `!`, it's treated as a magic command or shell command\n",
    "* If a cell contains Python keywords like `def`, `class`, `import`, or assignment operations (`=`), it's treated as code\n",
    "* Otherwise, it's assumed to be natural language and processed as an LLM prompt\n",
    "\n",
    "Let's see this in action:"
   ]
  },
  {
   "cell_type": "code",
   "execution_count": 5,
   "id": "fc482cb5",
   "metadata": {},
   "outputs": [
    {
     "data": {
      "text/markdown": [
       "It looks like you've included some Python code here:\n",
       "\n",
       "```python\n",
       "x = 10\n",
       "y = 20\n",
       "print(\"This is normal Python code:\", x + y)\n",
       "```\n",
       "\n",
       "If you're aiming to display this code as plain text (for example, in a markdown or documentation context) without it being executed or formatted as code, you can enclose it in triple backticks with a language specifier or without one to prevent syntax highlighting. Alternatively, if you want to show it as plain text without formatting, just write it as-is.\n",
       "\n",
       "**For example, in markdown:**\n",
       "\n",
       "```plaintext\n",
       "# This is detected as code due to Python syntax\n",
       "\n",
       "x = 10\n",
       "\n",
       "y = 20\n",
       "\n",
       "print(\"This is normal Python code:\", x + y)\n",
       "```\n",
       "\n",
       "or simply:\n",
       "\n",
       "This is detected as code due to Python syntax\n",
       "\n",
       "x = 10\n",
       "\n",
       "y = 20\n",
       "\n",
       "print(\"This is normal Python code:\", x + y)\n",
       "\n",
       "If you'd like help with formatting or displaying code snippets in a specific context, please let me know!"
      ],
      "text/plain": [
       "<IPython.core.display.Markdown object>"
      ]
     },
     "metadata": {},
     "output_type": "display_data"
    },
    {
     "data": {
      "text/html": [
       "\n",
       "        <div style=\"background-color: #f1f8e9; border: 1px solid #c5e1a5; color: #33691e;\n",
       "                    padding: 3px 6px; margin-top: 4px; border-radius: 3px; font-family: monospace; \n",
       "                    font-size: 0.75em; line-height: 1.2; display: inline-block; opacity: 0.85;\">\n",
       "            ✓ gpt-4.1-nano • 2.48s • 533↓/217↑ tokens\n",
       "        </div>\n",
       "        "
      ],
      "text/plain": [
       "<IPython.core.display.HTML object>"
      ]
     },
     "metadata": {},
     "output_type": "display_data"
    }
   ],
   "source": [
    "# This is detected as code due to Python syntax\n",
    "x = 10\n",
    "y = 20\n",
    "print(\"This is normal Python code:\", x + y)"
   ]
  },
  {
   "cell_type": "code",
   "execution_count": 6,
   "id": "b103d95f",
   "metadata": {},
   "outputs": [
    {
     "data": {
      "text/markdown": [
       "In Python, **function decorators** are a powerful and elegant way to modify or enhance the behavior of functions without changing their actual code. A decorator is essentially a function that takes another function as an argument, adds some functionality to it, and returns a new function with the added behavior.\n",
       "\n",
       "### How Decorators Work\n",
       "\n",
       "- You define a decorator function that accepts a function as input.\n",
       "- Inside the decorator, you define a wrapper function that adds some behavior before or after calling the original function.\n",
       "- You then return this wrapper function.\n",
       "- When you decorate a function with the `@decorator_name` syntax, Python automatically passes the original function to the decorator.\n",
       "\n",
       "### Simple Example\n",
       "\n",
       "Let's create a decorator that prints a message before and after calling a function:\n",
       "\n",
       "```python\n",
       "def my_decorator(func):\n",
       "    def wrapper():\n",
       "        print(\"Before the function call.\")\n",
       "        func()\n",
       "        print(\"After the function call.\")\n",
       "    return wrapper\n",
       "\n",
       "# Using the decorator\n",
       "@my_decorator\n",
       "def say_hello():\n",
       "    print(\"Hello!\")\n",
       "\n",
       "# Call the decorated function\n",
       "say_hello()\n",
       "```\n",
       "\n",
       "### Output:\n",
       "\n",
       "```\n",
       "Before the function call.\n",
       "Hello!\n",
       "After the function call.\n",
       "```\n",
       "\n",
       "### Explanation:\n",
       "\n",
       "- `my_decorator` is a decorator function.\n",
       "- When `@my_decorator` is placed above `say_hello()`, it wraps `say_hello` with the `wrapper` function.\n",
       "- Calling `say_hello()` actually invokes `wrapper()`, which adds additional behavior around the original function.\n",
       "\n",
       "### Summary:\n",
       "\n",
       "- Decorators modify or extend function behavior in a clean, readable way.\n",
       "- They are widely used for logging, access control, timing, and more.\n",
       "\n",
       "If you'd like, I can provide more advanced examples or explain how to decorate functions with parameters!"
      ],
      "text/plain": [
       "<IPython.core.display.Markdown object>"
      ]
     },
     "metadata": {},
     "output_type": "display_data"
    },
    {
     "data": {
      "text/html": [
       "\n",
       "        <div style=\"background-color: #f1f8e9; border: 1px solid #c5e1a5; color: #33691e;\n",
       "                    padding: 3px 6px; margin-top: 4px; border-radius: 3px; font-family: monospace; \n",
       "                    font-size: 0.75em; line-height: 1.2; display: inline-block; opacity: 0.85;\">\n",
       "            ✓ gpt-4.1-nano • 3.25s • 770↓/433↑ tokens\n",
       "        </div>\n",
       "        "
      ],
      "text/plain": [
       "<IPython.core.display.HTML object>"
      ]
     },
     "metadata": {},
     "output_type": "display_data"
    }
   ],
   "source": [
    "Explain the concept of function decorators in Python with a simple example."
   ]
  },
  {
   "cell_type": "markdown",
   "id": "45e54bd1",
   "metadata": {},
   "source": [
    "## 5. Advanced: Multi-Turn Conversations\n",
    "\n",
    "One of the benefits of ambient mode is the ability to maintain context across multiple cells, creating a coherent conversation with the LLM."
   ]
  },
  {
   "cell_type": "code",
   "execution_count": 7,
   "id": "5cc49127",
   "metadata": {},
   "outputs": [
    {
     "data": {
      "text/markdown": [
       "Certainly! A timing decorator is a great way to measure how long a function takes to execute. Here's how you can create such a decorator in Python:\n",
       "\n",
       "```python\n",
       "import time\n",
       "\n",
       "def timing_decorator(func):\n",
       "    def wrapper(*args, **kwargs):\n",
       "        start_time = time.time()  # Record start time\n",
       "        result = func(*args, **kwargs)  # Call the original function\n",
       "        end_time = time.time()  # Record end time\n",
       "        duration = end_time - start_time\n",
       "        print(f\"Function '{func.__name__}' took {duration:.4f} seconds to execute.\")\n",
       "        return result\n",
       "    return wrapper\n",
       "```\n",
       "\n",
       "**Usage example:**\n",
       "\n",
       "```python\n",
       "@timing_decorator\n",
       "def slow_function(seconds):\n",
       "    print(f\"Sleeping for {seconds} seconds...\")\n",
       "    time.sleep(seconds)\n",
       "    print(\"Done sleeping.\")\n",
       "\n",
       "# Call the decorated function\n",
       "slow_function(2)\n",
       "```\n",
       "\n",
       "**Expected output:**\n",
       "\n",
       "```\n",
       "Sleeping for 2 seconds...\n",
       "Done sleeping.\n",
       "Function 'slow_function' took 2.0001 seconds to execute.\n",
       "```\n",
       "\n",
       "**Explanation:**\n",
       "\n",
       "- The `timing_decorator` wraps any function to measure its execution time.\n",
       "- It uses `time.time()` before and after the function call to compute the duration.\n",
       "- The decorator prints out the execution time in seconds, formatted to 4 decimal places.\n",
       "- The wrapped function can accept any arguments thanks to `*args` and `**kwargs`.\n",
       "- The original function's result is returned seamlessly.\n",
       "\n",
       "Would you like me to show how to handle more complex scenarios or decorate class methods?"
      ],
      "text/plain": [
       "<IPython.core.display.Markdown object>"
      ]
     },
     "metadata": {},
     "output_type": "display_data"
    },
    {
     "data": {
      "text/html": [
       "\n",
       "        <div style=\"background-color: #f1f8e9; border: 1px solid #c5e1a5; color: #33691e;\n",
       "                    padding: 3px 6px; margin-top: 4px; border-radius: 3px; font-family: monospace; \n",
       "                    font-size: 0.75em; line-height: 1.2; display: inline-block; opacity: 0.85;\">\n",
       "            ✓ gpt-4.1-nano • 2.82s • 1237↓/358↑ tokens\n",
       "        </div>\n",
       "        "
      ],
      "text/plain": [
       "<IPython.core.display.HTML object>"
      ]
     },
     "metadata": {},
     "output_type": "display_data"
    }
   ],
   "source": [
    "Given your previous explanation of decorators, could you show how to create a timing decorator that measures function execution time?"
   ]
  },
  {
   "cell_type": "code",
   "execution_count": 8,
   "id": "4d23c1f2",
   "metadata": {},
   "outputs": [
    {
     "data": {
      "text/markdown": [
       "Great question! To enhance the timing decorator so that it also logs the function name and its arguments, you can include those details in the print statement. Here's an updated version of the decorator:\n",
       "\n",
       "```python\n",
       "import time\n",
       "\n",
       "def timing_decorator(func):\n",
       "    def wrapper(*args, **kwargs):\n",
       "        start_time = time.time()\n",
       "        # Call the original function and store its result\n",
       "        result = func(*args, **kwargs)\n",
       "        end_time = time.time()\n",
       "        duration = end_time - start_time\n",
       "        # Log function name and arguments\n",
       "        print(f\"Function '{func.__name__}' called with args={args} kwargs={kwargs}\")\n",
       "        print(f\"Execution time: {duration:.4f} seconds\")\n",
       "        return result\n",
       "    return wrapper\n",
       "```\n",
       "\n",
       "**Usage example:**\n",
       "\n",
       "```python\n",
       "@timing_decorator\n",
       "def add(a, b):\n",
       "    return a + b\n",
       "\n",
       "@timing_decorator\n",
       "def greet(name, greeting=\"Hello\"):\n",
       "    print(f\"{greeting}, {name}!\")\n",
       "\n",
       "# Call the functions\n",
       "result = add(3, 5)\n",
       "greet(\"Alice\", greeting=\"Hi\")\n",
       "```\n",
       "\n",
       "**Sample output:**\n",
       "\n",
       "```\n",
       "Function 'add' called with args=(3, 5) kwargs={}\n",
       "Execution time: 0.0000 seconds\n",
       "Function 'greet' called with args=('Alice',) kwargs={'greeting': 'Hi'}\n",
       "Hello, Alice!\n",
       "Execution time: 0.0001 seconds\n",
       "```\n",
       "\n",
       "**Notes:**\n",
       "\n",
       "- The decorator logs the function name (`func.__name__`).\n",
       "- It also logs the positional (`args`) and keyword arguments (`kwargs`) used during the call.\n",
       "- This makes the decorator very informative, especially for debugging or performance analysis.\n",
       "\n",
       "Would you like to see how to format the arguments more prettily or handle other data types?"
      ],
      "text/plain": [
       "<IPython.core.display.Markdown object>"
      ]
     },
     "metadata": {},
     "output_type": "display_data"
    },
    {
     "data": {
      "text/html": [
       "\n",
       "        <div style=\"background-color: #f1f8e9; border: 1px solid #c5e1a5; color: #33691e;\n",
       "                    padding: 3px 6px; margin-top: 4px; border-radius: 3px; font-family: monospace; \n",
       "                    font-size: 0.75em; line-height: 1.2; display: inline-block; opacity: 0.85;\">\n",
       "            ✓ gpt-4.1-nano • 6.49s • 1615↓/385↑ tokens\n",
       "        </div>\n",
       "        "
      ],
      "text/plain": [
       "<IPython.core.display.HTML object>"
      ]
     },
     "metadata": {},
     "output_type": "display_data"
    }
   ],
   "source": [
    "How would I modify this decorator to also log the function name and arguments?"
   ]
  },
  {
   "cell_type": "markdown",
   "id": "a2c06fb5",
   "metadata": {},
   "source": [
    "## 6. Using Snippets with Ambient Mode\n",
    "\n",
    "You can combine ambient mode with snippets to provide additional context to your LLM interactions."
   ]
  },
  {
   "cell_type": "code",
   "execution_count": 9,
   "id": "5ebc59e9",
   "metadata": {},
   "outputs": [
    {
     "name": "stderr",
     "output_type": "stream",
     "text": [
      "UsageError: Line magic function `%%writefile` not found.\n"
     ]
    }
   ],
   "source": [
    "# Create a code snippet to reference later\n",
    "%%writefile /tmp/example_code.py\n",
    "\n",
    "def process_data(data_list):\n",
    "    \"\"\"Process a list of numeric data.\"\"\"\n",
    "    results = []\n",
    "    for item in data_list:\n",
    "        if isinstance(item, (int, float)):\n",
    "            results.append(item * 2)\n",
    "        else:\n",
    "            print(f\"Skipping non-numeric item: {item}\")\n",
    "    return results\n",
    "\n",
    "# Example usage\n",
    "sample_data = [1, 2, \"3\", 4.5, \"text\"]\n",
    "processed = process_data(sample_data)\n",
    "print(f\"Processed data: {processed}\")"
   ]
  },
  {
   "cell_type": "code",
   "execution_count": null,
   "id": "207908c0",
   "metadata": {},
   "outputs": [],
   "source": [
    "# Add the snippet to the conversation\n",
    "%llm_config --snippets /tmp/example_code.py system"
   ]
  },
  {
   "cell_type": "code",
   "execution_count": null,
   "id": "67124447",
   "metadata": {},
   "outputs": [],
   "source": [
    "Review the code in the snippet. How could I improve the error handling and make the function more robust?"
   ]
  },
  {
   "cell_type": "markdown",
   "id": "62ada087",
   "metadata": {},
   "source": [
    "## 7. Disabling Ambient Mode\n",
    "\n",
    "When you're done using ambient mode, you should disable it to return to normal notebook operation."
   ]
  },
  {
   "cell_type": "code",
   "execution_count": null,
   "id": "7551ea29",
   "metadata": {},
   "outputs": [],
   "source": [
    "# Disable ambient mode\n",
    "%disable_llm_setup_forever\n",
    "\n",
    "# Verify it's disabled\n",
    "if not is_ambient_mode_enabled():\n",
    "    print(\"✅ Ambient mode is now disabled - cells will be executed as normal Python code\")\n",
    "else:\n",
    "    print(\"❌ There was an issue disabling ambient mode\")"
   ]
  },
  {
   "cell_type": "markdown",
   "id": "afe3248b",
   "metadata": {},
   "source": [
    "## 8. Troubleshooting Ambient Mode\n",
    "\n",
    "If you're experiencing issues with ambient mode, try these solutions:\n",
    "\n",
    "1. **Extension not loading**: Ensure the extension is loaded with `%load_ext cellmage`\n",
    "2. **Ambient mode not detecting text**: Make sure your text doesn't contain Python keywords or assignments\n",
    "3. **API errors**: Verify your API credentials in the `.env` file\n",
    "4. **Command not found**: Restart the kernel and reload the extension\n",
    "5. **No response**: Check if the model is available and your internet connection is stable\n",
    "\n",
    "### Alternative Approach: Manual Processing\n",
    "\n",
    "If ambient mode isn't working, you can still use the regular `%%llm` magic command:"
   ]
  },
  {
   "cell_type": "code",
   "execution_count": null,
   "id": "52594086",
   "metadata": {},
   "outputs": [],
   "source": [
    "%%llm\n",
    "What are the advantages of using ambient mode versus regular magic commands in CellMage?"
   ]
  },
  {
   "cell_type": "markdown",
   "id": "6db2df9e",
   "metadata": {},
   "source": [
    "## 9. Best Practices for Ambient Mode\n",
    "\n",
    "To get the most out of ambient mode, follow these best practices:\n",
    "\n",
    "1. **Enable selectively**: Only enable ambient mode when you're in \"conversation mode\" with your LLM\n",
    "2. **Disable when coding**: Disable ambient mode when you need to write and execute actual code\n",
    "3. **Clear history**: Use `%llm_config --clear-history` periodically to avoid context limits\n",
    "4. **Be explicit**: When mixing code and prompts, use `%%llm` for prompts to avoid confusion\n",
    "5. **Monitor costs**: Remember that each cell processed in ambient mode consumes tokens\n",
    "\n",
    "## Conclusion\n",
    "\n",
    "Ambient mode provides a seamless way to interact with LLMs directly in your notebook without constantly typing `%%llm`. It's perfect for exploratory discussions, brainstorming, and quick questions while working in your notebook.\n",
    "\n",
    "For more examples, check out the [02_persistent_chat_example.ipynb](02_persistent_chat_example.ipynb) notebook next!"
   ]
  }
 ],
 "metadata": {
  "kernelspec": {
   "display_name": ".venv",
   "language": "python",
   "name": "python3"
  },
  "language_info": {
   "codemirror_mode": {
    "name": "ipython",
    "version": 3
   },
   "file_extension": ".py",
   "mimetype": "text/x-python",
   "name": "python",
   "nbconvert_exporter": "python",
   "pygments_lexer": "ipython3",
   "version": "3.10.16"
  }
 },
 "nbformat": 4,
 "nbformat_minor": 5
}
