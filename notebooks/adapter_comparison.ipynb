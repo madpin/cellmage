{
 "cells": [
  {
   "cell_type": "markdown",
   "id": "696a3542",
   "metadata": {},
   "source": [
    "# CellMage Adapter Comparison\n",
    "\n",
    "This notebook demonstrates how to use both the DirectLLMAdapter and LangChainAdapter in CellMage.\n",
    "\n",
    "## Prerequisites\n",
    "\n",
    "- Make sure you've installed CellMage with LangChain support: `pip install \"cellmage[langchain]\"`\n",
    "- Set your API key as an environment variable (`OPENAI_API_KEY` or `CELLMAGE_API_KEY`)"
   ]
  },
  {
   "cell_type": "markdown",
   "id": "0e76ad18",
   "metadata": {},
   "source": [
    "## Setup\n",
    "\n",
    "First, load the IPython extension and make sure everything is working:"
   ]
  },
  {
   "cell_type": "code",
   "execution_count": 1,
   "id": "2cba28d2",
   "metadata": {},
   "outputs": [
    {
     "name": "stdout",
     "output_type": "stream",
     "text": [
      "✅ NotebookLLM Magics loaded. Use %llm_config and %%llm.\n",
      "   For ambient mode, try %llm_config_persistent to process all cells as LLM prompts.\n"
     ]
    }
   ],
   "source": [
    "%load_ext cellmage.integrations.ipython_magic"
   ]
  },
  {
   "cell_type": "markdown",
   "id": "26e3e747",
   "metadata": {},
   "source": [
    "## Using the Direct Adapter\n",
    "\n",
    "By default, CellMage uses the DirectLLMAdapter which directly interfaces with OpenAI-compatible APIs. Let's check the current configuration:"
   ]
  },
  {
   "cell_type": "code",
   "execution_count": 2,
   "id": "f54a0297",
   "metadata": {},
   "outputs": [
    {
     "name": "stdout",
     "output_type": "stream",
     "text": [
      "--- NotebookLLM Status ---\n",
      "Session ID: ac92fea1-446d-41b6-a46f-00c83ecef942\n",
      "None\n",
      "Active Overrides: {'api_key': 'sk-L...mA', 'api_base': 'https://litellm.oracle.madpin.dev', 'model': 'gpt-4.1-nano'}\n",
      "History Length: 0 messages\n",
      "--------------------------\n"
     ]
    }
   ],
   "source": [
    "%llm_config --status"
   ]
  },
  {
   "cell_type": "markdown",
   "id": "ee3a87c1",
   "metadata": {},
   "source": [
    "Let's use the default Direct adapter to ask a question:"
   ]
  },
  {
   "cell_type": "code",
   "execution_count": 3,
   "id": "d96bc400",
   "metadata": {},
   "outputs": [
    {
     "data": {
      "text/markdown": [
       "Certainly! Here are five primary features of Python as a programming language:\n",
       "\n",
       "1. **Easy to Read and Write**: Python emphasizes readability with its clear, concise syntax, making it accessible for beginners and efficient for developers.\n",
       "\n",
       "2. **Interpreted Language**: Python code is executed line-by-line by an interpreter, which simplifies debugging and allows for quick testing and development without the need for compilation.\n",
       "\n",
       "3. **High-Level Language**: Python abstracts many low-level programming details, enabling developers to focus on solving problems rather than managing hardware specifics.\n",
       "\n",
       "4. **Dynamically Typed**: Variable types are determined at runtime, providing flexibility and ease of use, although requiring careful handling to avoid type errors.\n",
       "\n",
       "5. **Extensive Standard Libraries and Ecosystem**: Python comes with a comprehensive standard library and a vibrant community producing a wide array of third-party packages, supporting diverse applications like web development, data analysis, machine learning, and automation."
      ],
      "text/plain": [
       "<IPython.core.display.Markdown object>"
      ]
     },
     "metadata": {},
     "output_type": "display_data"
    },
    {
     "data": {
      "text/html": [
       "\n",
       "        <div style=\"background-color: #f1f8e9; border: 1px solid #c5e1a5; color: #33691e;\n",
       "                    padding: 3px 6px; margin-top: 4px; border-radius: 3px; font-family: monospace; \n",
       "                    font-size: 0.75em; line-height: 1.2; display: inline-block; opacity: 0.85;\">\n",
       "            ✓ gpt-4.1-nano • 1.11s • 27↓/261↑ tokens\n",
       "        </div>\n",
       "        "
      ],
      "text/plain": [
       "<IPython.core.display.HTML object>"
      ]
     },
     "metadata": {},
     "output_type": "display_data"
    }
   ],
   "source": [
    "%%llm\n",
    "What are the primary features of Python as a programming language? List 5 key features with brief explanations."
   ]
  },
  {
   "cell_type": "markdown",
   "id": "c7eb33fd",
   "metadata": {},
   "source": [
    "## Switching to LangChain Adapter\n",
    "\n",
    "Now, let's switch to the LangChain adapter which provides more advanced capabilities through the LangChain library (version 0.3.24):"
   ]
  },
  {
   "cell_type": "code",
   "execution_count": 4,
   "id": "dd3e5065",
   "metadata": {},
   "outputs": [
    {
     "name": "stdout",
     "output_type": "stream",
     "text": [
      "✅ Switched to LangChain adapter\n"
     ]
    }
   ],
   "source": [
    "%llm_config --adapter langchain"
   ]
  },
  {
   "cell_type": "markdown",
   "id": "ae2a9fda",
   "metadata": {},
   "source": [
    "Let's verify that we're now using the LangChain adapter:"
   ]
  },
  {
   "cell_type": "code",
   "execution_count": 5,
   "id": "1b32d0a8",
   "metadata": {},
   "outputs": [
    {
     "name": "stdout",
     "output_type": "stream",
     "text": [
      "--- NotebookLLM Status ---\n",
      "Session ID: ac92fea1-446d-41b6-a46f-00c83ecef942\n",
      "None\n",
      "Active Overrides: {'api_key': 'sk-L...mA', 'api_base': 'https://litellm.oracle.madpin.dev', 'model': 'gpt-4.1-nano'}\n",
      "History Length: 2 messages\n",
      "--------------------------\n"
     ]
    }
   ],
   "source": [
    "%llm_config --status"
   ]
  },
  {
   "cell_type": "markdown",
   "id": "54a7cd88",
   "metadata": {},
   "source": [
    "Now let's ask another question using the LangChain adapter:"
   ]
  },
  {
   "cell_type": "code",
   "execution_count": 6,
   "id": "3f84e9ad",
   "metadata": {},
   "outputs": [
    {
     "data": {
      "text/markdown": [
       "Certainly! Here are three main distinctions between machine learning and deep learning:\n",
       "\n",
       "1. **Model Complexity and Architecture**:\n",
       "   - *Machine Learning*: Uses traditional algorithms like decision trees, support vector machines, and linear regression that often require manual feature extraction and are generally simpler.\n",
       "   - *Deep Learning*: Utilizes complex neural networks with multiple layers (deep neural networks) that automatically learn hierarchical feature representations from raw data.\n",
       "\n",
       "2. **Feature Engineering**:\n",
       "   - *Machine Learning*: Relies heavily on manual feature extraction and selection by domain experts to improve model performance.\n",
       "   - *Deep Learning*: Automatically learns features from data, reducing the need for manual feature engineering.\n",
       "\n",
       "3. **Data Requirements and Performance**:\n",
       "   - *Machine Learning*: Performs well with smaller datasets and can be more interpretable.\n",
       "   - *Deep Learning*: Typically requires large amounts of data to achieve high accuracy but can outperform traditional models in complex tasks like image and speech recognition."
      ],
      "text/plain": [
       "<IPython.core.display.Markdown object>"
      ]
     },
     "metadata": {},
     "output_type": "display_data"
    },
    {
     "data": {
      "text/html": [
       "\n",
       "        <div style=\"background-color: #f1f8e9; border: 1px solid #c5e1a5; color: #33691e;\n",
       "                    padding: 3px 6px; margin-top: 4px; border-radius: 3px; font-family: monospace; \n",
       "                    font-size: 0.75em; line-height: 1.2; display: inline-block; opacity: 0.85;\">\n",
       "            ✓ gpt-4.1-nano • 1.28s • 314↓/271↑ tokens\n",
       "        </div>\n",
       "        "
      ],
      "text/plain": [
       "<IPython.core.display.HTML object>"
      ]
     },
     "metadata": {},
     "output_type": "display_data"
    }
   ],
   "source": [
    "%%llm\n",
    "What are the key differences between machine learning and deep learning? Provide 3 main distinctions."
   ]
  },
  {
   "cell_type": "markdown",
   "id": "6281a83b",
   "metadata": {},
   "source": [
    "## Switching Back to Direct Adapter\n",
    "\n",
    "You can easily switch back to the Direct adapter at any time:"
   ]
  },
  {
   "cell_type": "code",
   "execution_count": 7,
   "id": "f0ef8d72",
   "metadata": {},
   "outputs": [
    {
     "name": "stdout",
     "output_type": "stream",
     "text": [
      "✅ Switched to Direct adapter\n",
      "--- NotebookLLM Status ---\n",
      "Session ID: ac92fea1-446d-41b6-a46f-00c83ecef942\n",
      "None\n",
      "Active Overrides: {'api_key': 'sk-L...mA', 'api_base': 'https://litellm.oracle.madpin.dev', 'model': 'gpt-4.1-nano'}\n",
      "History Length: 4 messages\n",
      "--------------------------\n"
     ]
    }
   ],
   "source": [
    "%llm_config --adapter direct\n",
    "%llm_config --status"
   ]
  },
  {
   "cell_type": "markdown",
   "id": "114ae9c0",
   "metadata": {},
   "source": [
    "## Setting Default Adapter in Environment\n",
    "\n",
    "You can also set the default adapter type using the `CELLMAGE_ADAPTER` environment variable.\n",
    "\n",
    "In your terminal or in a `.env` file:\n",
    "```\n",
    "# Use direct adapter (default)\n",
    "CELLMAGE_ADAPTER=direct\n",
    "\n",
    "# Or use LangChain adapter\n",
    "CELLMAGE_ADAPTER=langchain\n",
    "```\n",
    "\n",
    "This setting will be used when initializing CellMage in new sessions."
   ]
  },
  {
   "cell_type": "markdown",
   "id": "df55d44a",
   "metadata": {},
   "source": [
    "## About LangChain 0.3.24\n",
    "\n",
    "This project has been configured to use LangChain version 0.3.24 specifically. This version provides a good balance of features and stability. Some key aspects of this version include:\n",
    "\n",
    "- The chat model classes are in the core `langchain` package rather than split across multiple packages\n",
    "- Compatible with common LLM providers like OpenAI\n",
    "- Includes core conversational chains and memory features\n",
    "- Has broad compatibility with other Python packages and environments\n",
    "\n",
    "If you need to update to a different version later, you'll need to modify the import paths in the `langchain_client.py` adapter file."
   ]
  },
  {
   "cell_type": "markdown",
   "id": "cb463e21",
   "metadata": {},
   "source": [
    "## When to Use Each Adapter\n",
    "\n",
    "### DirectLLMAdapter\n",
    "- When you want minimal dependencies\n",
    "- For direct, simple interactions with OpenAI-compatible APIs\n",
    "- When performance and low overhead are priorities\n",
    "\n",
    "### LangChainAdapter\n",
    "- When you want to leverage LangChain's extensive ecosystem\n",
    "- If you plan to integrate with LangChain's other components (tools, agents, etc.)\n",
    "- When working with multi-modal or complex chains of processing\n",
    "- If you're already using LangChain in other parts of your application"
   ]
  }
 ],
 "metadata": {
  "kernelspec": {
   "display_name": ".venv",
   "language": "python",
   "name": "python3"
  },
  "language_info": {
   "codemirror_mode": {
    "name": "ipython",
    "version": 3
   },
   "file_extension": ".py",
   "mimetype": "text/x-python",
   "name": "python",
   "nbconvert_exporter": "python",
   "pygments_lexer": "ipython3",
   "version": "3.10.16"
  }
 },
 "nbformat": 4,
 "nbformat_minor": 5
}
