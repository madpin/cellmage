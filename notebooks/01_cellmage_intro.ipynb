{
 "cells": [
  {
   "cell_type": "markdown",
   "id": "4fa1ce7a",
   "metadata": {},
   "source": [
    "# Introduction to Cellmage\n",
    "\n",
    "This notebook introduces the basic functionality of the `cellmage` library, a toolkit for interacting with Large Language Models in Jupyter notebooks.\n",
    "\n",
    "**Date:** April 24, 2025\n",
    "\n",
    "## What is Cellmage?\n",
    "\n",
    "Cellmage is a library that simplifies interactions with various LLMs while providing:\n",
    "- Conversation history management\n",
    "- Persona configuration\n",
    "- Snippet management\n",
    "- Conversation saving/loading"
   ]
  },
  {
   "cell_type": "markdown",
   "id": "c08c7350",
   "metadata": {},
   "source": [
    "## Setup & Installation\n",
    "\n",
    "Let's start by ensuring we have the cellmage package installed. In this notebook, we'll use the existing installation from the local development environment."
   ]
  },
  {
   "cell_type": "code",
   "execution_count": 1,
   "id": "19287fb8",
   "metadata": {},
   "outputs": [
    {
     "name": "stderr",
     "output_type": "stream",
     "text": [
      "2025-04-24 18:21:51,585 - cellmage - INFO - Cellmage logging initialized\n",
      "2025-04-24 18:21:51,597 - cellmage.config - INFO - Loaded environment variables from .env file\n"
     ]
    },
    {
     "name": "stdout",
     "output_type": "stream",
     "text": [
      "Notebook directory: /Users/tpinto/madpin/cellmage/notebooks\n",
      "Project root directory: /Users/tpinto/madpin/cellmage\n",
      "Added path: /Users/tpinto/madpin/cellmage\n",
      "Cellmage version: 0.1.0\n"
     ]
    }
   ],
   "source": [
    "# Add the parent directory to sys.path so we can import cellmage\n",
    "import os\n",
    "import sys\n",
    "import logging\n",
    "\n",
    "# Set up logging\n",
    "logging.basicConfig(level=logging.INFO)\n",
    "\n",
    "# Ensure the cellmage package can be imported\n",
    "# Get the absolute path of the current working directory\n",
    "notebook_dir = os.getcwd()\n",
    "# Get the project root directory (parent of the notebook directory)\n",
    "project_root = os.path.abspath(os.path.join(notebook_dir, \"..\"))\n",
    "\n",
    "print(f\"Notebook directory: {notebook_dir}\")\n",
    "print(f\"Project root directory: {project_root}\")\n",
    "\n",
    "if project_root not in sys.path:\n",
    "    sys.path.insert(0, project_root)\n",
    "    print(f\"Added path: {project_root}\")\n",
    "\n",
    "try:\n",
    "    # Import cellmage\n",
    "    import cellmage\n",
    "\n",
    "    # Check version - handle case where __version__ might not be available\n",
    "    try:\n",
    "        print(f\"Cellmage version: {cellmage.__version__}\")\n",
    "    except AttributeError:\n",
    "        print(\"Cellmage imported successfully, but version information is not available\")\n",
    "except ModuleNotFoundError as e:\n",
    "    print(f\"Error importing cellmage: {e}\")\n",
    "    print(\"\\nDebug information:\")\n",
    "    print(f\"Current working directory: {os.getcwd()}\")\n",
    "    print(f\"Python path: {sys.path}\")\n",
    "    print(\"\\nTry running this notebook from the project root directory\")"
   ]
  },
  {
   "cell_type": "markdown",
   "id": "73a7df73",
   "metadata": {},
   "source": [
    "## Setting Up the LLM Client\n",
    "\n",
    "Cellmage uses an adapter pattern to work with multiple LLM providers. The new `DirectLLMAdapter` provides direct HTTP communication with LLM APIs without requiring additional packages.\n",
    "\n",
    "Let's set up our LLM client to use OpenAI's GPT models:"
   ]
  },
  {
   "cell_type": "code",
   "execution_count": 2,
   "id": "f01f5e67",
   "metadata": {},
   "outputs": [
    {
     "name": "stderr",
     "output_type": "stream",
     "text": [
      "2025-04-24 18:21:51,892 - cellmage.adapters.direct_client - INFO - [Override] Setting 'api_key' = sk-L...xxmA\n",
      "2025-04-24 18:21:51,893 - cellmage.adapters.direct_client - INFO - [Override] Setting 'api_base' = https://litellm.oracle.madpin.dev\n",
      "2025-04-24 18:21:51,893 - cellmage.adapters.direct_client - INFO - [Override] Setting 'model' = gpt-4.1-nano\n"
     ]
    },
    {
     "name": "stdout",
     "output_type": "stream",
     "text": [
      "LLM client initialized with model: gpt-4.1-nano\n"
     ]
    }
   ],
   "source": [
    "from cellmage.adapters.direct_client import DirectLLMAdapter\n",
    "\n",
    "# Create an LLM client with GPT-4.1-nano model\n",
    "llm_client = DirectLLMAdapter(default_model=\"gpt-4.1-nano\")\n",
    "\n",
    "# You'll need to ensure your API key is set up in your environment\n",
    "# For OpenAI: export CELLMAGE_API_KEY=your_api_key\n",
    "# For testing we'll simulate a successful initialization\n",
    "print(\"LLM client initialized with model: gpt-4.1-nano\")"
   ]
  },
  {
   "cell_type": "markdown",
   "id": "5640c8ce",
   "metadata": {},
   "source": [
    "## Creating a Chat Manager\n",
    "\n",
    "The `ChatManager` is the central class in Cellmage that coordinates between all components. Let's create a basic setup:"
   ]
  },
  {
   "cell_type": "code",
   "execution_count": 3,
   "id": "70ea0b61",
   "metadata": {},
   "outputs": [
    {
     "ename": "ValidationError",
     "evalue": "1 validation error for PersonaConfig\nname\n  Field required [type=missing, input_value={'system_message': 'You a...e': 'helpful_assistant'}, input_type=dict]\n    For further information visit https://errors.pydantic.dev/2.11/v/missing",
     "output_type": "error",
     "traceback": [
      "\u001b[0;31m---------------------------------------------------------------------------\u001b[0m",
      "\u001b[0;31mValidationError\u001b[0m                           Traceback (most recent call last)",
      "Cell \u001b[0;32mIn[3], line 11\u001b[0m\n\u001b[1;32m      8\u001b[0m history_store \u001b[38;5;241m=\u001b[39m MemoryStore()\n\u001b[1;32m     10\u001b[0m \u001b[38;5;66;03m# Create a basic persona\u001b[39;00m\n\u001b[0;32m---> 11\u001b[0m \u001b[43mpersona_loader\u001b[49m\u001b[38;5;241;43m.\u001b[39;49m\u001b[43madd_persona\u001b[49m\u001b[43m(\u001b[49m\n\u001b[1;32m     12\u001b[0m \u001b[43m    \u001b[49m\u001b[43mname\u001b[49m\u001b[38;5;241;43m=\u001b[39;49m\u001b[38;5;124;43m\"\u001b[39;49m\u001b[38;5;124;43mhelpful_assistant\u001b[39;49m\u001b[38;5;124;43m\"\u001b[39;49m\u001b[43m,\u001b[49m\n\u001b[1;32m     13\u001b[0m \u001b[43m    \u001b[49m\u001b[43msystem_message\u001b[49m\u001b[38;5;241;43m=\u001b[39;49m\u001b[38;5;124;43m\"\u001b[39;49m\u001b[38;5;124;43mYou are a helpful assistant who provides clear, concise answers.\u001b[39;49m\u001b[38;5;124;43m\"\u001b[39;49m\u001b[43m,\u001b[49m\n\u001b[1;32m     14\u001b[0m \u001b[43m    \u001b[49m\u001b[43mconfig\u001b[49m\u001b[38;5;241;43m=\u001b[39;49m\u001b[43m{\u001b[49m\u001b[38;5;124;43m\"\u001b[39;49m\u001b[38;5;124;43mtemperature\u001b[39;49m\u001b[38;5;124;43m\"\u001b[39;49m\u001b[43m:\u001b[49m\u001b[43m \u001b[49m\u001b[38;5;241;43m0.7\u001b[39;49m\u001b[43m}\u001b[49m\u001b[43m,\u001b[49m\n\u001b[1;32m     15\u001b[0m \u001b[43m)\u001b[49m\n\u001b[1;32m     17\u001b[0m \u001b[38;5;66;03m# Create a chat manager\u001b[39;00m\n\u001b[1;32m     18\u001b[0m chat_manager \u001b[38;5;241m=\u001b[39m cellmage\u001b[38;5;241m.\u001b[39mChatManager(\n\u001b[1;32m     19\u001b[0m     llm_client\u001b[38;5;241m=\u001b[39mllm_client,\n\u001b[1;32m     20\u001b[0m     persona_loader\u001b[38;5;241m=\u001b[39mpersona_loader,\n\u001b[1;32m     21\u001b[0m     snippet_provider\u001b[38;5;241m=\u001b[39msnippet_provider,\n\u001b[1;32m     22\u001b[0m     history_store\u001b[38;5;241m=\u001b[39mhistory_store,\n\u001b[1;32m     23\u001b[0m )\n",
      "File \u001b[0;32m~/madpin/cellmage/cellmage/resources/memory_loader.py:60\u001b[0m, in \u001b[0;36mMemoryLoader.add_persona\u001b[0;34m(self, name, system_message, config)\u001b[0m\n\u001b[1;32m     51\u001b[0m \u001b[38;5;28;01mdef\u001b[39;00m\u001b[38;5;250m \u001b[39m\u001b[38;5;21madd_persona\u001b[39m(\u001b[38;5;28mself\u001b[39m, name: \u001b[38;5;28mstr\u001b[39m, system_message: \u001b[38;5;28mstr\u001b[39m, config: Dict \u001b[38;5;241m=\u001b[39m \u001b[38;5;28;01mNone\u001b[39;00m) \u001b[38;5;241m-\u001b[39m\u001b[38;5;241m>\u001b[39m \u001b[38;5;28;01mNone\u001b[39;00m:\n\u001b[1;32m     52\u001b[0m \u001b[38;5;250m    \u001b[39m\u001b[38;5;124;03m\"\"\"\u001b[39;00m\n\u001b[1;32m     53\u001b[0m \u001b[38;5;124;03m    Add a persona to the in-memory collection.\u001b[39;00m\n\u001b[1;32m     54\u001b[0m \u001b[38;5;124;03m    \u001b[39;00m\n\u001b[0;32m   (...)\u001b[0m\n\u001b[1;32m     58\u001b[0m \u001b[38;5;124;03m        config: Optional configuration for the persona\u001b[39;00m\n\u001b[1;32m     59\u001b[0m \u001b[38;5;124;03m    \"\"\"\u001b[39;00m\n\u001b[0;32m---> 60\u001b[0m     \u001b[38;5;28mself\u001b[39m\u001b[38;5;241m.\u001b[39mpersonas[name] \u001b[38;5;241m=\u001b[39m \u001b[43mPersonaConfig\u001b[49m\u001b[43m(\u001b[49m\n\u001b[1;32m     61\u001b[0m \u001b[43m        \u001b[49m\u001b[43msystem_message\u001b[49m\u001b[38;5;241;43m=\u001b[39;49m\u001b[43msystem_message\u001b[49m\u001b[43m,\u001b[49m\n\u001b[1;32m     62\u001b[0m \u001b[43m        \u001b[49m\u001b[43mconfig\u001b[49m\u001b[38;5;241;43m=\u001b[39;49m\u001b[43mconfig\u001b[49m\u001b[43m \u001b[49m\u001b[38;5;129;43;01mor\u001b[39;49;00m\u001b[43m \u001b[49m\u001b[43m{\u001b[49m\u001b[43m}\u001b[49m\u001b[43m,\u001b[49m\n\u001b[1;32m     63\u001b[0m \u001b[43m        \u001b[49m\u001b[43moriginal_name\u001b[49m\u001b[38;5;241;43m=\u001b[39;49m\u001b[43mname\u001b[49m\n\u001b[1;32m     64\u001b[0m \u001b[43m    \u001b[49m\u001b[43m)\u001b[49m\n\u001b[1;32m     65\u001b[0m     \u001b[38;5;28mself\u001b[39m\u001b[38;5;241m.\u001b[39mlogger\u001b[38;5;241m.\u001b[39minfo(\u001b[38;5;124mf\u001b[39m\u001b[38;5;124m\"\u001b[39m\u001b[38;5;124mAdded persona \u001b[39m\u001b[38;5;124m'\u001b[39m\u001b[38;5;132;01m{\u001b[39;00mname\u001b[38;5;132;01m}\u001b[39;00m\u001b[38;5;124m'\u001b[39m\u001b[38;5;124m to memory\u001b[39m\u001b[38;5;124m\"\u001b[39m)\n",
      "File \u001b[0;32m~/madpin/cellmage/.venv/lib/python3.10/site-packages/pydantic/main.py:253\u001b[0m, in \u001b[0;36mBaseModel.__init__\u001b[0;34m(self, **data)\u001b[0m\n\u001b[1;32m    251\u001b[0m \u001b[38;5;66;03m# `__tracebackhide__` tells pytest and some other tools to omit this function from tracebacks\u001b[39;00m\n\u001b[1;32m    252\u001b[0m __tracebackhide__ \u001b[38;5;241m=\u001b[39m \u001b[38;5;28;01mTrue\u001b[39;00m\n\u001b[0;32m--> 253\u001b[0m validated_self \u001b[38;5;241m=\u001b[39m \u001b[38;5;28;43mself\u001b[39;49m\u001b[38;5;241;43m.\u001b[39;49m\u001b[43m__pydantic_validator__\u001b[49m\u001b[38;5;241;43m.\u001b[39;49m\u001b[43mvalidate_python\u001b[49m\u001b[43m(\u001b[49m\u001b[43mdata\u001b[49m\u001b[43m,\u001b[49m\u001b[43m \u001b[49m\u001b[43mself_instance\u001b[49m\u001b[38;5;241;43m=\u001b[39;49m\u001b[38;5;28;43mself\u001b[39;49m\u001b[43m)\u001b[49m\n\u001b[1;32m    254\u001b[0m \u001b[38;5;28;01mif\u001b[39;00m \u001b[38;5;28mself\u001b[39m \u001b[38;5;129;01mis\u001b[39;00m \u001b[38;5;129;01mnot\u001b[39;00m validated_self:\n\u001b[1;32m    255\u001b[0m     warnings\u001b[38;5;241m.\u001b[39mwarn(\n\u001b[1;32m    256\u001b[0m         \u001b[38;5;124m'\u001b[39m\u001b[38;5;124mA custom validator is returning a value other than `self`.\u001b[39m\u001b[38;5;130;01m\\n\u001b[39;00m\u001b[38;5;124m'\u001b[39m\n\u001b[1;32m    257\u001b[0m         \u001b[38;5;124m\"\u001b[39m\u001b[38;5;124mReturning anything other than `self` from a top level model validator isn\u001b[39m\u001b[38;5;124m'\u001b[39m\u001b[38;5;124mt supported when validating via `__init__`.\u001b[39m\u001b[38;5;130;01m\\n\u001b[39;00m\u001b[38;5;124m\"\u001b[39m\n\u001b[1;32m    258\u001b[0m         \u001b[38;5;124m'\u001b[39m\u001b[38;5;124mSee the `model_validator` docs (https://docs.pydantic.dev/latest/concepts/validators/#model-validators) for more details.\u001b[39m\u001b[38;5;124m'\u001b[39m,\n\u001b[1;32m    259\u001b[0m         stacklevel\u001b[38;5;241m=\u001b[39m\u001b[38;5;241m2\u001b[39m,\n\u001b[1;32m    260\u001b[0m     )\n",
      "\u001b[0;31mValidationError\u001b[0m: 1 validation error for PersonaConfig\nname\n  Field required [type=missing, input_value={'system_message': 'You a...e': 'helpful_assistant'}, input_type=dict]\n    For further information visit https://errors.pydantic.dev/2.11/v/missing"
     ]
    }
   ],
   "source": [
    "# Create components for the chat manager\n",
    "from cellmage.resources.memory_loader import MemoryLoader\n",
    "from cellmage.storage.memory_store import MemoryStore\n",
    "\n",
    "# Create in-memory components for testing\n",
    "persona_loader = MemoryLoader()\n",
    "snippet_provider = MemoryLoader()\n",
    "history_store = MemoryStore()\n",
    "\n",
    "# Create a basic persona\n",
    "persona_loader.add_persona(\n",
    "    name=\"helpful_assistant\",\n",
    "    system_message=\"You are a helpful assistant who provides clear, concise answers.\",\n",
    "    config={\"temperature\": 0.7},\n",
    ")\n",
    "\n",
    "# Create a chat manager\n",
    "chat_manager = cellmage.ChatManager(\n",
    "    llm_client=llm_client,\n",
    "    persona_loader=persona_loader,\n",
    "    snippet_provider=snippet_provider,\n",
    "    history_store=history_store,\n",
    ")\n",
    "\n",
    "# Set default persona\n",
    "chat_manager.set_default_persona(\"helpful_assistant\")\n",
    "\n",
    "print(\"Chat manager initialized with 'helpful_assistant' persona\")"
   ]
  },
  {
   "cell_type": "markdown",
   "id": "3d9bf4cd",
   "metadata": {},
   "source": [
    "## Sending Messages\n",
    "\n",
    "Now that our chat manager is set up, we can send messages to the LLM:"
   ]
  },
  {
   "cell_type": "code",
   "execution_count": null,
   "id": "bb73e77d",
   "metadata": {},
   "outputs": [],
   "source": [
    "# Send a message to the LLM\n",
    "response = chat_manager.chat(\n",
    "    \"What are the main features of the cellmage library?\",\n",
    "    stream=True,  # Enable streaming responses\n",
    ")"
   ]
  },
  {
   "cell_type": "markdown",
   "id": "1aee4b0e",
   "metadata": {},
   "source": [
    "## Adding a Code Snippet\n",
    "\n",
    "Cellmage allows you to add code snippets to the conversation, which can be useful for providing context:"
   ]
  },
  {
   "cell_type": "code",
   "execution_count": null,
   "id": "ba2b3325",
   "metadata": {},
   "outputs": [],
   "source": [
    "# Create a code snippet\n",
    "snippet_provider.add_snippet(\n",
    "    name=\"python_example\",\n",
    "    content=\"\"\"```python\n",
    "def calculate_fibonacci(n):\n",
    "    if n <= 0:\n",
    "        return 0\n",
    "    elif n == 1:\n",
    "        return 1\n",
    "    else:\n",
    "        return calculate_fibonacci(n-1) + calculate_fibonacci(n-2)\n",
    "```\"\"\",\n",
    ")\n",
    "\n",
    "# Add the snippet to the conversation\n",
    "chat_manager.add_snippet(\"python_example\")\n",
    "\n",
    "# Now ask about the snippet\n",
    "response = chat_manager.chat(\n",
    "    \"Can you explain this fibonacci function and suggest how to make it more efficient?\", stream=True\n",
    ")"
   ]
  },
  {
   "cell_type": "markdown",
   "id": "fbda3da1",
   "metadata": {},
   "source": [
    "## Viewing Conversation History\n",
    "\n",
    "You can view the conversation history at any time:"
   ]
  },
  {
   "cell_type": "code",
   "execution_count": null,
   "id": "91126715",
   "metadata": {},
   "outputs": [],
   "source": [
    "# Get the conversation history\n",
    "history = chat_manager.get_history()\n",
    "\n",
    "# Print the history in a readable format\n",
    "for i, message in enumerate(history):\n",
    "    print(f\"{i + 1}. {message.role}: {message.content[:50]}...\")\n",
    "    print(f\"   ID: {message.id}\")\n",
    "    print()"
   ]
  },
  {
   "cell_type": "markdown",
   "id": "2cebd3ba",
   "metadata": {},
   "source": [
    "## Saving and Loading Conversations\n",
    "\n",
    "Cellmage allows you to save and load conversations:"
   ]
  },
  {
   "cell_type": "code",
   "execution_count": null,
   "id": "300410f7",
   "metadata": {},
   "outputs": [],
   "source": [
    "# Save the conversation\n",
    "save_path = chat_manager.save_conversation(\"example_conversation\")\n",
    "print(f\"Conversation saved to: {save_path}\")\n",
    "\n",
    "# Clear the history\n",
    "chat_manager.clear_history()\n",
    "print(f\"History cleared, current message count: {len(chat_manager.get_history())}\")\n",
    "\n",
    "# Load the conversation back\n",
    "if save_path:\n",
    "    chat_manager.load_conversation(save_path)\n",
    "    print(f\"Conversation loaded, message count: {len(chat_manager.get_history())}\")"
   ]
  },
  {
   "cell_type": "markdown",
   "id": "f606d7dd",
   "metadata": {},
   "source": [
    "## Conclusion\n",
    "\n",
    "This notebook has demonstrated the basic functionality of the Cellmage library:\n",
    "- Setting up an LLM client\n",
    "- Creating and using personas\n",
    "- Adding code snippets\n",
    "- Sending messages to the LLM\n",
    "- Viewing conversation history\n",
    "- Saving and loading conversations\n",
    "\n",
    "In the next notebooks, we'll explore more advanced features and test with different LLM models."
   ]
  }
 ],
 "metadata": {
  "kernelspec": {
   "display_name": ".venv",
   "language": "python",
   "name": "python3"
  },
  "language_info": {
   "codemirror_mode": {
    "name": "ipython",
    "version": 3
   },
   "file_extension": ".py",
   "mimetype": "text/x-python",
   "name": "python",
   "nbconvert_exporter": "python",
   "pygments_lexer": "ipython3",
   "version": "3.10.16"
  }
 },
 "nbformat": 4,
 "nbformat_minor": 5
}
