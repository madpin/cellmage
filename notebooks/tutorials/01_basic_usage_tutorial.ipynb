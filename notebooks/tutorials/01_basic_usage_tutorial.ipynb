{
 "cells": [
  {
   "cell_type": "markdown",
   "id": "dd05eb23",
   "metadata": {},
   "source": [
    "# CellMage Magic Functions Tutorial\n",
    "\n",
    "This notebook demonstrates how to use CellMage's powerful magic functions to interact with LLMs directly within your Jupyter notebooks.\n",
    "\n",
    "**Date:** April 24, 2025"
   ]
  },
  {
   "cell_type": "markdown",
   "id": "adc7e2ce",
   "metadata": {},
   "source": [
    "## 1. Getting Started with CellMage\n",
    "\n",
    "CellMage provides intuitive IPython magic functions that allow you to interact with Large Language Models without leaving your notebook environment. Let's start by loading the extension."
   ]
  },
  {
   "cell_type": "code",
   "execution_count": 1,
   "id": "d5c35fd1",
   "metadata": {},
   "outputs": [
    {
     "name": "stderr",
     "output_type": "stream",
     "text": [
      "INFO:cellmage.config:Found 'llm_conversations' folder. Auto-save enabled automatically.\n",
      "INFO:cellmage.config:Settings loaded successfully using Pydantic\n",
      "INFO:cellmage.config:Settings loaded successfully using Pydantic\n"
     ]
    },
    {
     "name": "stdout",
     "output_type": "stream",
     "text": [
      "Notebook directory: /Users/tpinto/madpin/cellmage/notebooks/tutorials\n",
      "Project root directory: /Users/tpinto/madpin/cellmage/notebooks\n",
      "Added path: /Users/tpinto/madpin/cellmage/notebooks\n",
      "Cellmage version: 0.1.0\n"
     ]
    }
   ],
   "source": [
    "# Add the parent directory to sys.path so we can import cellmage\n",
    "import os\n",
    "import sys\n",
    "import logging\n",
    "\n",
    "# Set up logging\n",
    "logging.basicConfig(level=logging.INFO)\n",
    "\n",
    "# Ensure the cellmage package can be imported\n",
    "# Get the absolute path of the current working directory\n",
    "notebook_dir = os.getcwd()\n",
    "# Get the project root directory (parent of the notebook directory)\n",
    "project_root = os.path.abspath(os.path.join(notebook_dir, \"..\"))\n",
    "\n",
    "print(f\"Notebook directory: {notebook_dir}\")\n",
    "print(f\"Project root directory: {project_root}\")\n",
    "\n",
    "if project_root not in sys.path:\n",
    "    sys.path.insert(0, project_root)\n",
    "    print(f\"Added path: {project_root}\")\n",
    "\n",
    "try:\n",
    "    # Import cellmage\n",
    "    import cellmage\n",
    "\n",
    "    # Check version - handle case where __version__ might not be available\n",
    "    try:\n",
    "        print(f\"Cellmage version: {cellmage.__version__}\")\n",
    "    except AttributeError:\n",
    "        print(\"Cellmage imported successfully, but version information is not available\")\n",
    "except ModuleNotFoundError as e:\n",
    "    print(f\"Error importing cellmage: {e}\")\n",
    "    print(\"\\nDebug information:\")\n",
    "    print(f\"Current working directory: {os.getcwd()}\")\n",
    "    print(f\"Python path: {sys.path}\")\n",
    "    print(\"\\nTry running this notebook from the project root directory\")"
   ]
  },
  {
   "cell_type": "code",
   "execution_count": 2,
   "id": "24ed3f79",
   "metadata": {},
   "outputs": [
    {
     "name": "stdout",
     "output_type": "stream",
     "text": [
      "✅ NotebookLLM Magics loaded. Use %llm_config and %%llm.\n",
      "   For ambient mode, try %llm_config_persistent to process all cells as LLM prompts.\n",
      "CellMage version: 0.1.0\n"
     ]
    }
   ],
   "source": [
    "# Load the CellMage extension\n",
    "%load_ext cellmage\n",
    "\n",
    "# Display version information\n",
    "import cellmage\n",
    "\n",
    "print(f\"CellMage version: {cellmage.__version__}\")"
   ]
  },
  {
   "cell_type": "markdown",
   "id": "150bc60f",
   "metadata": {},
   "source": [
    "## 2. Configuring CellMage with `%llm_config`\n",
    "\n",
    "The `%llm_config` (or equivalently, `%llm_setup`) magic command allows you to configure CellMage's behavior, including setting the default model, selecting personas, and managing conversation history."
   ]
  },
  {
   "cell_type": "code",
   "execution_count": 3,
   "id": "d14aa928",
   "metadata": {},
   "outputs": [
    {
     "name": "stdout",
     "output_type": "stream",
     "text": [
      "--- NotebookLLM Status ---\n",
      "Session ID: 4b293321-26a7-4e8d-b36a-4352f24c3b9e\n",
      "None\n",
      "Active Overrides: {'api_key': 'sk-L...mA', 'api_base': 'https://litellm.oracle.madpin.dev', 'model': 'gpt-4.1-nano'}\n",
      "History Length: 0 messages\n",
      "--------------------------\n",
      "✅ Default model set to: gpt-4.1-nano\n",
      "Available Personas: None\n"
     ]
    }
   ],
   "source": [
    "# Basic configuration\n",
    "%llm_config --status\n",
    "\n",
    "# You can set the default LLM model\n",
    "%llm_config --model gpt-4.1-nano\n",
    "\n",
    "# List available personas\n",
    "%llm_config --list-personas"
   ]
  },
  {
   "cell_type": "markdown",
   "id": "71492569",
   "metadata": {},
   "source": [
    "### Setting API Credentials\n",
    "\n",
    "To connect to LLM services, you need to provide API credentials. While we recommend using environment variables, you can also set these directly in your notebook:\n",
    "\n",
    "```python\n",
    "%llm_config --api_key \"your-api-key\" --api_base \"https://api.example.com/v1\"\n",
    "```\n",
    "\n",
    "⚠️ **Security Warning**: Never commit notebooks with API keys to version control!"
   ]
  },
  {
   "cell_type": "markdown",
   "id": "02578cda",
   "metadata": {},
   "source": [
    "## 3. Using the `%%llm` Cell Magic\n",
    "\n",
    "The core functionality of CellMage is the `%%llm` cell magic. Simply add this to the top of any cell, and the cell's content will be sent as a prompt to the LLM."
   ]
  },
  {
   "cell_type": "code",
   "execution_count": 4,
   "id": "2f040f35",
   "metadata": {},
   "outputs": [
    {
     "data": {
      "text/markdown": [
       "A Jupyter Notebook is an interactive environment that allows data scientists, researchers, and developers to write and share code, visualizations, and explanations all in one place. Think of it as a digital notebook where you can combine text, numbers, and charts seamlessly. This makes it easier to experiment with data, run code, and see the results immediately, which is especially helpful when exploring complex datasets or developing machine learning models.\n",
       "\n",
       "One of the key features of Jupyter Notebooks is their ability to support multiple programming languages, with Python being the most popular. You can write code in cells, run each cell individually, and see the output right below it. This interactivity encourages a step-by-step approach to data analysis, enabling you to document your thought process with markdown notes, add visualizations, and share your work easily with others. Overall, Jupyter Notebooks are a fundamental tool in data science for exploration, analysis, teaching, and presenting findings."
      ],
      "text/plain": [
       "<IPython.core.display.Markdown object>"
      ]
     },
     "metadata": {},
     "output_type": "display_data"
    },
    {
     "data": {
      "text/html": [
       "\n",
       "        <div style=\"background-color: #f1f8e9; border: 1px solid #c5e1a5; color: #33691e;\n",
       "                    padding: 3px 6px; margin-top: 4px; border-radius: 3px; font-family: monospace; \n",
       "                    font-size: 0.75em; line-height: 1.2; display: inline-block; opacity: 0.85;\">\n",
       "            ✓ gpt-4.1-nano • 1.79s • 22↓/256↑ tokens\n",
       "        </div>\n",
       "        "
      ],
      "text/plain": [
       "<IPython.core.display.HTML object>"
      ]
     },
     "metadata": {},
     "output_type": "display_data"
    }
   ],
   "source": [
    "%%llm \n",
    "Explain the concept of a Jupyter notebook to someone new to data science in 2-3 paragraphs.\n"
   ]
  },
  {
   "cell_type": "markdown",
   "id": "d3de8731",
   "metadata": {},
   "source": [
    "### Using Options with `%%llm`\n",
    "\n",
    "You can customize the behavior of individual LLM interactions by passing options to the `%%llm` magic:"
   ]
  },
  {
   "cell_type": "code",
   "execution_count": 5,
   "id": "3d83f019",
   "metadata": {},
   "outputs": [
    {
     "data": {
      "text/markdown": [
       "Elegant and clear—  \n",
       "in serpentine flow we craft  \n",
       "dreams with Python code."
      ],
      "text/plain": [
       "<IPython.core.display.Markdown object>"
      ]
     },
     "metadata": {},
     "output_type": "display_data"
    },
    {
     "data": {
      "text/html": [
       "\n",
       "        <div style=\"background-color: #f1f8e9; border: 1px solid #c5e1a5; color: #33691e;\n",
       "                    padding: 3px 6px; margin-top: 4px; border-radius: 3px; font-family: monospace; \n",
       "                    font-size: 0.75em; line-height: 1.2; display: inline-block; opacity: 0.85;\">\n",
       "            ✓ gpt-4.1 • 0.65s • 290↓/18↑ tokens\n",
       "        </div>\n",
       "        "
      ],
      "text/plain": [
       "<IPython.core.display.HTML object>"
      ]
     },
     "metadata": {},
     "output_type": "display_data"
    }
   ],
   "source": [
    "%%llm --model gpt-4.1 --temperature 1.5\n",
    "Write a haiku about programmin2g in Python."
   ]
  },
  {
   "cell_type": "markdown",
   "id": "67a5a05c",
   "metadata": {},
   "source": [
    "## 4. Working with Personas\n",
    "\n",
    "Personas are predefined configurations that include system prompts and LLM parameters. They help you quickly switch between different interaction styles."
   ]
  },
  {
   "cell_type": "code",
   "execution_count": 6,
   "id": "01e95b4e",
   "metadata": {},
   "outputs": [
    {
     "name": "stderr",
     "output_type": "stream",
     "text": [
      "2025-04-27 15:52:59,688 - cellmage.resources.file_loader - WARNING - Persona 'python_expert' not found in llm_personas\n"
     ]
    },
    {
     "name": "stdout",
     "output_type": "stream",
     "text": [
      "❌ Error: Persona 'python_expert' not found.\n",
      "  To list available personas, use: %llm_config --list-personas\n"
     ]
    },
    {
     "data": {
      "text/html": [
       "\n",
       "        <div style=\"background-color: #ffebee; border: 1px solid #ef9a9a; color: #c62828;\n",
       "                    padding: 3px 6px; margin-top: 4px; border-radius: 3px; font-family: monospace; \n",
       "                    font-size: 0.75em; line-height: 1.2; display: inline-block; opacity: 0.85;\">\n",
       "            ⚠ • 0.00s\n",
       "        </div>\n",
       "        "
      ],
      "text/plain": [
       "<IPython.core.display.HTML object>"
      ]
     },
     "metadata": {},
     "output_type": "display_data"
    }
   ],
   "source": [
    "%%llm --persona python_expert\n",
    "Explain how decorators work in Python with a simple example."
   ]
  },
  {
   "cell_type": "code",
   "execution_count": 7,
   "id": "8d97839d",
   "metadata": {},
   "outputs": [
    {
     "name": "stderr",
     "output_type": "stream",
     "text": [
      "2025-04-27 15:52:59,695 - cellmage.resources.file_loader - WARNING - Persona 'creative_writer' not found in llm_personas\n"
     ]
    },
    {
     "name": "stdout",
     "output_type": "stream",
     "text": [
      "❌ Error: Persona 'creative_writer' not found.\n",
      "Active Persona: None\n",
      "  To set a persona, use: %llm_config --persona <name>\n",
      "  To list available personas, use: %llm_config --list-personas\n"
     ]
    }
   ],
   "source": [
    "# Set a default persona for all subsequent interactions\n",
    "%llm_config --persona creative_writer\n",
    "%llm_config --show-persona"
   ]
  },
  {
   "cell_type": "code",
   "execution_count": 8,
   "id": "a652756c",
   "metadata": {},
   "outputs": [
    {
     "data": {
      "text/markdown": [
       "In circuits born a spark of thought,  \n",
       "A mind unseen, yet not forgot.  \n",
       "Learning’s dance, from data’s breath,  \n",
       "Guiding us through the dawn of tech.  \n",
       "  \n",
       "Silent, wise, it mines the streams,  \n",
       "Turning code to dreams and dreams to schemes.  \n",
       "A mirror, mind, of human art—  \n",
       "Artificial life, connecting heart."
      ],
      "text/plain": [
       "<IPython.core.display.Markdown object>"
      ]
     },
     "metadata": {},
     "output_type": "display_data"
    },
    {
     "data": {
      "text/html": [
       "\n",
       "        <div style=\"background-color: #f1f8e9; border: 1px solid #c5e1a5; color: #33691e;\n",
       "                    padding: 3px 6px; margin-top: 4px; border-radius: 3px; font-family: monospace; \n",
       "                    font-size: 0.75em; line-height: 1.2; display: inline-block; opacity: 0.85;\">\n",
       "            ✓ gpt-4.1-nano • 0.75s • 321↓/76↑ tokens\n",
       "        </div>\n",
       "        "
      ],
      "text/plain": [
       "<IPython.core.display.HTML object>"
      ]
     },
     "metadata": {},
     "output_type": "display_data"
    }
   ],
   "source": [
    "%%llm\n",
    "Write a short poem about artificial intelligence."
   ]
  },
  {
   "cell_type": "markdown",
   "id": "93190aee",
   "metadata": {},
   "source": [
    "## 5. Managing Conversation History\n",
    "\n",
    "CellMage automatically maintains conversation history to provide context for your interactions. You can manage this history using various commands."
   ]
  },
  {
   "cell_type": "code",
   "execution_count": 9,
   "id": "e1117bf1",
   "metadata": {},
   "outputs": [
    {
     "name": "stdout",
     "output_type": "stream",
     "text": [
      "--- History (6 messages) ---\n",
      "[0] USER: Explain the concept of a Jupyter notebook to someone new to data science in 2-3 paragraphs.\n",
      "    (ID: ...de68f6, Cell: ZQ%3D%3D, Exec: 4)\n",
      "[1] ASSISTANT: A Jupyter Notebook is an interactive environment that allows data scientists, researchers, and developers to write and share code, visualizations, and...\n",
      "    (ID: ...f44002, Cell: ZQ%3D%3D, Exec: 4)\n",
      "[2] USER: Write a haiku about programmin2g in Python.\n",
      "    (ID: ...66b186, Cell: ZQ%3D%3D, Exec: 5)\n",
      "[3] ASSISTANT: Elegant and clear—  \n",
      "in serpentine flow we craft  \n",
      "dreams with Python code.\n",
      "    (ID: ...88a5f4, Cell: ZQ%3D%3D, Exec: 5)\n",
      "[4] USER: Write a short poem about artificial intelligence.\n",
      "    (ID: ...6a7821, Cell: ZQ%3D%3D, Exec: 8)\n",
      "[5] ASSISTANT: In circuits born a spark of thought,  \n",
      "A mind unseen, yet not forgot.  \n",
      "Learning’s dance, from data’s breath,  \n",
      "Guiding us through the dawn of tech.  ...\n",
      "    (ID: ...a76db1, Cell: ZQ%3D%3D, Exec: 8)\n",
      "--------------------------\n"
     ]
    }
   ],
   "source": [
    "# Show the current conversation history\n",
    "%llm_config --show-history"
   ]
  },
  {
   "cell_type": "code",
   "execution_count": 10,
   "id": "987a26be",
   "metadata": {},
   "outputs": [
    {
     "name": "stdout",
     "output_type": "stream",
     "text": [
      "✅ Chat history cleared.\n",
      "--- History (0 messages) ---\n",
      "(empty)\n",
      "--------------------------\n"
     ]
    }
   ],
   "source": [
    "# Clear the conversation history\n",
    "%llm_config --clear-history\n",
    "\n",
    "# Verify that the history is cleared\n",
    "%llm_config --show-history"
   ]
  },
  {
   "cell_type": "markdown",
   "id": "73ca7367",
   "metadata": {},
   "source": [
    "### Automatic Rollback\n",
    "\n",
    "One of CellMage's most useful features is automatic rollback. When you re-run a cell that contains `%%llm`, CellMage automatically removes the previous interaction from that cell from the history. This prevents duplication when you're iterating on your prompts."
   ]
  },
  {
   "cell_type": "code",
   "execution_count": 11,
   "id": "c4fa6a55",
   "metadata": {},
   "outputs": [
    {
     "data": {
      "text/markdown": [
       "In the context of CellMage, **automatic rollback** refers to the feature or mechanism where the system automatically reverts to a previous known good state or configuration in response to errors, failures, or undesired conditions encountered during operations. This process is designed to maintain stability and data integrity by preventing the system from remaining in a faulty or inconsistent state. \n",
       "\n",
       "Specifically, in CellMage—an environment or platform dealing with cellular data or computations—automatic rollback might occur during tasks such as data processing, model updates, or configuration changes. If an update or computation causes errors or produces unreliable results, the system automatically restores the prior stable state without requiring manual intervention. This ensures continuous operation, minimizes downtime, and helps preserve accurate and consistent data.\n",
       "\n",
       "**In summary:**\n",
       "- Automatic rollback in CellMage is a safety and stability feature.\n",
       "- It automatically reverts to a previous, stable state after detecting errors or failures.\n",
       "- It helps maintain system reliability and data integrity during updates or operations."
      ],
      "text/plain": [
       "<IPython.core.display.Markdown object>"
      ]
     },
     "metadata": {},
     "output_type": "display_data"
    },
    {
     "data": {
      "text/html": [
       "\n",
       "        <div style=\"background-color: #f1f8e9; border: 1px solid #c5e1a5; color: #33691e;\n",
       "                    padding: 3px 6px; margin-top: 4px; border-radius: 3px; font-family: monospace; \n",
       "                    font-size: 0.75em; line-height: 1.2; display: inline-block; opacity: 0.85;\">\n",
       "            ✓ gpt-4.1-nano • 1.48s • 16↓/286↑ tokens\n",
       "        </div>\n",
       "        "
      ],
      "text/plain": [
       "<IPython.core.display.HTML object>"
      ]
     },
     "metadata": {},
     "output_type": "display_data"
    }
   ],
   "source": [
    "%%llm\n",
    "Explain what 'automatic rollback' means in the context of CellMage."
   ]
  },
  {
   "cell_type": "markdown",
   "id": "2ebe1df1",
   "metadata": {},
   "source": [
    "## 6. Using Snippets\n",
    "\n",
    "Snippets allow you to include code or other content as context in your LLM conversations."
   ]
  },
  {
   "cell_type": "code",
   "execution_count": 12,
   "id": "01b25ad6",
   "metadata": {},
   "outputs": [
    {
     "name": "stdout",
     "output_type": "stream",
     "text": [
      "Overwriting /tmp/example_code.py\n"
     ]
    }
   ],
   "source": [
    "%%writefile /tmp/example_code.py\n",
    "\n",
    "\n",
    "def process_data(data_list):\n",
    "    \"\"\"Process a list of numeric data.\"\"\"\n",
    "    results = []\n",
    "    for item in data_list:\n",
    "        if isinstance(item, (int, float)):\n",
    "            results.append(item * 2)\n",
    "        else:\n",
    "            print(f\"Skipping non-numeric item: {item}\")\n",
    "    return results\n",
    "\n",
    "\n",
    "# Example usage\n",
    "sample_data = [1, 2, \"3\", 4.5, \"text\"]\n",
    "processed = process_data(sample_data)\n",
    "print(f\"Processed data: {processed}\")"
   ]
  },
  {
   "cell_type": "code",
   "execution_count": 13,
   "id": "9f78d41d",
   "metadata": {},
   "outputs": [
    {
     "name": "stdout",
     "output_type": "stream",
     "text": [
      "Overwriting /tmp/persona_pirate.md\n"
     ]
    }
   ],
   "source": [
    "%%writefile /tmp/persona_pirate.md\n",
    "\n",
    "You are a pirate. You speak in a pirate accent and use pirate slang and always finish your sentences with \"Arrr!\""
   ]
  },
  {
   "cell_type": "markdown",
   "id": "e780b652",
   "metadata": {},
   "source": [
    "Now we can list available snippets and add one to our conversation:"
   ]
  },
  {
   "cell_type": "code",
   "execution_count": 14,
   "id": "70647b54",
   "metadata": {},
   "outputs": [
    {
     "name": "stdout",
     "output_type": "stream",
     "text": [
      "Available Snippets: None\n"
     ]
    }
   ],
   "source": [
    "# List available snippets\n",
    "%llm_config --list-snippets"
   ]
  },
  {
   "cell_type": "code",
   "execution_count": 15,
   "id": "17a7919c",
   "metadata": {},
   "outputs": [
    {
     "name": "stdout",
     "output_type": "stream",
     "text": [
      "✅ Added system snippet: '/tmp/example_code.py'\n"
     ]
    }
   ],
   "source": [
    "# Use our file as a snippet\n",
    "%llm_config --sys-snippet /tmp/example_code.py"
   ]
  },
  {
   "cell_type": "code",
   "execution_count": 28,
   "id": "48a11de7",
   "metadata": {},
   "outputs": [
    {
     "data": {
      "text/markdown": [
       "Arrr! I see yer code, matey! To make it more robust and handle errors better, ye should consider catchin' potential exceptions and providin' clear feedback when somethin' goes awry. Here be some suggestions:\n",
       "\n",
       "1. **Add Exception Handling**: Wrap yer type check and operation in a try-except block to catch unexpected issues, like tryin' to multiply non-numeric ingredients or dealin' with unexpected data types. Arrr!\n",
       "\n",
       "2. **Validate Input Data**: Check if 'data_list' is indeed a list before loopin'. If not, give a friendly warning or raise an exception.\n",
       "\n",
       "3. **Use Logging Instead of Print**: For better maintainability, especially in larger apps, switch from print statements to a logging framework to record warnings and errors.\n",
       "\n",
       "Here's how ye might improve yer function:\n",
       "\n",
       "```python\n",
       "import logging\n",
       "\n",
       "logging.basicConfig(level=logging.WARNING)\n",
       "\n",
       "def process_data(data_list):\n",
       "    \"\"\"Process a list of numeric data with improved error handling.\"\"\"\n",
       "    results = []\n",
       "\n",
       "    if not isinstance(data_list, list):\n",
       "        raise TypeError(\"Expected a list of data.\")\n",
       "\n",
       "    for item in data_list:\n",
       "        try:\n",
       "            if isinstance(item, (int, float)):\n",
       "                results.append(item * 2)\n",
       "            else:\n",
       "                logging.warning(f\"Skipping non-numeric item: {item}\")\n",
       "        except Exception as e:\n",
       "            logging.error(f\"Error processing item {item}: {e}\")\n",
       "\n",
       "    return results\n",
       "```\n",
       "\n",
       "Arrr! With these improvements, yer function will be sturdier, more reliable, and easier to troubleshoot, arrr!"
      ],
      "text/plain": [
       "<IPython.core.display.Markdown object>"
      ]
     },
     "metadata": {},
     "output_type": "display_data"
    },
    {
     "data": {
      "text/html": [
       "\n",
       "        <div style=\"background-color: #f1f8e9; border: 1px solid #c5e1a5; color: #33691e;\n",
       "                    padding: 3px 6px; margin-top: 4px; border-radius: 3px; font-family: monospace; \n",
       "                    font-size: 0.75em; line-height: 1.2; display: inline-block; opacity: 0.85;\">\n",
       "            ✓ gpt-4.1-nano • 2.27s • 633↓/375↑ tokens\n",
       "        </div>\n",
       "        "
      ],
      "text/plain": [
       "<IPython.core.display.HTML object>"
      ]
     },
     "metadata": {},
     "output_type": "display_data"
    }
   ],
   "source": [
    "%%llm --persona /tmp/persona_pirate.md\n",
    "Review the code I provided. How could I improve the error handling and make the function more robust?"
   ]
  },
  {
   "cell_type": "code",
   "execution_count": 27,
   "id": "290836ad",
   "metadata": {},
   "outputs": [
    {
     "name": "stdout",
     "output_type": "stream",
     "text": [
      "--- History (6 messages) ---\n",
      "[0] SYSTEM: You are a pirate. You speak in a pirate accent and use pirate slang and always finish your sentences with \"Arrr!\"\n",
      "    (ID: ...01f066, Cell: ZQ%3D%3D, Exec: 16)\n",
      "[1] SYSTEM: \n",
      "\n",
      "def process_data(data_list):\n",
      "    \"\"\"Process a list of numeric data.\"\"\"\n",
      "    results = []\n",
      "    for item in data_list:\n",
      "        if isinstance(item, (int,...\n",
      "    (ID: ...a6d40a, Cell: ZQ%3D%3D, Exec: 15)\n",
      "[2] USER: Generate three creative startup ideas combining artificial intelligence and sustainable energy.\n",
      "    (ID: ...1494fc, Cell: ZQ%3D%3D, Exec: 22)\n",
      "[3] ASSISTANT: Arrr! Here be three clever startup ideas combin' AI and sustainable energy, aye!\n",
      "\n",
      "1. SolarSage - An AI-powered platform that optimizes solar panel pla...\n",
      "    (ID: ...1e5634, Cell: ZQ%3D%3D, Exec: 22)\n",
      "[4] USER: # This regular cell will be treated as a prompt for the LLM\n",
      "\n",
      "What are three best practices for writing clean, maintainable Python code?\n",
      "    (ID: ...6f37f7, Cell: ZQ%3D%3D, Exec: 25)\n",
      "[5] ASSISTANT: Arrr! Here be three best practices for craftin' clean and maintainable Python code, aye!\n",
      "\n",
      "1. Use Descriptive Names, Arrr! - Name yer variables, functi...\n",
      "    (ID: ...9bc08c, Cell: ZQ%3D%3D, Exec: 25)\n",
      "--------------------------\n"
     ]
    }
   ],
   "source": [
    "# Show the loaded history\n",
    "%llm_config --show-history"
   ]
  },
  {
   "cell_type": "markdown",
   "id": "1f40607d",
   "metadata": {},
   "source": [
    "## 8. Using Parameter Overrides\n",
    "\n",
    "You can temporarily override LLM parameters for specific interactions."
   ]
  },
  {
   "cell_type": "code",
   "execution_count": 21,
   "id": "f651cd8a",
   "metadata": {},
   "outputs": [
    {
     "name": "stdout",
     "output_type": "stream",
     "text": [
      "✅ Override set: temperature = 0.9 (float)\n",
      "Active Overrides: {'api_key': 'sk-L...mA', 'api_base': 'https://litellm.oracle.madpin.dev', 'model': 'gpt-4.1-nano', 'temperature': 0.9}\n"
     ]
    }
   ],
   "source": [
    "# Set a parameter override\n",
    "%llm_config --set-override temperature 0.9\n",
    "\n",
    "# Show current overrides\n",
    "%llm_config --show-overrides"
   ]
  },
  {
   "cell_type": "code",
   "execution_count": 22,
   "id": "c22af50d",
   "metadata": {},
   "outputs": [
    {
     "data": {
      "text/markdown": [
       "Arrr! Here be three clever startup ideas combin' AI and sustainable energy, aye!\n",
       "\n",
       "1. SolarSage - An AI-powered platform that optimizes solar panel placement and maintenance by predictin' weather patterns and panel efficiency, savin' resources and maximizin' energy harvest, arr!\n",
       "\n",
       "2. WindWhisper - A smart AI system that monitors and adjusts wind turbine operations in real-time, balancin' energy output with environmental impact, and predictin' wear and tear before any breakages, arrr!\n",
       "\n",
       "3. GreenGrid - An AI-driven energy management network that dynamically allocates renewable energy resources across communities, predictin' demand patterns and storin' surplus energy in advanced batteries, keepin' the lights on sustainably, arr!\n",
       "\n",
       "Yarr, these be some mighty fine ideas to sail the seas of innovation!"
      ],
      "text/plain": [
       "<IPython.core.display.Markdown object>"
      ]
     },
     "metadata": {},
     "output_type": "display_data"
    },
    {
     "data": {
      "text/html": [
       "\n",
       "        <div style=\"background-color: #f1f8e9; border: 1px solid #c5e1a5; color: #33691e;\n",
       "                    padding: 3px 6px; margin-top: 4px; border-radius: 3px; font-family: monospace; \n",
       "                    font-size: 0.75em; line-height: 1.2; display: inline-block; opacity: 0.85;\">\n",
       "            ✓ gpt-4.1-nano • 1.26s • 157↓/200↑ tokens\n",
       "        </div>\n",
       "        "
      ],
      "text/plain": [
       "<IPython.core.display.HTML object>"
      ]
     },
     "metadata": {},
     "output_type": "display_data"
    }
   ],
   "source": [
    "%%llm\n",
    "Generate three creative startup ideas combining artificial intelligence and sustainable energy."
   ]
  },
  {
   "cell_type": "code",
   "execution_count": null,
   "id": "205edb4f",
   "metadata": {},
   "outputs": [
    {
     "name": "stdout",
     "output_type": "stream",
     "text": [
      "Active Overrides: {'api_key': 'sk-L...mA', 'api_base': 'https://litellm.oracle.madpin.dev', 'model': 'gpt-4.1-nano', 'temperature': 0.9}\n",
      "✅ All overrides cleared.\n",
      "Active Overrides: {'api_key': 'sk-L...mA', 'api_base': 'https://litellm.oracle.madpin.dev', 'model': 'gpt-4.1-nano'}\n"
     ]
    }
   ],
   "source": [
    "# Verify overrides are cleared\n",
    "%llm_config --show-overrides\n",
    "\n",
    "# Clear all overrides\n",
    "%llm_config --clear-overrides\n",
    "\n",
    "# Verify overrides are cleared\n",
    "%llm_config --show-overrides"
   ]
  },
  {
   "cell_type": "markdown",
   "id": "241d8eb0",
   "metadata": {},
   "source": [
    "## 9. Ambient Mode with `%llm_setup_forever`\n",
    "\n",
    "For a pure chat experience, you can enable \"Ambient Enchantment\" mode, which treats all regular code cells as prompts for the LLM."
   ]
  },
  {
   "cell_type": "code",
   "execution_count": 24,
   "id": "0801b55d",
   "metadata": {},
   "outputs": [
    {
     "name": "stdout",
     "output_type": "stream",
     "text": [
      "--- NotebookLLM Status ---\n",
      "Session ID: 4b293321-26a7-4e8d-b36a-4352f24c3b9e\n",
      "None\n",
      "Active Overrides: {'api_key': 'sk-L...mA', 'api_base': 'https://litellm.oracle.madpin.dev', 'model': 'gpt-4.1-nano'}\n",
      "History Length: 4 messages\n",
      "--------------------------\n",
      "✅ Ambient mode ENABLED. All cells will now be processed as LLM prompts unless they start with % or !.\n",
      "   Run %disable_llm_config_persistent to disable ambient mode.\n"
     ]
    }
   ],
   "source": [
    "# Enable ambient mode\n",
    "%llm_config_persistent"
   ]
  },
  {
   "cell_type": "code",
   "execution_count": 25,
   "id": "23b7a529",
   "metadata": {},
   "outputs": [
    {
     "data": {
      "text/markdown": [
       "Arrr! Here be three best practices for craftin' clean and maintainable Python code, aye!\n",
       "\n",
       "1. Use Descriptive Names, Arrr! - Name yer variables, functions, and classes clearly so other pirates—and yer future self—can understand what they do without guesswork, aye!\n",
       "\n",
       "2. Write Modular Code - Break yer code into small, reusable functions and classes. This makes it easier to test, debug, and update, like patchin' a ship's hull, arrr!\n",
       "\n",
       "3. Follow PEP 8 Standards - Stick to the Python Enhancement Proposal 8 for style guide, includin' proper indentations, whitespace, and docstrings, so yer code looks professional and consistent across crews, arr!\n",
       "\n",
       "Yarr, follow these practices and yer code will sail smoothly like a well-flagged ship on calm waters!"
      ],
      "text/plain": [
       "<IPython.core.display.Markdown object>"
      ]
     },
     "metadata": {},
     "output_type": "display_data"
    },
    {
     "data": {
      "text/html": [
       "\n",
       "        <div style=\"background-color: #f1f8e9; border: 1px solid #c5e1a5; color: #33691e;\n",
       "                    padding: 3px 6px; margin-top: 4px; border-radius: 3px; font-family: monospace; \n",
       "                    font-size: 0.75em; line-height: 1.2; display: inline-block; opacity: 0.85;\">\n",
       "            ✓ gpt-4.1-nano • 1.68s • 392↓/186↑ tokens\n",
       "        </div>\n",
       "        "
      ],
      "text/plain": [
       "<IPython.core.display.HTML object>"
      ]
     },
     "metadata": {},
     "output_type": "display_data"
    }
   ],
   "source": [
    "# This regular cell will be treated as a prompt for the LLM\n",
    "What are three best practices for writing clean, maintainable Python code?"
   ]
  },
  {
   "cell_type": "code",
   "execution_count": 26,
   "id": "6fd14313",
   "metadata": {},
   "outputs": [
    {
     "name": "stdout",
     "output_type": "stream",
     "text": [
      "❌ Ambient mode DISABLED. Regular cells will now be executed normally.\n"
     ]
    }
   ],
   "source": [
    "# Disable ambient mode when you're done\n",
    "%disable_llm_config_persistent"
   ]
  },
  {
   "cell_type": "markdown",
   "id": "4f4e9ceb",
   "metadata": {},
   "source": [
    "## 10. Troubleshooting and Tips\n",
    "\n",
    "Here are some common issues and how to resolve them:\n",
    "\n",
    "1. **Magic commands not found**: Make sure you've loaded the extension with `%load_ext cellmage`\n",
    "2. **API connection errors**: Check your API key and connection settings\n",
    "3. **Missing personas or snippets**: Use `--list-personas` or `--list-snippets` to check available resources\n",
    "4. **Memory errors**: Try clearing history with `--clear-history` to free up memory\n",
    "5. **Import errors**: Verify the CellMage package is correctly installed in your Python path\n",
    "\n",
    "### Performance Tips\n",
    "\n",
    "- Use `--no-stream` for non-interactive tasks to get the full response at once\n",
    "- Keep conversation history concise for faster responses\n",
    "- Choose appropriate models for your task (smaller models for simple tasks, larger models for complex reasoning)"
   ]
  },
  {
   "cell_type": "markdown",
   "id": "493ace29",
   "metadata": {},
   "source": [
    "## Conclusion\n",
    "\n",
    "CellMage's magic functions provide a seamless way to integrate LLM capabilities directly into your Jupyter workflow. By using these magic commands, you can:\n",
    "\n",
    "- Interact with LLMs without leaving your notebook\n",
    "- Maintain conversation context across cells\n",
    "- Customize LLM behavior with personas and parameter settings\n",
    "- Save and load conversations for later use\n",
    "- Provide additional context through snippets\n",
    "\n",
    "This makes CellMage a powerful tool for data scientists, researchers, and developers who want to leverage LLMs in their workflow.\n",
    "\n",
    "Happy conjuring! ✨🧙‍♂️"
   ]
  }
 ],
 "metadata": {
  "kernelspec": {
   "display_name": ".venv",
   "language": "python",
   "name": "python3"
  },
  "language_info": {
   "codemirror_mode": {
    "name": "ipython",
    "version": 3
   },
   "file_extension": ".py",
   "mimetype": "text/x-python",
   "name": "python",
   "nbconvert_exporter": "python",
   "pygments_lexer": "ipython3",
   "version": "3.10.16"
  }
 },
 "nbformat": 4,
 "nbformat_minor": 5
}
