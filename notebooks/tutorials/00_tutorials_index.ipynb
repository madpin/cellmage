{
 "cells": [
  {
   "cell_type": "markdown",
   "id": "499cf296",
   "metadata": {},
   "source": [
    "# 🧙 CellMage Tutorials Guide ✨\n",
    "\n",
    "This notebook serves as an index to the tutorial notebooks in this directory. Follow these tutorials to learn about CellMage step by step.\n",
    "\n",
    "**Date:** April 26, 2025"
   ]
  },
  {
   "cell_type": "markdown",
   "id": "02eb8341",
   "metadata": {},
   "source": [
    "## Available Tutorials\n",
    "\n",
    "### 1. [Basic Usage Tutorial](01_basic_usage_tutorial.ipynb)\n",
    "- Learn the fundamentals of CellMage magic functions\n",
    "- Set up your environment for LLM interaction\n",
    "- Use the `%%llm` magic command for basic interactions\n",
    "- Understand configuration options\n",
    "\n",
    "### 2. [Advanced Features Tutorial](02_advanced_features_tutorial.ipynb)\n",
    "- Explore advanced features of CellMage's API\n",
    "- Learn about the underlying components and architecture\n",
    "- Work with multi-turn conversations\n",
    "- Save and load conversation states\n",
    "\n",
    "### 3. [Model Comparison Tutorial](03_model_comparison_tutorial.ipynb)\n",
    "- Compare different LLM models with CellMage\n",
    "- Evaluate performance across various tasks\n",
    "- Understand the strengths of each model\n",
    "- Learn how to choose the right model for different use cases"
   ]
  },
  {
   "cell_type": "markdown",
   "id": "d2e48bdc",
   "metadata": {},
   "source": [
    "## Quick Start\n",
    "\n",
    "If you're new to CellMage, start with the [01_basic_usage_tutorial.ipynb](01_basic_usage_tutorial.ipynb) notebook. It will guide you through the basic setup and demonstrate how to use the magic functions."
   ]
  },
  {
   "cell_type": "code",
   "execution_count": null,
   "id": "0dfaf48d",
   "metadata": {},
   "outputs": [],
   "source": [
    "# Quick setup example\n",
    "%load_ext cellmage\n",
    "\n",
    "# Check if CellMage is properly installed\n",
    "import cellmage\n",
    "print(f\"CellMage version: {cellmage.__version__}\")"
   ]
  },
  {
   "cell_type": "markdown",
   "id": "61813c00",
   "metadata": {},
   "source": [
    "## Prerequisites\n",
    "\n",
    "Before running these tutorials, make sure you have:\n",
    "\n",
    "1. The CellMage package installed\n",
    "2. API credentials for your chosen LLM provider\n",
    "3. Environment variables or `.env` file configured\n",
    "\n",
    "See the main [01_getting_started.ipynb](../01_getting_started.ipynb) notebook for detailed setup instructions."
   ]
  }
 ],
 "metadata": {
  "language_info": {
   "name": "python"
  }
 },
 "nbformat": 4,
 "nbformat_minor": 5
}
