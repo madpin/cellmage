{
 "cells": [
  {
   "cell_type": "markdown",
   "id": "99850754",
   "metadata": {},
   "source": [
    "# 🧙 CellMage Notebooks Guide ✨\n",
    "\n",
    "Welcome to the CellMage notebook collection! This guide will help you navigate through the available notebooks and understand their purpose.\n",
    "\n",
    "**Date:** April 26, 2025"
   ]
  },
  {
   "cell_type": "markdown",
   "id": "dfd97683",
   "metadata": {},
   "source": [
    "## What is CellMage?\n",
    "\n",
    "CellMage is a powerful library that simplifies interactions with Large Language Models (LLMs) directly in Jupyter notebooks, providing:\n",
    "\n",
    "- **Conversation history management**: Track and manage multi-turn conversations\n",
    "- **Persona configuration**: Customize system prompts and parameters for different use cases\n",
    "- **Snippet management**: Include code and other context in your LLM interactions\n",
    "- **Conversation saving/loading**: Persist conversations for later use\n",
    "- **IPython/Jupyter integration**: Interact with LLMs directly from notebook cells\n",
    "- **Multiple model support**: Works with OpenAI, Gemini, and other LLM providers"
   ]
  },
  {
   "cell_type": "markdown",
   "id": "c62a99d5",
   "metadata": {},
   "source": [
    "## Notebook Organization\n",
    "\n",
    "The notebooks are organized into the following categories:\n",
    "\n",
    "1. **Root Level** - Entry point notebooks\n",
    "2. **Tutorials** - Structured learning from basic to advanced\n",
    "3. **Examples** - Demonstrations of specific features\n",
    "4. **Tests** - Verification and test notebooks\n",
    "\n",
    "Additional directories:\n",
    "- **llm_conversations/** - Saved conversation histories\n",
    "- **llm_personas/** - Persona configuration files\n",
    "- **llm_snippets/** - Code and content snippets for LLM context"
   ]
  },
  {
   "cell_type": "markdown",
   "id": "a44c04a4",
   "metadata": {},
   "source": [
    "## Getting Started\n",
    "\n",
    "If you're new to CellMage, start with the **01_getting_started.ipynb** notebook in the root directory. This notebook introduces the basic concepts and functionality of CellMage.\n",
    "\n",
    "### Prerequisites\n",
    "\n",
    "Before running these notebooks, ensure you have:\n",
    "\n",
    "1. Python 3.10 or later installed\n",
    "2. The following packages:\n",
    "   ```\n",
    "   cellmage>=0.1.0\n",
    "   jupyter>=1.0.0\n",
    "   python-dotenv>=0.19.0  # For secure API key management\n",
    "   ```\n",
    "3. Valid API credentials for your chosen LLM provider\n",
    "\n",
    "### API Configuration\n",
    "\n",
    "Create a `.env` file in your project root with:\n",
    "```\n",
    "CELLMAGE_API_KEY=your-api-key-here\n",
    "CELLMAGE_API_BASE=https://your-api-endpoint\n",
    "```"
   ]
  },
  {
   "cell_type": "markdown",
   "id": "778398c7",
   "metadata": {},
   "source": [
    "## Notebook Guide\n",
    "\n",
    "### Root Level\n",
    "\n",
    "- **01_getting_started.ipynb**: Introduction to the basic functionality of CellMage\n",
    "- **README.ipynb**: This guide to the notebook collection\n",
    "\n",
    "### Tutorials\n",
    "\n",
    "1. **01_basic_usage_tutorial.ipynb**: Learn how to use CellMage's magic functions\n",
    "2. **02_advanced_features_tutorial.ipynb**: Explore advanced features and API usage\n",
    "3. **03_model_comparison_tutorial.ipynb**: Compare different LLM models with CellMage\n",
    "\n",
    "### Examples\n",
    "\n",
    "1. **01_ambient_mode_example.ipynb**: Demonstrates ambient mode functionality\n",
    "2. **02_persistent_chat_example.ipynb**: Shows persistent chat capabilities\n",
    "\n",
    "### Tests\n",
    "\n",
    "1. **01_cellmagic_test.ipynb**: Tests for cellmagic functionality"
   ]
  },
  {
   "cell_type": "markdown",
   "id": "994ae62b",
   "metadata": {},
   "source": [
    "## Recommended Learning Path\n",
    "\n",
    "For the best learning experience, we recommend following this sequence:\n",
    "\n",
    "1. **01_getting_started.ipynb** - Get familiar with basic concepts\n",
    "2. **tutorials/01_basic_usage_tutorial.ipynb** - Learn magic functions\n",
    "3. **examples/01_ambient_mode_example.ipynb** - Try ambient mode\n",
    "4. **examples/02_persistent_chat_example.ipynb** - Explore persistent chat\n",
    "5. **tutorials/02_advanced_features_tutorial.ipynb** - Dive into advanced features\n",
    "6. **tutorials/03_model_comparison_tutorial.ipynb** - Compare different models"
   ]
  },
  {
   "cell_type": "markdown",
   "id": "443fd62b",
   "metadata": {},
   "source": [
    "## Key Features Demonstration\n",
    "\n",
    "### Loading the CellMage Extension"
   ]
  },
  {
   "cell_type": "code",
   "execution_count": null,
   "id": "cdce0b2e",
   "metadata": {},
   "outputs": [
    {
     "name": "stdout",
     "output_type": "stream",
     "text": [
      "✅ NotebookLLM Magics loaded. Use %llm_config and %%llm.\n",
      "   For ambient mode, try %llm_config_persistent to process all cells as LLM prompts.\n",
      "CellMage version: 0.1.0\n"
     ]
    }
   ],
   "source": [
    "%load_ext cellmage\n",
    "\n",
    "# Display version information\n",
    "import cellmage\n",
    "\n",
    "print(f\"CellMage version: {cellmage.__version__}\")"
   ]
  },
  {
   "cell_type": "markdown",
   "id": "2d241490",
   "metadata": {},
   "source": [
    "### Basic Configuration"
   ]
  },
  {
   "cell_type": "code",
   "execution_count": 2,
   "id": "3bb12126",
   "metadata": {},
   "outputs": [
    {
     "name": "stdout",
     "output_type": "stream",
     "text": [
      "--- NotebookLLM Status ---\n",
      "Session ID: 7c2760ad-0564-463a-bf7f-27c4069164c4\n",
      "None\n",
      "Active Overrides: {'api_key': 'sk-L...mA', 'api_base': 'https://litellm.oracle.madpin.dev', 'model': 'gpt-4.1-nano'}\n",
      "History Length: 0 messages\n",
      "--------------------------\n",
      "✅ Default model set to: gpt-4.1-nano\n"
     ]
    }
   ],
   "source": [
    "# Check the current status\n",
    "%llm_config --status\n",
    "\n",
    "# Set the default model\n",
    "%llm_config --model gpt-4.1-nano"
   ]
  },
  {
   "cell_type": "markdown",
   "id": "a39fc9e4",
   "metadata": {},
   "source": [
    "### Using the Magic Command"
   ]
  },
  {
   "cell_type": "code",
   "execution_count": 3,
   "id": "897c2f70",
   "metadata": {},
   "outputs": [
    {
     "ename": "AttributeError",
     "evalue": "'NotebookLLMMagics' object has no attribute '_prepare_runtime_params'",
     "output_type": "error",
     "traceback": [
      "\u001b[0;31m---------------------------------------------------------------------------\u001b[0m",
      "\u001b[0;31mAttributeError\u001b[0m                            Traceback (most recent call last)",
      "Cell \u001b[0;32mIn[3], line 1\u001b[0m\n\u001b[0;32m----> 1\u001b[0m \u001b[43mget_ipython\u001b[49m\u001b[43m(\u001b[49m\u001b[43m)\u001b[49m\u001b[38;5;241;43m.\u001b[39;49m\u001b[43mrun_cell_magic\u001b[49m\u001b[43m(\u001b[49m\u001b[38;5;124;43m'\u001b[39;49m\u001b[38;5;124;43mllm\u001b[39;49m\u001b[38;5;124;43m'\u001b[39;49m\u001b[43m,\u001b[49m\u001b[43m \u001b[49m\u001b[38;5;124;43m'\u001b[39;49m\u001b[38;5;124;43m'\u001b[39;49m\u001b[43m,\u001b[49m\u001b[43m \u001b[49m\u001b[38;5;124;43m'\u001b[39;49m\u001b[38;5;124;43mWhat are the key features of the CellMage library?\u001b[39;49m\u001b[38;5;130;43;01m\\n\u001b[39;49;00m\u001b[38;5;124;43m'\u001b[39;49m\u001b[43m)\u001b[49m\n",
      "File \u001b[0;32m~/madpin/cellmage/.venv/lib/python3.10/site-packages/IPython/core/interactiveshell.py:2543\u001b[0m, in \u001b[0;36mInteractiveShell.run_cell_magic\u001b[0;34m(self, magic_name, line, cell)\u001b[0m\n\u001b[1;32m   2541\u001b[0m \u001b[38;5;28;01mwith\u001b[39;00m \u001b[38;5;28mself\u001b[39m\u001b[38;5;241m.\u001b[39mbuiltin_trap:\n\u001b[1;32m   2542\u001b[0m     args \u001b[38;5;241m=\u001b[39m (magic_arg_s, cell)\n\u001b[0;32m-> 2543\u001b[0m     result \u001b[38;5;241m=\u001b[39m \u001b[43mfn\u001b[49m\u001b[43m(\u001b[49m\u001b[38;5;241;43m*\u001b[39;49m\u001b[43margs\u001b[49m\u001b[43m,\u001b[49m\u001b[43m \u001b[49m\u001b[38;5;241;43m*\u001b[39;49m\u001b[38;5;241;43m*\u001b[39;49m\u001b[43mkwargs\u001b[49m\u001b[43m)\u001b[49m\n\u001b[1;32m   2545\u001b[0m \u001b[38;5;66;03m# The code below prevents the output from being displayed\u001b[39;00m\n\u001b[1;32m   2546\u001b[0m \u001b[38;5;66;03m# when using magics with decorator @output_can_be_silenced\u001b[39;00m\n\u001b[1;32m   2547\u001b[0m \u001b[38;5;66;03m# when the last Python token in the expression is a ';'.\u001b[39;00m\n\u001b[1;32m   2548\u001b[0m \u001b[38;5;28;01mif\u001b[39;00m \u001b[38;5;28mgetattr\u001b[39m(fn, magic\u001b[38;5;241m.\u001b[39mMAGIC_OUTPUT_CAN_BE_SILENCED, \u001b[38;5;28;01mFalse\u001b[39;00m):\n",
      "File \u001b[0;32m~/madpin/cellmage/cellmage/integrations/ipython_magic.py:600\u001b[0m, in \u001b[0;36mNotebookLLMMagics.execute_llm\u001b[0;34m(self, line, cell)\u001b[0m\n\u001b[1;32m    597\u001b[0m     \u001b[38;5;28;01mreturn\u001b[39;00m\n\u001b[1;32m    599\u001b[0m \u001b[38;5;66;03m# Prepare runtime params\u001b[39;00m\n\u001b[0;32m--> 600\u001b[0m runtime_params \u001b[38;5;241m=\u001b[39m \u001b[38;5;28;43mself\u001b[39;49m\u001b[38;5;241;43m.\u001b[39;49m\u001b[43m_prepare_runtime_params\u001b[49m(args)\n\u001b[1;32m    602\u001b[0m \u001b[38;5;66;03m# Handle model override\u001b[39;00m\n\u001b[1;32m    603\u001b[0m original_model \u001b[38;5;241m=\u001b[39m \u001b[38;5;28;01mNone\u001b[39;00m\n",
      "\u001b[0;31mAttributeError\u001b[0m: 'NotebookLLMMagics' object has no attribute '_prepare_runtime_params'"
     ]
    }
   ],
   "source": [
    "%%llm\n",
    "What are the key features of the CellMage library?"
   ]
  },
  {
   "cell_type": "markdown",
   "id": "3a06e89f",
   "metadata": {},
   "source": [
    "## Troubleshooting\n",
    "\n",
    "Common issues and solutions:\n",
    "\n",
    "1. **API Connection Errors**\n",
    "   - Check your internet connection\n",
    "   - Verify API credentials in `.env` file\n",
    "   - Ensure the API endpoint is accessible\n",
    "\n",
    "2. **Import Errors**\n",
    "   - Run `pip install -e ..` from the notebooks directory\n",
    "   - Check Python path configuration\n",
    "   - Verify Python version compatibility\n",
    "\n",
    "3. **Memory Issues**\n",
    "   - Use `%llm_config --clear-history` regularly\n",
    "   - Monitor conversation length\n",
    "   - Consider using persistent storage for long conversations\n",
    "\n",
    "4. **Magic Command Not Found**\n",
    "   - Make sure you've loaded the extension with `%load_ext cellmage`\n",
    "\n",
    "For more detailed troubleshooting, refer to the tutorials or the main documentation."
   ]
  },
  {
   "cell_type": "markdown",
   "id": "5ccf2b86",
   "metadata": {},
   "source": [
    "## Happy Conjuring! ✨🧙‍♂️\n",
    "\n",
    "Now you're ready to explore the power of CellMage and integrate LLMs directly into your notebook workflow."
   ]
  }
 ],
 "metadata": {
  "kernelspec": {
   "display_name": ".venv",
   "language": "python",
   "name": "python3"
  },
  "language_info": {
   "codemirror_mode": {
    "name": "ipython",
    "version": 3
   },
   "file_extension": ".py",
   "mimetype": "text/x-python",
   "name": "python",
   "nbconvert_exporter": "python",
   "pygments_lexer": "ipython3",
   "version": "3.10.16"
  }
 },
 "nbformat": 4,
 "nbformat_minor": 5
}
