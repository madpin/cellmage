{
 "cells": [
  {
   "cell_type": "markdown",
   "id": "48e20433",
   "metadata": {},
   "source": [
    "# GitLab Integration Example\n",
    "\n",
    "This notebook demonstrates how to use CellMage's GitLab integration to fetch repositories and merge requests, then use them as context for LLM queries."
   ]
  },
  {
   "cell_type": "markdown",
   "id": "ebaa9024",
   "metadata": {},
   "source": [
    "## Setup\n",
    "\n",
    "First, let's load the CellMage extension and initialize the GitLab integration:"
   ]
  },
  {
   "cell_type": "code",
   "execution_count": null,
   "id": "54ab5281",
   "metadata": {},
   "outputs": [],
   "source": [
    "# Load the CellMage extension\n",
    "%load_ext cellmage"
   ]
  },
  {
   "cell_type": "markdown",
   "id": "c55f9f89",
   "metadata": {},
   "source": [
    "## Configuration\n",
    "\n",
    "Make sure you have set the following environment variables:\n",
    "- `GITLAB_URL`: Your GitLab instance URL (default: https://gitlab.com)\n",
    "- `GITLAB_PAT` or `GITLAB_PRIVATE_TOKEN`: Your GitLab Personal Access Token\n",
    "\n",
    "You can set these in a `.env` file in your working directory or directly in your environment."
   ]
  },
  {
   "cell_type": "markdown",
   "id": "7d30c0bf",
   "metadata": {},
   "source": [
    "## Fetching Repository Data\n",
    "\n",
    "Let's fetch a repository and display its summary:"
   ]
  },
  {
   "cell_type": "code",
   "execution_count": null,
   "id": "ef4807e1",
   "metadata": {},
   "outputs": [],
   "source": [
    "# Display repository summary without adding to history\n",
    "%gitlab pytorch/pytorch --show"
   ]
  },
  {
   "cell_type": "markdown",
   "id": "92cc8cb8",
   "metadata": {},
   "source": [
    "## Fetching a Merge Request\n",
    "\n",
    "Now let's fetch a specific merge request:"
   ]
  },
  {
   "cell_type": "code",
   "execution_count": null,
   "id": "29a96fc8",
   "metadata": {},
   "outputs": [],
   "source": [
    "# Display a merge request without adding to history\n",
    "# Replace with a valid MR ID from your repository\n",
    "%gitlab pytorch/pytorch --mr 123 --show"
   ]
  },
  {
   "cell_type": "markdown",
   "id": "2cf46c6f",
   "metadata": {},
   "source": [
    "## Using GitLab Data with LLM\n",
    "\n",
    "Let's fetch a repository and then use it as context for an LLM query:"
   ]
  },
  {
   "cell_type": "code",
   "execution_count": null,
   "id": "0d5a4af3",
   "metadata": {},
   "outputs": [],
   "source": [
    "# Fetch a repository and add it to the chat history\n",
    "%gitlab huggingface/transformers"
   ]
  },
  {
   "cell_type": "code",
   "execution_count": null,
   "id": "0f743de5",
   "metadata": {},
   "outputs": [],
   "source": [
    "%%llm\n",
    "Based on the repository information above, can you explain the main components of this codebase and how they relate to each other? Focus on the key modules and their relationships."
   ]
  },
  {
   "cell_type": "markdown",
   "id": "94dca72e",
   "metadata": {},
   "source": [
    "## Using a Merge Request with LLM\n",
    "\n",
    "Let's fetch a merge request and then ask the LLM to review it:"
   ]
  },
  {
   "cell_type": "code",
   "execution_count": null,
   "id": "7ef7b518",
   "metadata": {},
   "outputs": [],
   "source": [
    "# Fetch a merge request and add it to the chat history\n",
    "# Replace with a valid MR ID from your repository\n",
    "%gitlab huggingface/transformers --mr 456"
   ]
  },
  {
   "cell_type": "code",
   "execution_count": null,
   "id": "ea5154ca",
   "metadata": {},
   "outputs": [],
   "source": [
    "%%llm\n",
    "Please review the merge request above and provide the following:\n",
    "1. A summary of the changes\n",
    "2. Any potential issues or bugs\n",
    "3. Suggestions for improvement\n",
    "4. Overall assessment of the code quality"
   ]
  },
  {
   "cell_type": "markdown",
   "id": "2cb13344",
   "metadata": {},
   "source": [
    "## Adding Repository as System Context\n",
    "\n",
    "You can also add a repository as system context, which is useful when you want the LLM to have knowledge of the codebase without explicitly mentioning it in each prompt:"
   ]
  },
  {
   "cell_type": "code",
   "execution_count": null,
   "id": "64ff6e4a",
   "metadata": {},
   "outputs": [],
   "source": [
    "# Clear previous history\n",
    "%llm_config --clear-history"
   ]
  },
  {
   "cell_type": "code",
   "execution_count": null,
   "id": "ced3d7e9",
   "metadata": {},
   "outputs": [],
   "source": [
    "# Add repository as system context\n",
    "%gitlab microsoft/vscode --system"
   ]
  },
  {
   "cell_type": "code",
   "execution_count": null,
   "id": "7353b1e8",
   "metadata": {},
   "outputs": [],
   "source": [
    "%%llm\n",
    "What are the main programming languages used in this project and what are their respective purposes?"
   ]
  }
 ],
 "metadata": {
  "language_info": {
   "name": "python"
  }
 },
 "nbformat": 4,
 "nbformat_minor": 5
}
