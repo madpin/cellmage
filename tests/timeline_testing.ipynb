{
 "cells": [
  {
   "cell_type": "code",
   "execution_count": null,
   "metadata": {},
   "outputs": [],
   "source": [
    "%load_ext cellmage.magic_commands.ipython.llm_magic\n",
    "%load_ext cellmage.magic_commands.ipython.config_magic\n",
    "%load_ext cellmage.magic_commands.tools.dummy_magic\n",
    "\n",
    "# Setup to see history\n",
    "from IPython import get_ipython\n",
    "ip = get_ipython()\n",
    "\n",
    "# Ensure _cellmage_chat_manager is initialized by running a config magic or similar\n",
    "try:\n",
    "    ip.run_line_magic('llm_config', '') \n",
    "except Exception as e:\n",
    "    print(f\"Error running llm_config to ensure ChatManager init: {e}\")\n",
    "\n",
    "chat_manager = ip.user_ns.get('_cellmage_chat_manager')\n",
    "\n",
    "def print_history():\n",
    "    print(\"--- Conversation History ---\")\n",
    "    if not chat_manager or not hasattr(chat_manager, 'conversation_manager') or not chat_manager.conversation_manager:\n",
    "        print(\"Chat manager or conversation manager not available.\")\n",
    "        print(\"--------------------------\")\n",
    "        return\n",
    "    messages = chat_manager.conversation_manager.get_messages()\n",
    "    if not messages: \n",
    "        print(\"History is empty.\")\n",
    "    else:\n",
    "        for i, msg in enumerate(messages):\n",
    "            content_preview = msg.content.replace('\\n', ' ')[:100] if msg.content else \"\"\n",
    "            print(f\"{i}: [{msg.role.upper()}] (Cell: {msg.cell_id}, Exec: {msg.execution_count}) {content_preview}\")\n",
    "    print(\"--------------------------\")\n",
    "\n",
    "# Initial check and setup for testing\n",
    "if chat_manager:\n",
    "    print(\"Chat Manager loaded.\")\n",
    "    if hasattr(chat_manager, 'conversation_manager') and chat_manager.conversation_manager:\n",
    "        print(\"Conversation Manager available.\")\n",
    "        # Start with a fresh conversation for this test run\n",
    "        chat_manager.conversation_manager.create_new_conversation()\n",
    "        print(\"New conversation created for testing.\")\n",
    "    else:\n",
    "        print(\"Conversation Manager NOT available in ChatManager.\")\n",
    "else:\n",
    "    print(\"Chat Manager NOT loaded. History inspection will fail.\")\n",
    "\n",
    "print_history() # Initial empty history"
   ]
  },
  {
   "cell_type": "markdown",
   "metadata": {},
   "source": [
    "**Test Scenario 1 (LLM Magic):**"
   ]
  },
  {
   "cell_type": "code",
   "execution_count": null,
   "metadata": {
    "ExecuteTime": {
     "start_time": "2023-10-27T10:00:01.000Z",
     "end_time": "2023-10-27T10:00:02.000Z"
    }
   },
   "outputs": [],
   "source": [
    "%%llm\n",
    "Hello"
   ]
  },
  {
   "cell_type": "code",
   "execution_count": null,
   "metadata": {},
   "outputs": [],
   "source": [
    "print_history()"
   ]
  },
  {
   "cell_type": "code",
   "execution_count": null,
   "metadata": {
    "ExecuteTime": {
     "start_time": "2023-10-27T10:00:03.000Z",
     "end_time": "2023-10-27T10:00:04.000Z"
    }
   },
   "outputs": [],
   "source": [
    "%%llm\n",
    "How are you?"
   ]
  },
  {
   "cell_type": "code",
   "execution_count": null,
   "metadata": {},
   "outputs": [],
   "source": [
    "print_history()"
   ]
  },
  {
   "cell_type": "code",
   "execution_count": null,
   "metadata": {
    "ExecuteTime": {
     "start_time": "2023-10-27T10:00:05.000Z",
     "end_time": "2023-10-27T10:00:06.000Z"
    }
   },
   "outputs": [],
   "source": [
    "%%llm\n",
    "Goodbye"
   ]
  },
  {
   "cell_type": "code",
   "execution_count": null,
   "metadata": {},
   "outputs": [],
   "source": [
    "print_history()"
   ]
  },
  {
   "cell_type": "markdown",
   "metadata": {},
   "source": [
    "Rerun Cell A2 (the one with \"How are you?\")"
   ]
  },
  {
   "cell_type": "code",
   "execution_count": null,
   "metadata": {
    "ExecuteTime": {
     "start_time": "2023-10-27T10:00:03.000Z",
     "end_time": "2023-10-27T10:00:07.000Z"
    }
   },
   "outputs": [],
   "source": [
    "%%llm\n",
    "How are you?"
   ]
  },
  {
   "cell_type": "code",
   "execution_count": null,
   "metadata": {},
   "outputs": [],
   "source": [
    "print_history()"
   ]
  },
  {
   "cell_type": "markdown",
   "metadata": {},
   "source": [
    "Rerun Cell A1 (the one with \"Hello\")"
   ]
  },
  {
   "cell_type": "code",
   "execution_count": null,
   "metadata": {
    "ExecuteTime": {
     "start_time": "2023-10-27T10:00:01.000Z",
     "end_time": "2023-10-27T10:00:08.000Z"
    }
   },
   "outputs": [],
   "source": [
    "%%llm\n",
    "Hello"
   ]
  },
  {
   "cell_type": "code",
   "execution_count": null,
   "metadata": {},
   "outputs": [],
   "source": [
    "print_history()"
   ]
  },
  {
   "cell_type": "markdown",
   "metadata": {},
   "source": [
    "**Test Scenario 2 (Tool Magic - using `%dummytool`):**"
   ]
  },
  {
   "cell_type": "code",
   "execution_count": null,
   "metadata": {
    "ExecuteTime": {
     "start_time": "2023-10-27T10:00:09.000Z",
     "end_time": "2023-10-27T10:00:10.000Z"
    }
   },
   "outputs": [],
   "source": [
    "%dummytool FOO"
   ]
  },
  {
   "cell_type": "code",
   "execution_count": null,
   "metadata": {},
   "outputs": [],
   "source": [
    "print_history()"
   ]
  },
  {
   "cell_type": "code",
   "execution_count": null,
   "metadata": {
    "ExecuteTime": {
     "start_time": "2023-10-27T10:00:11.000Z",
     "end_time": "2023-10-27T10:00:12.000Z"
    }
   },
   "outputs": [],
   "source": [
    "%dummytool BAR"
   ]
  },
  {
   "cell_type": "code",
   "execution_count": null,
   "metadata": {},
   "outputs": [],
   "source": [
    "print_history()"
   ]
  },
  {
   "cell_type": "code",
   "execution_count": null,
   "metadata": {
    "ExecuteTime": {
     "start_time": "2023-10-27T10:00:13.000Z",
     "end_time": "2023-10-27T10:00:14.000Z"
    }
   },
   "outputs": [],
   "source": [
    "%%llm \n",
    "Summarize the dummy tools' output."
   ]
  },
  {
   "cell_type": "code",
   "execution_count": null,
   "metadata": {},
   "outputs": [],
   "source": [
    "print_history()"
   ]
  },
  {
   "cell_type": "markdown",
   "metadata": {},
   "source": [
    "Rerun Cell B2 (the one with `%dummytool BAR`)"
   ]
  },
  {
   "cell_type": "code",
   "execution_count": null,
   "metadata": {
    "ExecuteTime": {
     "start_time": "2023-10-27T10:00:11.000Z",
     "end_time": "2023-10-27T10:00:15.000Z"
    }
   },
   "outputs": [],
   "source": [
    "%dummytool BAR"
   ]
  },
  {
   "cell_type": "code",
   "execution_count": null,
   "metadata": {},
   "outputs": [],
   "source": [
    "print_history()"
   ]
  },
  {
   "cell_type": "markdown",
   "metadata": {},
   "source": [
    "Rerun Cell B1 (the one with `%dummytool FOO`)"
   ]
  },
  {
   "cell_type": "code",
   "execution_count": null,
   "metadata": {
    "ExecuteTime": {
     "start_time": "2023-10-27T10:00:09.000Z",
     "end_time": "2023-10-27T10:00:16.000Z"
    }
   },
   "outputs": [],
   "source": [
    "%dummytool FOO"
   ]
  },
  {
   "cell_type": "code",
   "execution_count": null,
   "metadata": {},
   "outputs": [],
   "source": [
    "print_history()"
   ]
  },
  {
   "cell_type": "markdown",
   "metadata": {},
   "source": [
    "**Test Scenario 3 (Multiple line magics in one cell):**"
   ]
  },
  {
   "cell_type": "code",
   "execution_count": null,
   "metadata": {
    "ExecuteTime": {
     "start_time": "2023-10-27T10:00:17.000Z",
     "end_time": "2023-10-27T10:00:18.000Z"
    }
   },
   "outputs": [],
   "source": [
    "%dummytool MULTI_FOO\n",
    "%dummytool MULTI_BAR"
   ]
  },
  {
   "cell_type": "code",
   "execution_count": null,
   "metadata": {},
   "outputs": [],
   "source": [
    "print_history()"
   ]
  },
  {
   "cell_type": "code",
   "execution_count": null,
   "metadata": {
    "ExecuteTime": {
     "start_time": "2023-10-27T10:00:19.000Z",
     "end_time": "2023-10-27T10:00:20.000Z"
    }
   },
   "outputs": [],
   "source": [
    "%%llm \n",
    "Query based on MULTI_FOO and MULTI_BAR"
   ]
  },
  {
   "cell_type": "code",
   "execution_count": null,
   "metadata": {},
   "outputs": [],
   "source": [
    "print_history()"
   ]
  },
  {
   "cell_type": "markdown",
   "metadata": {},
   "source": [
    "Rerun Cell C1 (the one with multiple dummytool calls)"
   ]
  },
  {
   "cell_type": "code",
   "execution_count": null,
   "metadata": {
    "ExecuteTime": {
     "start_time": "2023-10-27T10:00:17.000Z",
     "end_time": "2023-10-27T10:00:21.000Z"
    }
   },
   "outputs": [],
   "source": [
    "%dummytool MULTI_FOO\n",
    "%dummytool MULTI_BAR"
   ]
  },
  {
   "cell_type": "code",
   "execution_count": null,
   "metadata": {},
   "outputs": [],
   "source": [
    "print_history()"
   ]
  },
  {
   "cell_type": "markdown",
   "metadata": {},
   "source": [
    "**Test Scenario 4 (Empty or modified cell rerun):**"
   ]
  },
  {
   "cell_type": "code",
   "execution_count": null,
   "metadata": {
    "ExecuteTime": {
     "start_time": "2023-10-27T10:00:22.000Z",
     "end_time": "2023-10-27T10:00:23.000Z"
    }
   },
   "outputs": [],
   "source": [
    "%%llm \n",
    "First prompt for D1"
   ]
  },
  {
   "cell_type": "code",
   "execution_count": null,
   "metadata": {},
   "outputs": [],
   "source": [
    "print_history()"
   ]
  },
  {
   "cell_type": "code",
   "execution_count": null,
   "metadata": {
    "ExecuteTime": {
     "start_time": "2023-10-27T10:00:24.000Z",
     "end_time": "2023-10-27T10:00:25.000Z"
    }
   },
   "outputs": [],
   "source": [
    "%%llm \n",
    "Second prompt for D2"
   ]
  },
  {
   "cell_type": "code",
   "execution_count": null,
   "metadata": {},
   "outputs": [],
   "source": [
    "print_history()"
   ]
  },
  {
   "cell_type": "markdown",
   "metadata": {},
   "source": [
    "Modify Cell D1 to be just a Python comment (e.g., `# This cell is now empty`). Rerun Cell D1."
   ]
  },
  {
   "cell_type": "code",
   "execution_count": null,
   "metadata": {
    "ExecuteTime": {
     "start_time": "2023-10-27T10:00:22.000Z",
     "end_time": "2023-10-27T10:00:26.000Z"
    }
   },
   "outputs": [],
   "source": [
    "# This cell is now empty"
   ]
  },
  {
   "cell_type": "code",
   "execution_count": null,
   "metadata": {},
   "outputs": [],
   "source": [
    "print_history()"
   ]
  },
  {
   "cell_type": "markdown",
   "metadata": {},
   "source": [
    "Modify Cell D1 to be `%%llm New first prompt for D1`. Rerun Cell D1."
   ]
  },
  {
   "cell_type": "code",
   "execution_count": null,
   "metadata": {
    "ExecuteTime": {
     "start_time": "2023-10-27T10:00:22.000Z",
     "end_time": "2023-10-27T10:00:27.000Z"
    }
   },
   "outputs": [],
   "source": [
    "%%llm \n",
    "New first prompt for D1"
   ]
  },
  {
   "cell_type": "code",
   "execution_count": null,
   "metadata": {},
   "outputs": [],
   "source": [
    "print_history()"
   ]
  }
 ],
 "metadata": {
  "kernelspec": {
   "display_name": "Python 3",
   "language": "python",
   "name": "python3"
  },
  "language_info": {
   "codemirror_mode": {
    "name": "ipython",
    "version": 3
   },
   "file_extension": ".py",
   "mimetype": "text/x-python",
   "name": "python",
   "nbconvert_exporter": "python",
   "pygments_lexer": "ipython3",
   "version": "3.10.12"
  }
 },
 "nbformat": 4,
 "nbformat_minor": 2
}
